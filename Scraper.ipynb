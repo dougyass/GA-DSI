{
 "cells": [
  {
   "cell_type": "markdown",
   "metadata": {
    "toc": "true"
   },
   "source": [
    "# Table of Contents\n",
    " <p>"
   ]
  },
  {
   "cell_type": "code",
   "execution_count": 1,
   "metadata": {
    "ExecuteTime": {
     "end_time": "2016-11-17T20:57:22.149960",
     "start_time": "2016-11-17T20:57:03.900761"
    },
    "collapsed": false
   },
   "outputs": [
    {
     "name": "stdout",
     "output_type": "stream",
     "text": [
      "[u'10:30 PM ET']\n"
     ]
    }
   ],
   "source": [
    "from selenium import webdriver\n",
    "times = [] \n",
    "url = \"http://www.espn.com/nba/scoreboard/_/date/20161117\"\n",
    " \n",
    "driver = webdriver.PhantomJS()\n",
    "driver.get(url)\n",
    " \n",
    "elements = driver.find_elements_by_css_selector(\"span.time\")\n",
    "for element in elements:\n",
    "    times.append(element.text)\n",
    "print times"
   ]
  },
  {
   "cell_type": "code",
   "execution_count": 14,
   "metadata": {
    "ExecuteTime": {
     "end_time": "2016-11-17T10:19:43.900313",
     "start_time": "2016-11-17T10:19:38.157070"
    },
    "collapsed": false
   },
   "outputs": [
    {
     "name": "stdout",
     "output_type": "stream",
     "text": [
      "[]\n"
     ]
    }
   ],
   "source": [
    "from selenium import webdriver\n",
    "record = [] \n",
    "url = \"http://www.espn.com/nba/scoreboard\"\n",
    " \n",
    "driver = webdriver.PhantomJS()\n",
    "driver.get(url)\n",
    " \n",
    "elements = driver.find_elements_by_css_selector(\"span.sb-team-short\")\n",
    "for element in elements:\n",
    "    record.append(element.text)\n",
    "print record"
   ]
  },
  {
   "cell_type": "code",
   "execution_count": 15,
   "metadata": {
    "ExecuteTime": {
     "end_time": "2016-11-17T10:21:33.262228",
     "start_time": "2016-11-17T10:21:20.034787"
    },
    "collapsed": false
   },
   "outputs": [
    {
     "name": "stdout",
     "output_type": "stream",
     "text": [
      "[u'Knicks', u'Wizards', u'Bucks', u'Heat', u'Trail Blazers', u'Rockets', u'76ers', u'Timberwolves', u'Bulls', u'Jazz']\n"
     ]
    }
   ],
   "source": [
    "from selenium import webdriver\n",
    "teams = [] \n",
    "url = \"http://www.espn.com/nba/scoreboard/_/date/20161117\"\n",
    " \n",
    "driver = webdriver.PhantomJS()\n",
    "driver.get(url)\n",
    " \n",
    "elements = driver.find_elements_by_css_selector(\"span.sb-team-short\")\n",
    "for element in elements:\n",
    "    teams.append(element.text)\n",
    "print teams"
   ]
  },
  {
   "cell_type": "code",
   "execution_count": 17,
   "metadata": {
    "ExecuteTime": {
     "end_time": "2016-11-17T10:24:06.819985",
     "start_time": "2016-11-17T10:23:52.987489"
    },
    "collapsed": false
   },
   "outputs": [
    {
     "name": "stdout",
     "output_type": "stream",
     "text": [
      "[u'', u'', u'', u'', u'']\n"
     ]
    }
   ],
   "source": [
    "from selenium import webdriver\n",
    "homerecord = [] \n",
    "url = \"http://www.espn.com/nba/scoreboard/_/date/20161117\"\n",
    " \n",
    "driver = webdriver.PhantomJS()\n",
    "driver.get(url)\n",
    " \n",
    "elements = driver.find_elements_by_css_selector(\"span.home-record\")\n",
    "for element in elements:\n",
    "    homerecord.append(element.text)\n",
    "print homerecord"
   ]
  },
  {
   "cell_type": "code",
   "execution_count": 21,
   "metadata": {
    "ExecuteTime": {
     "end_time": "2016-11-17T10:38:53.129787",
     "start_time": "2016-11-17T10:38:19.554406"
    },
    "collapsed": false
   },
   "outputs": [
    {
     "name": "stdout",
     "output_type": "stream",
     "text": [
      "[]\n"
     ]
    }
   ],
   "source": [
    "from selenium import webdriver\n",
    "total = [] \n",
    "url = \"http://www.espn.com/nba/scoreboard/_/date/20161117\"\n",
    " \n",
    "driver = webdriver.PhantomJS()\n",
    "driver.get(url)\n",
    " \n",
    "this = driver.find_elements_by_class_name(\"total\")\n",
    "for element in this:\n",
    "    total.append(element.text)\n",
    "print total"
   ]
  },
  {
   "cell_type": "code",
   "execution_count": 23,
   "metadata": {
    "ExecuteTime": {
     "end_time": "2016-11-17T10:51:08.787260",
     "start_time": "2016-11-17T10:51:07.984161"
    },
    "collapsed": false
   },
   "outputs": [
    {
     "ename": "WebDriverException",
     "evalue": "Message: 'chromedriver' executable needs to be in PATH. Please see https://sites.google.com/a/chromium.org/chromedriver/home\n",
     "output_type": "error",
     "traceback": [
      "\u001b[0;31m---------------------------------------------------------------------------\u001b[0m",
      "\u001b[0;31mWebDriverException\u001b[0m                        Traceback (most recent call last)",
      "\u001b[0;32m<ipython-input-23-76d24550bf6f>\u001b[0m in \u001b[0;36m<module>\u001b[0;34m()\u001b[0m\n\u001b[1;32m      1\u001b[0m \u001b[0;32mfrom\u001b[0m \u001b[0mselenium\u001b[0m \u001b[0;32mimport\u001b[0m \u001b[0mwebdriver\u001b[0m\u001b[0;34m\u001b[0m\u001b[0m\n\u001b[1;32m      2\u001b[0m \u001b[0;34m\u001b[0m\u001b[0m\n\u001b[0;32m----> 3\u001b[0;31m \u001b[0mbrowser\u001b[0m \u001b[0;34m=\u001b[0m \u001b[0mwebdriver\u001b[0m\u001b[0;34m.\u001b[0m\u001b[0mChrome\u001b[0m\u001b[0;34m(\u001b[0m\u001b[0;34m)\u001b[0m\u001b[0;34m\u001b[0m\u001b[0m\n\u001b[0m\u001b[1;32m      4\u001b[0m \u001b[0mbrowser\u001b[0m\u001b[0;34m.\u001b[0m\u001b[0mget\u001b[0m\u001b[0;34m(\u001b[0m\u001b[0;34m'http://www.google.com/'\u001b[0m\u001b[0;34m)\u001b[0m\u001b[0;34m\u001b[0m\u001b[0m\n\u001b[1;32m      5\u001b[0m \u001b[0mbrowser\u001b[0m\u001b[0;34m.\u001b[0m\u001b[0msave_screenshot\u001b[0m\u001b[0;34m(\u001b[0m\u001b[0;34m'screenie.png'\u001b[0m\u001b[0;34m)\u001b[0m\u001b[0;34m\u001b[0m\u001b[0m\n",
      "\u001b[0;32m/Users/pivit/anaconda/lib/python2.7/site-packages/selenium/webdriver/chrome/webdriver.pyc\u001b[0m in \u001b[0;36m__init__\u001b[0;34m(self, executable_path, port, chrome_options, service_args, desired_capabilities, service_log_path)\u001b[0m\n\u001b[1;32m     60\u001b[0m             \u001b[0mservice_args\u001b[0m\u001b[0;34m=\u001b[0m\u001b[0mservice_args\u001b[0m\u001b[0;34m,\u001b[0m\u001b[0;34m\u001b[0m\u001b[0m\n\u001b[1;32m     61\u001b[0m             log_path=service_log_path)\n\u001b[0;32m---> 62\u001b[0;31m         \u001b[0mself\u001b[0m\u001b[0;34m.\u001b[0m\u001b[0mservice\u001b[0m\u001b[0;34m.\u001b[0m\u001b[0mstart\u001b[0m\u001b[0;34m(\u001b[0m\u001b[0;34m)\u001b[0m\u001b[0;34m\u001b[0m\u001b[0m\n\u001b[0m\u001b[1;32m     63\u001b[0m \u001b[0;34m\u001b[0m\u001b[0m\n\u001b[1;32m     64\u001b[0m         \u001b[0;32mtry\u001b[0m\u001b[0;34m:\u001b[0m\u001b[0;34m\u001b[0m\u001b[0m\n",
      "\u001b[0;32m/Users/pivit/anaconda/lib/python2.7/site-packages/selenium/webdriver/common/service.pyc\u001b[0m in \u001b[0;36mstart\u001b[0;34m(self)\u001b[0m\n\u001b[1;32m     69\u001b[0m                 raise WebDriverException(\n\u001b[1;32m     70\u001b[0m                     \"'%s' executable needs to be in PATH. %s\" % (\n\u001b[0;32m---> 71\u001b[0;31m                         os.path.basename(self.path), self.start_error_message)\n\u001b[0m\u001b[1;32m     72\u001b[0m                 )\n\u001b[1;32m     73\u001b[0m             \u001b[0;32melif\u001b[0m \u001b[0merr\u001b[0m\u001b[0;34m.\u001b[0m\u001b[0merrno\u001b[0m \u001b[0;34m==\u001b[0m \u001b[0merrno\u001b[0m\u001b[0;34m.\u001b[0m\u001b[0mEACCES\u001b[0m\u001b[0;34m:\u001b[0m\u001b[0;34m\u001b[0m\u001b[0m\n",
      "\u001b[0;31mWebDriverException\u001b[0m: Message: 'chromedriver' executable needs to be in PATH. Please see https://sites.google.com/a/chromium.org/chromedriver/home\n"
     ]
    }
   ],
   "source": [
    "from selenium import webdriver\n",
    "\n",
    "browser = webdriver.Chrome()\n",
    "browser.get('http://www.google.com/')\n",
    "browser.save_screenshot('screenie.png')\n",
    "browser.quit()"
   ]
  },
  {
   "cell_type": "code",
   "execution_count": 24,
   "metadata": {
    "ExecuteTime": {
     "end_time": "2016-11-17T10:55:20.584164",
     "start_time": "2016-11-17T10:55:02.666325"
    },
    "collapsed": false
   },
   "outputs": [
    {
     "name": "stdout",
     "output_type": "stream",
     "text": [
      "[u'', u'', u'', u'', u'', u'', u'', u'', u'', u'', u'ESPN', u'NBA Scoreboard', u'', u'', u'', u'', u'', u'', u'', u'', u'', u'', u'', u'', u'', u'', u'', u'', u'', u'', u'', u'', u'', u'', u'', u'', u'']\n"
     ]
    }
   ],
   "source": [
    "from selenium import webdriver\n",
    "tags = [] \n",
    "url = \"http://www.espn.com/nba/scoreboard/_/date/20161117\"\n",
    " \n",
    "driver = webdriver.PhantomJS()\n",
    "driver.get(url)\n",
    " \n",
    "ret = driver.find_elements_by_tag_name('h1')\n",
    "for element in ret:\n",
    "    tags.append(element.text)\n",
    "print tags"
   ]
  },
  {
   "cell_type": "code",
   "execution_count": null,
   "metadata": {
    "collapsed": true
   },
   "outputs": [],
   "source": [
    "content = driver.find_element_by_css_selector('p.content')"
   ]
  },
  {
   "cell_type": "code",
   "execution_count": 27,
   "metadata": {
    "ExecuteTime": {
     "end_time": "2016-11-17T11:01:03.767246",
     "start_time": "2016-11-17T11:00:52.439799"
    },
    "collapsed": false
   },
   "outputs": [
    {
     "name": "stdout",
     "output_type": "stream",
     "text": [
      "[]\n"
     ]
    }
   ],
   "source": [
    "from selenium import webdriver\n",
    "score = [] \n",
    "url = \"http://www.espn.com/nba/scoreboard/_/date/20161117\"\n",
    " \n",
    "driver = webdriver.PhantomJS()\n",
    "driver.get(url)\n",
    " \n",
    "thescores = driver.find_elements_by_css_selector(\"td.score\")\n",
    "for element in thescores:\n",
    "    score.append(element.text)\n",
    "print score"
   ]
  },
  {
   "cell_type": "code",
   "execution_count": 49,
   "metadata": {
    "ExecuteTime": {
     "end_time": "2016-11-17T11:48:13.007299",
     "start_time": "2016-11-17T11:48:09.654694"
    },
    "collapsed": false
   },
   "outputs": [
    {
     "name": "stdout",
     "output_type": "stream",
     "text": [
      "What's the ID?32350188\n",
      "https://www.draftkings.com/contest/draftteam/32350188\n"
     ]
    }
   ],
   "source": [
    "\n",
    "\n",
    "\n",
    "contestid = raw_input(\"What's the ID?\")\n",
    "url = \"https://www.draftkings.com/contest/draftteam/\" + contestid\n",
    "\n",
    "browser = webdriver.PhantomJS()\n",
    "wait = WebDriverWait(browser, 10)\n",
    "browser.get(url)\n",
    "\n",
    "# wait for page to load\n",
    "wait.until(EC.presence_of_element_located((By.ID, 'fancybox-outer')))\n",
    "print(\"Page loaded\")\n",
    "\n",
    "browser.find_element_by_xpath('//div[contains(@class, \"tabs\")]/ul/li[text() = \"All\"]').click()\n",
    "\n",
    "# download the file\n",
    "csv_url = urljoin(url, browser.find_element_by_css_selector(\"a.export-to-csv\").get_attribute(\"href\"))\n",
    "urlretrieve(csv_url, \"runningagain.csv\")\n",
    "print csv_url\n",
    "\n",
    "\n",
    "\n",
    "webbrowser.open(csv_url)\n",
    "\n",
    "time.sleep(5) # delays for 5 seconds\n",
    "\n",
    "\n",
    "salaryscraper = pd.read_csv('/Users/pivit/Downloads/DKSalaries (8).csv')\n",
    "salaryscraper\n"
   ]
  },
  {
   "cell_type": "code",
   "execution_count": 52,
   "metadata": {
    "ExecuteTime": {
     "end_time": "2016-11-17T11:51:37.348720",
     "start_time": "2016-11-17T11:51:28.870950"
    },
    "collapsed": false
   },
   "outputs": [
    {
     "name": "stdout",
     "output_type": "stream",
     "text": [
      "What's the name of the file?DKSalaries (8).csv\n"
     ]
    },
    {
     "data": {
      "text/html": [
       "<div>\n",
       "<table border=\"1\" class=\"dataframe\">\n",
       "  <thead>\n",
       "    <tr style=\"text-align: right;\">\n",
       "      <th></th>\n",
       "      <th>Position</th>\n",
       "      <th>Name</th>\n",
       "      <th>Salary</th>\n",
       "      <th>GameInfo</th>\n",
       "      <th>AvgPointsPerGame</th>\n",
       "      <th>teamAbbrev</th>\n",
       "    </tr>\n",
       "  </thead>\n",
       "  <tbody>\n",
       "    <tr>\n",
       "      <th>0</th>\n",
       "      <td>WR</td>\n",
       "      <td>Antonio Brown</td>\n",
       "      <td>9500</td>\n",
       "      <td>Pit@Cle 01:00PM ET</td>\n",
       "      <td>23.000</td>\n",
       "      <td>Pit</td>\n",
       "    </tr>\n",
       "    <tr>\n",
       "      <th>1</th>\n",
       "      <td>RB</td>\n",
       "      <td>Le'Veon Bell</td>\n",
       "      <td>8800</td>\n",
       "      <td>Pit@Cle 01:00PM ET</td>\n",
       "      <td>23.550</td>\n",
       "      <td>Pit</td>\n",
       "    </tr>\n",
       "    <tr>\n",
       "      <th>2</th>\n",
       "      <td>WR</td>\n",
       "      <td>Odell Beckham Jr.</td>\n",
       "      <td>8500</td>\n",
       "      <td>Chi@NYG 01:00PM ET</td>\n",
       "      <td>19.144</td>\n",
       "      <td>NYG</td>\n",
       "    </tr>\n",
       "    <tr>\n",
       "      <th>3</th>\n",
       "      <td>WR</td>\n",
       "      <td>A.J. Green</td>\n",
       "      <td>8300</td>\n",
       "      <td>Buf@Cin 01:00PM ET</td>\n",
       "      <td>22.044</td>\n",
       "      <td>Cin</td>\n",
       "    </tr>\n",
       "    <tr>\n",
       "      <th>4</th>\n",
       "      <td>RB</td>\n",
       "      <td>DeMarco Murray</td>\n",
       "      <td>8200</td>\n",
       "      <td>Ten@Ind 01:00PM ET</td>\n",
       "      <td>23.430</td>\n",
       "      <td>Ten</td>\n",
       "    </tr>\n",
       "  </tbody>\n",
       "</table>\n",
       "</div>"
      ],
      "text/plain": [
       "  Position               Name  Salary            GameInfo  AvgPointsPerGame  \\\n",
       "0       WR      Antonio Brown    9500  Pit@Cle 01:00PM ET            23.000   \n",
       "1       RB       Le'Veon Bell    8800  Pit@Cle 01:00PM ET            23.550   \n",
       "2       WR  Odell Beckham Jr.    8500  Chi@NYG 01:00PM ET            19.144   \n",
       "3       WR         A.J. Green    8300  Buf@Cin 01:00PM ET            22.044   \n",
       "4       RB     DeMarco Murray    8200  Ten@Ind 01:00PM ET            23.430   \n",
       "\n",
       "  teamAbbrev  \n",
       "0        Pit  \n",
       "1        Pit  \n",
       "2        NYG  \n",
       "3        Cin  \n",
       "4        Ten  "
      ]
     },
     "execution_count": 52,
     "metadata": {},
     "output_type": "execute_result"
    }
   ],
   "source": [
    "thefile = raw_input(\"What's the name of the file?\")\n",
    "thecsv = pd.read_csv('/Users/pivit/Downloads/' + thefile)\n",
    "thecsv.head()"
   ]
  },
  {
   "cell_type": "code",
   "execution_count": 59,
   "metadata": {
    "ExecuteTime": {
     "end_time": "2016-11-17T16:20:26.363031",
     "start_time": "2016-11-17T16:20:02.991190"
    },
    "collapsed": false
   },
   "outputs": [
    {
     "name": "stdout",
     "output_type": "stream",
     "text": [
      "Page loaded\n",
      "https://www.draftkings.com/lineup/getavailableplayerscsv?contestTypeId=21&draftGroupId=11502\n"
     ]
    },
    {
     "data": {
      "text/plain": [
       "'{\"Position\":{\"0\":\"WR\",\"1\":\"RB\",\"2\":\"WR\",\"3\":\"WR\",\"4\":\"RB\",\"5\":\"WR\",\"6\":\"RB\",\"7\":\"QB\",\"8\":\"RB\",\"9\":\"QB\",\"10\":\"WR\",\"11\":\"WR\",\"12\":\"QB\",\"13\":\"QB\",\"14\":\"QB\",\"15\":\"WR\",\"16\":\"WR\",\"17\":\"WR\",\"18\":\"WR\",\"19\":\"QB\",\"20\":\"WR\",\"21\":\"TE\",\"22\":\"WR\",\"23\":\"WR\",\"24\":\"RB\",\"25\":\"WR\",\"26\":\"RB\",\"27\":\"QB\",\"28\":\"WR\",\"29\":\"WR\",\"30\":\"QB\",\"31\":\"WR\",\"32\":\"TE\",\"33\":\"WR\",\"34\":\"WR\",\"35\":\"RB\",\"36\":\"QB\",\"37\":\"QB\",\"38\":\"WR\",\"39\":\"WR\",\"40\":\"QB\",\"41\":\"QB\",\"42\":\"WR\",\"43\":\"RB\",\"44\":\"RB\",\"45\":\"RB\",\"46\":\"QB\",\"47\":\"WR\",\"48\":\"TE\",\"49\":\"RB\",\"50\":\"QB\",\"51\":\"RB\",\"52\":\"TE\",\"53\":\"QB\",\"54\":\"WR\",\"55\":\"WR\",\"56\":\"QB\",\"57\":\"WR\",\"58\":\"QB\",\"59\":\"TE\",\"60\":\"QB\",\"61\":\"QB\",\"62\":\"WR\",\"63\":\"RB\",\"64\":\"QB\",\"65\":\"TE\",\"66\":\"RB\",\"67\":\"WR\",\"68\":\"WR\",\"69\":\"RB\",\"70\":\"WR\",\"71\":\"WR\",\"72\":\"RB\",\"73\":\"QB\",\"74\":\"WR\",\"75\":\"RB\",\"76\":\"QB\",\"77\":\"WR\",\"78\":\"QB\",\"79\":\"RB\",\"80\":\"WR\",\"81\":\"QB\",\"82\":\"QB\",\"83\":\"RB\",\"84\":\"WR\",\"85\":\"QB\",\"86\":\"QB\",\"87\":\"QB\",\"88\":\"QB\",\"89\":\"WR\",\"90\":\"QB\",\"91\":\"QB\",\"92\":\"QB\",\"93\":\"QB\",\"94\":\"QB\",\"95\":\"QB\",\"96\":\"QB\",\"97\":\"QB\",\"98\":\"QB\",\"99\":\"QB\",\"100\":\"QB\",\"101\":\"WR\",\"102\":\"QB\",\"103\":\"QB\",\"104\":\"RB\",\"105\":\"QB\",\"106\":\"QB\",\"107\":\"QB\",\"108\":\"QB\",\"109\":\"QB\",\"110\":\"QB\",\"111\":\"QB\",\"112\":\"QB\",\"113\":\"RB\",\"114\":\"QB\",\"115\":\"QB\",\"116\":\"QB\",\"117\":\"QB\",\"118\":\"QB\",\"119\":\"QB\",\"120\":\"QB\",\"121\":\"QB\",\"122\":\"QB\",\"123\":\"QB\",\"124\":\"RB\",\"125\":\"QB\",\"126\":\"QB\",\"127\":\"QB\",\"128\":\"QB\",\"129\":\"QB\",\"130\":\"QB\",\"131\":\"QB\",\"132\":\"QB\",\"133\":\"QB\",\"134\":\"QB\",\"135\":\"QB\",\"136\":\"QB\",\"137\":\"QB\",\"138\":\"WR\",\"139\":\"RB\",\"140\":\"RB\",\"141\":\"WR\",\"142\":\"RB\",\"143\":\"WR\",\"144\":\"RB\",\"145\":\"TE\",\"146\":\"WR\",\"147\":\"WR\",\"148\":\"WR\",\"149\":\"RB\",\"150\":\"WR\",\"151\":\"RB\",\"152\":\"RB\",\"153\":\"RB\",\"154\":\"RB\",\"155\":\"WR\",\"156\":\"RB\",\"157\":\"RB\",\"158\":\"RB\",\"159\":\"WR\",\"160\":\"RB\",\"161\":\"RB\",\"162\":\"RB\",\"163\":\"WR\",\"164\":\"TE\",\"165\":\"RB\",\"166\":\"WR\",\"167\":\"WR\",\"168\":\"WR\",\"169\":\"WR\",\"170\":\"WR\",\"171\":\"RB\",\"172\":\"WR\",\"173\":\"RB\",\"174\":\"RB\",\"175\":\"WR\",\"176\":\"RB\",\"177\":\"WR\",\"178\":\"RB\",\"179\":\"RB\",\"180\":\"WR\",\"181\":\"WR\",\"182\":\"RB\",\"183\":\"RB\",\"184\":\"TE\",\"185\":\"RB\",\"186\":\"WR\",\"187\":\"WR\",\"188\":\"RB\",\"189\":\"RB\",\"190\":\"WR\",\"191\":\"TE\",\"192\":\"TE\",\"193\":\"RB\",\"194\":\"WR\",\"195\":\"DST\",\"196\":\"WR\",\"197\":\"DST\",\"198\":\"WR\",\"199\":\"TE\",\"200\":\"RB\",\"201\":\"TE\",\"202\":\"RB\",\"203\":\"RB\",\"204\":\"WR\",\"205\":\"DST\",\"206\":\"WR\",\"207\":\"RB\",\"208\":\"RB\",\"209\":\"RB\",\"210\":\"TE\",\"211\":\"WR\",\"212\":\"RB\",\"213\":\"DST\",\"214\":\"RB\",\"215\":\"RB\",\"216\":\"WR\",\"217\":\"WR\",\"218\":\"WR\",\"219\":\"RB\",\"220\":\"RB\",\"221\":\"TE\",\"222\":\"TE\",\"223\":\"WR\",\"224\":\"RB\",\"225\":\"WR\",\"226\":\"DST\",\"227\":\"WR\",\"228\":\"WR\",\"229\":\"WR\",\"230\":\"WR\",\"231\":\"WR\",\"232\":\"TE\",\"233\":\"WR\",\"234\":\"TE\",\"235\":\"WR\",\"236\":\"WR\",\"237\":\"WR\",\"238\":\"RB\",\"239\":\"DST\",\"240\":\"RB\",\"241\":\"RB\",\"242\":\"TE\",\"243\":\"RB\",\"244\":\"WR\",\"245\":\"DST\",\"246\":\"WR\",\"247\":\"RB\",\"248\":\"TE\",\"249\":\"WR\",\"250\":\"TE\",\"251\":\"RB\",\"252\":\"DST\",\"253\":\"DST\",\"254\":\"RB\",\"255\":\"RB\",\"256\":\"RB\",\"257\":\"RB\",\"258\":\"RB\",\"259\":\"RB\",\"260\":\"WR\",\"261\":\"WR\",\"262\":\"WR\",\"263\":\"WR\",\"264\":\"WR\",\"265\":\"RB\",\"266\":\"RB\",\"267\":\"RB\",\"268\":\"WR\",\"269\":\"WR\",\"270\":\"WR\",\"271\":\"WR\",\"272\":\"WR\",\"273\":\"WR\",\"274\":\"RB\",\"275\":\"RB\",\"276\":\"RB\",\"277\":\"RB\",\"278\":\"RB\",\"279\":\"RB\",\"280\":\"WR\",\"281\":\"WR\",\"282\":\"WR\",\"283\":\"RB\",\"284\":\"RB\",\"285\":\"RB\",\"286\":\"RB\",\"287\":\"RB\",\"288\":\"WR\",\"289\":\"WR\",\"290\":\"WR\",\"291\":\"WR\",\"292\":\"WR\",\"293\":\"RB\",\"294\":\"RB\",\"295\":\"RB\",\"296\":\"RB\",\"297\":\"RB\",\"298\":\"WR\",\"299\":\"WR\",\"300\":\"WR\",\"301\":\"WR\",\"302\":\"WR\",\"303\":\"WR\",\"304\":\"RB\",\"305\":\"RB\",\"306\":\"RB\",\"307\":\"RB\",\"308\":\"WR\",\"309\":\"WR\",\"310\":\"WR\",\"311\":\"WR\",\"312\":\"WR\",\"313\":\"WR\",\"314\":\"WR\",\"315\":\"DST\",\"316\":\"RB\",\"317\":\"RB\",\"318\":\"WR\",\"319\":\"WR\",\"320\":\"WR\",\"321\":\"WR\",\"322\":\"RB\",\"323\":\"RB\",\"324\":\"RB\",\"325\":\"WR\",\"326\":\"WR\",\"327\":\"WR\",\"328\":\"WR\",\"329\":\"RB\",\"330\":\"RB\",\"331\":\"RB\",\"332\":\"WR\",\"333\":\"WR\",\"334\":\"WR\",\"335\":\"WR\",\"336\":\"WR\",\"337\":\"RB\",\"338\":\"RB\",\"339\":\"RB\",\"340\":\"WR\",\"341\":\"WR\",\"342\":\"WR\",\"343\":\"WR\",\"344\":\"WR\",\"345\":\"WR\",\"346\":\"TE\",\"347\":\"RB\",\"348\":\"RB\",\"349\":\"RB\",\"350\":\"WR\",\"351\":\"WR\",\"352\":\"WR\",\"353\":\"WR\",\"354\":\"WR\",\"355\":\"WR\",\"356\":\"RB\",\"357\":\"RB\",\"358\":\"RB\",\"359\":\"WR\",\"360\":\"WR\",\"361\":\"WR\",\"362\":\"WR\",\"363\":\"WR\",\"364\":\"WR\",\"365\":\"RB\",\"366\":\"RB\",\"367\":\"RB\",\"368\":\"RB\",\"369\":\"WR\",\"370\":\"WR\",\"371\":\"WR\",\"372\":\"WR\",\"373\":\"WR\",\"374\":\"WR\",\"375\":\"RB\",\"376\":\"RB\",\"377\":\"RB\",\"378\":\"RB\",\"379\":\"RB\",\"380\":\"WR\",\"381\":\"WR\",\"382\":\"WR\",\"383\":\"WR\",\"384\":\"WR\",\"385\":\"WR\",\"386\":\"TE\",\"387\":\"DST\",\"388\":\"TE\",\"389\":\"DST\",\"390\":\"DST\",\"391\":\"TE\",\"392\":\"DST\",\"393\":\"DST\",\"394\":\"DST\",\"395\":\"TE\",\"396\":\"TE\",\"397\":\"TE\",\"398\":\"DST\",\"399\":\"TE\",\"400\":\"DST\",\"401\":\"TE\",\"402\":\"DST\",\"403\":\"DST\",\"404\":\"TE\",\"405\":\"TE\",\"406\":\"TE\",\"407\":\"TE\",\"408\":\"TE\",\"409\":\"TE\",\"410\":\"TE\",\"411\":\"TE\",\"412\":\"TE\",\"413\":\"TE\",\"414\":\"TE\",\"415\":\"TE\",\"416\":\"TE\",\"417\":\"DST\",\"418\":\"TE\",\"419\":\"TE\",\"420\":\"TE\",\"421\":\"TE\",\"422\":\"TE\",\"423\":\"TE\",\"424\":\"TE\",\"425\":\"TE\",\"426\":\"TE\",\"427\":\"TE\",\"428\":\"TE\",\"429\":\"TE\",\"430\":\"TE\",\"431\":\"TE\",\"432\":\"TE\",\"433\":\"TE\",\"434\":\"TE\",\"435\":\"TE\",\"436\":\"TE\",\"437\":\"TE\",\"438\":\"TE\",\"439\":\"TE\",\"440\":\"TE\",\"441\":\"TE\",\"442\":\"TE\",\"443\":\"TE\",\"444\":\"TE\",\"445\":\"TE\",\"446\":\"TE\",\"447\":\"TE\",\"448\":\"DST\",\"449\":\"TE\",\"450\":\"TE\",\"451\":\"TE\",\"452\":\"TE\",\"453\":\"TE\",\"454\":\"TE\",\"455\":\"TE\",\"456\":\"TE\",\"457\":\"TE\",\"458\":\"TE\",\"459\":\"TE\",\"460\":\"TE\",\"461\":\"TE\",\"462\":\"TE\",\"463\":\"TE\",\"464\":\"TE\",\"465\":\"TE\",\"466\":\"TE\",\"467\":\"TE\",\"468\":\"TE\",\"469\":\"TE\",\"470\":\"TE\",\"471\":\"DST\",\"472\":\"TE\",\"473\":\"TE\",\"474\":\"TE\",\"475\":\"TE\",\"476\":\"TE\",\"477\":\"TE\",\"478\":\"TE\",\"479\":\"TE\",\"480\":\"DST\",\"481\":\"DST\",\"482\":\"DST\",\"483\":\"DST\",\"484\":\"DST\"},\"Name\":{\"0\":\"Antonio Brown\",\"1\":\"Le\\'Veon Bell\",\"2\":\"Odell Beckham Jr.\",\"3\":\"A.J. Green\",\"4\":\"DeMarco Murray\",\"5\":\"Mike Evans\",\"6\":\"Ezekiel Elliott\",\"7\":\"Cam Newton\",\"8\":\"David Johnson\",\"9\":\"Tom Brady\",\"10\":\"Jordy Nelson\",\"11\":\"T.Y. Hilton\",\"12\":\"Drew Brees\",\"13\":\"Aaron Rodgers\",\"14\":\"Ben Roethlisberger\",\"15\":\"Amari Cooper\",\"16\":\"Allen Robinson\",\"17\":\"Kelvin Benjamin\",\"18\":\"Dez Bryant\",\"19\":\"Andrew Luck\",\"20\":\"Larry Fitzgerald\",\"21\":\"Rob Gronkowski\",\"22\":\"Brandin Cooks\",\"23\":\"Stefon Diggs\",\"24\":\"LeSean McCoy\",\"25\":\"Alshon Jeffery\",\"26\":\"Jay Ajayi\",\"27\":\"Marcus Mariota\",\"28\":\"Davante Adams\",\"29\":\"Michael Thomas\",\"30\":\"Matthew Stafford\",\"31\":\"Jarvis Landry\",\"32\":\"Greg Olsen\",\"33\":\"Michael Crabtree\",\"34\":\"DeAndre Hopkins\",\"35\":\"LeGarrette Blount\",\"36\":\"Derek Carr\",\"37\":\"Eli Manning\",\"38\":\"Julian Edelman\",\"39\":\"Donte Moncrief\",\"40\":\"Russell Wilson\",\"41\":\"Dak Prescott\",\"42\":\"Steve Smith Sr.\",\"43\":\"Spencer Ware\",\"44\":\"Jonathan Stewart\",\"45\":\"DeAngelo Williams\",\"46\":\"Jameis Winston\",\"47\":\"Randall Cobb\",\"48\":\"Jordan Reed\",\"49\":\"Jordan Howard\",\"50\":\"Kirk Cousins\",\"51\":\"Lamar Miller\",\"52\":\"Delanie Walker\",\"53\":\"Andy Dalton\",\"54\":\"Doug Baldwin\",\"55\":\"Terrelle Pryor Sr.\",\"56\":\"Tyrod Taylor\",\"57\":\"Jeremy Maclin\",\"58\":\"Carson Palmer\",\"59\":\"Jimmy Graham\",\"60\":\"Joe Flacco\",\"61\":\"Tony Romo\",\"62\":\"Mike Wallace\",\"63\":\"Latavius Murray\",\"64\":\"Blake Bortles\",\"65\":\"Tyler Eifert\",\"66\":\"Doug Martin\",\"67\":\"Jordan Matthews\",\"68\":\"Jamison Crowder\",\"69\":\"Mark Ingram\",\"70\":\"Cole Beasley\",\"71\":\"Golden Tate\",\"72\":\"Derrick Henry\",\"73\":\"Alex Smith\",\"74\":\"Will Fuller\",\"75\":\"Jacquizz Rodgers\",\"76\":\"Jay Cutler\",\"77\":\"Kenny Britt\",\"78\":\"Colin Kaepernick\",\"79\":\"Theo Riddick\",\"80\":\"Rishard Matthews\",\"81\":\"Sam Bradford\",\"82\":\"Ryan Tannehill\",\"83\":\"Christine Michael\",\"84\":\"Ty Montgomery\",\"85\":\"Brock Osweiler\",\"86\":\"Derek Anderson\",\"87\":\"Luke McCown\",\"88\":\"Joe Webb\",\"89\":\"Willie Snead\",\"90\":\"Josh McCown\",\"91\":\"Landry Jones\",\"92\":\"Zach Mettenberger\",\"93\":\"Cody Kessler\",\"94\":\"Kevin Hogan\",\"95\":\"Joe Callahan\",\"96\":\"Mark Sanchez\",\"97\":\"Ryan Mallett\",\"98\":\"Dan Orlovsky\",\"99\":\"Chad Henne\",\"100\":\"Brandon Allen\",\"101\":\"Marvin Jones Jr.\",\"102\":\"Matt Cassel\",\"103\":\"Scott Tolzien\",\"104\":\"Frank Gore\",\"105\":\"EJ Manuel\",\"106\":\"AJ McCarron\",\"107\":\"Jeff Driskel\",\"108\":\"Cardale Jones\",\"109\":\"Nick Foles\",\"110\":\"Mike Glennon\",\"111\":\"Ryan Griffin\",\"112\":\"Tyler Bray\",\"113\":\"Charcandrick West\",\"114\":\"Josh Johnson\",\"115\":\"Ryan Nassib\",\"116\":\"Matt Barkley\",\"117\":\"Shaun Hill\",\"118\":\"Drew Stanton\",\"119\":\"Taylor Heinicke\",\"120\":\"Matt Moore\",\"121\":\"Case Keenum\",\"122\":\"Sean Mannion\",\"123\":\"Jared Goff\",\"124\":\"Todd Gurley\",\"125\":\"Christian Ponder\",\"126\":\"Blaine Gabbert\",\"127\":\"Jimmy Garoppolo\",\"128\":\"Chase Daniel\",\"129\":\"Trevone Boykin\",\"130\":\"Carson Wentz\",\"131\":\"Colt McCoy\",\"132\":\"Brett Hundley\",\"133\":\"Nate Sudfeld\",\"134\":\"Brandon Weeden\",\"135\":\"Matt McGloin\",\"136\":\"Tom Savage\",\"137\":\"Connor Cook\",\"138\":\"Robert Woods\",\"139\":\"Carlos Hyde\",\"140\":\"James White\",\"141\":\"DeSean Jackson\",\"142\":\"Tim Hightower\",\"143\":\"Corey Coleman\",\"144\":\"Alfred Morris\",\"145\":\"Travis Kelce\",\"146\":\"Sterling Shepard\",\"147\":\"J.J. Nelson\",\"148\":\"Chris Hogan\",\"149\":\"Giovani Bernard\",\"150\":\"Tyreek Hill\",\"151\":\"Darren Sproles\",\"152\":\"Terrance West\",\"153\":\"Jeremy Hill\",\"154\":\"Rob Kelley\",\"155\":\"Eli Rogers\",\"156\":\"Thomas Rawls\",\"157\":\"Alfred Blue\",\"158\":\"Cameron Artis-Payne\",\"159\":\"Kendall Wright\",\"160\":\"Ryan Mathews\",\"161\":\"C.J. Prosise\",\"162\":\"James Starks\",\"163\":\"Allen Hurns\",\"164\":\"Eric Ebron\",\"165\":\"Mike Gillislee\",\"166\":\"Cameron Meredith\",\"167\":\"John Brown\",\"168\":\"DeVante Parker\",\"169\":\"Marqise Lee\",\"170\":\"Brandon LaFell\",\"171\":\"Jeremy Langford\",\"172\":\"Michael Floyd\",\"173\":\"Benny Cunningham\",\"174\":\"DuJuan Harris\",\"175\":\"Ted Ginn Jr.\",\"176\":\"Isaiah Crowell\",\"177\":\"Sammie Coates\",\"178\":\"Kenneth Dixon\",\"179\":\"Peyton Barber\",\"180\":\"Russell Shepard\",\"181\":\"Adam Humphries\",\"182\":\"Ka\\'Deem Carey\",\"183\":\"Paul Perkins\",\"184\":\"Kyle Rudolph\",\"185\":\"Damien Williams\",\"186\":\"Tavon Austin\",\"187\":\"Pierre Garcon\",\"188\":\"DeAndre Washington\",\"189\":\"Duke Johnson Jr.\",\"190\":\"Anquan Boldin\",\"191\":\"Cameron Brate\",\"192\":\"Zach Miller\",\"193\":\"Matt Asiata\",\"194\":\"Adam Thielen\",\"195\":\"Seahawks \",\"196\":\"Devin Funchess\",\"197\":\"Steelers \",\"198\":\"Victor Cruz\",\"199\":\"Martellus Bennett\",\"200\":\"Wendell Smallwood\",\"201\":\"Dennis Pitta\",\"202\":\"Chris Ivory\",\"203\":\"Rashad Jennings\",\"204\":\"Kenny Stills\",\"205\":\"Patriots \",\"206\":\"Tyler Lockett\",\"207\":\"Chris Thompson\",\"208\":\"T.J. Yeldon\",\"209\":\"Dwayne Washington\",\"210\":\"Julius Thomas\",\"211\":\"Marquise Goodwin\",\"212\":\"Knile Davis\",\"213\":\"Giants \",\"214\":\"Andre Ellington\",\"215\":\"Jerick McKinnon\",\"216\":\"Cordarrelle Patterson\",\"217\":\"Danny Amendola\",\"218\":\"Jeremy Kerley\",\"219\":\"Matt Jones\",\"220\":\"Akeem Hunt\",\"221\":\"Coby Fleener\",\"222\":\"Jesse James\",\"223\":\"Breshad Perriman\",\"224\":\"Robert Turbin\",\"225\":\"Albert Wilson\",\"226\":\"Chiefs \",\"227\":\"Eddie Royal\",\"228\":\"Brian Quick\",\"229\":\"Torrey Smith\",\"230\":\"Kamar Aiken\",\"231\":\"Terrance Williams\",\"232\":\"Jason Witten\",\"233\":\"Phillip Dorsett\",\"234\":\"Jack Doyle\",\"235\":\"Percy Harvin\",\"236\":\"Chris Conley\",\"237\":\"Roger Lewis\",\"238\":\"Ronnie Hillman\",\"239\":\"Vikings \",\"240\":\"Dion Lewis\",\"241\":\"Jalen Richard\",\"242\":\"C.J. Fiedorowicz\",\"243\":\"Fozzy Whittaker\",\"244\":\"Brice Butler\",\"245\":\"Lions \",\"246\":\"Tajae Sharpe\",\"247\":\"Shaun Draughn\",\"248\":\"Zach Ertz\",\"249\":\"Andrew Hawkins\",\"250\":\"Gary Barnidge\",\"251\":\"Mike James\",\"252\":\"Cardinals \",\"253\":\"Rams \",\"254\":\"Mike Davis\",\"255\":\"Mike Tolbert\",\"256\":\"John Kuhn\",\"257\":\"Travaris Cadet\",\"258\":\"Marcus Murphy\",\"259\":\"Daniel Lasco\",\"260\":\"Brenton Bersin\",\"261\":\"Brandon Coleman\",\"262\":\"Corey Brown\",\"263\":\"Tommylee Lewis\",\"264\":\"Jake Lampman\",\"265\":\"Fitzgerald Toussaint\",\"266\":\"Roosevelt Nix\",\"267\":\"George Atkinson III\",\"268\":\"Darrius Heyward-Bey\",\"269\":\"Markus Wheaton\",\"270\":\"Cobi Hamilton\",\"271\":\"Jordan Payton\",\"272\":\"Ricardo Louis\",\"273\":\"Rashard Higgins\",\"274\":\"Lance Dunbar\",\"275\":\"Kyle Juszczyk\",\"276\":\"Keith Smith\",\"277\":\"Javorius Allen\",\"278\":\"Darius Jackson\",\"279\":\"Lorenzo Taliaferro\",\"280\":\"Devin Hester\",\"281\":\"Chris Moore\",\"282\":\"Lucky Whitehead\",\"283\":\"Justin Forsett\",\"284\":\"Denard Robinson\",\"285\":\"Michael Burton\",\"286\":\"Corey Grant\",\"287\":\"Zach Zenner\",\"288\":\"Bryan Walters\",\"289\":\"Andre Roberts\",\"290\":\"Arrelious Benn\",\"291\":\"Corey Fuller\",\"292\":\"Rashad Greene Sr.\",\"293\":\"Jordan Todman\",\"294\":\"Jalston Fowler\",\"295\":\"David Fluellen\",\"296\":\"Antonio Andrews\",\"297\":\"Josh Ferguson\",\"298\":\"Harry Douglas\",\"299\":\"Marc Mariani\",\"300\":\"Devin Street\",\"301\":\"Tre McBride\",\"302\":\"Marcus Leak\",\"303\":\"Chester Rogers\",\"304\":\"Reggie Bush\",\"305\":\"Jerome Felton\",\"306\":\"Rex Burkhead\",\"307\":\"Jonathan Williams\",\"308\":\"Brandon Tate\",\"309\":\"James Wright\",\"310\":\"Justin Hunter\",\"311\":\"Walt Powell\",\"312\":\"Alex Erickson\",\"313\":\"Cody Core\",\"314\":\"Tyler Boyd\",\"315\":\"Bengals \",\"316\":\"Anthony Sherman\",\"317\":\"Bishop Sankey\",\"318\":\"Cecil Shorts III\",\"319\":\"Freddie Martino\",\"320\":\"De\\'Anthony Thomas\",\"321\":\"Demarcus Robinson\",\"322\":\"Bobby Rainey\",\"323\":\"Orleans Darkwa\",\"324\":\"Paul Lasike\",\"325\":\"Dwayne Harris\",\"326\":\"Deonte Thompson\",\"327\":\"Tavarres King\",\"328\":\"Joshua Bellamy\",\"329\":\"Zach Line\",\"330\":\"Stepfan Taylor\",\"331\":\"Kerwynn Williams\",\"332\":\"Charles Johnson\",\"333\":\"Jarius Wright\",\"334\":\"Brittan Golden\",\"335\":\"Chris Hubert\",\"336\":\"Laquon Treadwell\",\"337\":\"Chase Reynolds\",\"338\":\"Malcolm Brown\",\"339\":\"Kenyan Drake\",\"340\":\"Jakeem Grant\",\"341\":\"Bradley Marquez\",\"342\":\"Nelson Spruce\",\"343\":\"Leonte Carroo\",\"344\":\"Pharoh Cooper\",\"345\":\"Mike Thomas\",\"346\":\"Lance Kendricks\",\"347\":\"James Develin\",\"348\":\"Brandon Bolden\",\"349\":\"D.J. Foster\",\"350\":\"Matthew Slater\",\"351\":\"Rod Streater\",\"352\":\"Quinton Patton\",\"353\":\"Malcolm Mitchell\",\"354\":\"Chris Harper\",\"355\":\"Aaron Burbridge\",\"356\":\"Will Tukuafu\",\"357\":\"Kenjon Barner\",\"358\":\"Alex Collins\",\"359\":\"Jermaine Kearse\",\"360\":\"Paul Richardson\",\"361\":\"Tanner McEvoy\",\"362\":\"Dorial Green-Beckham\",\"363\":\"Bryce Treggs\",\"364\":\"Nelson Agholor\",\"365\":\"Mack Brown\",\"366\":\"Aaron Ripkowski\",\"367\":\"Joe Kerridge\",\"368\":\"Don Jackson\",\"369\":\"Ryan Grant\",\"370\":\"Rashad Ross\",\"371\":\"Maurice Harris\",\"372\":\"Trevor Davis\",\"373\":\"Jeff Janis\",\"374\":\"Geronimo Allison\",\"375\":\"Taiwan Jones\",\"376\":\"Jonathan Grimes\",\"377\":\"Jay Prosch\",\"378\":\"Jamize Olawale\",\"379\":\"Tyler Ervin\",\"380\":\"Keith Mumphery\",\"381\":\"Andre Holmes\",\"382\":\"Braxton Miller\",\"383\":\"Seth Roberts\",\"384\":\"Jaelen Strong\",\"385\":\"Johnny Holton\",\"386\":\"Dwayne Allen\",\"387\":\"Dolphins \",\"388\":\"Vernon Davis\",\"389\":\"Packers \",\"390\":\"Raiders \",\"391\":\"Josh Hill\",\"392\":\"Panthers \",\"393\":\"Colts \",\"394\":\"Bills \",\"395\":\"Will Tye\",\"396\":\"Vance McDonald\",\"397\":\"Richard Rodgers\",\"398\":\"Cowboys \",\"399\":\"Charles Clay\",\"400\":\"Buccaneers \",\"401\":\"Garrett Celek\",\"402\":\"Redskins \",\"403\":\"Texans \",\"404\":\"Ed Dickson\",\"405\":\"John Phillips\",\"406\":\"Chris Manhertz\",\"407\":\"David Johnson\",\"408\":\"Ladarius Green\",\"409\":\"Xavier Grimble\",\"410\":\"Randall Telfer\",\"411\":\"Seth DeValve\",\"412\":\"Danny Vitale\",\"413\":\"Gavin Escobar\",\"414\":\"Crockett Gillmore\",\"415\":\"Darren Waller\",\"416\":\"Geoff Swaim\",\"417\":\"Ravens \",\"418\":\"Marcedes Lewis\",\"419\":\"Clay Harbor\",\"420\":\"Matthew Mulligan\",\"421\":\"Neal Sterling\",\"422\":\"Ben Koyack\",\"423\":\"Anthony Fasano\",\"424\":\"Beau Brinkley\",\"425\":\"Erik Swoope\",\"426\":\"Jace Amaro\",\"427\":\"Phillip Supernaw\",\"428\":\"Clark Harris\",\"429\":\"Ryan Hewitt\",\"430\":\"Gerald Christian\",\"431\":\"Tyler Kroft\",\"432\":\"C.J. Uzomah\",\"433\":\"Nick O\\'Leary\",\"434\":\"Brandon Myers\",\"435\":\"Andrew DePaola\",\"436\":\"Luke Stocker\",\"437\":\"James Winchester\",\"438\":\"James O\\'Shaughnessy\",\"439\":\"Ross Travis\",\"440\":\"Demetrius Harris\",\"441\":\"Alan Cross\",\"442\":\"Logan Paulsen\",\"443\":\"Patrick Scales\",\"444\":\"Larry Donnell\",\"445\":\"Daniel Brown\",\"446\":\"Ben Braunecker\",\"447\":\"Jerell Adams\",\"448\":\"Bears \",\"449\":\"Darren Fells\",\"450\":\"Jermaine Gresham\",\"451\":\"Rhett Ellison\",\"452\":\"Kevin McDermott\",\"453\":\"David Morgan\",\"454\":\"Hakeem Valles\",\"455\":\"Cory Harkey\",\"456\":\"MarQueis Gray\",\"457\":\"Dion Sims\",\"458\":\"Tyler Higbee\",\"459\":\"Temarrick Hemingway\",\"460\":\"Dominique Jones\",\"461\":\"Thomas Duarte\",\"462\":\"Kyle Nelson\",\"463\":\"Matt Lengel\",\"464\":\"Blake Bell\",\"465\":\"Je\\'Ron Hamm\",\"466\":\"Brent Celek\",\"467\":\"Luke Willson\",\"468\":\"Brandon Williams\",\"469\":\"Trey Burton\",\"470\":\"Nick Vannett\",\"471\":\"Eagles \",\"472\":\"Jared Cook\",\"473\":\"Justin Perillo\",\"474\":\"Derek Carrier\",\"475\":\"Mychal Rivera\",\"476\":\"Ryan Griffin\",\"477\":\"Clive Walford\",\"478\":\"Stephen Anderson\",\"479\":\"Ryan O\\'Malley\",\"480\":\"Jaguars \",\"481\":\"Titans \",\"482\":\"Browns \",\"483\":\"Saints \",\"484\":\"49ers \"},\"Salary\":{\"0\":9500,\"1\":8800,\"2\":8500,\"3\":8300,\"4\":8200,\"5\":8100,\"6\":8000,\"7\":7900,\"8\":7900,\"9\":7800,\"10\":7800,\"11\":7700,\"12\":7600,\"13\":7600,\"14\":7500,\"15\":7500,\"16\":7400,\"17\":7300,\"18\":7200,\"19\":7200,\"20\":7100,\"21\":7100,\"22\":7000,\"23\":7000,\"24\":6900,\"25\":6900,\"26\":6800,\"27\":6700,\"28\":6700,\"29\":6600,\"30\":6600,\"31\":6600,\"32\":6500,\"33\":6500,\"34\":6500,\"35\":6400,\"36\":6400,\"37\":6300,\"38\":6300,\"39\":6100,\"40\":6100,\"41\":6000,\"42\":6000,\"43\":6000,\"44\":5900,\"45\":5900,\"46\":5900,\"47\":5900,\"48\":5900,\"49\":5800,\"50\":5800,\"51\":5800,\"52\":5700,\"53\":5700,\"54\":5700,\"55\":5600,\"56\":5600,\"57\":5600,\"58\":5600,\"59\":5600,\"60\":5500,\"61\":5500,\"62\":5500,\"63\":5500,\"64\":5400,\"65\":5400,\"66\":5400,\"67\":5400,\"68\":5400,\"69\":5300,\"70\":5300,\"71\":5300,\"72\":5300,\"73\":5300,\"74\":5300,\"75\":5200,\"76\":5200,\"77\":5200,\"78\":5200,\"79\":5100,\"80\":5100,\"81\":5100,\"82\":5100,\"83\":5100,\"84\":5100,\"85\":5100,\"86\":5000,\"87\":5000,\"88\":5000,\"89\":5000,\"90\":5000,\"91\":5000,\"92\":5000,\"93\":5000,\"94\":5000,\"95\":5000,\"96\":5000,\"97\":5000,\"98\":5000,\"99\":5000,\"100\":5000,\"101\":5000,\"102\":5000,\"103\":5000,\"104\":5000,\"105\":5000,\"106\":5000,\"107\":5000,\"108\":5000,\"109\":5000,\"110\":5000,\"111\":5000,\"112\":5000,\"113\":5000,\"114\":5000,\"115\":5000,\"116\":5000,\"117\":5000,\"118\":5000,\"119\":5000,\"120\":5000,\"121\":5000,\"122\":5000,\"123\":5000,\"124\":5000,\"125\":5000,\"126\":5000,\"127\":5000,\"128\":5000,\"129\":5000,\"130\":5000,\"131\":5000,\"132\":5000,\"133\":5000,\"134\":5000,\"135\":5000,\"136\":5000,\"137\":5000,\"138\":4900,\"139\":4900,\"140\":4800,\"141\":4800,\"142\":4700,\"143\":4700,\"144\":4700,\"145\":4700,\"146\":4700,\"147\":4700,\"148\":4700,\"149\":4600,\"150\":4500,\"151\":4500,\"152\":4400,\"153\":4400,\"154\":4400,\"155\":4300,\"156\":4300,\"157\":4300,\"158\":4200,\"159\":4200,\"160\":4200,\"161\":4200,\"162\":4200,\"163\":4100,\"164\":4100,\"165\":4100,\"166\":4100,\"167\":4100,\"168\":4100,\"169\":4000,\"170\":4000,\"171\":4000,\"172\":4000,\"173\":4000,\"174\":4000,\"175\":3900,\"176\":3900,\"177\":3900,\"178\":3900,\"179\":3900,\"180\":3900,\"181\":3900,\"182\":3900,\"183\":3900,\"184\":3900,\"185\":3900,\"186\":3900,\"187\":3900,\"188\":3900,\"189\":3800,\"190\":3800,\"191\":3800,\"192\":3800,\"193\":3800,\"194\":3800,\"195\":3800,\"196\":3700,\"197\":3700,\"198\":3700,\"199\":3700,\"200\":3700,\"201\":3600,\"202\":3600,\"203\":3600,\"204\":3600,\"205\":3600,\"206\":3600,\"207\":3600,\"208\":3500,\"209\":3500,\"210\":3500,\"211\":3500,\"212\":3500,\"213\":3500,\"214\":3500,\"215\":3500,\"216\":3500,\"217\":3500,\"218\":3500,\"219\":3500,\"220\":3500,\"221\":3400,\"222\":3400,\"223\":3400,\"224\":3400,\"225\":3400,\"226\":3400,\"227\":3400,\"228\":3400,\"229\":3400,\"230\":3300,\"231\":3300,\"232\":3300,\"233\":3300,\"234\":3300,\"235\":3300,\"236\":3300,\"237\":3300,\"238\":3300,\"239\":3300,\"240\":3300,\"241\":3300,\"242\":3300,\"243\":3200,\"244\":3200,\"245\":3200,\"246\":3200,\"247\":3200,\"248\":3200,\"249\":3100,\"250\":3100,\"251\":3100,\"252\":3100,\"253\":3100,\"254\":3100,\"255\":3000,\"256\":3000,\"257\":3000,\"258\":3000,\"259\":3000,\"260\":3000,\"261\":3000,\"262\":3000,\"263\":3000,\"264\":3000,\"265\":3000,\"266\":3000,\"267\":3000,\"268\":3000,\"269\":3000,\"270\":3000,\"271\":3000,\"272\":3000,\"273\":3000,\"274\":3000,\"275\":3000,\"276\":3000,\"277\":3000,\"278\":3000,\"279\":3000,\"280\":3000,\"281\":3000,\"282\":3000,\"283\":3000,\"284\":3000,\"285\":3000,\"286\":3000,\"287\":3000,\"288\":3000,\"289\":3000,\"290\":3000,\"291\":3000,\"292\":3000,\"293\":3000,\"294\":3000,\"295\":3000,\"296\":3000,\"297\":3000,\"298\":3000,\"299\":3000,\"300\":3000,\"301\":3000,\"302\":3000,\"303\":3000,\"304\":3000,\"305\":3000,\"306\":3000,\"307\":3000,\"308\":3000,\"309\":3000,\"310\":3000,\"311\":3000,\"312\":3000,\"313\":3000,\"314\":3000,\"315\":3000,\"316\":3000,\"317\":3000,\"318\":3000,\"319\":3000,\"320\":3000,\"321\":3000,\"322\":3000,\"323\":3000,\"324\":3000,\"325\":3000,\"326\":3000,\"327\":3000,\"328\":3000,\"329\":3000,\"330\":3000,\"331\":3000,\"332\":3000,\"333\":3000,\"334\":3000,\"335\":3000,\"336\":3000,\"337\":3000,\"338\":3000,\"339\":3000,\"340\":3000,\"341\":3000,\"342\":3000,\"343\":3000,\"344\":3000,\"345\":3000,\"346\":3000,\"347\":3000,\"348\":3000,\"349\":3000,\"350\":3000,\"351\":3000,\"352\":3000,\"353\":3000,\"354\":3000,\"355\":3000,\"356\":3000,\"357\":3000,\"358\":3000,\"359\":3000,\"360\":3000,\"361\":3000,\"362\":3000,\"363\":3000,\"364\":3000,\"365\":3000,\"366\":3000,\"367\":3000,\"368\":3000,\"369\":3000,\"370\":3000,\"371\":3000,\"372\":3000,\"373\":3000,\"374\":3000,\"375\":3000,\"376\":3000,\"377\":3000,\"378\":3000,\"379\":3000,\"380\":3000,\"381\":3000,\"382\":3000,\"383\":3000,\"384\":3000,\"385\":3000,\"386\":2900,\"387\":2900,\"388\":2800,\"389\":2800,\"390\":2800,\"391\":2700,\"392\":2700,\"393\":2700,\"394\":2700,\"395\":2700,\"396\":2700,\"397\":2700,\"398\":2600,\"399\":2600,\"400\":2600,\"401\":2600,\"402\":2600,\"403\":2600,\"404\":2500,\"405\":2500,\"406\":2500,\"407\":2500,\"408\":2500,\"409\":2500,\"410\":2500,\"411\":2500,\"412\":2500,\"413\":2500,\"414\":2500,\"415\":2500,\"416\":2500,\"417\":2500,\"418\":2500,\"419\":2500,\"420\":2500,\"421\":2500,\"422\":2500,\"423\":2500,\"424\":2500,\"425\":2500,\"426\":2500,\"427\":2500,\"428\":2500,\"429\":2500,\"430\":2500,\"431\":2500,\"432\":2500,\"433\":2500,\"434\":2500,\"435\":2500,\"436\":2500,\"437\":2500,\"438\":2500,\"439\":2500,\"440\":2500,\"441\":2500,\"442\":2500,\"443\":2500,\"444\":2500,\"445\":2500,\"446\":2500,\"447\":2500,\"448\":2500,\"449\":2500,\"450\":2500,\"451\":2500,\"452\":2500,\"453\":2500,\"454\":2500,\"455\":2500,\"456\":2500,\"457\":2500,\"458\":2500,\"459\":2500,\"460\":2500,\"461\":2500,\"462\":2500,\"463\":2500,\"464\":2500,\"465\":2500,\"466\":2500,\"467\":2500,\"468\":2500,\"469\":2500,\"470\":2500,\"471\":2500,\"472\":2500,\"473\":2500,\"474\":2500,\"475\":2500,\"476\":2500,\"477\":2500,\"478\":2500,\"479\":2500,\"480\":2400,\"481\":2200,\"482\":2100,\"483\":2000,\"484\":2000},\"GameInfo\":{\"0\":\"Pit@Cle 01:00PM ET\",\"1\":\"Pit@Cle 01:00PM ET\",\"2\":\"Chi@NYG 01:00PM ET\",\"3\":\"Buf@Cin 01:00PM ET\",\"4\":\"Ten@Ind 01:00PM ET\",\"5\":\"TB@KC 01:00PM ET\",\"6\":\"Bal@Dal 01:00PM ET\",\"7\":\"NO@Car 08:25PM ET\",\"8\":\"Ari@Min 01:00PM ET\",\"9\":\"NE@SF 04:25PM ET\",\"10\":\"GB@Was 08:30PM ET\",\"11\":\"Ten@Ind 01:00PM ET\",\"12\":\"NO@Car 08:25PM ET\",\"13\":\"GB@Was 08:30PM ET\",\"14\":\"Pit@Cle 01:00PM ET\",\"15\":\"Hou@Oak 08:30PM ET\",\"16\":\"Jax@Det 01:00PM ET\",\"17\":\"NO@Car 08:25PM ET\",\"18\":\"Bal@Dal 01:00PM ET\",\"19\":\"Ten@Ind 01:00PM ET\",\"20\":\"Ari@Min 01:00PM ET\",\"21\":\"NE@SF 04:25PM ET\",\"22\":\"NO@Car 08:25PM ET\",\"23\":\"Ari@Min 01:00PM ET\",\"24\":\"Buf@Cin 01:00PM ET\",\"25\":\"Chi@NYG 01:00PM ET\",\"26\":\"Mia@LA 04:05PM ET\",\"27\":\"Ten@Ind 01:00PM ET\",\"28\":\"GB@Was 08:30PM ET\",\"29\":\"NO@Car 08:25PM ET\",\"30\":\"Jax@Det 01:00PM ET\",\"31\":\"Mia@LA 04:05PM ET\",\"32\":\"NO@Car 08:25PM ET\",\"33\":\"Hou@Oak 08:30PM ET\",\"34\":\"Hou@Oak 08:30PM ET\",\"35\":\"NE@SF 04:25PM ET\",\"36\":\"Hou@Oak 08:30PM ET\",\"37\":\"Chi@NYG 01:00PM ET\",\"38\":\"NE@SF 04:25PM ET\",\"39\":\"Ten@Ind 01:00PM ET\",\"40\":\"Phi@Sea 04:25PM ET\",\"41\":\"Bal@Dal 01:00PM ET\",\"42\":\"Bal@Dal 01:00PM ET\",\"43\":\"TB@KC 01:00PM ET\",\"44\":\"NO@Car 08:25PM ET\",\"45\":\"Pit@Cle 01:00PM ET\",\"46\":\"TB@KC 01:00PM ET\",\"47\":\"GB@Was 08:30PM ET\",\"48\":\"GB@Was 08:30PM ET\",\"49\":\"Chi@NYG 01:00PM ET\",\"50\":\"GB@Was 08:30PM ET\",\"51\":\"Hou@Oak 08:30PM ET\",\"52\":\"Ten@Ind 01:00PM ET\",\"53\":\"Buf@Cin 01:00PM ET\",\"54\":\"Phi@Sea 04:25PM ET\",\"55\":\"Pit@Cle 01:00PM ET\",\"56\":\"Buf@Cin 01:00PM ET\",\"57\":\"TB@KC 01:00PM ET\",\"58\":\"Ari@Min 01:00PM ET\",\"59\":\"Phi@Sea 04:25PM ET\",\"60\":\"Bal@Dal 01:00PM ET\",\"61\":\"Bal@Dal 01:00PM ET\",\"62\":\"Bal@Dal 01:00PM ET\",\"63\":\"Hou@Oak 08:30PM ET\",\"64\":\"Jax@Det 01:00PM ET\",\"65\":\"Buf@Cin 01:00PM ET\",\"66\":\"TB@KC 01:00PM ET\",\"67\":\"Phi@Sea 04:25PM ET\",\"68\":\"GB@Was 08:30PM ET\",\"69\":\"NO@Car 08:25PM ET\",\"70\":\"Bal@Dal 01:00PM ET\",\"71\":\"Jax@Det 01:00PM ET\",\"72\":\"Ten@Ind 01:00PM ET\",\"73\":\"TB@KC 01:00PM ET\",\"74\":\"Hou@Oak 08:30PM ET\",\"75\":\"TB@KC 01:00PM ET\",\"76\":\"Chi@NYG 01:00PM ET\",\"77\":\"Mia@LA 04:05PM ET\",\"78\":\"NE@SF 04:25PM ET\",\"79\":\"Jax@Det 01:00PM ET\",\"80\":\"Ten@Ind 01:00PM ET\",\"81\":\"Ari@Min 01:00PM ET\",\"82\":\"Mia@LA 04:05PM ET\",\"83\":\"Phi@Sea 04:25PM ET\",\"84\":\"GB@Was 08:30PM ET\",\"85\":\"Hou@Oak 08:30PM ET\",\"86\":\"NO@Car 08:25PM ET\",\"87\":\"NO@Car 08:25PM ET\",\"88\":\"NO@Car 08:25PM ET\",\"89\":\"NO@Car 08:25PM ET\",\"90\":\"Pit@Cle 01:00PM ET\",\"91\":\"Pit@Cle 01:00PM ET\",\"92\":\"Pit@Cle 01:00PM ET\",\"93\":\"Pit@Cle 01:00PM ET\",\"94\":\"Pit@Cle 01:00PM ET\",\"95\":\"Pit@Cle 01:00PM ET\",\"96\":\"Bal@Dal 01:00PM ET\",\"97\":\"Bal@Dal 01:00PM ET\",\"98\":\"Jax@Det 01:00PM ET\",\"99\":\"Jax@Det 01:00PM ET\",\"100\":\"Jax@Det 01:00PM ET\",\"101\":\"Jax@Det 01:00PM ET\",\"102\":\"Ten@Ind 01:00PM ET\",\"103\":\"Ten@Ind 01:00PM ET\",\"104\":\"Ten@Ind 01:00PM ET\",\"105\":\"Buf@Cin 01:00PM ET\",\"106\":\"Buf@Cin 01:00PM ET\",\"107\":\"Buf@Cin 01:00PM ET\",\"108\":\"Buf@Cin 01:00PM ET\",\"109\":\"TB@KC 01:00PM ET\",\"110\":\"TB@KC 01:00PM ET\",\"111\":\"TB@KC 01:00PM ET\",\"112\":\"TB@KC 01:00PM ET\",\"113\":\"TB@KC 01:00PM ET\",\"114\":\"Chi@NYG 01:00PM ET\",\"115\":\"Chi@NYG 01:00PM ET\",\"116\":\"Chi@NYG 01:00PM ET\",\"117\":\"Ari@Min 01:00PM ET\",\"118\":\"Ari@Min 01:00PM ET\",\"119\":\"Ari@Min 01:00PM ET\",\"120\":\"Mia@LA 04:05PM ET\",\"121\":\"Mia@LA 04:05PM ET\",\"122\":\"Mia@LA 04:05PM ET\",\"123\":\"Mia@LA 04:05PM ET\",\"124\":\"Mia@LA 04:05PM ET\",\"125\":\"NE@SF 04:25PM ET\",\"126\":\"NE@SF 04:25PM ET\",\"127\":\"NE@SF 04:25PM ET\",\"128\":\"Phi@Sea 04:25PM ET\",\"129\":\"Phi@Sea 04:25PM ET\",\"130\":\"Phi@Sea 04:25PM ET\",\"131\":\"GB@Was 08:30PM ET\",\"132\":\"GB@Was 08:30PM ET\",\"133\":\"GB@Was 08:30PM ET\",\"134\":\"Hou@Oak 08:30PM ET\",\"135\":\"Hou@Oak 08:30PM ET\",\"136\":\"Hou@Oak 08:30PM ET\",\"137\":\"Hou@Oak 08:30PM ET\",\"138\":\"Buf@Cin 01:00PM ET\",\"139\":\"NE@SF 04:25PM ET\",\"140\":\"NE@SF 04:25PM ET\",\"141\":\"GB@Was 08:30PM ET\",\"142\":\"NO@Car 08:25PM ET\",\"143\":\"Pit@Cle 01:00PM ET\",\"144\":\"Bal@Dal 01:00PM ET\",\"145\":\"TB@KC 01:00PM ET\",\"146\":\"Chi@NYG 01:00PM ET\",\"147\":\"Ari@Min 01:00PM ET\",\"148\":\"NE@SF 04:25PM ET\",\"149\":\"Buf@Cin 01:00PM ET\",\"150\":\"TB@KC 01:00PM ET\",\"151\":\"Phi@Sea 04:25PM ET\",\"152\":\"Bal@Dal 01:00PM ET\",\"153\":\"Buf@Cin 01:00PM ET\",\"154\":\"GB@Was 08:30PM ET\",\"155\":\"Pit@Cle 01:00PM ET\",\"156\":\"Phi@Sea 04:25PM ET\",\"157\":\"Hou@Oak 08:30PM ET\",\"158\":\"NO@Car 08:25PM ET\",\"159\":\"Ten@Ind 01:00PM ET\",\"160\":\"Phi@Sea 04:25PM ET\",\"161\":\"Phi@Sea 04:25PM ET\",\"162\":\"GB@Was 08:30PM ET\",\"163\":\"Jax@Det 01:00PM ET\",\"164\":\"Jax@Det 01:00PM ET\",\"165\":\"Buf@Cin 01:00PM ET\",\"166\":\"Chi@NYG 01:00PM ET\",\"167\":\"Ari@Min 01:00PM ET\",\"168\":\"Mia@LA 04:05PM ET\",\"169\":\"Jax@Det 01:00PM ET\",\"170\":\"Buf@Cin 01:00PM ET\",\"171\":\"Chi@NYG 01:00PM ET\",\"172\":\"Ari@Min 01:00PM ET\",\"173\":\"Mia@LA 04:05PM ET\",\"174\":\"NE@SF 04:25PM ET\",\"175\":\"NO@Car 08:25PM ET\",\"176\":\"Pit@Cle 01:00PM ET\",\"177\":\"Pit@Cle 01:00PM ET\",\"178\":\"Bal@Dal 01:00PM ET\",\"179\":\"TB@KC 01:00PM ET\",\"180\":\"TB@KC 01:00PM ET\",\"181\":\"TB@KC 01:00PM ET\",\"182\":\"Chi@NYG 01:00PM ET\",\"183\":\"Chi@NYG 01:00PM ET\",\"184\":\"Ari@Min 01:00PM ET\",\"185\":\"Mia@LA 04:05PM ET\",\"186\":\"Mia@LA 04:05PM ET\",\"187\":\"GB@Was 08:30PM ET\",\"188\":\"Hou@Oak 08:30PM ET\",\"189\":\"Pit@Cle 01:00PM ET\",\"190\":\"Jax@Det 01:00PM ET\",\"191\":\"TB@KC 01:00PM ET\",\"192\":\"Chi@NYG 01:00PM ET\",\"193\":\"Ari@Min 01:00PM ET\",\"194\":\"Ari@Min 01:00PM ET\",\"195\":\"Phi@Sea 04:25PM ET\",\"196\":\"NO@Car 08:25PM ET\",\"197\":\"Pit@Cle 01:00PM ET\",\"198\":\"Chi@NYG 01:00PM ET\",\"199\":\"NE@SF 04:25PM ET\",\"200\":\"Phi@Sea 04:25PM ET\",\"201\":\"Bal@Dal 01:00PM ET\",\"202\":\"Jax@Det 01:00PM ET\",\"203\":\"Chi@NYG 01:00PM ET\",\"204\":\"Mia@LA 04:05PM ET\",\"205\":\"NE@SF 04:25PM ET\",\"206\":\"Phi@Sea 04:25PM ET\",\"207\":\"GB@Was 08:30PM ET\",\"208\":\"Jax@Det 01:00PM ET\",\"209\":\"Jax@Det 01:00PM ET\",\"210\":\"Jax@Det 01:00PM ET\",\"211\":\"Buf@Cin 01:00PM ET\",\"212\":\"TB@KC 01:00PM ET\",\"213\":\"Chi@NYG 01:00PM ET\",\"214\":\"Ari@Min 01:00PM ET\",\"215\":\"Ari@Min 01:00PM ET\",\"216\":\"Ari@Min 01:00PM ET\",\"217\":\"NE@SF 04:25PM ET\",\"218\":\"NE@SF 04:25PM ET\",\"219\":\"GB@Was 08:30PM ET\",\"220\":\"Hou@Oak 08:30PM ET\",\"221\":\"NO@Car 08:25PM ET\",\"222\":\"Pit@Cle 01:00PM ET\",\"223\":\"Bal@Dal 01:00PM ET\",\"224\":\"Ten@Ind 01:00PM ET\",\"225\":\"TB@KC 01:00PM ET\",\"226\":\"TB@KC 01:00PM ET\",\"227\":\"Chi@NYG 01:00PM ET\",\"228\":\"Mia@LA 04:05PM ET\",\"229\":\"NE@SF 04:25PM ET\",\"230\":\"Bal@Dal 01:00PM ET\",\"231\":\"Bal@Dal 01:00PM ET\",\"232\":\"Bal@Dal 01:00PM ET\",\"233\":\"Ten@Ind 01:00PM ET\",\"234\":\"Ten@Ind 01:00PM ET\",\"235\":\"Buf@Cin 01:00PM ET\",\"236\":\"TB@KC 01:00PM ET\",\"237\":\"Chi@NYG 01:00PM ET\",\"238\":\"Ari@Min 01:00PM ET\",\"239\":\"Ari@Min 01:00PM ET\",\"240\":\"NE@SF 04:25PM ET\",\"241\":\"Hou@Oak 08:30PM ET\",\"242\":\"Hou@Oak 08:30PM ET\",\"243\":\"NO@Car 08:25PM ET\",\"244\":\"Bal@Dal 01:00PM ET\",\"245\":\"Jax@Det 01:00PM ET\",\"246\":\"Ten@Ind 01:00PM ET\",\"247\":\"NE@SF 04:25PM ET\",\"248\":\"Phi@Sea 04:25PM ET\",\"249\":\"Pit@Cle 01:00PM ET\",\"250\":\"Pit@Cle 01:00PM ET\",\"251\":\"TB@KC 01:00PM ET\",\"252\":\"Ari@Min 01:00PM ET\",\"253\":\"Mia@LA 04:05PM ET\",\"254\":\"NE@SF 04:25PM ET\",\"255\":\"NO@Car 08:25PM ET\",\"256\":\"NO@Car 08:25PM ET\",\"257\":\"NO@Car 08:25PM ET\",\"258\":\"NO@Car 08:25PM ET\",\"259\":\"NO@Car 08:25PM ET\",\"260\":\"NO@Car 08:25PM ET\",\"261\":\"NO@Car 08:25PM ET\",\"262\":\"NO@Car 08:25PM ET\",\"263\":\"NO@Car 08:25PM ET\",\"264\":\"NO@Car 08:25PM ET\",\"265\":\"Pit@Cle 01:00PM ET\",\"266\":\"Pit@Cle 01:00PM ET\",\"267\":\"Pit@Cle 01:00PM ET\",\"268\":\"Pit@Cle 01:00PM ET\",\"269\":\"Pit@Cle 01:00PM ET\",\"270\":\"Pit@Cle 01:00PM ET\",\"271\":\"Pit@Cle 01:00PM ET\",\"272\":\"Pit@Cle 01:00PM ET\",\"273\":\"Pit@Cle 01:00PM ET\",\"274\":\"Bal@Dal 01:00PM ET\",\"275\":\"Bal@Dal 01:00PM ET\",\"276\":\"Bal@Dal 01:00PM ET\",\"277\":\"Bal@Dal 01:00PM ET\",\"278\":\"Bal@Dal 01:00PM ET\",\"279\":\"Bal@Dal 01:00PM ET\",\"280\":\"Bal@Dal 01:00PM ET\",\"281\":\"Bal@Dal 01:00PM ET\",\"282\":\"Bal@Dal 01:00PM ET\",\"283\":\"Jax@Det 01:00PM ET\",\"284\":\"Jax@Det 01:00PM ET\",\"285\":\"Jax@Det 01:00PM ET\",\"286\":\"Jax@Det 01:00PM ET\",\"287\":\"Jax@Det 01:00PM ET\",\"288\":\"Jax@Det 01:00PM ET\",\"289\":\"Jax@Det 01:00PM ET\",\"290\":\"Jax@Det 01:00PM ET\",\"291\":\"Jax@Det 01:00PM ET\",\"292\":\"Jax@Det 01:00PM ET\",\"293\":\"Ten@Ind 01:00PM ET\",\"294\":\"Ten@Ind 01:00PM ET\",\"295\":\"Ten@Ind 01:00PM ET\",\"296\":\"Ten@Ind 01:00PM ET\",\"297\":\"Ten@Ind 01:00PM ET\",\"298\":\"Ten@Ind 01:00PM ET\",\"299\":\"Ten@Ind 01:00PM ET\",\"300\":\"Ten@Ind 01:00PM ET\",\"301\":\"Ten@Ind 01:00PM ET\",\"302\":\"Ten@Ind 01:00PM ET\",\"303\":\"Ten@Ind 01:00PM ET\",\"304\":\"Buf@Cin 01:00PM ET\",\"305\":\"Buf@Cin 01:00PM ET\",\"306\":\"Buf@Cin 01:00PM ET\",\"307\":\"Buf@Cin 01:00PM ET\",\"308\":\"Buf@Cin 01:00PM ET\",\"309\":\"Buf@Cin 01:00PM ET\",\"310\":\"Buf@Cin 01:00PM ET\",\"311\":\"Buf@Cin 01:00PM ET\",\"312\":\"Buf@Cin 01:00PM ET\",\"313\":\"Buf@Cin 01:00PM ET\",\"314\":\"Buf@Cin 01:00PM ET\",\"315\":\"Buf@Cin 01:00PM ET\",\"316\":\"TB@KC 01:00PM ET\",\"317\":\"TB@KC 01:00PM ET\",\"318\":\"TB@KC 01:00PM ET\",\"319\":\"TB@KC 01:00PM ET\",\"320\":\"TB@KC 01:00PM ET\",\"321\":\"TB@KC 01:00PM ET\",\"322\":\"Chi@NYG 01:00PM ET\",\"323\":\"Chi@NYG 01:00PM ET\",\"324\":\"Chi@NYG 01:00PM ET\",\"325\":\"Chi@NYG 01:00PM ET\",\"326\":\"Chi@NYG 01:00PM ET\",\"327\":\"Chi@NYG 01:00PM ET\",\"328\":\"Chi@NYG 01:00PM ET\",\"329\":\"Ari@Min 01:00PM ET\",\"330\":\"Ari@Min 01:00PM ET\",\"331\":\"Ari@Min 01:00PM ET\",\"332\":\"Ari@Min 01:00PM ET\",\"333\":\"Ari@Min 01:00PM ET\",\"334\":\"Ari@Min 01:00PM ET\",\"335\":\"Ari@Min 01:00PM ET\",\"336\":\"Ari@Min 01:00PM ET\",\"337\":\"Mia@LA 04:05PM ET\",\"338\":\"Mia@LA 04:05PM ET\",\"339\":\"Mia@LA 04:05PM ET\",\"340\":\"Mia@LA 04:05PM ET\",\"341\":\"Mia@LA 04:05PM ET\",\"342\":\"Mia@LA 04:05PM ET\",\"343\":\"Mia@LA 04:05PM ET\",\"344\":\"Mia@LA 04:05PM ET\",\"345\":\"Mia@LA 04:05PM ET\",\"346\":\"Mia@LA 04:05PM ET\",\"347\":\"NE@SF 04:25PM ET\",\"348\":\"NE@SF 04:25PM ET\",\"349\":\"NE@SF 04:25PM ET\",\"350\":\"NE@SF 04:25PM ET\",\"351\":\"NE@SF 04:25PM ET\",\"352\":\"NE@SF 04:25PM ET\",\"353\":\"NE@SF 04:25PM ET\",\"354\":\"NE@SF 04:25PM ET\",\"355\":\"NE@SF 04:25PM ET\",\"356\":\"Phi@Sea 04:25PM ET\",\"357\":\"Phi@Sea 04:25PM ET\",\"358\":\"Phi@Sea 04:25PM ET\",\"359\":\"Phi@Sea 04:25PM ET\",\"360\":\"Phi@Sea 04:25PM ET\",\"361\":\"Phi@Sea 04:25PM ET\",\"362\":\"Phi@Sea 04:25PM ET\",\"363\":\"Phi@Sea 04:25PM ET\",\"364\":\"Phi@Sea 04:25PM ET\",\"365\":\"GB@Was 08:30PM ET\",\"366\":\"GB@Was 08:30PM ET\",\"367\":\"GB@Was 08:30PM ET\",\"368\":\"GB@Was 08:30PM ET\",\"369\":\"GB@Was 08:30PM ET\",\"370\":\"GB@Was 08:30PM ET\",\"371\":\"GB@Was 08:30PM ET\",\"372\":\"GB@Was 08:30PM ET\",\"373\":\"GB@Was 08:30PM ET\",\"374\":\"GB@Was 08:30PM ET\",\"375\":\"Hou@Oak 08:30PM ET\",\"376\":\"Hou@Oak 08:30PM ET\",\"377\":\"Hou@Oak 08:30PM ET\",\"378\":\"Hou@Oak 08:30PM ET\",\"379\":\"Hou@Oak 08:30PM ET\",\"380\":\"Hou@Oak 08:30PM ET\",\"381\":\"Hou@Oak 08:30PM ET\",\"382\":\"Hou@Oak 08:30PM ET\",\"383\":\"Hou@Oak 08:30PM ET\",\"384\":\"Hou@Oak 08:30PM ET\",\"385\":\"Hou@Oak 08:30PM ET\",\"386\":\"Ten@Ind 01:00PM ET\",\"387\":\"Mia@LA 04:05PM ET\",\"388\":\"GB@Was 08:30PM ET\",\"389\":\"GB@Was 08:30PM ET\",\"390\":\"Hou@Oak 08:30PM ET\",\"391\":\"NO@Car 08:25PM ET\",\"392\":\"NO@Car 08:25PM ET\",\"393\":\"Ten@Ind 01:00PM ET\",\"394\":\"Buf@Cin 01:00PM ET\",\"395\":\"Chi@NYG 01:00PM ET\",\"396\":\"NE@SF 04:25PM ET\",\"397\":\"GB@Was 08:30PM ET\",\"398\":\"Bal@Dal 01:00PM ET\",\"399\":\"Buf@Cin 01:00PM ET\",\"400\":\"TB@KC 01:00PM ET\",\"401\":\"NE@SF 04:25PM ET\",\"402\":\"GB@Was 08:30PM ET\",\"403\":\"Hou@Oak 08:30PM ET\",\"404\":\"NO@Car 08:25PM ET\",\"405\":\"NO@Car 08:25PM ET\",\"406\":\"NO@Car 08:25PM ET\",\"407\":\"Pit@Cle 01:00PM ET\",\"408\":\"Pit@Cle 01:00PM ET\",\"409\":\"Pit@Cle 01:00PM ET\",\"410\":\"Pit@Cle 01:00PM ET\",\"411\":\"Pit@Cle 01:00PM ET\",\"412\":\"Pit@Cle 01:00PM ET\",\"413\":\"Bal@Dal 01:00PM ET\",\"414\":\"Bal@Dal 01:00PM ET\",\"415\":\"Bal@Dal 01:00PM ET\",\"416\":\"Bal@Dal 01:00PM ET\",\"417\":\"Bal@Dal 01:00PM ET\",\"418\":\"Jax@Det 01:00PM ET\",\"419\":\"Jax@Det 01:00PM ET\",\"420\":\"Jax@Det 01:00PM ET\",\"421\":\"Jax@Det 01:00PM ET\",\"422\":\"Jax@Det 01:00PM ET\",\"423\":\"Ten@Ind 01:00PM ET\",\"424\":\"Ten@Ind 01:00PM ET\",\"425\":\"Ten@Ind 01:00PM ET\",\"426\":\"Ten@Ind 01:00PM ET\",\"427\":\"Ten@Ind 01:00PM ET\",\"428\":\"Buf@Cin 01:00PM ET\",\"429\":\"Buf@Cin 01:00PM ET\",\"430\":\"Buf@Cin 01:00PM ET\",\"431\":\"Buf@Cin 01:00PM ET\",\"432\":\"Buf@Cin 01:00PM ET\",\"433\":\"Buf@Cin 01:00PM ET\",\"434\":\"TB@KC 01:00PM ET\",\"435\":\"TB@KC 01:00PM ET\",\"436\":\"TB@KC 01:00PM ET\",\"437\":\"TB@KC 01:00PM ET\",\"438\":\"TB@KC 01:00PM ET\",\"439\":\"TB@KC 01:00PM ET\",\"440\":\"TB@KC 01:00PM ET\",\"441\":\"TB@KC 01:00PM ET\",\"442\":\"Chi@NYG 01:00PM ET\",\"443\":\"Chi@NYG 01:00PM ET\",\"444\":\"Chi@NYG 01:00PM ET\",\"445\":\"Chi@NYG 01:00PM ET\",\"446\":\"Chi@NYG 01:00PM ET\",\"447\":\"Chi@NYG 01:00PM ET\",\"448\":\"Chi@NYG 01:00PM ET\",\"449\":\"Ari@Min 01:00PM ET\",\"450\":\"Ari@Min 01:00PM ET\",\"451\":\"Ari@Min 01:00PM ET\",\"452\":\"Ari@Min 01:00PM ET\",\"453\":\"Ari@Min 01:00PM ET\",\"454\":\"Ari@Min 01:00PM ET\",\"455\":\"Mia@LA 04:05PM ET\",\"456\":\"Mia@LA 04:05PM ET\",\"457\":\"Mia@LA 04:05PM ET\",\"458\":\"Mia@LA 04:05PM ET\",\"459\":\"Mia@LA 04:05PM ET\",\"460\":\"Mia@LA 04:05PM ET\",\"461\":\"Mia@LA 04:05PM ET\",\"462\":\"NE@SF 04:25PM ET\",\"463\":\"NE@SF 04:25PM ET\",\"464\":\"NE@SF 04:25PM ET\",\"465\":\"NE@SF 04:25PM ET\",\"466\":\"Phi@Sea 04:25PM ET\",\"467\":\"Phi@Sea 04:25PM ET\",\"468\":\"Phi@Sea 04:25PM ET\",\"469\":\"Phi@Sea 04:25PM ET\",\"470\":\"Phi@Sea 04:25PM ET\",\"471\":\"Phi@Sea 04:25PM ET\",\"472\":\"GB@Was 08:30PM ET\",\"473\":\"GB@Was 08:30PM ET\",\"474\":\"GB@Was 08:30PM ET\",\"475\":\"Hou@Oak 08:30PM ET\",\"476\":\"Hou@Oak 08:30PM ET\",\"477\":\"Hou@Oak 08:30PM ET\",\"478\":\"Hou@Oak 08:30PM ET\",\"479\":\"Hou@Oak 08:30PM ET\",\"480\":\"Jax@Det 01:00PM ET\",\"481\":\"Ten@Ind 01:00PM ET\",\"482\":\"Pit@Cle 01:00PM ET\",\"483\":\"NO@Car 08:25PM ET\",\"484\":\"NE@SF 04:25PM ET\"},\"AvgPointsPerGame\":{\"0\":23.0,\"1\":23.55,\"2\":19.144,\"3\":22.044,\"4\":23.43,\"5\":21.789,\"6\":24.167,\"7\":21.483,\"8\":25.478,\"9\":25.9,\"10\":18.5,\"11\":18.233,\"12\":25.942,\"13\":24.778,\"14\":23.685,\"15\":18.922,\"16\":15.322,\"17\":14.633,\"18\":14.8,\"19\":22.556,\"20\":18.9,\"21\":15.143,\"22\":17.478,\"23\":19.25,\"24\":19.563,\"25\":12.444,\"26\":16.925,\"27\":20.978,\"28\":17.011,\"29\":15.922,\"30\":20.169,\"31\":15.067,\"32\":16.356,\"33\":16.956,\"34\":12.689,\"35\":17.433,\"36\":20.511,\"37\":17.304,\"38\":11.289,\"39\":12.2,\"40\":17.064,\"41\":20.451,\"42\":13.529,\"43\":16.325,\"44\":10.433,\"45\":9.838,\"46\":20.062,\"47\":14.075,\"48\":15.371,\"49\":15.65,\"50\":19.882,\"51\":14.489,\"52\":14.711,\"53\":19.002,\"54\":16.167,\"55\":15.544,\"56\":18.996,\"57\":9.938,\"58\":18.145,\"59\":14.144,\"60\":16.362,\"61\":0.0,\"62\":16.022,\"63\":16.943,\"64\":20.76,\"65\":14.233,\"66\":9.5,\"67\":14.111,\"68\":15.478,\"69\":14.633,\"70\":13.989,\"71\":13.078,\"72\":5.09,\"73\":14.38,\"74\":12.314,\"75\":11.017,\"76\":10.095,\"77\":15.144,\"78\":17.064,\"79\":17.429,\"80\":12.03,\"81\":15.648,\"82\":15.42,\"83\":13.389,\"84\":7.263,\"85\":12.636,\"86\":7.84,\"87\":0.0,\"88\":0.186,\"89\":15.15,\"90\":13.8,\"91\":2.788,\"92\":0.0,\"93\":11.177,\"94\":7.22,\"95\":0.0,\"96\":0.06,\"97\":0.03,\"98\":0.0,\"99\":0.0,\"100\":0.0,\"101\":14.822,\"102\":0.167,\"103\":0.0,\"104\":15.689,\"105\":1.275,\"106\":0.0,\"107\":0.0,\"108\":0.0,\"109\":14.0,\"110\":4.5,\"111\":0.0,\"112\":0.0,\"113\":5.725,\"114\":0.0,\"115\":0.0,\"116\":1.14,\"117\":5.12,\"118\":3.265,\"119\":0.0,\"120\":0.0,\"121\":13.873,\"122\":0.0,\"123\":0.0,\"124\":12.744,\"125\":0.0,\"126\":15.64,\"127\":9.235,\"128\":0.0,\"129\":2.7,\"130\":14.049,\"131\":0.0,\"132\":0.32,\"133\":0.0,\"134\":0.0,\"135\":0.0,\"136\":0.0,\"137\":0.0,\"138\":11.725,\"139\":14.843,\"140\":10.133,\"141\":8.956,\"142\":5.578,\"143\":12.775,\"144\":3.922,\"145\":12.4,\"146\":12.067,\"147\":6.875,\"148\":8.033,\"149\":12.8,\"150\":10.444,\"151\":11.356,\"152\":10.189,\"153\":12.022,\"154\":5.325,\"155\":11.0,\"156\":6.3,\"157\":2.544,\"158\":9.5,\"159\":10.843,\"160\":12.333,\"161\":8.98,\"162\":5.72,\"163\":10.067,\"164\":12.683,\"165\":7.489,\"166\":11.957,\"167\":9.75,\"168\":10.325,\"169\":10.1,\"170\":10.167,\"171\":7.8,\"172\":8.978,\"173\":3.963,\"174\":11.1,\"175\":7.056,\"176\":13.55,\"177\":8.667,\"178\":4.18,\"179\":3.55,\"180\":5.029,\"181\":9.533,\"182\":2.743,\"183\":4.457,\"184\":11.8,\"185\":8.375,\"186\":10.2,\"187\":10.633,\"188\":5.489,\"189\":10.25,\"190\":10.4,\"191\":11.389,\"192\":11.611,\"193\":8.333,\"194\":10.378,\"195\":8.667,\"196\":6.378,\"197\":4.0,\"198\":8.463,\"199\":13.556,\"200\":3.767,\"201\":9.611,\"202\":6.686,\"203\":9.333,\"204\":9.278,\"205\":6.222,\"206\":5.678,\"207\":9.6,\"208\":10.178,\"209\":3.74,\"210\":9.738,\"211\":8.388,\"212\":1.1,\"213\":6.556,\"214\":1.544,\"215\":5.963,\"216\":7.678,\"217\":6.033,\"218\":11.378,\"219\":10.413,\"220\":6.3,\"221\":9.967,\"222\":7.678,\"223\":6.022,\"224\":5.075,\"225\":4.511,\"226\":10.778,\"227\":12.457,\"228\":9.567,\"229\":5.922,\"230\":3.678,\"231\":7.333,\"232\":11.922,\"233\":7.213,\"234\":10.878,\"235\":0.0,\"236\":6.622,\"237\":3.717,\"238\":3.1,\"239\":11.0,\"240\":0.0,\"241\":7.133,\"242\":8.611,\"243\":6.978,\"244\":3.944,\"245\":5.0,\"246\":7.46,\"247\":3.678,\"248\":8.457,\"249\":6.57,\"250\":8.24,\"251\":3.6,\"252\":9.444,\"253\":7.778,\"254\":1.938,\"255\":1.189,\"256\":4.2,\"257\":4.533,\"258\":0.0,\"259\":1.05,\"260\":0.0,\"261\":5.044,\"262\":4.933,\"263\":2.5,\"264\":0.0,\"265\":0.322,\"266\":0.0,\"267\":0.0,\"268\":3.978,\"269\":4.275,\"270\":5.775,\"271\":0.325,\"272\":3.43,\"273\":0.83,\"274\":2.917,\"275\":4.056,\"276\":0.611,\"277\":1.317,\"278\":0.0,\"279\":1.333,\"280\":-0.125,\"281\":1.413,\"282\":1.389,\"283\":6.34,\"284\":0.344,\"285\":0.0,\"286\":2.125,\"287\":4.271,\"288\":2.1,\"289\":2.844,\"290\":2.511,\"291\":0.0,\"292\":1.2,\"293\":0.667,\"294\":0.24,\"295\":0.0,\"296\":0.15,\"297\":3.822,\"298\":2.98,\"299\":0.0,\"300\":1.0,\"301\":0.0,\"302\":0.0,\"303\":3.8,\"304\":2.814,\"305\":0.888,\"306\":0.656,\"307\":1.7,\"308\":1.325,\"309\":0.886,\"310\":5.183,\"311\":3.388,\"312\":0.333,\"313\":0.0,\"314\":6.2,\"315\":5.222,\"316\":0.433,\"317\":0.0,\"318\":1.833,\"319\":2.2,\"320\":1.36,\"321\":0.0,\"322\":4.513,\"323\":3.288,\"324\":0.32,\"325\":-0.111,\"326\":0.156,\"327\":0.267,\"328\":1.078,\"329\":0.144,\"330\":0.15,\"331\":0.0,\"332\":1.9,\"333\":3.033,\"334\":0.98,\"335\":0.0,\"336\":0.417,\"337\":0.0,\"338\":0.678,\"339\":3.4,\"340\":0.556,\"341\":0.522,\"342\":0.0,\"343\":0.378,\"344\":0.967,\"345\":0.0,\"346\":8.011,\"347\":0.0,\"348\":0.557,\"349\":1.2,\"350\":0.056,\"351\":1.1,\"352\":7.278,\"353\":2.063,\"354\":0.0,\"355\":0.333,\"356\":0.0,\"357\":2.656,\"358\":1.957,\"359\":6.3,\"360\":3.256,\"361\":2.517,\"362\":4.822,\"363\":4.45,\"364\":6.656,\"365\":0.0,\"366\":1.278,\"367\":0.0,\"368\":1.067,\"369\":0.633,\"370\":0.36,\"371\":1.933,\"372\":1.3,\"373\":2.533,\"374\":4.267,\"375\":0.483,\"376\":2.525,\"377\":0.2,\"378\":3.544,\"379\":0.456,\"380\":0.0,\"381\":3.222,\"382\":2.143,\"383\":8.522,\"384\":3.388,\"385\":0.633,\"386\":7.671,\"387\":8.0,\"388\":8.467,\"389\":4.889,\"390\":4.778,\"391\":3.533,\"392\":7.667,\"393\":4.667,\"394\":9.0,\"395\":5.611,\"396\":8.657,\"397\":4.722,\"398\":5.222,\"399\":6.367,\"400\":7.111,\"401\":4.167,\"402\":6.556,\"403\":6.222,\"404\":2.844,\"405\":1.667,\"406\":0.0,\"407\":1.144,\"408\":6.0,\"409\":2.867,\"410\":0.088,\"411\":1.833,\"412\":0.0,\"413\":0.8,\"414\":3.014,\"415\":2.62,\"416\":1.433,\"417\":9.889,\"418\":4.367,\"419\":0.613,\"420\":0.0,\"421\":0.4,\"422\":2.229,\"423\":2.34,\"424\":0.0,\"425\":2.222,\"426\":2.967,\"427\":1.02,\"428\":0.0,\"429\":0.0,\"430\":0.0,\"431\":2.133,\"432\":4.538,\"433\":2.044,\"434\":1.656,\"435\":0.0,\"436\":0.817,\"437\":0.0,\"438\":0.111,\"439\":0.9,\"440\":2.0,\"441\":0.214,\"442\":0.5,\"443\":0.0,\"444\":3.65,\"445\":0.0,\"446\":0.3,\"447\":3.2,\"448\":6.222,\"449\":2.157,\"450\":3.267,\"451\":1.788,\"452\":0.0,\"453\":0.0,\"454\":0.0,\"455\":0.0,\"456\":1.989,\"457\":2.486,\"458\":0.744,\"459\":0.0,\"460\":3.48,\"461\":0.0,\"462\":0.0,\"463\":0.0,\"464\":0.375,\"465\":0.0,\"466\":1.644,\"467\":2.2,\"468\":0.289,\"469\":4.138,\"470\":0.34,\"471\":10.444,\"472\":3.767,\"473\":0.833,\"474\":0.0,\"475\":3.367,\"476\":6.122,\"477\":5.863,\"478\":3.4,\"479\":0.0,\"480\":2.333,\"481\":5.6,\"482\":3.1,\"483\":4.0,\"484\":4.444},\"teamAbbrev\":{\"0\":\"Pit\",\"1\":\"Pit\",\"2\":\"NYG\",\"3\":\"Cin\",\"4\":\"Ten\",\"5\":\"TB\",\"6\":\"Dal\",\"7\":\"Car\",\"8\":\"Ari\",\"9\":\"NE\",\"10\":\"GB\",\"11\":\"Ind\",\"12\":\"NO\",\"13\":\"GB\",\"14\":\"Pit\",\"15\":\"Oak\",\"16\":\"Jax\",\"17\":\"Car\",\"18\":\"Dal\",\"19\":\"Ind\",\"20\":\"Ari\",\"21\":\"NE\",\"22\":\"NO\",\"23\":\"Min\",\"24\":\"Buf\",\"25\":\"Chi\",\"26\":\"Mia\",\"27\":\"Ten\",\"28\":\"GB\",\"29\":\"NO\",\"30\":\"Det\",\"31\":\"Mia\",\"32\":\"Car\",\"33\":\"Oak\",\"34\":\"Hou\",\"35\":\"NE\",\"36\":\"Oak\",\"37\":\"NYG\",\"38\":\"NE\",\"39\":\"Ind\",\"40\":\"Sea\",\"41\":\"Dal\",\"42\":\"Bal\",\"43\":\"KC\",\"44\":\"Car\",\"45\":\"Pit\",\"46\":\"TB\",\"47\":\"GB\",\"48\":\"Was\",\"49\":\"Chi\",\"50\":\"Was\",\"51\":\"Hou\",\"52\":\"Ten\",\"53\":\"Cin\",\"54\":\"Sea\",\"55\":\"Cle\",\"56\":\"Buf\",\"57\":\"KC\",\"58\":\"Ari\",\"59\":\"Sea\",\"60\":\"Bal\",\"61\":\"Dal\",\"62\":\"Bal\",\"63\":\"Oak\",\"64\":\"Jax\",\"65\":\"Cin\",\"66\":\"TB\",\"67\":\"Phi\",\"68\":\"Was\",\"69\":\"NO\",\"70\":\"Dal\",\"71\":\"Det\",\"72\":\"Ten\",\"73\":\"KC\",\"74\":\"Hou\",\"75\":\"TB\",\"76\":\"Chi\",\"77\":\"LA\",\"78\":\"SF\",\"79\":\"Det\",\"80\":\"Ten\",\"81\":\"Min\",\"82\":\"Mia\",\"83\":\"Sea\",\"84\":\"GB\",\"85\":\"Hou\",\"86\":\"Car\",\"87\":\"NO\",\"88\":\"Car\",\"89\":\"NO\",\"90\":\"Cle\",\"91\":\"Pit\",\"92\":\"Pit\",\"93\":\"Cle\",\"94\":\"Cle\",\"95\":\"Cle\",\"96\":\"Dal\",\"97\":\"Bal\",\"98\":\"Det\",\"99\":\"Jax\",\"100\":\"Jax\",\"101\":\"Det\",\"102\":\"Ten\",\"103\":\"Ind\",\"104\":\"Ind\",\"105\":\"Buf\",\"106\":\"Cin\",\"107\":\"Cin\",\"108\":\"Buf\",\"109\":\"KC\",\"110\":\"TB\",\"111\":\"TB\",\"112\":\"KC\",\"113\":\"KC\",\"114\":\"NYG\",\"115\":\"NYG\",\"116\":\"Chi\",\"117\":\"Min\",\"118\":\"Ari\",\"119\":\"Min\",\"120\":\"Mia\",\"121\":\"LA\",\"122\":\"LA\",\"123\":\"LA\",\"124\":\"LA\",\"125\":\"SF\",\"126\":\"SF\",\"127\":\"NE\",\"128\":\"Phi\",\"129\":\"Sea\",\"130\":\"Phi\",\"131\":\"Was\",\"132\":\"GB\",\"133\":\"Was\",\"134\":\"Hou\",\"135\":\"Oak\",\"136\":\"Hou\",\"137\":\"Oak\",\"138\":\"Buf\",\"139\":\"SF\",\"140\":\"NE\",\"141\":\"Was\",\"142\":\"NO\",\"143\":\"Cle\",\"144\":\"Dal\",\"145\":\"KC\",\"146\":\"NYG\",\"147\":\"Ari\",\"148\":\"NE\",\"149\":\"Cin\",\"150\":\"KC\",\"151\":\"Phi\",\"152\":\"Bal\",\"153\":\"Cin\",\"154\":\"Was\",\"155\":\"Pit\",\"156\":\"Sea\",\"157\":\"Hou\",\"158\":\"Car\",\"159\":\"Ten\",\"160\":\"Phi\",\"161\":\"Sea\",\"162\":\"GB\",\"163\":\"Jax\",\"164\":\"Det\",\"165\":\"Buf\",\"166\":\"Chi\",\"167\":\"Ari\",\"168\":\"Mia\",\"169\":\"Jax\",\"170\":\"Cin\",\"171\":\"Chi\",\"172\":\"Ari\",\"173\":\"LA\",\"174\":\"SF\",\"175\":\"Car\",\"176\":\"Cle\",\"177\":\"Pit\",\"178\":\"Bal\",\"179\":\"TB\",\"180\":\"TB\",\"181\":\"TB\",\"182\":\"Chi\",\"183\":\"NYG\",\"184\":\"Min\",\"185\":\"Mia\",\"186\":\"LA\",\"187\":\"Was\",\"188\":\"Oak\",\"189\":\"Cle\",\"190\":\"Det\",\"191\":\"TB\",\"192\":\"Chi\",\"193\":\"Min\",\"194\":\"Min\",\"195\":\"Sea\",\"196\":\"Car\",\"197\":\"Pit\",\"198\":\"NYG\",\"199\":\"NE\",\"200\":\"Phi\",\"201\":\"Bal\",\"202\":\"Jax\",\"203\":\"NYG\",\"204\":\"Mia\",\"205\":\"NE\",\"206\":\"Sea\",\"207\":\"Was\",\"208\":\"Jax\",\"209\":\"Det\",\"210\":\"Jax\",\"211\":\"Buf\",\"212\":\"KC\",\"213\":\"NYG\",\"214\":\"Ari\",\"215\":\"Min\",\"216\":\"Min\",\"217\":\"NE\",\"218\":\"SF\",\"219\":\"Was\",\"220\":\"Hou\",\"221\":\"NO\",\"222\":\"Pit\",\"223\":\"Bal\",\"224\":\"Ind\",\"225\":\"KC\",\"226\":\"KC\",\"227\":\"Chi\",\"228\":\"LA\",\"229\":\"SF\",\"230\":\"Bal\",\"231\":\"Dal\",\"232\":\"Dal\",\"233\":\"Ind\",\"234\":\"Ind\",\"235\":\"Buf\",\"236\":\"KC\",\"237\":\"NYG\",\"238\":\"Min\",\"239\":\"Min\",\"240\":\"NE\",\"241\":\"Oak\",\"242\":\"Hou\",\"243\":\"Car\",\"244\":\"Dal\",\"245\":\"Det\",\"246\":\"Ten\",\"247\":\"SF\",\"248\":\"Phi\",\"249\":\"Cle\",\"250\":\"Cle\",\"251\":\"TB\",\"252\":\"Ari\",\"253\":\"LA\",\"254\":\"SF\",\"255\":\"Car\",\"256\":\"NO\",\"257\":\"NO\",\"258\":\"NO\",\"259\":\"NO\",\"260\":\"Car\",\"261\":\"NO\",\"262\":\"Car\",\"263\":\"NO\",\"264\":\"NO\",\"265\":\"Pit\",\"266\":\"Pit\",\"267\":\"Cle\",\"268\":\"Pit\",\"269\":\"Pit\",\"270\":\"Pit\",\"271\":\"Cle\",\"272\":\"Cle\",\"273\":\"Cle\",\"274\":\"Dal\",\"275\":\"Bal\",\"276\":\"Dal\",\"277\":\"Bal\",\"278\":\"Dal\",\"279\":\"Bal\",\"280\":\"Bal\",\"281\":\"Bal\",\"282\":\"Dal\",\"283\":\"Det\",\"284\":\"Jax\",\"285\":\"Det\",\"286\":\"Jax\",\"287\":\"Det\",\"288\":\"Jax\",\"289\":\"Det\",\"290\":\"Jax\",\"291\":\"Det\",\"292\":\"Jax\",\"293\":\"Ind\",\"294\":\"Ten\",\"295\":\"Ten\",\"296\":\"Ten\",\"297\":\"Ind\",\"298\":\"Ten\",\"299\":\"Ten\",\"300\":\"Ind\",\"301\":\"Ten\",\"302\":\"Ind\",\"303\":\"Ind\",\"304\":\"Buf\",\"305\":\"Buf\",\"306\":\"Cin\",\"307\":\"Buf\",\"308\":\"Buf\",\"309\":\"Cin\",\"310\":\"Buf\",\"311\":\"Buf\",\"312\":\"Cin\",\"313\":\"Cin\",\"314\":\"Cin\",\"315\":\"Cin\",\"316\":\"KC\",\"317\":\"KC\",\"318\":\"TB\",\"319\":\"TB\",\"320\":\"KC\",\"321\":\"KC\",\"322\":\"NYG\",\"323\":\"NYG\",\"324\":\"Chi\",\"325\":\"NYG\",\"326\":\"Chi\",\"327\":\"NYG\",\"328\":\"Chi\",\"329\":\"Min\",\"330\":\"Ari\",\"331\":\"Ari\",\"332\":\"Min\",\"333\":\"Min\",\"334\":\"Ari\",\"335\":\"Ari\",\"336\":\"Min\",\"337\":\"LA\",\"338\":\"LA\",\"339\":\"Mia\",\"340\":\"Mia\",\"341\":\"LA\",\"342\":\"LA\",\"343\":\"Mia\",\"344\":\"LA\",\"345\":\"LA\",\"346\":\"LA\",\"347\":\"NE\",\"348\":\"NE\",\"349\":\"NE\",\"350\":\"NE\",\"351\":\"SF\",\"352\":\"SF\",\"353\":\"NE\",\"354\":\"SF\",\"355\":\"SF\",\"356\":\"Sea\",\"357\":\"Phi\",\"358\":\"Sea\",\"359\":\"Sea\",\"360\":\"Sea\",\"361\":\"Sea\",\"362\":\"Phi\",\"363\":\"Phi\",\"364\":\"Phi\",\"365\":\"Was\",\"366\":\"GB\",\"367\":\"GB\",\"368\":\"GB\",\"369\":\"Was\",\"370\":\"Was\",\"371\":\"Was\",\"372\":\"GB\",\"373\":\"GB\",\"374\":\"GB\",\"375\":\"Oak\",\"376\":\"Hou\",\"377\":\"Hou\",\"378\":\"Oak\",\"379\":\"Hou\",\"380\":\"Hou\",\"381\":\"Oak\",\"382\":\"Hou\",\"383\":\"Oak\",\"384\":\"Hou\",\"385\":\"Oak\",\"386\":\"Ind\",\"387\":\"Mia\",\"388\":\"Was\",\"389\":\"GB\",\"390\":\"Oak\",\"391\":\"NO\",\"392\":\"Car\",\"393\":\"Ind\",\"394\":\"Buf\",\"395\":\"NYG\",\"396\":\"SF\",\"397\":\"GB\",\"398\":\"Dal\",\"399\":\"Buf\",\"400\":\"TB\",\"401\":\"SF\",\"402\":\"Was\",\"403\":\"Hou\",\"404\":\"Car\",\"405\":\"NO\",\"406\":\"Car\",\"407\":\"Pit\",\"408\":\"Pit\",\"409\":\"Pit\",\"410\":\"Cle\",\"411\":\"Cle\",\"412\":\"Cle\",\"413\":\"Dal\",\"414\":\"Bal\",\"415\":\"Bal\",\"416\":\"Dal\",\"417\":\"Bal\",\"418\":\"Jax\",\"419\":\"Det\",\"420\":\"Det\",\"421\":\"Jax\",\"422\":\"Jax\",\"423\":\"Ten\",\"424\":\"Ten\",\"425\":\"Ind\",\"426\":\"Ten\",\"427\":\"Ten\",\"428\":\"Cin\",\"429\":\"Cin\",\"430\":\"Buf\",\"431\":\"Cin\",\"432\":\"Cin\",\"433\":\"Buf\",\"434\":\"TB\",\"435\":\"TB\",\"436\":\"TB\",\"437\":\"KC\",\"438\":\"KC\",\"439\":\"KC\",\"440\":\"KC\",\"441\":\"TB\",\"442\":\"Chi\",\"443\":\"Chi\",\"444\":\"NYG\",\"445\":\"Chi\",\"446\":\"Chi\",\"447\":\"NYG\",\"448\":\"Chi\",\"449\":\"Ari\",\"450\":\"Ari\",\"451\":\"Min\",\"452\":\"Min\",\"453\":\"Min\",\"454\":\"Ari\",\"455\":\"LA\",\"456\":\"Mia\",\"457\":\"Mia\",\"458\":\"LA\",\"459\":\"LA\",\"460\":\"Mia\",\"461\":\"Mia\",\"462\":\"SF\",\"463\":\"NE\",\"464\":\"SF\",\"465\":\"SF\",\"466\":\"Phi\",\"467\":\"Sea\",\"468\":\"Sea\",\"469\":\"Phi\",\"470\":\"Sea\",\"471\":\"Phi\",\"472\":\"GB\",\"473\":\"GB\",\"474\":\"Was\",\"475\":\"Oak\",\"476\":\"Hou\",\"477\":\"Oak\",\"478\":\"Hou\",\"479\":\"Oak\",\"480\":\"Jax\",\"481\":\"Ten\",\"482\":\"Cle\",\"483\":\"NO\",\"484\":\"SF\"}}'"
      ]
     },
     "execution_count": 59,
     "metadata": {},
     "output_type": "execute_result"
    }
   ],
   "source": [
    "from urlparse import urljoin  # for Python2: from urlparse import urljoin\n",
    "from urllib import urlretrieve\n",
    "\n",
    "from selenium import webdriver\n",
    "from selenium.webdriver.common.by import By\n",
    "from selenium.webdriver.support.ui import WebDriverWait\n",
    "from selenium.webdriver.support import expected_conditions as EC\n",
    "\n",
    "import webbrowser\n",
    "import pandas as pd\n",
    "import time\n",
    "\n",
    "\n",
    "\n",
    "url = \"https://www.draftkings.com/contest/draftteam/32350188\"\n",
    "browser = webdriver.PhantomJS()\n",
    "wait = WebDriverWait(browser, 10)\n",
    "browser.get(url)\n",
    "\n",
    "# wait for page to load\n",
    "wait.until(EC.presence_of_element_located((By.ID, 'fancybox-outer')))\n",
    "print(\"Page loaded\")\n",
    "\n",
    "browser.find_element_by_xpath('//div[contains(@class, \"tabs\")]/ul/li[text() = \"All\"]').click()\n",
    "\n",
    "# download the file\n",
    "csv_url = urljoin(url, browser.find_element_by_css_selector(\"a.export-to-csv\").get_attribute(\"href\"))\n",
    "urlretrieve(csv_url, \"runningagain.csv\")\n",
    "print csv_url\n",
    "\n",
    "\n",
    "\n",
    "webbrowser.open(csv_url)\n",
    "\n",
    "time.sleep(5) # delays for 5 seconds\n",
    "\n",
    "\n",
    "salaryscraper = pd.read_csv('/Users/pivit/Downloads/DKSalaries (10).csv')\n",
    "\n",
    "\n",
    "thejsontest = salaryscraper.to_json()\n",
    "thejsontest"
   ]
  },
  {
   "cell_type": "code",
   "execution_count": 57,
   "metadata": {
    "ExecuteTime": {
     "end_time": "2016-11-17T16:14:48.187632",
     "start_time": "2016-11-17T16:14:47.842361"
    },
    "collapsed": false
   },
   "outputs": [],
   "source": [
    "\n",
    "thejsontest = salaryscraper.to_json()\n",
    "thejsontest"
   ]
  },
  {
   "cell_type": "code",
   "execution_count": 58,
   "metadata": {
    "ExecuteTime": {
     "end_time": "2016-11-17T16:14:52.332150",
     "start_time": "2016-11-17T16:14:52.294860"
    },
    "collapsed": false
   },
   "outputs": [
    {
     "data": {
      "text/plain": [
       "'{\"Position\":{\"0\":\"WR\",\"1\":\"RB\",\"2\":\"WR\",\"3\":\"WR\",\"4\":\"RB\",\"5\":\"WR\",\"6\":\"RB\",\"7\":\"QB\",\"8\":\"RB\",\"9\":\"QB\",\"10\":\"WR\",\"11\":\"WR\",\"12\":\"QB\",\"13\":\"QB\",\"14\":\"QB\",\"15\":\"WR\",\"16\":\"WR\",\"17\":\"WR\",\"18\":\"WR\",\"19\":\"QB\",\"20\":\"WR\",\"21\":\"TE\",\"22\":\"WR\",\"23\":\"WR\",\"24\":\"RB\",\"25\":\"WR\",\"26\":\"RB\",\"27\":\"QB\",\"28\":\"WR\",\"29\":\"WR\",\"30\":\"QB\",\"31\":\"WR\",\"32\":\"TE\",\"33\":\"WR\",\"34\":\"WR\",\"35\":\"RB\",\"36\":\"QB\",\"37\":\"QB\",\"38\":\"WR\",\"39\":\"WR\",\"40\":\"QB\",\"41\":\"QB\",\"42\":\"WR\",\"43\":\"RB\",\"44\":\"RB\",\"45\":\"RB\",\"46\":\"QB\",\"47\":\"WR\",\"48\":\"TE\",\"49\":\"RB\",\"50\":\"QB\",\"51\":\"RB\",\"52\":\"TE\",\"53\":\"QB\",\"54\":\"WR\",\"55\":\"WR\",\"56\":\"QB\",\"57\":\"WR\",\"58\":\"QB\",\"59\":\"TE\",\"60\":\"QB\",\"61\":\"QB\",\"62\":\"WR\",\"63\":\"RB\",\"64\":\"QB\",\"65\":\"TE\",\"66\":\"RB\",\"67\":\"WR\",\"68\":\"WR\",\"69\":\"RB\",\"70\":\"WR\",\"71\":\"WR\",\"72\":\"RB\",\"73\":\"QB\",\"74\":\"WR\",\"75\":\"RB\",\"76\":\"QB\",\"77\":\"WR\",\"78\":\"QB\",\"79\":\"RB\",\"80\":\"WR\",\"81\":\"QB\",\"82\":\"QB\",\"83\":\"RB\",\"84\":\"WR\",\"85\":\"QB\",\"86\":\"QB\",\"87\":\"QB\",\"88\":\"QB\",\"89\":\"WR\",\"90\":\"QB\",\"91\":\"QB\",\"92\":\"QB\",\"93\":\"QB\",\"94\":\"QB\",\"95\":\"QB\",\"96\":\"QB\",\"97\":\"QB\",\"98\":\"QB\",\"99\":\"QB\",\"100\":\"QB\",\"101\":\"WR\",\"102\":\"QB\",\"103\":\"QB\",\"104\":\"RB\",\"105\":\"QB\",\"106\":\"QB\",\"107\":\"QB\",\"108\":\"QB\",\"109\":\"QB\",\"110\":\"QB\",\"111\":\"QB\",\"112\":\"QB\",\"113\":\"RB\",\"114\":\"QB\",\"115\":\"QB\",\"116\":\"QB\",\"117\":\"QB\",\"118\":\"QB\",\"119\":\"QB\",\"120\":\"QB\",\"121\":\"QB\",\"122\":\"QB\",\"123\":\"QB\",\"124\":\"RB\",\"125\":\"QB\",\"126\":\"QB\",\"127\":\"QB\",\"128\":\"QB\",\"129\":\"QB\",\"130\":\"QB\",\"131\":\"QB\",\"132\":\"QB\",\"133\":\"QB\",\"134\":\"QB\",\"135\":\"QB\",\"136\":\"QB\",\"137\":\"QB\",\"138\":\"WR\",\"139\":\"RB\",\"140\":\"RB\",\"141\":\"WR\",\"142\":\"RB\",\"143\":\"WR\",\"144\":\"RB\",\"145\":\"TE\",\"146\":\"WR\",\"147\":\"WR\",\"148\":\"WR\",\"149\":\"RB\",\"150\":\"WR\",\"151\":\"RB\",\"152\":\"RB\",\"153\":\"RB\",\"154\":\"RB\",\"155\":\"WR\",\"156\":\"RB\",\"157\":\"RB\",\"158\":\"RB\",\"159\":\"WR\",\"160\":\"RB\",\"161\":\"RB\",\"162\":\"RB\",\"163\":\"WR\",\"164\":\"TE\",\"165\":\"RB\",\"166\":\"WR\",\"167\":\"WR\",\"168\":\"WR\",\"169\":\"WR\",\"170\":\"WR\",\"171\":\"RB\",\"172\":\"WR\",\"173\":\"RB\",\"174\":\"RB\",\"175\":\"WR\",\"176\":\"RB\",\"177\":\"WR\",\"178\":\"RB\",\"179\":\"RB\",\"180\":\"WR\",\"181\":\"WR\",\"182\":\"RB\",\"183\":\"RB\",\"184\":\"TE\",\"185\":\"RB\",\"186\":\"WR\",\"187\":\"WR\",\"188\":\"RB\",\"189\":\"RB\",\"190\":\"WR\",\"191\":\"TE\",\"192\":\"TE\",\"193\":\"RB\",\"194\":\"WR\",\"195\":\"DST\",\"196\":\"WR\",\"197\":\"DST\",\"198\":\"WR\",\"199\":\"TE\",\"200\":\"RB\",\"201\":\"TE\",\"202\":\"RB\",\"203\":\"RB\",\"204\":\"WR\",\"205\":\"DST\",\"206\":\"WR\",\"207\":\"RB\",\"208\":\"RB\",\"209\":\"RB\",\"210\":\"TE\",\"211\":\"WR\",\"212\":\"RB\",\"213\":\"DST\",\"214\":\"RB\",\"215\":\"RB\",\"216\":\"WR\",\"217\":\"WR\",\"218\":\"WR\",\"219\":\"RB\",\"220\":\"RB\",\"221\":\"TE\",\"222\":\"TE\",\"223\":\"WR\",\"224\":\"RB\",\"225\":\"WR\",\"226\":\"DST\",\"227\":\"WR\",\"228\":\"WR\",\"229\":\"WR\",\"230\":\"WR\",\"231\":\"WR\",\"232\":\"TE\",\"233\":\"WR\",\"234\":\"TE\",\"235\":\"WR\",\"236\":\"WR\",\"237\":\"WR\",\"238\":\"RB\",\"239\":\"DST\",\"240\":\"RB\",\"241\":\"RB\",\"242\":\"TE\",\"243\":\"RB\",\"244\":\"WR\",\"245\":\"DST\",\"246\":\"WR\",\"247\":\"RB\",\"248\":\"TE\",\"249\":\"WR\",\"250\":\"TE\",\"251\":\"RB\",\"252\":\"DST\",\"253\":\"DST\",\"254\":\"RB\",\"255\":\"RB\",\"256\":\"RB\",\"257\":\"RB\",\"258\":\"RB\",\"259\":\"RB\",\"260\":\"WR\",\"261\":\"WR\",\"262\":\"WR\",\"263\":\"WR\",\"264\":\"WR\",\"265\":\"RB\",\"266\":\"RB\",\"267\":\"RB\",\"268\":\"WR\",\"269\":\"WR\",\"270\":\"WR\",\"271\":\"WR\",\"272\":\"WR\",\"273\":\"WR\",\"274\":\"RB\",\"275\":\"RB\",\"276\":\"RB\",\"277\":\"RB\",\"278\":\"RB\",\"279\":\"RB\",\"280\":\"WR\",\"281\":\"WR\",\"282\":\"WR\",\"283\":\"RB\",\"284\":\"RB\",\"285\":\"RB\",\"286\":\"RB\",\"287\":\"RB\",\"288\":\"WR\",\"289\":\"WR\",\"290\":\"WR\",\"291\":\"WR\",\"292\":\"WR\",\"293\":\"RB\",\"294\":\"RB\",\"295\":\"RB\",\"296\":\"RB\",\"297\":\"RB\",\"298\":\"WR\",\"299\":\"WR\",\"300\":\"WR\",\"301\":\"WR\",\"302\":\"WR\",\"303\":\"WR\",\"304\":\"RB\",\"305\":\"RB\",\"306\":\"RB\",\"307\":\"RB\",\"308\":\"WR\",\"309\":\"WR\",\"310\":\"WR\",\"311\":\"WR\",\"312\":\"WR\",\"313\":\"WR\",\"314\":\"WR\",\"315\":\"DST\",\"316\":\"RB\",\"317\":\"RB\",\"318\":\"WR\",\"319\":\"WR\",\"320\":\"WR\",\"321\":\"WR\",\"322\":\"RB\",\"323\":\"RB\",\"324\":\"RB\",\"325\":\"WR\",\"326\":\"WR\",\"327\":\"WR\",\"328\":\"WR\",\"329\":\"RB\",\"330\":\"RB\",\"331\":\"RB\",\"332\":\"WR\",\"333\":\"WR\",\"334\":\"WR\",\"335\":\"WR\",\"336\":\"WR\",\"337\":\"RB\",\"338\":\"RB\",\"339\":\"RB\",\"340\":\"WR\",\"341\":\"WR\",\"342\":\"WR\",\"343\":\"WR\",\"344\":\"WR\",\"345\":\"WR\",\"346\":\"TE\",\"347\":\"RB\",\"348\":\"RB\",\"349\":\"RB\",\"350\":\"WR\",\"351\":\"WR\",\"352\":\"WR\",\"353\":\"WR\",\"354\":\"WR\",\"355\":\"WR\",\"356\":\"RB\",\"357\":\"RB\",\"358\":\"RB\",\"359\":\"WR\",\"360\":\"WR\",\"361\":\"WR\",\"362\":\"WR\",\"363\":\"WR\",\"364\":\"WR\",\"365\":\"RB\",\"366\":\"RB\",\"367\":\"RB\",\"368\":\"RB\",\"369\":\"WR\",\"370\":\"WR\",\"371\":\"WR\",\"372\":\"WR\",\"373\":\"WR\",\"374\":\"WR\",\"375\":\"RB\",\"376\":\"RB\",\"377\":\"RB\",\"378\":\"RB\",\"379\":\"RB\",\"380\":\"WR\",\"381\":\"WR\",\"382\":\"WR\",\"383\":\"WR\",\"384\":\"WR\",\"385\":\"WR\",\"386\":\"TE\",\"387\":\"DST\",\"388\":\"TE\",\"389\":\"DST\",\"390\":\"DST\",\"391\":\"TE\",\"392\":\"DST\",\"393\":\"DST\",\"394\":\"DST\",\"395\":\"TE\",\"396\":\"TE\",\"397\":\"TE\",\"398\":\"DST\",\"399\":\"TE\",\"400\":\"DST\",\"401\":\"TE\",\"402\":\"DST\",\"403\":\"DST\",\"404\":\"TE\",\"405\":\"TE\",\"406\":\"TE\",\"407\":\"TE\",\"408\":\"TE\",\"409\":\"TE\",\"410\":\"TE\",\"411\":\"TE\",\"412\":\"TE\",\"413\":\"TE\",\"414\":\"TE\",\"415\":\"TE\",\"416\":\"TE\",\"417\":\"DST\",\"418\":\"TE\",\"419\":\"TE\",\"420\":\"TE\",\"421\":\"TE\",\"422\":\"TE\",\"423\":\"TE\",\"424\":\"TE\",\"425\":\"TE\",\"426\":\"TE\",\"427\":\"TE\",\"428\":\"TE\",\"429\":\"TE\",\"430\":\"TE\",\"431\":\"TE\",\"432\":\"TE\",\"433\":\"TE\",\"434\":\"TE\",\"435\":\"TE\",\"436\":\"TE\",\"437\":\"TE\",\"438\":\"TE\",\"439\":\"TE\",\"440\":\"TE\",\"441\":\"TE\",\"442\":\"TE\",\"443\":\"TE\",\"444\":\"TE\",\"445\":\"TE\",\"446\":\"TE\",\"447\":\"TE\",\"448\":\"DST\",\"449\":\"TE\",\"450\":\"TE\",\"451\":\"TE\",\"452\":\"TE\",\"453\":\"TE\",\"454\":\"TE\",\"455\":\"TE\",\"456\":\"TE\",\"457\":\"TE\",\"458\":\"TE\",\"459\":\"TE\",\"460\":\"TE\",\"461\":\"TE\",\"462\":\"TE\",\"463\":\"TE\",\"464\":\"TE\",\"465\":\"TE\",\"466\":\"TE\",\"467\":\"TE\",\"468\":\"TE\",\"469\":\"TE\",\"470\":\"TE\",\"471\":\"DST\",\"472\":\"TE\",\"473\":\"TE\",\"474\":\"TE\",\"475\":\"TE\",\"476\":\"TE\",\"477\":\"TE\",\"478\":\"TE\",\"479\":\"TE\",\"480\":\"DST\",\"481\":\"DST\",\"482\":\"DST\",\"483\":\"DST\",\"484\":\"DST\"},\"Name\":{\"0\":\"Antonio Brown\",\"1\":\"Le\\'Veon Bell\",\"2\":\"Odell Beckham Jr.\",\"3\":\"A.J. Green\",\"4\":\"DeMarco Murray\",\"5\":\"Mike Evans\",\"6\":\"Ezekiel Elliott\",\"7\":\"Cam Newton\",\"8\":\"David Johnson\",\"9\":\"Tom Brady\",\"10\":\"Jordy Nelson\",\"11\":\"T.Y. Hilton\",\"12\":\"Drew Brees\",\"13\":\"Aaron Rodgers\",\"14\":\"Ben Roethlisberger\",\"15\":\"Amari Cooper\",\"16\":\"Allen Robinson\",\"17\":\"Kelvin Benjamin\",\"18\":\"Dez Bryant\",\"19\":\"Andrew Luck\",\"20\":\"Larry Fitzgerald\",\"21\":\"Rob Gronkowski\",\"22\":\"Brandin Cooks\",\"23\":\"Stefon Diggs\",\"24\":\"LeSean McCoy\",\"25\":\"Alshon Jeffery\",\"26\":\"Jay Ajayi\",\"27\":\"Marcus Mariota\",\"28\":\"Davante Adams\",\"29\":\"Michael Thomas\",\"30\":\"Matthew Stafford\",\"31\":\"Jarvis Landry\",\"32\":\"Greg Olsen\",\"33\":\"Michael Crabtree\",\"34\":\"DeAndre Hopkins\",\"35\":\"LeGarrette Blount\",\"36\":\"Derek Carr\",\"37\":\"Eli Manning\",\"38\":\"Julian Edelman\",\"39\":\"Donte Moncrief\",\"40\":\"Russell Wilson\",\"41\":\"Dak Prescott\",\"42\":\"Steve Smith Sr.\",\"43\":\"Spencer Ware\",\"44\":\"Jonathan Stewart\",\"45\":\"DeAngelo Williams\",\"46\":\"Jameis Winston\",\"47\":\"Randall Cobb\",\"48\":\"Jordan Reed\",\"49\":\"Jordan Howard\",\"50\":\"Kirk Cousins\",\"51\":\"Lamar Miller\",\"52\":\"Delanie Walker\",\"53\":\"Andy Dalton\",\"54\":\"Doug Baldwin\",\"55\":\"Terrelle Pryor Sr.\",\"56\":\"Tyrod Taylor\",\"57\":\"Jeremy Maclin\",\"58\":\"Carson Palmer\",\"59\":\"Jimmy Graham\",\"60\":\"Joe Flacco\",\"61\":\"Tony Romo\",\"62\":\"Mike Wallace\",\"63\":\"Latavius Murray\",\"64\":\"Blake Bortles\",\"65\":\"Tyler Eifert\",\"66\":\"Doug Martin\",\"67\":\"Jordan Matthews\",\"68\":\"Jamison Crowder\",\"69\":\"Mark Ingram\",\"70\":\"Cole Beasley\",\"71\":\"Golden Tate\",\"72\":\"Derrick Henry\",\"73\":\"Alex Smith\",\"74\":\"Will Fuller\",\"75\":\"Jacquizz Rodgers\",\"76\":\"Jay Cutler\",\"77\":\"Kenny Britt\",\"78\":\"Colin Kaepernick\",\"79\":\"Theo Riddick\",\"80\":\"Rishard Matthews\",\"81\":\"Sam Bradford\",\"82\":\"Ryan Tannehill\",\"83\":\"Christine Michael\",\"84\":\"Ty Montgomery\",\"85\":\"Brock Osweiler\",\"86\":\"Derek Anderson\",\"87\":\"Luke McCown\",\"88\":\"Joe Webb\",\"89\":\"Willie Snead\",\"90\":\"Josh McCown\",\"91\":\"Landry Jones\",\"92\":\"Zach Mettenberger\",\"93\":\"Cody Kessler\",\"94\":\"Kevin Hogan\",\"95\":\"Joe Callahan\",\"96\":\"Mark Sanchez\",\"97\":\"Ryan Mallett\",\"98\":\"Dan Orlovsky\",\"99\":\"Chad Henne\",\"100\":\"Brandon Allen\",\"101\":\"Marvin Jones Jr.\",\"102\":\"Matt Cassel\",\"103\":\"Scott Tolzien\",\"104\":\"Frank Gore\",\"105\":\"EJ Manuel\",\"106\":\"AJ McCarron\",\"107\":\"Jeff Driskel\",\"108\":\"Cardale Jones\",\"109\":\"Nick Foles\",\"110\":\"Mike Glennon\",\"111\":\"Ryan Griffin\",\"112\":\"Tyler Bray\",\"113\":\"Charcandrick West\",\"114\":\"Josh Johnson\",\"115\":\"Ryan Nassib\",\"116\":\"Matt Barkley\",\"117\":\"Shaun Hill\",\"118\":\"Drew Stanton\",\"119\":\"Taylor Heinicke\",\"120\":\"Matt Moore\",\"121\":\"Case Keenum\",\"122\":\"Sean Mannion\",\"123\":\"Jared Goff\",\"124\":\"Todd Gurley\",\"125\":\"Christian Ponder\",\"126\":\"Blaine Gabbert\",\"127\":\"Jimmy Garoppolo\",\"128\":\"Chase Daniel\",\"129\":\"Trevone Boykin\",\"130\":\"Carson Wentz\",\"131\":\"Colt McCoy\",\"132\":\"Brett Hundley\",\"133\":\"Nate Sudfeld\",\"134\":\"Brandon Weeden\",\"135\":\"Matt McGloin\",\"136\":\"Tom Savage\",\"137\":\"Connor Cook\",\"138\":\"Robert Woods\",\"139\":\"Carlos Hyde\",\"140\":\"James White\",\"141\":\"DeSean Jackson\",\"142\":\"Tim Hightower\",\"143\":\"Corey Coleman\",\"144\":\"Alfred Morris\",\"145\":\"Travis Kelce\",\"146\":\"Sterling Shepard\",\"147\":\"J.J. Nelson\",\"148\":\"Chris Hogan\",\"149\":\"Giovani Bernard\",\"150\":\"Tyreek Hill\",\"151\":\"Darren Sproles\",\"152\":\"Terrance West\",\"153\":\"Jeremy Hill\",\"154\":\"Rob Kelley\",\"155\":\"Eli Rogers\",\"156\":\"Thomas Rawls\",\"157\":\"Alfred Blue\",\"158\":\"Cameron Artis-Payne\",\"159\":\"Kendall Wright\",\"160\":\"Ryan Mathews\",\"161\":\"C.J. Prosise\",\"162\":\"James Starks\",\"163\":\"Allen Hurns\",\"164\":\"Eric Ebron\",\"165\":\"Mike Gillislee\",\"166\":\"Cameron Meredith\",\"167\":\"John Brown\",\"168\":\"DeVante Parker\",\"169\":\"Marqise Lee\",\"170\":\"Brandon LaFell\",\"171\":\"Jeremy Langford\",\"172\":\"Michael Floyd\",\"173\":\"Benny Cunningham\",\"174\":\"DuJuan Harris\",\"175\":\"Ted Ginn Jr.\",\"176\":\"Isaiah Crowell\",\"177\":\"Sammie Coates\",\"178\":\"Kenneth Dixon\",\"179\":\"Peyton Barber\",\"180\":\"Russell Shepard\",\"181\":\"Adam Humphries\",\"182\":\"Ka\\'Deem Carey\",\"183\":\"Paul Perkins\",\"184\":\"Kyle Rudolph\",\"185\":\"Damien Williams\",\"186\":\"Tavon Austin\",\"187\":\"Pierre Garcon\",\"188\":\"DeAndre Washington\",\"189\":\"Duke Johnson Jr.\",\"190\":\"Anquan Boldin\",\"191\":\"Cameron Brate\",\"192\":\"Zach Miller\",\"193\":\"Matt Asiata\",\"194\":\"Adam Thielen\",\"195\":\"Seahawks \",\"196\":\"Devin Funchess\",\"197\":\"Steelers \",\"198\":\"Victor Cruz\",\"199\":\"Martellus Bennett\",\"200\":\"Wendell Smallwood\",\"201\":\"Dennis Pitta\",\"202\":\"Chris Ivory\",\"203\":\"Rashad Jennings\",\"204\":\"Kenny Stills\",\"205\":\"Patriots \",\"206\":\"Tyler Lockett\",\"207\":\"Chris Thompson\",\"208\":\"T.J. Yeldon\",\"209\":\"Dwayne Washington\",\"210\":\"Julius Thomas\",\"211\":\"Marquise Goodwin\",\"212\":\"Knile Davis\",\"213\":\"Giants \",\"214\":\"Andre Ellington\",\"215\":\"Jerick McKinnon\",\"216\":\"Cordarrelle Patterson\",\"217\":\"Danny Amendola\",\"218\":\"Jeremy Kerley\",\"219\":\"Matt Jones\",\"220\":\"Akeem Hunt\",\"221\":\"Coby Fleener\",\"222\":\"Jesse James\",\"223\":\"Breshad Perriman\",\"224\":\"Robert Turbin\",\"225\":\"Albert Wilson\",\"226\":\"Chiefs \",\"227\":\"Eddie Royal\",\"228\":\"Brian Quick\",\"229\":\"Torrey Smith\",\"230\":\"Kamar Aiken\",\"231\":\"Terrance Williams\",\"232\":\"Jason Witten\",\"233\":\"Phillip Dorsett\",\"234\":\"Jack Doyle\",\"235\":\"Percy Harvin\",\"236\":\"Chris Conley\",\"237\":\"Roger Lewis\",\"238\":\"Ronnie Hillman\",\"239\":\"Vikings \",\"240\":\"Dion Lewis\",\"241\":\"Jalen Richard\",\"242\":\"C.J. Fiedorowicz\",\"243\":\"Fozzy Whittaker\",\"244\":\"Brice Butler\",\"245\":\"Lions \",\"246\":\"Tajae Sharpe\",\"247\":\"Shaun Draughn\",\"248\":\"Zach Ertz\",\"249\":\"Andrew Hawkins\",\"250\":\"Gary Barnidge\",\"251\":\"Mike James\",\"252\":\"Cardinals \",\"253\":\"Rams \",\"254\":\"Mike Davis\",\"255\":\"Mike Tolbert\",\"256\":\"John Kuhn\",\"257\":\"Travaris Cadet\",\"258\":\"Marcus Murphy\",\"259\":\"Daniel Lasco\",\"260\":\"Brenton Bersin\",\"261\":\"Brandon Coleman\",\"262\":\"Corey Brown\",\"263\":\"Tommylee Lewis\",\"264\":\"Jake Lampman\",\"265\":\"Fitzgerald Toussaint\",\"266\":\"Roosevelt Nix\",\"267\":\"George Atkinson III\",\"268\":\"Darrius Heyward-Bey\",\"269\":\"Markus Wheaton\",\"270\":\"Cobi Hamilton\",\"271\":\"Jordan Payton\",\"272\":\"Ricardo Louis\",\"273\":\"Rashard Higgins\",\"274\":\"Lance Dunbar\",\"275\":\"Kyle Juszczyk\",\"276\":\"Keith Smith\",\"277\":\"Javorius Allen\",\"278\":\"Darius Jackson\",\"279\":\"Lorenzo Taliaferro\",\"280\":\"Devin Hester\",\"281\":\"Chris Moore\",\"282\":\"Lucky Whitehead\",\"283\":\"Justin Forsett\",\"284\":\"Denard Robinson\",\"285\":\"Michael Burton\",\"286\":\"Corey Grant\",\"287\":\"Zach Zenner\",\"288\":\"Bryan Walters\",\"289\":\"Andre Roberts\",\"290\":\"Arrelious Benn\",\"291\":\"Corey Fuller\",\"292\":\"Rashad Greene Sr.\",\"293\":\"Jordan Todman\",\"294\":\"Jalston Fowler\",\"295\":\"David Fluellen\",\"296\":\"Antonio Andrews\",\"297\":\"Josh Ferguson\",\"298\":\"Harry Douglas\",\"299\":\"Marc Mariani\",\"300\":\"Devin Street\",\"301\":\"Tre McBride\",\"302\":\"Marcus Leak\",\"303\":\"Chester Rogers\",\"304\":\"Reggie Bush\",\"305\":\"Jerome Felton\",\"306\":\"Rex Burkhead\",\"307\":\"Jonathan Williams\",\"308\":\"Brandon Tate\",\"309\":\"James Wright\",\"310\":\"Justin Hunter\",\"311\":\"Walt Powell\",\"312\":\"Alex Erickson\",\"313\":\"Cody Core\",\"314\":\"Tyler Boyd\",\"315\":\"Bengals \",\"316\":\"Anthony Sherman\",\"317\":\"Bishop Sankey\",\"318\":\"Cecil Shorts III\",\"319\":\"Freddie Martino\",\"320\":\"De\\'Anthony Thomas\",\"321\":\"Demarcus Robinson\",\"322\":\"Bobby Rainey\",\"323\":\"Orleans Darkwa\",\"324\":\"Paul Lasike\",\"325\":\"Dwayne Harris\",\"326\":\"Deonte Thompson\",\"327\":\"Tavarres King\",\"328\":\"Joshua Bellamy\",\"329\":\"Zach Line\",\"330\":\"Stepfan Taylor\",\"331\":\"Kerwynn Williams\",\"332\":\"Charles Johnson\",\"333\":\"Jarius Wright\",\"334\":\"Brittan Golden\",\"335\":\"Chris Hubert\",\"336\":\"Laquon Treadwell\",\"337\":\"Chase Reynolds\",\"338\":\"Malcolm Brown\",\"339\":\"Kenyan Drake\",\"340\":\"Jakeem Grant\",\"341\":\"Bradley Marquez\",\"342\":\"Nelson Spruce\",\"343\":\"Leonte Carroo\",\"344\":\"Pharoh Cooper\",\"345\":\"Mike Thomas\",\"346\":\"Lance Kendricks\",\"347\":\"James Develin\",\"348\":\"Brandon Bolden\",\"349\":\"D.J. Foster\",\"350\":\"Matthew Slater\",\"351\":\"Rod Streater\",\"352\":\"Quinton Patton\",\"353\":\"Malcolm Mitchell\",\"354\":\"Chris Harper\",\"355\":\"Aaron Burbridge\",\"356\":\"Will Tukuafu\",\"357\":\"Kenjon Barner\",\"358\":\"Alex Collins\",\"359\":\"Jermaine Kearse\",\"360\":\"Paul Richardson\",\"361\":\"Tanner McEvoy\",\"362\":\"Dorial Green-Beckham\",\"363\":\"Bryce Treggs\",\"364\":\"Nelson Agholor\",\"365\":\"Mack Brown\",\"366\":\"Aaron Ripkowski\",\"367\":\"Joe Kerridge\",\"368\":\"Don Jackson\",\"369\":\"Ryan Grant\",\"370\":\"Rashad Ross\",\"371\":\"Maurice Harris\",\"372\":\"Trevor Davis\",\"373\":\"Jeff Janis\",\"374\":\"Geronimo Allison\",\"375\":\"Taiwan Jones\",\"376\":\"Jonathan Grimes\",\"377\":\"Jay Prosch\",\"378\":\"Jamize Olawale\",\"379\":\"Tyler Ervin\",\"380\":\"Keith Mumphery\",\"381\":\"Andre Holmes\",\"382\":\"Braxton Miller\",\"383\":\"Seth Roberts\",\"384\":\"Jaelen Strong\",\"385\":\"Johnny Holton\",\"386\":\"Dwayne Allen\",\"387\":\"Dolphins \",\"388\":\"Vernon Davis\",\"389\":\"Packers \",\"390\":\"Raiders \",\"391\":\"Josh Hill\",\"392\":\"Panthers \",\"393\":\"Colts \",\"394\":\"Bills \",\"395\":\"Will Tye\",\"396\":\"Vance McDonald\",\"397\":\"Richard Rodgers\",\"398\":\"Cowboys \",\"399\":\"Charles Clay\",\"400\":\"Buccaneers \",\"401\":\"Garrett Celek\",\"402\":\"Redskins \",\"403\":\"Texans \",\"404\":\"Ed Dickson\",\"405\":\"John Phillips\",\"406\":\"Chris Manhertz\",\"407\":\"David Johnson\",\"408\":\"Ladarius Green\",\"409\":\"Xavier Grimble\",\"410\":\"Randall Telfer\",\"411\":\"Seth DeValve\",\"412\":\"Danny Vitale\",\"413\":\"Gavin Escobar\",\"414\":\"Crockett Gillmore\",\"415\":\"Darren Waller\",\"416\":\"Geoff Swaim\",\"417\":\"Ravens \",\"418\":\"Marcedes Lewis\",\"419\":\"Clay Harbor\",\"420\":\"Matthew Mulligan\",\"421\":\"Neal Sterling\",\"422\":\"Ben Koyack\",\"423\":\"Anthony Fasano\",\"424\":\"Beau Brinkley\",\"425\":\"Erik Swoope\",\"426\":\"Jace Amaro\",\"427\":\"Phillip Supernaw\",\"428\":\"Clark Harris\",\"429\":\"Ryan Hewitt\",\"430\":\"Gerald Christian\",\"431\":\"Tyler Kroft\",\"432\":\"C.J. Uzomah\",\"433\":\"Nick O\\'Leary\",\"434\":\"Brandon Myers\",\"435\":\"Andrew DePaola\",\"436\":\"Luke Stocker\",\"437\":\"James Winchester\",\"438\":\"James O\\'Shaughnessy\",\"439\":\"Ross Travis\",\"440\":\"Demetrius Harris\",\"441\":\"Alan Cross\",\"442\":\"Logan Paulsen\",\"443\":\"Patrick Scales\",\"444\":\"Larry Donnell\",\"445\":\"Daniel Brown\",\"446\":\"Ben Braunecker\",\"447\":\"Jerell Adams\",\"448\":\"Bears \",\"449\":\"Darren Fells\",\"450\":\"Jermaine Gresham\",\"451\":\"Rhett Ellison\",\"452\":\"Kevin McDermott\",\"453\":\"David Morgan\",\"454\":\"Hakeem Valles\",\"455\":\"Cory Harkey\",\"456\":\"MarQueis Gray\",\"457\":\"Dion Sims\",\"458\":\"Tyler Higbee\",\"459\":\"Temarrick Hemingway\",\"460\":\"Dominique Jones\",\"461\":\"Thomas Duarte\",\"462\":\"Kyle Nelson\",\"463\":\"Matt Lengel\",\"464\":\"Blake Bell\",\"465\":\"Je\\'Ron Hamm\",\"466\":\"Brent Celek\",\"467\":\"Luke Willson\",\"468\":\"Brandon Williams\",\"469\":\"Trey Burton\",\"470\":\"Nick Vannett\",\"471\":\"Eagles \",\"472\":\"Jared Cook\",\"473\":\"Justin Perillo\",\"474\":\"Derek Carrier\",\"475\":\"Mychal Rivera\",\"476\":\"Ryan Griffin\",\"477\":\"Clive Walford\",\"478\":\"Stephen Anderson\",\"479\":\"Ryan O\\'Malley\",\"480\":\"Jaguars \",\"481\":\"Titans \",\"482\":\"Browns \",\"483\":\"Saints \",\"484\":\"49ers \"},\"Salary\":{\"0\":9500,\"1\":8800,\"2\":8500,\"3\":8300,\"4\":8200,\"5\":8100,\"6\":8000,\"7\":7900,\"8\":7900,\"9\":7800,\"10\":7800,\"11\":7700,\"12\":7600,\"13\":7600,\"14\":7500,\"15\":7500,\"16\":7400,\"17\":7300,\"18\":7200,\"19\":7200,\"20\":7100,\"21\":7100,\"22\":7000,\"23\":7000,\"24\":6900,\"25\":6900,\"26\":6800,\"27\":6700,\"28\":6700,\"29\":6600,\"30\":6600,\"31\":6600,\"32\":6500,\"33\":6500,\"34\":6500,\"35\":6400,\"36\":6400,\"37\":6300,\"38\":6300,\"39\":6100,\"40\":6100,\"41\":6000,\"42\":6000,\"43\":6000,\"44\":5900,\"45\":5900,\"46\":5900,\"47\":5900,\"48\":5900,\"49\":5800,\"50\":5800,\"51\":5800,\"52\":5700,\"53\":5700,\"54\":5700,\"55\":5600,\"56\":5600,\"57\":5600,\"58\":5600,\"59\":5600,\"60\":5500,\"61\":5500,\"62\":5500,\"63\":5500,\"64\":5400,\"65\":5400,\"66\":5400,\"67\":5400,\"68\":5400,\"69\":5300,\"70\":5300,\"71\":5300,\"72\":5300,\"73\":5300,\"74\":5300,\"75\":5200,\"76\":5200,\"77\":5200,\"78\":5200,\"79\":5100,\"80\":5100,\"81\":5100,\"82\":5100,\"83\":5100,\"84\":5100,\"85\":5100,\"86\":5000,\"87\":5000,\"88\":5000,\"89\":5000,\"90\":5000,\"91\":5000,\"92\":5000,\"93\":5000,\"94\":5000,\"95\":5000,\"96\":5000,\"97\":5000,\"98\":5000,\"99\":5000,\"100\":5000,\"101\":5000,\"102\":5000,\"103\":5000,\"104\":5000,\"105\":5000,\"106\":5000,\"107\":5000,\"108\":5000,\"109\":5000,\"110\":5000,\"111\":5000,\"112\":5000,\"113\":5000,\"114\":5000,\"115\":5000,\"116\":5000,\"117\":5000,\"118\":5000,\"119\":5000,\"120\":5000,\"121\":5000,\"122\":5000,\"123\":5000,\"124\":5000,\"125\":5000,\"126\":5000,\"127\":5000,\"128\":5000,\"129\":5000,\"130\":5000,\"131\":5000,\"132\":5000,\"133\":5000,\"134\":5000,\"135\":5000,\"136\":5000,\"137\":5000,\"138\":4900,\"139\":4900,\"140\":4800,\"141\":4800,\"142\":4700,\"143\":4700,\"144\":4700,\"145\":4700,\"146\":4700,\"147\":4700,\"148\":4700,\"149\":4600,\"150\":4500,\"151\":4500,\"152\":4400,\"153\":4400,\"154\":4400,\"155\":4300,\"156\":4300,\"157\":4300,\"158\":4200,\"159\":4200,\"160\":4200,\"161\":4200,\"162\":4200,\"163\":4100,\"164\":4100,\"165\":4100,\"166\":4100,\"167\":4100,\"168\":4100,\"169\":4000,\"170\":4000,\"171\":4000,\"172\":4000,\"173\":4000,\"174\":4000,\"175\":3900,\"176\":3900,\"177\":3900,\"178\":3900,\"179\":3900,\"180\":3900,\"181\":3900,\"182\":3900,\"183\":3900,\"184\":3900,\"185\":3900,\"186\":3900,\"187\":3900,\"188\":3900,\"189\":3800,\"190\":3800,\"191\":3800,\"192\":3800,\"193\":3800,\"194\":3800,\"195\":3800,\"196\":3700,\"197\":3700,\"198\":3700,\"199\":3700,\"200\":3700,\"201\":3600,\"202\":3600,\"203\":3600,\"204\":3600,\"205\":3600,\"206\":3600,\"207\":3600,\"208\":3500,\"209\":3500,\"210\":3500,\"211\":3500,\"212\":3500,\"213\":3500,\"214\":3500,\"215\":3500,\"216\":3500,\"217\":3500,\"218\":3500,\"219\":3500,\"220\":3500,\"221\":3400,\"222\":3400,\"223\":3400,\"224\":3400,\"225\":3400,\"226\":3400,\"227\":3400,\"228\":3400,\"229\":3400,\"230\":3300,\"231\":3300,\"232\":3300,\"233\":3300,\"234\":3300,\"235\":3300,\"236\":3300,\"237\":3300,\"238\":3300,\"239\":3300,\"240\":3300,\"241\":3300,\"242\":3300,\"243\":3200,\"244\":3200,\"245\":3200,\"246\":3200,\"247\":3200,\"248\":3200,\"249\":3100,\"250\":3100,\"251\":3100,\"252\":3100,\"253\":3100,\"254\":3100,\"255\":3000,\"256\":3000,\"257\":3000,\"258\":3000,\"259\":3000,\"260\":3000,\"261\":3000,\"262\":3000,\"263\":3000,\"264\":3000,\"265\":3000,\"266\":3000,\"267\":3000,\"268\":3000,\"269\":3000,\"270\":3000,\"271\":3000,\"272\":3000,\"273\":3000,\"274\":3000,\"275\":3000,\"276\":3000,\"277\":3000,\"278\":3000,\"279\":3000,\"280\":3000,\"281\":3000,\"282\":3000,\"283\":3000,\"284\":3000,\"285\":3000,\"286\":3000,\"287\":3000,\"288\":3000,\"289\":3000,\"290\":3000,\"291\":3000,\"292\":3000,\"293\":3000,\"294\":3000,\"295\":3000,\"296\":3000,\"297\":3000,\"298\":3000,\"299\":3000,\"300\":3000,\"301\":3000,\"302\":3000,\"303\":3000,\"304\":3000,\"305\":3000,\"306\":3000,\"307\":3000,\"308\":3000,\"309\":3000,\"310\":3000,\"311\":3000,\"312\":3000,\"313\":3000,\"314\":3000,\"315\":3000,\"316\":3000,\"317\":3000,\"318\":3000,\"319\":3000,\"320\":3000,\"321\":3000,\"322\":3000,\"323\":3000,\"324\":3000,\"325\":3000,\"326\":3000,\"327\":3000,\"328\":3000,\"329\":3000,\"330\":3000,\"331\":3000,\"332\":3000,\"333\":3000,\"334\":3000,\"335\":3000,\"336\":3000,\"337\":3000,\"338\":3000,\"339\":3000,\"340\":3000,\"341\":3000,\"342\":3000,\"343\":3000,\"344\":3000,\"345\":3000,\"346\":3000,\"347\":3000,\"348\":3000,\"349\":3000,\"350\":3000,\"351\":3000,\"352\":3000,\"353\":3000,\"354\":3000,\"355\":3000,\"356\":3000,\"357\":3000,\"358\":3000,\"359\":3000,\"360\":3000,\"361\":3000,\"362\":3000,\"363\":3000,\"364\":3000,\"365\":3000,\"366\":3000,\"367\":3000,\"368\":3000,\"369\":3000,\"370\":3000,\"371\":3000,\"372\":3000,\"373\":3000,\"374\":3000,\"375\":3000,\"376\":3000,\"377\":3000,\"378\":3000,\"379\":3000,\"380\":3000,\"381\":3000,\"382\":3000,\"383\":3000,\"384\":3000,\"385\":3000,\"386\":2900,\"387\":2900,\"388\":2800,\"389\":2800,\"390\":2800,\"391\":2700,\"392\":2700,\"393\":2700,\"394\":2700,\"395\":2700,\"396\":2700,\"397\":2700,\"398\":2600,\"399\":2600,\"400\":2600,\"401\":2600,\"402\":2600,\"403\":2600,\"404\":2500,\"405\":2500,\"406\":2500,\"407\":2500,\"408\":2500,\"409\":2500,\"410\":2500,\"411\":2500,\"412\":2500,\"413\":2500,\"414\":2500,\"415\":2500,\"416\":2500,\"417\":2500,\"418\":2500,\"419\":2500,\"420\":2500,\"421\":2500,\"422\":2500,\"423\":2500,\"424\":2500,\"425\":2500,\"426\":2500,\"427\":2500,\"428\":2500,\"429\":2500,\"430\":2500,\"431\":2500,\"432\":2500,\"433\":2500,\"434\":2500,\"435\":2500,\"436\":2500,\"437\":2500,\"438\":2500,\"439\":2500,\"440\":2500,\"441\":2500,\"442\":2500,\"443\":2500,\"444\":2500,\"445\":2500,\"446\":2500,\"447\":2500,\"448\":2500,\"449\":2500,\"450\":2500,\"451\":2500,\"452\":2500,\"453\":2500,\"454\":2500,\"455\":2500,\"456\":2500,\"457\":2500,\"458\":2500,\"459\":2500,\"460\":2500,\"461\":2500,\"462\":2500,\"463\":2500,\"464\":2500,\"465\":2500,\"466\":2500,\"467\":2500,\"468\":2500,\"469\":2500,\"470\":2500,\"471\":2500,\"472\":2500,\"473\":2500,\"474\":2500,\"475\":2500,\"476\":2500,\"477\":2500,\"478\":2500,\"479\":2500,\"480\":2400,\"481\":2200,\"482\":2100,\"483\":2000,\"484\":2000},\"GameInfo\":{\"0\":\"Pit@Cle 01:00PM ET\",\"1\":\"Pit@Cle 01:00PM ET\",\"2\":\"Chi@NYG 01:00PM ET\",\"3\":\"Buf@Cin 01:00PM ET\",\"4\":\"Ten@Ind 01:00PM ET\",\"5\":\"TB@KC 01:00PM ET\",\"6\":\"Bal@Dal 01:00PM ET\",\"7\":\"NO@Car 08:25PM ET\",\"8\":\"Ari@Min 01:00PM ET\",\"9\":\"NE@SF 04:25PM ET\",\"10\":\"GB@Was 08:30PM ET\",\"11\":\"Ten@Ind 01:00PM ET\",\"12\":\"NO@Car 08:25PM ET\",\"13\":\"GB@Was 08:30PM ET\",\"14\":\"Pit@Cle 01:00PM ET\",\"15\":\"Hou@Oak 08:30PM ET\",\"16\":\"Jax@Det 01:00PM ET\",\"17\":\"NO@Car 08:25PM ET\",\"18\":\"Bal@Dal 01:00PM ET\",\"19\":\"Ten@Ind 01:00PM ET\",\"20\":\"Ari@Min 01:00PM ET\",\"21\":\"NE@SF 04:25PM ET\",\"22\":\"NO@Car 08:25PM ET\",\"23\":\"Ari@Min 01:00PM ET\",\"24\":\"Buf@Cin 01:00PM ET\",\"25\":\"Chi@NYG 01:00PM ET\",\"26\":\"Mia@LA 04:05PM ET\",\"27\":\"Ten@Ind 01:00PM ET\",\"28\":\"GB@Was 08:30PM ET\",\"29\":\"NO@Car 08:25PM ET\",\"30\":\"Jax@Det 01:00PM ET\",\"31\":\"Mia@LA 04:05PM ET\",\"32\":\"NO@Car 08:25PM ET\",\"33\":\"Hou@Oak 08:30PM ET\",\"34\":\"Hou@Oak 08:30PM ET\",\"35\":\"NE@SF 04:25PM ET\",\"36\":\"Hou@Oak 08:30PM ET\",\"37\":\"Chi@NYG 01:00PM ET\",\"38\":\"NE@SF 04:25PM ET\",\"39\":\"Ten@Ind 01:00PM ET\",\"40\":\"Phi@Sea 04:25PM ET\",\"41\":\"Bal@Dal 01:00PM ET\",\"42\":\"Bal@Dal 01:00PM ET\",\"43\":\"TB@KC 01:00PM ET\",\"44\":\"NO@Car 08:25PM ET\",\"45\":\"Pit@Cle 01:00PM ET\",\"46\":\"TB@KC 01:00PM ET\",\"47\":\"GB@Was 08:30PM ET\",\"48\":\"GB@Was 08:30PM ET\",\"49\":\"Chi@NYG 01:00PM ET\",\"50\":\"GB@Was 08:30PM ET\",\"51\":\"Hou@Oak 08:30PM ET\",\"52\":\"Ten@Ind 01:00PM ET\",\"53\":\"Buf@Cin 01:00PM ET\",\"54\":\"Phi@Sea 04:25PM ET\",\"55\":\"Pit@Cle 01:00PM ET\",\"56\":\"Buf@Cin 01:00PM ET\",\"57\":\"TB@KC 01:00PM ET\",\"58\":\"Ari@Min 01:00PM ET\",\"59\":\"Phi@Sea 04:25PM ET\",\"60\":\"Bal@Dal 01:00PM ET\",\"61\":\"Bal@Dal 01:00PM ET\",\"62\":\"Bal@Dal 01:00PM ET\",\"63\":\"Hou@Oak 08:30PM ET\",\"64\":\"Jax@Det 01:00PM ET\",\"65\":\"Buf@Cin 01:00PM ET\",\"66\":\"TB@KC 01:00PM ET\",\"67\":\"Phi@Sea 04:25PM ET\",\"68\":\"GB@Was 08:30PM ET\",\"69\":\"NO@Car 08:25PM ET\",\"70\":\"Bal@Dal 01:00PM ET\",\"71\":\"Jax@Det 01:00PM ET\",\"72\":\"Ten@Ind 01:00PM ET\",\"73\":\"TB@KC 01:00PM ET\",\"74\":\"Hou@Oak 08:30PM ET\",\"75\":\"TB@KC 01:00PM ET\",\"76\":\"Chi@NYG 01:00PM ET\",\"77\":\"Mia@LA 04:05PM ET\",\"78\":\"NE@SF 04:25PM ET\",\"79\":\"Jax@Det 01:00PM ET\",\"80\":\"Ten@Ind 01:00PM ET\",\"81\":\"Ari@Min 01:00PM ET\",\"82\":\"Mia@LA 04:05PM ET\",\"83\":\"Phi@Sea 04:25PM ET\",\"84\":\"GB@Was 08:30PM ET\",\"85\":\"Hou@Oak 08:30PM ET\",\"86\":\"NO@Car 08:25PM ET\",\"87\":\"NO@Car 08:25PM ET\",\"88\":\"NO@Car 08:25PM ET\",\"89\":\"NO@Car 08:25PM ET\",\"90\":\"Pit@Cle 01:00PM ET\",\"91\":\"Pit@Cle 01:00PM ET\",\"92\":\"Pit@Cle 01:00PM ET\",\"93\":\"Pit@Cle 01:00PM ET\",\"94\":\"Pit@Cle 01:00PM ET\",\"95\":\"Pit@Cle 01:00PM ET\",\"96\":\"Bal@Dal 01:00PM ET\",\"97\":\"Bal@Dal 01:00PM ET\",\"98\":\"Jax@Det 01:00PM ET\",\"99\":\"Jax@Det 01:00PM ET\",\"100\":\"Jax@Det 01:00PM ET\",\"101\":\"Jax@Det 01:00PM ET\",\"102\":\"Ten@Ind 01:00PM ET\",\"103\":\"Ten@Ind 01:00PM ET\",\"104\":\"Ten@Ind 01:00PM ET\",\"105\":\"Buf@Cin 01:00PM ET\",\"106\":\"Buf@Cin 01:00PM ET\",\"107\":\"Buf@Cin 01:00PM ET\",\"108\":\"Buf@Cin 01:00PM ET\",\"109\":\"TB@KC 01:00PM ET\",\"110\":\"TB@KC 01:00PM ET\",\"111\":\"TB@KC 01:00PM ET\",\"112\":\"TB@KC 01:00PM ET\",\"113\":\"TB@KC 01:00PM ET\",\"114\":\"Chi@NYG 01:00PM ET\",\"115\":\"Chi@NYG 01:00PM ET\",\"116\":\"Chi@NYG 01:00PM ET\",\"117\":\"Ari@Min 01:00PM ET\",\"118\":\"Ari@Min 01:00PM ET\",\"119\":\"Ari@Min 01:00PM ET\",\"120\":\"Mia@LA 04:05PM ET\",\"121\":\"Mia@LA 04:05PM ET\",\"122\":\"Mia@LA 04:05PM ET\",\"123\":\"Mia@LA 04:05PM ET\",\"124\":\"Mia@LA 04:05PM ET\",\"125\":\"NE@SF 04:25PM ET\",\"126\":\"NE@SF 04:25PM ET\",\"127\":\"NE@SF 04:25PM ET\",\"128\":\"Phi@Sea 04:25PM ET\",\"129\":\"Phi@Sea 04:25PM ET\",\"130\":\"Phi@Sea 04:25PM ET\",\"131\":\"GB@Was 08:30PM ET\",\"132\":\"GB@Was 08:30PM ET\",\"133\":\"GB@Was 08:30PM ET\",\"134\":\"Hou@Oak 08:30PM ET\",\"135\":\"Hou@Oak 08:30PM ET\",\"136\":\"Hou@Oak 08:30PM ET\",\"137\":\"Hou@Oak 08:30PM ET\",\"138\":\"Buf@Cin 01:00PM ET\",\"139\":\"NE@SF 04:25PM ET\",\"140\":\"NE@SF 04:25PM ET\",\"141\":\"GB@Was 08:30PM ET\",\"142\":\"NO@Car 08:25PM ET\",\"143\":\"Pit@Cle 01:00PM ET\",\"144\":\"Bal@Dal 01:00PM ET\",\"145\":\"TB@KC 01:00PM ET\",\"146\":\"Chi@NYG 01:00PM ET\",\"147\":\"Ari@Min 01:00PM ET\",\"148\":\"NE@SF 04:25PM ET\",\"149\":\"Buf@Cin 01:00PM ET\",\"150\":\"TB@KC 01:00PM ET\",\"151\":\"Phi@Sea 04:25PM ET\",\"152\":\"Bal@Dal 01:00PM ET\",\"153\":\"Buf@Cin 01:00PM ET\",\"154\":\"GB@Was 08:30PM ET\",\"155\":\"Pit@Cle 01:00PM ET\",\"156\":\"Phi@Sea 04:25PM ET\",\"157\":\"Hou@Oak 08:30PM ET\",\"158\":\"NO@Car 08:25PM ET\",\"159\":\"Ten@Ind 01:00PM ET\",\"160\":\"Phi@Sea 04:25PM ET\",\"161\":\"Phi@Sea 04:25PM ET\",\"162\":\"GB@Was 08:30PM ET\",\"163\":\"Jax@Det 01:00PM ET\",\"164\":\"Jax@Det 01:00PM ET\",\"165\":\"Buf@Cin 01:00PM ET\",\"166\":\"Chi@NYG 01:00PM ET\",\"167\":\"Ari@Min 01:00PM ET\",\"168\":\"Mia@LA 04:05PM ET\",\"169\":\"Jax@Det 01:00PM ET\",\"170\":\"Buf@Cin 01:00PM ET\",\"171\":\"Chi@NYG 01:00PM ET\",\"172\":\"Ari@Min 01:00PM ET\",\"173\":\"Mia@LA 04:05PM ET\",\"174\":\"NE@SF 04:25PM ET\",\"175\":\"NO@Car 08:25PM ET\",\"176\":\"Pit@Cle 01:00PM ET\",\"177\":\"Pit@Cle 01:00PM ET\",\"178\":\"Bal@Dal 01:00PM ET\",\"179\":\"TB@KC 01:00PM ET\",\"180\":\"TB@KC 01:00PM ET\",\"181\":\"TB@KC 01:00PM ET\",\"182\":\"Chi@NYG 01:00PM ET\",\"183\":\"Chi@NYG 01:00PM ET\",\"184\":\"Ari@Min 01:00PM ET\",\"185\":\"Mia@LA 04:05PM ET\",\"186\":\"Mia@LA 04:05PM ET\",\"187\":\"GB@Was 08:30PM ET\",\"188\":\"Hou@Oak 08:30PM ET\",\"189\":\"Pit@Cle 01:00PM ET\",\"190\":\"Jax@Det 01:00PM ET\",\"191\":\"TB@KC 01:00PM ET\",\"192\":\"Chi@NYG 01:00PM ET\",\"193\":\"Ari@Min 01:00PM ET\",\"194\":\"Ari@Min 01:00PM ET\",\"195\":\"Phi@Sea 04:25PM ET\",\"196\":\"NO@Car 08:25PM ET\",\"197\":\"Pit@Cle 01:00PM ET\",\"198\":\"Chi@NYG 01:00PM ET\",\"199\":\"NE@SF 04:25PM ET\",\"200\":\"Phi@Sea 04:25PM ET\",\"201\":\"Bal@Dal 01:00PM ET\",\"202\":\"Jax@Det 01:00PM ET\",\"203\":\"Chi@NYG 01:00PM ET\",\"204\":\"Mia@LA 04:05PM ET\",\"205\":\"NE@SF 04:25PM ET\",\"206\":\"Phi@Sea 04:25PM ET\",\"207\":\"GB@Was 08:30PM ET\",\"208\":\"Jax@Det 01:00PM ET\",\"209\":\"Jax@Det 01:00PM ET\",\"210\":\"Jax@Det 01:00PM ET\",\"211\":\"Buf@Cin 01:00PM ET\",\"212\":\"TB@KC 01:00PM ET\",\"213\":\"Chi@NYG 01:00PM ET\",\"214\":\"Ari@Min 01:00PM ET\",\"215\":\"Ari@Min 01:00PM ET\",\"216\":\"Ari@Min 01:00PM ET\",\"217\":\"NE@SF 04:25PM ET\",\"218\":\"NE@SF 04:25PM ET\",\"219\":\"GB@Was 08:30PM ET\",\"220\":\"Hou@Oak 08:30PM ET\",\"221\":\"NO@Car 08:25PM ET\",\"222\":\"Pit@Cle 01:00PM ET\",\"223\":\"Bal@Dal 01:00PM ET\",\"224\":\"Ten@Ind 01:00PM ET\",\"225\":\"TB@KC 01:00PM ET\",\"226\":\"TB@KC 01:00PM ET\",\"227\":\"Chi@NYG 01:00PM ET\",\"228\":\"Mia@LA 04:05PM ET\",\"229\":\"NE@SF 04:25PM ET\",\"230\":\"Bal@Dal 01:00PM ET\",\"231\":\"Bal@Dal 01:00PM ET\",\"232\":\"Bal@Dal 01:00PM ET\",\"233\":\"Ten@Ind 01:00PM ET\",\"234\":\"Ten@Ind 01:00PM ET\",\"235\":\"Buf@Cin 01:00PM ET\",\"236\":\"TB@KC 01:00PM ET\",\"237\":\"Chi@NYG 01:00PM ET\",\"238\":\"Ari@Min 01:00PM ET\",\"239\":\"Ari@Min 01:00PM ET\",\"240\":\"NE@SF 04:25PM ET\",\"241\":\"Hou@Oak 08:30PM ET\",\"242\":\"Hou@Oak 08:30PM ET\",\"243\":\"NO@Car 08:25PM ET\",\"244\":\"Bal@Dal 01:00PM ET\",\"245\":\"Jax@Det 01:00PM ET\",\"246\":\"Ten@Ind 01:00PM ET\",\"247\":\"NE@SF 04:25PM ET\",\"248\":\"Phi@Sea 04:25PM ET\",\"249\":\"Pit@Cle 01:00PM ET\",\"250\":\"Pit@Cle 01:00PM ET\",\"251\":\"TB@KC 01:00PM ET\",\"252\":\"Ari@Min 01:00PM ET\",\"253\":\"Mia@LA 04:05PM ET\",\"254\":\"NE@SF 04:25PM ET\",\"255\":\"NO@Car 08:25PM ET\",\"256\":\"NO@Car 08:25PM ET\",\"257\":\"NO@Car 08:25PM ET\",\"258\":\"NO@Car 08:25PM ET\",\"259\":\"NO@Car 08:25PM ET\",\"260\":\"NO@Car 08:25PM ET\",\"261\":\"NO@Car 08:25PM ET\",\"262\":\"NO@Car 08:25PM ET\",\"263\":\"NO@Car 08:25PM ET\",\"264\":\"NO@Car 08:25PM ET\",\"265\":\"Pit@Cle 01:00PM ET\",\"266\":\"Pit@Cle 01:00PM ET\",\"267\":\"Pit@Cle 01:00PM ET\",\"268\":\"Pit@Cle 01:00PM ET\",\"269\":\"Pit@Cle 01:00PM ET\",\"270\":\"Pit@Cle 01:00PM ET\",\"271\":\"Pit@Cle 01:00PM ET\",\"272\":\"Pit@Cle 01:00PM ET\",\"273\":\"Pit@Cle 01:00PM ET\",\"274\":\"Bal@Dal 01:00PM ET\",\"275\":\"Bal@Dal 01:00PM ET\",\"276\":\"Bal@Dal 01:00PM ET\",\"277\":\"Bal@Dal 01:00PM ET\",\"278\":\"Bal@Dal 01:00PM ET\",\"279\":\"Bal@Dal 01:00PM ET\",\"280\":\"Bal@Dal 01:00PM ET\",\"281\":\"Bal@Dal 01:00PM ET\",\"282\":\"Bal@Dal 01:00PM ET\",\"283\":\"Jax@Det 01:00PM ET\",\"284\":\"Jax@Det 01:00PM ET\",\"285\":\"Jax@Det 01:00PM ET\",\"286\":\"Jax@Det 01:00PM ET\",\"287\":\"Jax@Det 01:00PM ET\",\"288\":\"Jax@Det 01:00PM ET\",\"289\":\"Jax@Det 01:00PM ET\",\"290\":\"Jax@Det 01:00PM ET\",\"291\":\"Jax@Det 01:00PM ET\",\"292\":\"Jax@Det 01:00PM ET\",\"293\":\"Ten@Ind 01:00PM ET\",\"294\":\"Ten@Ind 01:00PM ET\",\"295\":\"Ten@Ind 01:00PM ET\",\"296\":\"Ten@Ind 01:00PM ET\",\"297\":\"Ten@Ind 01:00PM ET\",\"298\":\"Ten@Ind 01:00PM ET\",\"299\":\"Ten@Ind 01:00PM ET\",\"300\":\"Ten@Ind 01:00PM ET\",\"301\":\"Ten@Ind 01:00PM ET\",\"302\":\"Ten@Ind 01:00PM ET\",\"303\":\"Ten@Ind 01:00PM ET\",\"304\":\"Buf@Cin 01:00PM ET\",\"305\":\"Buf@Cin 01:00PM ET\",\"306\":\"Buf@Cin 01:00PM ET\",\"307\":\"Buf@Cin 01:00PM ET\",\"308\":\"Buf@Cin 01:00PM ET\",\"309\":\"Buf@Cin 01:00PM ET\",\"310\":\"Buf@Cin 01:00PM ET\",\"311\":\"Buf@Cin 01:00PM ET\",\"312\":\"Buf@Cin 01:00PM ET\",\"313\":\"Buf@Cin 01:00PM ET\",\"314\":\"Buf@Cin 01:00PM ET\",\"315\":\"Buf@Cin 01:00PM ET\",\"316\":\"TB@KC 01:00PM ET\",\"317\":\"TB@KC 01:00PM ET\",\"318\":\"TB@KC 01:00PM ET\",\"319\":\"TB@KC 01:00PM ET\",\"320\":\"TB@KC 01:00PM ET\",\"321\":\"TB@KC 01:00PM ET\",\"322\":\"Chi@NYG 01:00PM ET\",\"323\":\"Chi@NYG 01:00PM ET\",\"324\":\"Chi@NYG 01:00PM ET\",\"325\":\"Chi@NYG 01:00PM ET\",\"326\":\"Chi@NYG 01:00PM ET\",\"327\":\"Chi@NYG 01:00PM ET\",\"328\":\"Chi@NYG 01:00PM ET\",\"329\":\"Ari@Min 01:00PM ET\",\"330\":\"Ari@Min 01:00PM ET\",\"331\":\"Ari@Min 01:00PM ET\",\"332\":\"Ari@Min 01:00PM ET\",\"333\":\"Ari@Min 01:00PM ET\",\"334\":\"Ari@Min 01:00PM ET\",\"335\":\"Ari@Min 01:00PM ET\",\"336\":\"Ari@Min 01:00PM ET\",\"337\":\"Mia@LA 04:05PM ET\",\"338\":\"Mia@LA 04:05PM ET\",\"339\":\"Mia@LA 04:05PM ET\",\"340\":\"Mia@LA 04:05PM ET\",\"341\":\"Mia@LA 04:05PM ET\",\"342\":\"Mia@LA 04:05PM ET\",\"343\":\"Mia@LA 04:05PM ET\",\"344\":\"Mia@LA 04:05PM ET\",\"345\":\"Mia@LA 04:05PM ET\",\"346\":\"Mia@LA 04:05PM ET\",\"347\":\"NE@SF 04:25PM ET\",\"348\":\"NE@SF 04:25PM ET\",\"349\":\"NE@SF 04:25PM ET\",\"350\":\"NE@SF 04:25PM ET\",\"351\":\"NE@SF 04:25PM ET\",\"352\":\"NE@SF 04:25PM ET\",\"353\":\"NE@SF 04:25PM ET\",\"354\":\"NE@SF 04:25PM ET\",\"355\":\"NE@SF 04:25PM ET\",\"356\":\"Phi@Sea 04:25PM ET\",\"357\":\"Phi@Sea 04:25PM ET\",\"358\":\"Phi@Sea 04:25PM ET\",\"359\":\"Phi@Sea 04:25PM ET\",\"360\":\"Phi@Sea 04:25PM ET\",\"361\":\"Phi@Sea 04:25PM ET\",\"362\":\"Phi@Sea 04:25PM ET\",\"363\":\"Phi@Sea 04:25PM ET\",\"364\":\"Phi@Sea 04:25PM ET\",\"365\":\"GB@Was 08:30PM ET\",\"366\":\"GB@Was 08:30PM ET\",\"367\":\"GB@Was 08:30PM ET\",\"368\":\"GB@Was 08:30PM ET\",\"369\":\"GB@Was 08:30PM ET\",\"370\":\"GB@Was 08:30PM ET\",\"371\":\"GB@Was 08:30PM ET\",\"372\":\"GB@Was 08:30PM ET\",\"373\":\"GB@Was 08:30PM ET\",\"374\":\"GB@Was 08:30PM ET\",\"375\":\"Hou@Oak 08:30PM ET\",\"376\":\"Hou@Oak 08:30PM ET\",\"377\":\"Hou@Oak 08:30PM ET\",\"378\":\"Hou@Oak 08:30PM ET\",\"379\":\"Hou@Oak 08:30PM ET\",\"380\":\"Hou@Oak 08:30PM ET\",\"381\":\"Hou@Oak 08:30PM ET\",\"382\":\"Hou@Oak 08:30PM ET\",\"383\":\"Hou@Oak 08:30PM ET\",\"384\":\"Hou@Oak 08:30PM ET\",\"385\":\"Hou@Oak 08:30PM ET\",\"386\":\"Ten@Ind 01:00PM ET\",\"387\":\"Mia@LA 04:05PM ET\",\"388\":\"GB@Was 08:30PM ET\",\"389\":\"GB@Was 08:30PM ET\",\"390\":\"Hou@Oak 08:30PM ET\",\"391\":\"NO@Car 08:25PM ET\",\"392\":\"NO@Car 08:25PM ET\",\"393\":\"Ten@Ind 01:00PM ET\",\"394\":\"Buf@Cin 01:00PM ET\",\"395\":\"Chi@NYG 01:00PM ET\",\"396\":\"NE@SF 04:25PM ET\",\"397\":\"GB@Was 08:30PM ET\",\"398\":\"Bal@Dal 01:00PM ET\",\"399\":\"Buf@Cin 01:00PM ET\",\"400\":\"TB@KC 01:00PM ET\",\"401\":\"NE@SF 04:25PM ET\",\"402\":\"GB@Was 08:30PM ET\",\"403\":\"Hou@Oak 08:30PM ET\",\"404\":\"NO@Car 08:25PM ET\",\"405\":\"NO@Car 08:25PM ET\",\"406\":\"NO@Car 08:25PM ET\",\"407\":\"Pit@Cle 01:00PM ET\",\"408\":\"Pit@Cle 01:00PM ET\",\"409\":\"Pit@Cle 01:00PM ET\",\"410\":\"Pit@Cle 01:00PM ET\",\"411\":\"Pit@Cle 01:00PM ET\",\"412\":\"Pit@Cle 01:00PM ET\",\"413\":\"Bal@Dal 01:00PM ET\",\"414\":\"Bal@Dal 01:00PM ET\",\"415\":\"Bal@Dal 01:00PM ET\",\"416\":\"Bal@Dal 01:00PM ET\",\"417\":\"Bal@Dal 01:00PM ET\",\"418\":\"Jax@Det 01:00PM ET\",\"419\":\"Jax@Det 01:00PM ET\",\"420\":\"Jax@Det 01:00PM ET\",\"421\":\"Jax@Det 01:00PM ET\",\"422\":\"Jax@Det 01:00PM ET\",\"423\":\"Ten@Ind 01:00PM ET\",\"424\":\"Ten@Ind 01:00PM ET\",\"425\":\"Ten@Ind 01:00PM ET\",\"426\":\"Ten@Ind 01:00PM ET\",\"427\":\"Ten@Ind 01:00PM ET\",\"428\":\"Buf@Cin 01:00PM ET\",\"429\":\"Buf@Cin 01:00PM ET\",\"430\":\"Buf@Cin 01:00PM ET\",\"431\":\"Buf@Cin 01:00PM ET\",\"432\":\"Buf@Cin 01:00PM ET\",\"433\":\"Buf@Cin 01:00PM ET\",\"434\":\"TB@KC 01:00PM ET\",\"435\":\"TB@KC 01:00PM ET\",\"436\":\"TB@KC 01:00PM ET\",\"437\":\"TB@KC 01:00PM ET\",\"438\":\"TB@KC 01:00PM ET\",\"439\":\"TB@KC 01:00PM ET\",\"440\":\"TB@KC 01:00PM ET\",\"441\":\"TB@KC 01:00PM ET\",\"442\":\"Chi@NYG 01:00PM ET\",\"443\":\"Chi@NYG 01:00PM ET\",\"444\":\"Chi@NYG 01:00PM ET\",\"445\":\"Chi@NYG 01:00PM ET\",\"446\":\"Chi@NYG 01:00PM ET\",\"447\":\"Chi@NYG 01:00PM ET\",\"448\":\"Chi@NYG 01:00PM ET\",\"449\":\"Ari@Min 01:00PM ET\",\"450\":\"Ari@Min 01:00PM ET\",\"451\":\"Ari@Min 01:00PM ET\",\"452\":\"Ari@Min 01:00PM ET\",\"453\":\"Ari@Min 01:00PM ET\",\"454\":\"Ari@Min 01:00PM ET\",\"455\":\"Mia@LA 04:05PM ET\",\"456\":\"Mia@LA 04:05PM ET\",\"457\":\"Mia@LA 04:05PM ET\",\"458\":\"Mia@LA 04:05PM ET\",\"459\":\"Mia@LA 04:05PM ET\",\"460\":\"Mia@LA 04:05PM ET\",\"461\":\"Mia@LA 04:05PM ET\",\"462\":\"NE@SF 04:25PM ET\",\"463\":\"NE@SF 04:25PM ET\",\"464\":\"NE@SF 04:25PM ET\",\"465\":\"NE@SF 04:25PM ET\",\"466\":\"Phi@Sea 04:25PM ET\",\"467\":\"Phi@Sea 04:25PM ET\",\"468\":\"Phi@Sea 04:25PM ET\",\"469\":\"Phi@Sea 04:25PM ET\",\"470\":\"Phi@Sea 04:25PM ET\",\"471\":\"Phi@Sea 04:25PM ET\",\"472\":\"GB@Was 08:30PM ET\",\"473\":\"GB@Was 08:30PM ET\",\"474\":\"GB@Was 08:30PM ET\",\"475\":\"Hou@Oak 08:30PM ET\",\"476\":\"Hou@Oak 08:30PM ET\",\"477\":\"Hou@Oak 08:30PM ET\",\"478\":\"Hou@Oak 08:30PM ET\",\"479\":\"Hou@Oak 08:30PM ET\",\"480\":\"Jax@Det 01:00PM ET\",\"481\":\"Ten@Ind 01:00PM ET\",\"482\":\"Pit@Cle 01:00PM ET\",\"483\":\"NO@Car 08:25PM ET\",\"484\":\"NE@SF 04:25PM ET\"},\"AvgPointsPerGame\":{\"0\":23.0,\"1\":23.55,\"2\":19.144,\"3\":22.044,\"4\":23.43,\"5\":21.789,\"6\":24.167,\"7\":21.483,\"8\":25.478,\"9\":25.9,\"10\":18.5,\"11\":18.233,\"12\":25.942,\"13\":24.778,\"14\":23.685,\"15\":18.922,\"16\":15.322,\"17\":14.633,\"18\":14.8,\"19\":22.556,\"20\":18.9,\"21\":15.143,\"22\":17.478,\"23\":19.25,\"24\":19.563,\"25\":12.444,\"26\":16.925,\"27\":20.978,\"28\":17.011,\"29\":15.922,\"30\":20.169,\"31\":15.067,\"32\":16.356,\"33\":16.956,\"34\":12.689,\"35\":17.433,\"36\":20.511,\"37\":17.304,\"38\":11.289,\"39\":12.2,\"40\":17.064,\"41\":20.451,\"42\":13.529,\"43\":16.325,\"44\":10.433,\"45\":9.838,\"46\":20.062,\"47\":14.075,\"48\":15.371,\"49\":15.65,\"50\":19.882,\"51\":14.489,\"52\":14.711,\"53\":19.002,\"54\":16.167,\"55\":15.544,\"56\":18.996,\"57\":9.938,\"58\":18.145,\"59\":14.144,\"60\":16.362,\"61\":0.0,\"62\":16.022,\"63\":16.943,\"64\":20.76,\"65\":14.233,\"66\":9.5,\"67\":14.111,\"68\":15.478,\"69\":14.633,\"70\":13.989,\"71\":13.078,\"72\":5.09,\"73\":14.38,\"74\":12.314,\"75\":11.017,\"76\":10.095,\"77\":15.144,\"78\":17.064,\"79\":17.429,\"80\":12.03,\"81\":15.648,\"82\":15.42,\"83\":13.389,\"84\":7.263,\"85\":12.636,\"86\":7.84,\"87\":0.0,\"88\":0.186,\"89\":15.15,\"90\":13.8,\"91\":2.788,\"92\":0.0,\"93\":11.177,\"94\":7.22,\"95\":0.0,\"96\":0.06,\"97\":0.03,\"98\":0.0,\"99\":0.0,\"100\":0.0,\"101\":14.822,\"102\":0.167,\"103\":0.0,\"104\":15.689,\"105\":1.275,\"106\":0.0,\"107\":0.0,\"108\":0.0,\"109\":14.0,\"110\":4.5,\"111\":0.0,\"112\":0.0,\"113\":5.725,\"114\":0.0,\"115\":0.0,\"116\":1.14,\"117\":5.12,\"118\":3.265,\"119\":0.0,\"120\":0.0,\"121\":13.873,\"122\":0.0,\"123\":0.0,\"124\":12.744,\"125\":0.0,\"126\":15.64,\"127\":9.235,\"128\":0.0,\"129\":2.7,\"130\":14.049,\"131\":0.0,\"132\":0.32,\"133\":0.0,\"134\":0.0,\"135\":0.0,\"136\":0.0,\"137\":0.0,\"138\":11.725,\"139\":14.843,\"140\":10.133,\"141\":8.956,\"142\":5.578,\"143\":12.775,\"144\":3.922,\"145\":12.4,\"146\":12.067,\"147\":6.875,\"148\":8.033,\"149\":12.8,\"150\":10.444,\"151\":11.356,\"152\":10.189,\"153\":12.022,\"154\":5.325,\"155\":11.0,\"156\":6.3,\"157\":2.544,\"158\":9.5,\"159\":10.843,\"160\":12.333,\"161\":8.98,\"162\":5.72,\"163\":10.067,\"164\":12.683,\"165\":7.489,\"166\":11.957,\"167\":9.75,\"168\":10.325,\"169\":10.1,\"170\":10.167,\"171\":7.8,\"172\":8.978,\"173\":3.963,\"174\":11.1,\"175\":7.056,\"176\":13.55,\"177\":8.667,\"178\":4.18,\"179\":3.55,\"180\":5.029,\"181\":9.533,\"182\":2.743,\"183\":4.457,\"184\":11.8,\"185\":8.375,\"186\":10.2,\"187\":10.633,\"188\":5.489,\"189\":10.25,\"190\":10.4,\"191\":11.389,\"192\":11.611,\"193\":8.333,\"194\":10.378,\"195\":8.667,\"196\":6.378,\"197\":4.0,\"198\":8.463,\"199\":13.556,\"200\":3.767,\"201\":9.611,\"202\":6.686,\"203\":9.333,\"204\":9.278,\"205\":6.222,\"206\":5.678,\"207\":9.6,\"208\":10.178,\"209\":3.74,\"210\":9.738,\"211\":8.388,\"212\":1.1,\"213\":6.556,\"214\":1.544,\"215\":5.963,\"216\":7.678,\"217\":6.033,\"218\":11.378,\"219\":10.413,\"220\":6.3,\"221\":9.967,\"222\":7.678,\"223\":6.022,\"224\":5.075,\"225\":4.511,\"226\":10.778,\"227\":12.457,\"228\":9.567,\"229\":5.922,\"230\":3.678,\"231\":7.333,\"232\":11.922,\"233\":7.213,\"234\":10.878,\"235\":0.0,\"236\":6.622,\"237\":3.717,\"238\":3.1,\"239\":11.0,\"240\":0.0,\"241\":7.133,\"242\":8.611,\"243\":6.978,\"244\":3.944,\"245\":5.0,\"246\":7.46,\"247\":3.678,\"248\":8.457,\"249\":6.57,\"250\":8.24,\"251\":3.6,\"252\":9.444,\"253\":7.778,\"254\":1.938,\"255\":1.189,\"256\":4.2,\"257\":4.533,\"258\":0.0,\"259\":1.05,\"260\":0.0,\"261\":5.044,\"262\":4.933,\"263\":2.5,\"264\":0.0,\"265\":0.322,\"266\":0.0,\"267\":0.0,\"268\":3.978,\"269\":4.275,\"270\":5.775,\"271\":0.325,\"272\":3.43,\"273\":0.83,\"274\":2.917,\"275\":4.056,\"276\":0.611,\"277\":1.317,\"278\":0.0,\"279\":1.333,\"280\":-0.125,\"281\":1.413,\"282\":1.389,\"283\":6.34,\"284\":0.344,\"285\":0.0,\"286\":2.125,\"287\":4.271,\"288\":2.1,\"289\":2.844,\"290\":2.511,\"291\":0.0,\"292\":1.2,\"293\":0.667,\"294\":0.24,\"295\":0.0,\"296\":0.15,\"297\":3.822,\"298\":2.98,\"299\":0.0,\"300\":1.0,\"301\":0.0,\"302\":0.0,\"303\":3.8,\"304\":2.814,\"305\":0.888,\"306\":0.656,\"307\":1.7,\"308\":1.325,\"309\":0.886,\"310\":5.183,\"311\":3.388,\"312\":0.333,\"313\":0.0,\"314\":6.2,\"315\":5.222,\"316\":0.433,\"317\":0.0,\"318\":1.833,\"319\":2.2,\"320\":1.36,\"321\":0.0,\"322\":4.513,\"323\":3.288,\"324\":0.32,\"325\":-0.111,\"326\":0.156,\"327\":0.267,\"328\":1.078,\"329\":0.144,\"330\":0.15,\"331\":0.0,\"332\":1.9,\"333\":3.033,\"334\":0.98,\"335\":0.0,\"336\":0.417,\"337\":0.0,\"338\":0.678,\"339\":3.4,\"340\":0.556,\"341\":0.522,\"342\":0.0,\"343\":0.378,\"344\":0.967,\"345\":0.0,\"346\":8.011,\"347\":0.0,\"348\":0.557,\"349\":1.2,\"350\":0.056,\"351\":1.1,\"352\":7.278,\"353\":2.063,\"354\":0.0,\"355\":0.333,\"356\":0.0,\"357\":2.656,\"358\":1.957,\"359\":6.3,\"360\":3.256,\"361\":2.517,\"362\":4.822,\"363\":4.45,\"364\":6.656,\"365\":0.0,\"366\":1.278,\"367\":0.0,\"368\":1.067,\"369\":0.633,\"370\":0.36,\"371\":1.933,\"372\":1.3,\"373\":2.533,\"374\":4.267,\"375\":0.483,\"376\":2.525,\"377\":0.2,\"378\":3.544,\"379\":0.456,\"380\":0.0,\"381\":3.222,\"382\":2.143,\"383\":8.522,\"384\":3.388,\"385\":0.633,\"386\":7.671,\"387\":8.0,\"388\":8.467,\"389\":4.889,\"390\":4.778,\"391\":3.533,\"392\":7.667,\"393\":4.667,\"394\":9.0,\"395\":5.611,\"396\":8.657,\"397\":4.722,\"398\":5.222,\"399\":6.367,\"400\":7.111,\"401\":4.167,\"402\":6.556,\"403\":6.222,\"404\":2.844,\"405\":1.667,\"406\":0.0,\"407\":1.144,\"408\":6.0,\"409\":2.867,\"410\":0.088,\"411\":1.833,\"412\":0.0,\"413\":0.8,\"414\":3.014,\"415\":2.62,\"416\":1.433,\"417\":9.889,\"418\":4.367,\"419\":0.613,\"420\":0.0,\"421\":0.4,\"422\":2.229,\"423\":2.34,\"424\":0.0,\"425\":2.222,\"426\":2.967,\"427\":1.02,\"428\":0.0,\"429\":0.0,\"430\":0.0,\"431\":2.133,\"432\":4.538,\"433\":2.044,\"434\":1.656,\"435\":0.0,\"436\":0.817,\"437\":0.0,\"438\":0.111,\"439\":0.9,\"440\":2.0,\"441\":0.214,\"442\":0.5,\"443\":0.0,\"444\":3.65,\"445\":0.0,\"446\":0.3,\"447\":3.2,\"448\":6.222,\"449\":2.157,\"450\":3.267,\"451\":1.788,\"452\":0.0,\"453\":0.0,\"454\":0.0,\"455\":0.0,\"456\":1.989,\"457\":2.486,\"458\":0.744,\"459\":0.0,\"460\":3.48,\"461\":0.0,\"462\":0.0,\"463\":0.0,\"464\":0.375,\"465\":0.0,\"466\":1.644,\"467\":2.2,\"468\":0.289,\"469\":4.138,\"470\":0.34,\"471\":10.444,\"472\":3.767,\"473\":0.833,\"474\":0.0,\"475\":3.367,\"476\":6.122,\"477\":5.863,\"478\":3.4,\"479\":0.0,\"480\":2.333,\"481\":5.6,\"482\":3.1,\"483\":4.0,\"484\":4.444},\"teamAbbrev\":{\"0\":\"Pit\",\"1\":\"Pit\",\"2\":\"NYG\",\"3\":\"Cin\",\"4\":\"Ten\",\"5\":\"TB\",\"6\":\"Dal\",\"7\":\"Car\",\"8\":\"Ari\",\"9\":\"NE\",\"10\":\"GB\",\"11\":\"Ind\",\"12\":\"NO\",\"13\":\"GB\",\"14\":\"Pit\",\"15\":\"Oak\",\"16\":\"Jax\",\"17\":\"Car\",\"18\":\"Dal\",\"19\":\"Ind\",\"20\":\"Ari\",\"21\":\"NE\",\"22\":\"NO\",\"23\":\"Min\",\"24\":\"Buf\",\"25\":\"Chi\",\"26\":\"Mia\",\"27\":\"Ten\",\"28\":\"GB\",\"29\":\"NO\",\"30\":\"Det\",\"31\":\"Mia\",\"32\":\"Car\",\"33\":\"Oak\",\"34\":\"Hou\",\"35\":\"NE\",\"36\":\"Oak\",\"37\":\"NYG\",\"38\":\"NE\",\"39\":\"Ind\",\"40\":\"Sea\",\"41\":\"Dal\",\"42\":\"Bal\",\"43\":\"KC\",\"44\":\"Car\",\"45\":\"Pit\",\"46\":\"TB\",\"47\":\"GB\",\"48\":\"Was\",\"49\":\"Chi\",\"50\":\"Was\",\"51\":\"Hou\",\"52\":\"Ten\",\"53\":\"Cin\",\"54\":\"Sea\",\"55\":\"Cle\",\"56\":\"Buf\",\"57\":\"KC\",\"58\":\"Ari\",\"59\":\"Sea\",\"60\":\"Bal\",\"61\":\"Dal\",\"62\":\"Bal\",\"63\":\"Oak\",\"64\":\"Jax\",\"65\":\"Cin\",\"66\":\"TB\",\"67\":\"Phi\",\"68\":\"Was\",\"69\":\"NO\",\"70\":\"Dal\",\"71\":\"Det\",\"72\":\"Ten\",\"73\":\"KC\",\"74\":\"Hou\",\"75\":\"TB\",\"76\":\"Chi\",\"77\":\"LA\",\"78\":\"SF\",\"79\":\"Det\",\"80\":\"Ten\",\"81\":\"Min\",\"82\":\"Mia\",\"83\":\"Sea\",\"84\":\"GB\",\"85\":\"Hou\",\"86\":\"Car\",\"87\":\"NO\",\"88\":\"Car\",\"89\":\"NO\",\"90\":\"Cle\",\"91\":\"Pit\",\"92\":\"Pit\",\"93\":\"Cle\",\"94\":\"Cle\",\"95\":\"Cle\",\"96\":\"Dal\",\"97\":\"Bal\",\"98\":\"Det\",\"99\":\"Jax\",\"100\":\"Jax\",\"101\":\"Det\",\"102\":\"Ten\",\"103\":\"Ind\",\"104\":\"Ind\",\"105\":\"Buf\",\"106\":\"Cin\",\"107\":\"Cin\",\"108\":\"Buf\",\"109\":\"KC\",\"110\":\"TB\",\"111\":\"TB\",\"112\":\"KC\",\"113\":\"KC\",\"114\":\"NYG\",\"115\":\"NYG\",\"116\":\"Chi\",\"117\":\"Min\",\"118\":\"Ari\",\"119\":\"Min\",\"120\":\"Mia\",\"121\":\"LA\",\"122\":\"LA\",\"123\":\"LA\",\"124\":\"LA\",\"125\":\"SF\",\"126\":\"SF\",\"127\":\"NE\",\"128\":\"Phi\",\"129\":\"Sea\",\"130\":\"Phi\",\"131\":\"Was\",\"132\":\"GB\",\"133\":\"Was\",\"134\":\"Hou\",\"135\":\"Oak\",\"136\":\"Hou\",\"137\":\"Oak\",\"138\":\"Buf\",\"139\":\"SF\",\"140\":\"NE\",\"141\":\"Was\",\"142\":\"NO\",\"143\":\"Cle\",\"144\":\"Dal\",\"145\":\"KC\",\"146\":\"NYG\",\"147\":\"Ari\",\"148\":\"NE\",\"149\":\"Cin\",\"150\":\"KC\",\"151\":\"Phi\",\"152\":\"Bal\",\"153\":\"Cin\",\"154\":\"Was\",\"155\":\"Pit\",\"156\":\"Sea\",\"157\":\"Hou\",\"158\":\"Car\",\"159\":\"Ten\",\"160\":\"Phi\",\"161\":\"Sea\",\"162\":\"GB\",\"163\":\"Jax\",\"164\":\"Det\",\"165\":\"Buf\",\"166\":\"Chi\",\"167\":\"Ari\",\"168\":\"Mia\",\"169\":\"Jax\",\"170\":\"Cin\",\"171\":\"Chi\",\"172\":\"Ari\",\"173\":\"LA\",\"174\":\"SF\",\"175\":\"Car\",\"176\":\"Cle\",\"177\":\"Pit\",\"178\":\"Bal\",\"179\":\"TB\",\"180\":\"TB\",\"181\":\"TB\",\"182\":\"Chi\",\"183\":\"NYG\",\"184\":\"Min\",\"185\":\"Mia\",\"186\":\"LA\",\"187\":\"Was\",\"188\":\"Oak\",\"189\":\"Cle\",\"190\":\"Det\",\"191\":\"TB\",\"192\":\"Chi\",\"193\":\"Min\",\"194\":\"Min\",\"195\":\"Sea\",\"196\":\"Car\",\"197\":\"Pit\",\"198\":\"NYG\",\"199\":\"NE\",\"200\":\"Phi\",\"201\":\"Bal\",\"202\":\"Jax\",\"203\":\"NYG\",\"204\":\"Mia\",\"205\":\"NE\",\"206\":\"Sea\",\"207\":\"Was\",\"208\":\"Jax\",\"209\":\"Det\",\"210\":\"Jax\",\"211\":\"Buf\",\"212\":\"KC\",\"213\":\"NYG\",\"214\":\"Ari\",\"215\":\"Min\",\"216\":\"Min\",\"217\":\"NE\",\"218\":\"SF\",\"219\":\"Was\",\"220\":\"Hou\",\"221\":\"NO\",\"222\":\"Pit\",\"223\":\"Bal\",\"224\":\"Ind\",\"225\":\"KC\",\"226\":\"KC\",\"227\":\"Chi\",\"228\":\"LA\",\"229\":\"SF\",\"230\":\"Bal\",\"231\":\"Dal\",\"232\":\"Dal\",\"233\":\"Ind\",\"234\":\"Ind\",\"235\":\"Buf\",\"236\":\"KC\",\"237\":\"NYG\",\"238\":\"Min\",\"239\":\"Min\",\"240\":\"NE\",\"241\":\"Oak\",\"242\":\"Hou\",\"243\":\"Car\",\"244\":\"Dal\",\"245\":\"Det\",\"246\":\"Ten\",\"247\":\"SF\",\"248\":\"Phi\",\"249\":\"Cle\",\"250\":\"Cle\",\"251\":\"TB\",\"252\":\"Ari\",\"253\":\"LA\",\"254\":\"SF\",\"255\":\"Car\",\"256\":\"NO\",\"257\":\"NO\",\"258\":\"NO\",\"259\":\"NO\",\"260\":\"Car\",\"261\":\"NO\",\"262\":\"Car\",\"263\":\"NO\",\"264\":\"NO\",\"265\":\"Pit\",\"266\":\"Pit\",\"267\":\"Cle\",\"268\":\"Pit\",\"269\":\"Pit\",\"270\":\"Pit\",\"271\":\"Cle\",\"272\":\"Cle\",\"273\":\"Cle\",\"274\":\"Dal\",\"275\":\"Bal\",\"276\":\"Dal\",\"277\":\"Bal\",\"278\":\"Dal\",\"279\":\"Bal\",\"280\":\"Bal\",\"281\":\"Bal\",\"282\":\"Dal\",\"283\":\"Det\",\"284\":\"Jax\",\"285\":\"Det\",\"286\":\"Jax\",\"287\":\"Det\",\"288\":\"Jax\",\"289\":\"Det\",\"290\":\"Jax\",\"291\":\"Det\",\"292\":\"Jax\",\"293\":\"Ind\",\"294\":\"Ten\",\"295\":\"Ten\",\"296\":\"Ten\",\"297\":\"Ind\",\"298\":\"Ten\",\"299\":\"Ten\",\"300\":\"Ind\",\"301\":\"Ten\",\"302\":\"Ind\",\"303\":\"Ind\",\"304\":\"Buf\",\"305\":\"Buf\",\"306\":\"Cin\",\"307\":\"Buf\",\"308\":\"Buf\",\"309\":\"Cin\",\"310\":\"Buf\",\"311\":\"Buf\",\"312\":\"Cin\",\"313\":\"Cin\",\"314\":\"Cin\",\"315\":\"Cin\",\"316\":\"KC\",\"317\":\"KC\",\"318\":\"TB\",\"319\":\"TB\",\"320\":\"KC\",\"321\":\"KC\",\"322\":\"NYG\",\"323\":\"NYG\",\"324\":\"Chi\",\"325\":\"NYG\",\"326\":\"Chi\",\"327\":\"NYG\",\"328\":\"Chi\",\"329\":\"Min\",\"330\":\"Ari\",\"331\":\"Ari\",\"332\":\"Min\",\"333\":\"Min\",\"334\":\"Ari\",\"335\":\"Ari\",\"336\":\"Min\",\"337\":\"LA\",\"338\":\"LA\",\"339\":\"Mia\",\"340\":\"Mia\",\"341\":\"LA\",\"342\":\"LA\",\"343\":\"Mia\",\"344\":\"LA\",\"345\":\"LA\",\"346\":\"LA\",\"347\":\"NE\",\"348\":\"NE\",\"349\":\"NE\",\"350\":\"NE\",\"351\":\"SF\",\"352\":\"SF\",\"353\":\"NE\",\"354\":\"SF\",\"355\":\"SF\",\"356\":\"Sea\",\"357\":\"Phi\",\"358\":\"Sea\",\"359\":\"Sea\",\"360\":\"Sea\",\"361\":\"Sea\",\"362\":\"Phi\",\"363\":\"Phi\",\"364\":\"Phi\",\"365\":\"Was\",\"366\":\"GB\",\"367\":\"GB\",\"368\":\"GB\",\"369\":\"Was\",\"370\":\"Was\",\"371\":\"Was\",\"372\":\"GB\",\"373\":\"GB\",\"374\":\"GB\",\"375\":\"Oak\",\"376\":\"Hou\",\"377\":\"Hou\",\"378\":\"Oak\",\"379\":\"Hou\",\"380\":\"Hou\",\"381\":\"Oak\",\"382\":\"Hou\",\"383\":\"Oak\",\"384\":\"Hou\",\"385\":\"Oak\",\"386\":\"Ind\",\"387\":\"Mia\",\"388\":\"Was\",\"389\":\"GB\",\"390\":\"Oak\",\"391\":\"NO\",\"392\":\"Car\",\"393\":\"Ind\",\"394\":\"Buf\",\"395\":\"NYG\",\"396\":\"SF\",\"397\":\"GB\",\"398\":\"Dal\",\"399\":\"Buf\",\"400\":\"TB\",\"401\":\"SF\",\"402\":\"Was\",\"403\":\"Hou\",\"404\":\"Car\",\"405\":\"NO\",\"406\":\"Car\",\"407\":\"Pit\",\"408\":\"Pit\",\"409\":\"Pit\",\"410\":\"Cle\",\"411\":\"Cle\",\"412\":\"Cle\",\"413\":\"Dal\",\"414\":\"Bal\",\"415\":\"Bal\",\"416\":\"Dal\",\"417\":\"Bal\",\"418\":\"Jax\",\"419\":\"Det\",\"420\":\"Det\",\"421\":\"Jax\",\"422\":\"Jax\",\"423\":\"Ten\",\"424\":\"Ten\",\"425\":\"Ind\",\"426\":\"Ten\",\"427\":\"Ten\",\"428\":\"Cin\",\"429\":\"Cin\",\"430\":\"Buf\",\"431\":\"Cin\",\"432\":\"Cin\",\"433\":\"Buf\",\"434\":\"TB\",\"435\":\"TB\",\"436\":\"TB\",\"437\":\"KC\",\"438\":\"KC\",\"439\":\"KC\",\"440\":\"KC\",\"441\":\"TB\",\"442\":\"Chi\",\"443\":\"Chi\",\"444\":\"NYG\",\"445\":\"Chi\",\"446\":\"Chi\",\"447\":\"NYG\",\"448\":\"Chi\",\"449\":\"Ari\",\"450\":\"Ari\",\"451\":\"Min\",\"452\":\"Min\",\"453\":\"Min\",\"454\":\"Ari\",\"455\":\"LA\",\"456\":\"Mia\",\"457\":\"Mia\",\"458\":\"LA\",\"459\":\"LA\",\"460\":\"Mia\",\"461\":\"Mia\",\"462\":\"SF\",\"463\":\"NE\",\"464\":\"SF\",\"465\":\"SF\",\"466\":\"Phi\",\"467\":\"Sea\",\"468\":\"Sea\",\"469\":\"Phi\",\"470\":\"Sea\",\"471\":\"Phi\",\"472\":\"GB\",\"473\":\"GB\",\"474\":\"Was\",\"475\":\"Oak\",\"476\":\"Hou\",\"477\":\"Oak\",\"478\":\"Hou\",\"479\":\"Oak\",\"480\":\"Jax\",\"481\":\"Ten\",\"482\":\"Cle\",\"483\":\"NO\",\"484\":\"SF\"}}'"
      ]
     },
     "execution_count": 58,
     "metadata": {},
     "output_type": "execute_result"
    }
   ],
   "source": [
    "thejsontest"
   ]
  },
  {
   "cell_type": "code",
   "execution_count": 42,
   "metadata": {
    "ExecuteTime": {
     "end_time": "2016-11-17T11:18:56.927074",
     "start_time": "2016-11-17T11:18:50.071177"
    },
    "collapsed": false
   },
   "outputs": [],
   "source": [
    "import pandas as pd\n",
    "\n",
    "salaryscraper = pd.read_csv('/Users/pivit/Downloads/DKSalaries (6).csv')\n",
    "salaryscraper"
   ]
  },
  {
   "cell_type": "code",
   "execution_count": 47,
   "metadata": {
    "ExecuteTime": {
     "end_time": "2016-11-17T11:37:30.755018",
     "start_time": "2016-11-17T11:37:20.479422"
    },
    "collapsed": false
   },
   "outputs": [
    {
     "name": "stdout",
     "output_type": "stream",
     "text": [
      "Page loaded\n"
     ]
    },
    {
     "ename": "NoSuchElementException",
     "evalue": "Message: {\"errorMessage\":\"Unable to find element with xpath '//div[contains(@class, \\\"tabs\\\")]/ul/li[text() = \\\"All\\\"]'\",\"request\":{\"headers\":{\"Accept\":\"application/json\",\"Accept-Encoding\":\"identity\",\"Connection\":\"close\",\"Content-Length\":\"141\",\"Content-Type\":\"application/json;charset=UTF-8\",\"Host\":\"127.0.0.1:60156\",\"User-Agent\":\"Python-urllib/2.7\"},\"httpVersion\":\"1.1\",\"method\":\"POST\",\"post\":\"{\\\"using\\\": \\\"xpath\\\", \\\"sessionId\\\": \\\"1d8d76b0-ace4-11e6-a6b4-313373802bdb\\\", \\\"value\\\": \\\"//div[contains(@class, \\\\\\\"tabs\\\\\\\")]/ul/li[text() = \\\\\\\"All\\\\\\\"]\\\"}\",\"url\":\"/element\",\"urlParsed\":{\"anchor\":\"\",\"query\":\"\",\"file\":\"element\",\"directory\":\"/\",\"path\":\"/element\",\"relative\":\"/element\",\"port\":\"\",\"host\":\"\",\"password\":\"\",\"user\":\"\",\"userInfo\":\"\",\"authority\":\"\",\"protocol\":\"\",\"source\":\"/element\",\"queryKey\":{},\"chunks\":[\"element\"]},\"urlOriginal\":\"/session/1d8d76b0-ace4-11e6-a6b4-313373802bdb/element\"}}\nScreenshot: available via screen\n",
     "output_type": "error",
     "traceback": [
      "\u001b[0;31m---------------------------------------------------------------------------\u001b[0m",
      "\u001b[0;31mNoSuchElementException\u001b[0m                    Traceback (most recent call last)",
      "\u001b[0;32m<ipython-input-47-ae54dbc2b498>\u001b[0m in \u001b[0;36m<module>\u001b[0;34m()\u001b[0m\n\u001b[1;32m     22\u001b[0m \u001b[0;32mprint\u001b[0m\u001b[0;34m(\u001b[0m\u001b[0;34m\"Page loaded\"\u001b[0m\u001b[0;34m)\u001b[0m\u001b[0;34m\u001b[0m\u001b[0m\n\u001b[1;32m     23\u001b[0m \u001b[0;34m\u001b[0m\u001b[0m\n\u001b[0;32m---> 24\u001b[0;31m \u001b[0mbrowser\u001b[0m\u001b[0;34m.\u001b[0m\u001b[0mfind_element_by_xpath\u001b[0m\u001b[0;34m(\u001b[0m\u001b[0;34m'//div[contains(@class, \"tabs\")]/ul/li[text() = \"All\"]'\u001b[0m\u001b[0;34m)\u001b[0m\u001b[0;34m.\u001b[0m\u001b[0mclick\u001b[0m\u001b[0;34m(\u001b[0m\u001b[0;34m)\u001b[0m\u001b[0;34m\u001b[0m\u001b[0m\n\u001b[0m\u001b[1;32m     25\u001b[0m \u001b[0;34m\u001b[0m\u001b[0m\n\u001b[1;32m     26\u001b[0m \u001b[0;31m# download the file\u001b[0m\u001b[0;34m\u001b[0m\u001b[0;34m\u001b[0m\u001b[0m\n",
      "\u001b[0;32m/Users/pivit/anaconda/lib/python2.7/site-packages/selenium/webdriver/remote/webdriver.pyc\u001b[0m in \u001b[0;36mfind_element_by_xpath\u001b[0;34m(self, xpath)\u001b[0m\n\u001b[1;32m    291\u001b[0m             \u001b[0mdriver\u001b[0m\u001b[0;34m.\u001b[0m\u001b[0mfind_element_by_xpath\u001b[0m\u001b[0;34m(\u001b[0m\u001b[0;34m'//div/td[1]'\u001b[0m\u001b[0;34m)\u001b[0m\u001b[0;34m\u001b[0m\u001b[0m\n\u001b[1;32m    292\u001b[0m         \"\"\"\n\u001b[0;32m--> 293\u001b[0;31m         \u001b[0;32mreturn\u001b[0m \u001b[0mself\u001b[0m\u001b[0;34m.\u001b[0m\u001b[0mfind_element\u001b[0m\u001b[0;34m(\u001b[0m\u001b[0mby\u001b[0m\u001b[0;34m=\u001b[0m\u001b[0mBy\u001b[0m\u001b[0;34m.\u001b[0m\u001b[0mXPATH\u001b[0m\u001b[0;34m,\u001b[0m \u001b[0mvalue\u001b[0m\u001b[0;34m=\u001b[0m\u001b[0mxpath\u001b[0m\u001b[0;34m)\u001b[0m\u001b[0;34m\u001b[0m\u001b[0m\n\u001b[0m\u001b[1;32m    294\u001b[0m \u001b[0;34m\u001b[0m\u001b[0m\n\u001b[1;32m    295\u001b[0m     \u001b[0;32mdef\u001b[0m \u001b[0mfind_elements_by_xpath\u001b[0m\u001b[0;34m(\u001b[0m\u001b[0mself\u001b[0m\u001b[0;34m,\u001b[0m \u001b[0mxpath\u001b[0m\u001b[0;34m)\u001b[0m\u001b[0;34m:\u001b[0m\u001b[0;34m\u001b[0m\u001b[0m\n",
      "\u001b[0;32m/Users/pivit/anaconda/lib/python2.7/site-packages/selenium/webdriver/remote/webdriver.pyc\u001b[0m in \u001b[0;36mfind_element\u001b[0;34m(self, by, value)\u001b[0m\n\u001b[1;32m    750\u001b[0m         return self.execute(Command.FIND_ELEMENT, {\n\u001b[1;32m    751\u001b[0m             \u001b[0;34m'using'\u001b[0m\u001b[0;34m:\u001b[0m \u001b[0mby\u001b[0m\u001b[0;34m,\u001b[0m\u001b[0;34m\u001b[0m\u001b[0m\n\u001b[0;32m--> 752\u001b[0;31m             'value': value})['value']\n\u001b[0m\u001b[1;32m    753\u001b[0m \u001b[0;34m\u001b[0m\u001b[0m\n\u001b[1;32m    754\u001b[0m     \u001b[0;32mdef\u001b[0m \u001b[0mfind_elements\u001b[0m\u001b[0;34m(\u001b[0m\u001b[0mself\u001b[0m\u001b[0;34m,\u001b[0m \u001b[0mby\u001b[0m\u001b[0;34m=\u001b[0m\u001b[0mBy\u001b[0m\u001b[0;34m.\u001b[0m\u001b[0mID\u001b[0m\u001b[0;34m,\u001b[0m \u001b[0mvalue\u001b[0m\u001b[0;34m=\u001b[0m\u001b[0mNone\u001b[0m\u001b[0;34m)\u001b[0m\u001b[0;34m:\u001b[0m\u001b[0;34m\u001b[0m\u001b[0m\n",
      "\u001b[0;32m/Users/pivit/anaconda/lib/python2.7/site-packages/selenium/webdriver/remote/webdriver.pyc\u001b[0m in \u001b[0;36mexecute\u001b[0;34m(self, driver_command, params)\u001b[0m\n\u001b[1;32m    234\u001b[0m         \u001b[0mresponse\u001b[0m \u001b[0;34m=\u001b[0m \u001b[0mself\u001b[0m\u001b[0;34m.\u001b[0m\u001b[0mcommand_executor\u001b[0m\u001b[0;34m.\u001b[0m\u001b[0mexecute\u001b[0m\u001b[0;34m(\u001b[0m\u001b[0mdriver_command\u001b[0m\u001b[0;34m,\u001b[0m \u001b[0mparams\u001b[0m\u001b[0;34m)\u001b[0m\u001b[0;34m\u001b[0m\u001b[0m\n\u001b[1;32m    235\u001b[0m         \u001b[0;32mif\u001b[0m \u001b[0mresponse\u001b[0m\u001b[0;34m:\u001b[0m\u001b[0;34m\u001b[0m\u001b[0m\n\u001b[0;32m--> 236\u001b[0;31m             \u001b[0mself\u001b[0m\u001b[0;34m.\u001b[0m\u001b[0merror_handler\u001b[0m\u001b[0;34m.\u001b[0m\u001b[0mcheck_response\u001b[0m\u001b[0;34m(\u001b[0m\u001b[0mresponse\u001b[0m\u001b[0;34m)\u001b[0m\u001b[0;34m\u001b[0m\u001b[0m\n\u001b[0m\u001b[1;32m    237\u001b[0m             response['value'] = self._unwrap_value(\n\u001b[1;32m    238\u001b[0m                 response.get('value', None))\n",
      "\u001b[0;32m/Users/pivit/anaconda/lib/python2.7/site-packages/selenium/webdriver/remote/errorhandler.pyc\u001b[0m in \u001b[0;36mcheck_response\u001b[0;34m(self, response)\u001b[0m\n\u001b[1;32m    190\u001b[0m         \u001b[0;32melif\u001b[0m \u001b[0mexception_class\u001b[0m \u001b[0;34m==\u001b[0m \u001b[0mUnexpectedAlertPresentException\u001b[0m \u001b[0;32mand\u001b[0m \u001b[0;34m'alert'\u001b[0m \u001b[0;32min\u001b[0m \u001b[0mvalue\u001b[0m\u001b[0;34m:\u001b[0m\u001b[0;34m\u001b[0m\u001b[0m\n\u001b[1;32m    191\u001b[0m             \u001b[0;32mraise\u001b[0m \u001b[0mexception_class\u001b[0m\u001b[0;34m(\u001b[0m\u001b[0mmessage\u001b[0m\u001b[0;34m,\u001b[0m \u001b[0mscreen\u001b[0m\u001b[0;34m,\u001b[0m \u001b[0mstacktrace\u001b[0m\u001b[0;34m,\u001b[0m \u001b[0mvalue\u001b[0m\u001b[0;34m[\u001b[0m\u001b[0;34m'alert'\u001b[0m\u001b[0;34m]\u001b[0m\u001b[0;34m.\u001b[0m\u001b[0mget\u001b[0m\u001b[0;34m(\u001b[0m\u001b[0;34m'text'\u001b[0m\u001b[0;34m)\u001b[0m\u001b[0;34m)\u001b[0m\u001b[0;34m\u001b[0m\u001b[0m\n\u001b[0;32m--> 192\u001b[0;31m         \u001b[0;32mraise\u001b[0m \u001b[0mexception_class\u001b[0m\u001b[0;34m(\u001b[0m\u001b[0mmessage\u001b[0m\u001b[0;34m,\u001b[0m \u001b[0mscreen\u001b[0m\u001b[0;34m,\u001b[0m \u001b[0mstacktrace\u001b[0m\u001b[0;34m)\u001b[0m\u001b[0;34m\u001b[0m\u001b[0m\n\u001b[0m\u001b[1;32m    193\u001b[0m \u001b[0;34m\u001b[0m\u001b[0m\n\u001b[1;32m    194\u001b[0m     \u001b[0;32mdef\u001b[0m \u001b[0m_value_or_default\u001b[0m\u001b[0;34m(\u001b[0m\u001b[0mself\u001b[0m\u001b[0;34m,\u001b[0m \u001b[0mobj\u001b[0m\u001b[0;34m,\u001b[0m \u001b[0mkey\u001b[0m\u001b[0;34m,\u001b[0m \u001b[0mdefault\u001b[0m\u001b[0;34m)\u001b[0m\u001b[0;34m:\u001b[0m\u001b[0;34m\u001b[0m\u001b[0m\n",
      "\u001b[0;31mNoSuchElementException\u001b[0m: Message: {\"errorMessage\":\"Unable to find element with xpath '//div[contains(@class, \\\"tabs\\\")]/ul/li[text() = \\\"All\\\"]'\",\"request\":{\"headers\":{\"Accept\":\"application/json\",\"Accept-Encoding\":\"identity\",\"Connection\":\"close\",\"Content-Length\":\"141\",\"Content-Type\":\"application/json;charset=UTF-8\",\"Host\":\"127.0.0.1:60156\",\"User-Agent\":\"Python-urllib/2.7\"},\"httpVersion\":\"1.1\",\"method\":\"POST\",\"post\":\"{\\\"using\\\": \\\"xpath\\\", \\\"sessionId\\\": \\\"1d8d76b0-ace4-11e6-a6b4-313373802bdb\\\", \\\"value\\\": \\\"//div[contains(@class, \\\\\\\"tabs\\\\\\\")]/ul/li[text() = \\\\\\\"All\\\\\\\"]\\\"}\",\"url\":\"/element\",\"urlParsed\":{\"anchor\":\"\",\"query\":\"\",\"file\":\"element\",\"directory\":\"/\",\"path\":\"/element\",\"relative\":\"/element\",\"port\":\"\",\"host\":\"\",\"password\":\"\",\"user\":\"\",\"userInfo\":\"\",\"authority\":\"\",\"protocol\":\"\",\"source\":\"/element\",\"queryKey\":{},\"chunks\":[\"element\"]},\"urlOriginal\":\"/session/1d8d76b0-ace4-11e6-a6b4-313373802bdb/element\"}}\nScreenshot: available via screen\n"
     ]
    }
   ],
   "source": [
    "from urlparse import urljoin  # for Python2: from urlparse import urljoin\n",
    "from urllib import urlretrieve\n",
    "\n",
    "from selenium import webdriver\n",
    "from selenium.webdriver.common.by import By\n",
    "from selenium.webdriver.support.ui import WebDriverWait\n",
    "from selenium.webdriver.support import expected_conditions as EC\n",
    "\n",
    "import webbrowser\n",
    "import pandas as pd\n",
    "import time\n",
    "\n",
    "\n",
    "\n",
    "url = \"https://www.draftkings.com/contest/gamecenter/30104579?uc=523137455\"\n",
    "browser = webdriver.PhantomJS()\n",
    "wait = WebDriverWait(browser, 10)\n",
    "browser.get(url)\n",
    "\n",
    "# wait for page to load\n",
    "wait.until(EC.presence_of_element_located((By.ID, 'fancybox-outer')))\n",
    "print(\"Page loaded\")\n",
    "\n",
    "browser.find_element_by_xpath('//div[contains(@class, \"tabs\")]/ul/li[text() = \"All\"]').click()\n",
    "\n",
    "# download the file\n",
    "csv_url = urljoin(url, browser.find_element_by_css_selector(\"a.export-to-csv\").get_attribute(\"href\"))\n",
    "urlretrieve(csv_url, \"runningagain.csv\")\n",
    "print csv_url\n",
    "\n",
    "\n",
    "\n",
    "# webbrowser.open(csv_url)\n",
    "\n",
    "# time.sleep(5) # delays for 5 seconds\n",
    "\n",
    "\n",
    "# salaryscraper = pd.read_csv('/Users/pivit/Downloads/DKSalaries (8).csv')\n",
    "# salaryscraper\n"
   ]
  },
  {
   "cell_type": "code",
   "execution_count": 40,
   "metadata": {
    "ExecuteTime": {
     "end_time": "2016-11-17T11:15:05.758971",
     "start_time": "2016-11-17T11:15:04.718240"
    },
    "collapsed": false
   },
   "outputs": [
    {
     "data": {
      "text/plain": [
       "True"
      ]
     },
     "execution_count": 40,
     "metadata": {},
     "output_type": "execute_result"
    }
   ],
   "source": [
    "import webbrowser\n",
    "\n",
    "webbrowser.open('https://www.draftkings.com/lineup/getavailableplayerscsv?contestTypeId=21&draftGroupId=11502')"
   ]
  },
  {
   "cell_type": "code",
   "execution_count": 5,
   "metadata": {
    "ExecuteTime": {
     "end_time": "2016-11-18T09:11:30.724982",
     "start_time": "2016-11-18T09:11:26.878491"
    },
    "collapsed": false
   },
   "outputs": [
    {
     "name": "stdout",
     "output_type": "stream",
     "text": [
      "M.Gordon 32 carries for 196 yards and 1 TDs\n",
      "M.Ingram 15 carries for 158 yards and 1 TDs\n",
      "L.Murray 20 carries for 114 yards and 3 TDs\n",
      "J.Ajayi 24 carries for 111 yards and 1 TDs\n",
      "C.Ivory 18 carries for 107 yards and 0 TDs\n"
     ]
    }
   ],
   "source": [
    "#!python\n",
    "import nflgame\n",
    "\n",
    "games = nflgame.games(2016, week=9)\n",
    "players = nflgame.combine_game_stats(games)\n",
    "for p in players.rushing().sort('rushing_yds').limit(5):\n",
    "    msg = '%s %d carries for %d yards and %d TDs'\n",
    "    print msg % (p, p.rushing_att, p.rushing_yds, p.rushing_tds)"
   ]
  },
  {
   "cell_type": "code",
   "execution_count": 7,
   "metadata": {
    "ExecuteTime": {
     "end_time": "2016-11-18T09:12:26.623799",
     "start_time": "2016-11-18T09:12:22.909147"
    },
    "collapsed": false
   },
   "outputs": [
    {
     "name": "stdout",
     "output_type": "stream",
     "text": [
      "(DAL, DAL 17, Q1, 2 and 18) (:27) D.Prescott pass short right to E.Elliott for 83 yards, TOUCHDOWN.\n",
      "(ATL, ATL 24, Q4, 2 and 11) (13:25) M.Ryan pass deep right to T.Gabriel for 76 yards, TOUCHDOWN.\n",
      "(CIN, CIN 21, Q1, 2 and 9) (10:17) (Shotgun) A.Dalton pass deep middle to T.Eifert to NYG 8 for 71 yards (J.Casillas).\n",
      "(MIA, MIA 25, Q4, 1 and 10) (4:04) (Shotgun) R.Tannehill pass deep left to D.Parker to SD 19 for 56 yards (A.Phillips) [C.Liuget]. PENALTY on SD-C.Liuget, Roughing the Passer, 9 yards, enforced at SD 19.\n",
      "(NYJ, NYJ 2, Q1, 2 and 9) (1:05) (Shotgun) B.Petty pass deep left to R.Anderson to LA 46 for 52 yards (E.Gaines).\n"
     ]
    }
   ],
   "source": [
    "games = nflgame.games(2016, week=10)\n",
    "plays = nflgame.combine_plays(games)\n",
    "for p in plays.sort('passing_yds').limit(5):\n",
    "    print p\n"
   ]
  },
  {
   "cell_type": "code",
   "execution_count": 8,
   "metadata": {
    "ExecuteTime": {
     "end_time": "2016-11-18T09:14:58.819557",
     "start_time": "2016-11-18T09:14:55.784077"
    },
    "collapsed": false
   },
   "outputs": [
    {
     "name": "stdout",
     "output_type": "stream",
     "text": [
      "M.Jones-Drew 632\n",
      "M.Turner 480\n",
      "A.Foster 466\n",
      "F.Jackson 462\n",
      "K.Moreno 462\n",
      "J.Charles 458\n",
      "P.Hillis 426\n",
      "C.Johnson 416\n",
      "S.Jackson 405\n",
      "B.Green-Ellis 401\n"
     ]
    }
   ],
   "source": [
    " \n",
    "games = nflgame.games(2010, week=[10, 11, 12, 13, 14])\n",
    "players = nflgame.combine(games)\n",
    "for p in players.rushing().sort(\"rushing_yds\").limit(10):\n",
    "     print p, p.rushing_yds"
   ]
  },
  {
   "cell_type": "code",
   "execution_count": 10,
   "metadata": {
    "ExecuteTime": {
     "end_time": "2016-11-18T09:18:19.995234",
     "start_time": "2016-11-18T09:18:19.956994"
    },
    "collapsed": false
   },
   "outputs": [
    {
     "name": "stdout",
     "output_type": "stream",
     "text": [
      "[C.Wentz, D.Sproles, R.Mathews, W.Smallwood, B.Celek, J.Matthews, N.Agholor, Z.Ertz, C.Sturgis, D.Jones, K.Barner, N.Carroll, L.McKelvin, J.Mills, V.Curry, F.Cox, C.Barwin, M.Jenkins, R.McLeod, J.Hicks, N.Bradham, M.Kendricks, B.Graham, M.Ryan, T.Ward, D.Freeman, A.Robinson, A.Hooper, T.Gabriel, J.Jones, M.Sanu, B.Poole, M.Bryant, M.Bosher, E.Weems, P.Worrilow, L.Reynolds, R.Hageman, P.Wheeler, G.Jarrett, R.Allen, D.Campbell, T.Jackson, D.Jones, R.Alford, V.Beasley, J.Collins, K.Neal, J.Babineaux, C.Upshaw]\n"
     ]
    }
   ],
   "source": [
    "game = nflgame.one(2016, 10, \"PHI\", \"ATL\")\n",
    "print game.players"
   ]
  },
  {
   "cell_type": "code",
   "execution_count": 11,
   "metadata": {
    "ExecuteTime": {
     "end_time": "2016-11-18T09:19:21.070920",
     "start_time": "2016-11-18T09:19:21.063315"
    },
    "collapsed": false
   },
   "outputs": [
    {
     "name": "stdout",
     "output_type": "stream",
     "text": [
      "[C.Wentz, M.Ryan]\n"
     ]
    }
   ],
   "source": [
    "print game.players.passing()"
   ]
  },
  {
   "cell_type": "code",
   "execution_count": 12,
   "metadata": {
    "ExecuteTime": {
     "end_time": "2016-11-18T09:19:33.518086",
     "start_time": "2016-11-18T09:19:33.510088"
    },
    "collapsed": false
   },
   "outputs": [
    {
     "name": "stdout",
     "output_type": "stream",
     "text": [
      "[C.Wentz, D.Sproles, R.Mathews, W.Smallwood, T.Ward, D.Freeman]\n"
     ]
    }
   ],
   "source": [
    "print game.players.rushing()"
   ]
  },
  {
   "cell_type": "code",
   "execution_count": 13,
   "metadata": {
    "ExecuteTime": {
     "end_time": "2016-11-18T09:19:41.617513",
     "start_time": "2016-11-18T09:19:41.611519"
    },
    "collapsed": false
   },
   "outputs": [
    {
     "name": "stdout",
     "output_type": "stream",
     "text": [
      "[D.Sproles, R.Mathews, B.Celek, J.Matthews, N.Agholor, Z.Ertz, D.Freeman, A.Robinson, A.Hooper, T.Gabriel, J.Jones, M.Sanu]\n"
     ]
    }
   ],
   "source": [
    "print game.players.receiving()"
   ]
  },
  {
   "cell_type": "code",
   "execution_count": 14,
   "metadata": {
    "ExecuteTime": {
     "end_time": "2016-11-18T09:19:59.604584",
     "start_time": "2016-11-18T09:19:59.596809"
    },
    "collapsed": false
   },
   "outputs": [
    {
     "name": "stdout",
     "output_type": "stream",
     "text": [
      "C.Wentz 25 36 231\n",
      "M.Ryan 18 33 267\n"
     ]
    }
   ],
   "source": [
    "for p in game.players.passing():\n",
    "    print p, p.passing_cmp, p.passing_att, p.passing_yds"
   ]
  },
  {
   "cell_type": "code",
   "execution_count": 26,
   "metadata": {
    "ExecuteTime": {
     "end_time": "2016-11-18T09:24:59.618530",
     "start_time": "2016-11-18T09:24:59.611177"
    },
    "collapsed": false
   },
   "outputs": [
    {
     "name": "stdout",
     "output_type": "stream",
     "text": [
      "[D.Sproles, J.Matthews, Z.Ertz]\n"
     ]
    }
   ],
   "source": [
    "print game.players.receiving().filter(receiving_yds=lambda x: x >= 40, home=True)"
   ]
  },
  {
   "cell_type": "code",
   "execution_count": 27,
   "metadata": {
    "ExecuteTime": {
     "end_time": "2016-11-18T09:25:34.840477",
     "start_time": "2016-11-18T09:25:34.830413"
    },
    "collapsed": false
   },
   "outputs": [
    {
     "name": "stdout",
     "output_type": "stream",
     "text": [
      "R.Mathews 19 109\n",
      "W.Smallwood 13 70\n",
      "D.Freeman 12 49\n",
      "D.Sproles 2 19\n",
      "C.Wentz 4 10\n",
      "T.Ward 1 -1\n"
     ]
    }
   ],
   "source": [
    "for p in game.players.rushing().sort(\"rushing_yds\"):\n",
    "    print p, p.rushing_att, p.rushing_yds"
   ]
  },
  {
   "cell_type": "code",
   "execution_count": 31,
   "metadata": {
    "ExecuteTime": {
     "end_time": "2016-11-18T09:27:26.486585",
     "start_time": "2016-11-18T09:27:26.479280"
    },
    "collapsed": false
   },
   "outputs": [
    {
     "name": "stdout",
     "output_type": "stream",
     "text": [
      "C.Wentz \n",
      "passing_att: 36, passing_twoptm: 0, passing_twopta: 0, passing_yds: 231, passing_cmp: 25, passing_ints: 0, passing_tds: 0, rushing_lngtd: 0, rushing_tds: 0, rushing_twopta: 0, rushing_lng: 13, rushing_yds: 10, rushing_att: 4, rushing_twoptm: 0, fumbles_trcv: 0, fumbles_tot: 1, fumbles_rcv: 0, fumbles_yds: 0, fumbles_lost: 1\n"
     ]
    }
   ],
   "source": [
    "###Remember this is only for the Falcons Eagles Game\n",
    "tom_brady = game.players.name(\"C.Wentz\")\n",
    "print tom_brady, \"\\n\", tom_brady.formatted_stats()"
   ]
  },
  {
   "cell_type": "code",
   "execution_count": 32,
   "metadata": {
    "ExecuteTime": {
     "end_time": "2016-11-18T09:27:44.051428",
     "start_time": "2016-11-18T09:27:44.029891"
    },
    "collapsed": false
   },
   "outputs": [
    {
     "name": "stdout",
     "output_type": "stream",
     "text": [
      "R.Mathews 2\n",
      "M.Ryan 1\n",
      "T.Gabriel 1\n"
     ]
    }
   ],
   "source": [
    "for p in game.players.touchdowns():\n",
    "    print p, p.tds"
   ]
  },
  {
   "cell_type": "code",
   "execution_count": 36,
   "metadata": {
    "ExecuteTime": {
     "end_time": "2016-11-18T09:28:44.833902",
     "start_time": "2016-11-18T09:28:44.826585"
    },
    "collapsed": false
   },
   "outputs": [
    {
     "name": "stdout",
     "output_type": "stream",
     "text": [
      " PHI\n",
      "True\n",
      "24 15\n"
     ]
    }
   ],
   "source": [
    "print game.winner\n",
    "\n",
    "print game.game_over()\n",
    "\n",
    "print game.score_home, game.score_away\n"
   ]
  },
  {
   "cell_type": "code",
   "execution_count": 54,
   "metadata": {
    "ExecuteTime": {
     "end_time": "2016-11-18T12:55:49.174729",
     "start_time": "2016-11-18T12:55:48.969182"
    },
    "collapsed": false
   },
   "outputs": [
    {
     "name": "stdout",
     "output_type": "stream",
     "text": [
      "PHI - Q1 - TD - R.Mathews 4 yd. run (C.Sturgis kick is good) Drive: 12 plays, 81 yards in 7:14\n",
      "ATL - Q2 - FG - M.Bryant 38 yd. Field Goal Drive: 6 plays, 46 yards in 3:04\n",
      "ATL - Q2 - FG - M.Bryant 43 yd. Field Goal Drive: 9 plays, 50 yards in 4:36\n",
      "PHI - Q3 - FG - C.Sturgis 29 yd. Field Goal Drive: 14 plays, 70 yards in 6:44\n",
      "ATL - Q3 - FG - M.Bryant 46 yd. Field Goal Drive: 8 plays, 47 yards in 3:30\n",
      "ATL - Q4 - TD - T.Gabriel 76 yd. pass from M.Ryan (kick failed, hlu) Drive: 2 plays, 75 yards in 0:35\n",
      "PHI - Q4 - FG - C.Sturgis 25 yd. Field Goal Drive: 10 plays, 59 yards in 5:56\n",
      "PHI - Q4 - TD - R.Mathews 5 yd. run (R.Mathews run) Drive: 8 plays, 76 yards in 3:36\n",
      "PHI - Q4 - FG - C.Sturgis 48 yd. Field Goal Drive: 4 plays, 8 yards in 0:22\n"
     ]
    }
   ],
   "source": [
    "for a in game.scores:\n",
    "    print a"
   ]
  },
  {
   "cell_type": "code",
   "execution_count": 39,
   "metadata": {
    "ExecuteTime": {
     "end_time": "2016-11-18T09:30:31.326820",
     "start_time": "2016-11-18T09:30:31.317619"
    },
    "collapsed": true
   },
   "outputs": [],
   "source": [
    "game.players.passing().sort(\"passing_yds\").csv(\"/Users/pivit/Desktop/passers.csv\")"
   ]
  },
  {
   "cell_type": "code",
   "execution_count": 42,
   "metadata": {
    "ExecuteTime": {
     "end_time": "2016-11-18T09:32:08.372524",
     "start_time": "2016-11-18T09:32:08.142020"
    },
    "collapsed": true
   },
   "outputs": [],
   "source": [
    "week10 = nflgame.games(2016, 10)\n",
    "players = nflgame.combine(week10)"
   ]
  },
  {
   "cell_type": "code",
   "execution_count": 43,
   "metadata": {
    "ExecuteTime": {
     "end_time": "2016-11-18T09:32:25.070927",
     "start_time": "2016-11-18T09:32:25.054050"
    },
    "collapsed": false
   },
   "outputs": [
    {
     "name": "stdout",
     "output_type": "stream",
     "text": [
      "D.Murray 17 123 1\n",
      "E.Elliott 21 114 2\n",
      "R.Mathews 19 109 2\n",
      "J.Howard 15 100 0\n",
      "M.Forte 20 98 0\n",
      "R.Kelley 22 97 0\n",
      "R.Jennings 15 87 0\n",
      "L.Miller 15 83 0\n",
      "J.Ajayi 19 79 0\n",
      "D.Booker 24 76 0\n"
     ]
    }
   ],
   "source": [
    "for p in players.rushing().sort(\"rushing_yds\").limit(10):\n",
    "    print p, p.rushing_att, p.rushing_yds, p.rushing_tds"
   ]
  },
  {
   "cell_type": "code",
   "execution_count": 44,
   "metadata": {
    "ExecuteTime": {
     "end_time": "2016-11-18T09:35:02.945151",
     "start_time": "2016-11-18T09:34:27.922362"
    },
    "collapsed": false
   },
   "outputs": [
    {
     "name": "stdout",
     "output_type": "stream",
     "text": [
      "B.Roethlisberger 15\n",
      "M.Ryan 12\n",
      "P.Rivers 11\n",
      "D.Carr 11\n",
      "D.Brees 10\n",
      "A.Luck 10\n",
      "M.Stafford 10\n",
      "J.Winston 9\n",
      "A.Rodgers 9\n",
      "B.Bortles 7\n",
      "C.Wentz 7\n",
      "M.Mariota 7\n",
      "K.Cousins 7\n",
      "T.Siemian 6\n",
      "C.Newton 6\n",
      "T.Taylor 6\n",
      "B.Osweiler 6\n",
      "R.Tannehill 6\n",
      "C.Palmer 6\n",
      "S.Bradford 6\n"
     ]
    }
   ],
   "source": [
    "games1_5 = nflgame.games(2016, week=[1, 2, 3, 4, 5])\n",
    "players = nflgame.combine(games1_5)\n",
    "for p in players.passing().sort(\"passing_tds\").limit(20):\n",
    "    print p, p.passing_tds"
   ]
  },
  {
   "cell_type": "code",
   "execution_count": 47,
   "metadata": {
    "ExecuteTime": {
     "end_time": "2016-11-18T09:36:35.125029",
     "start_time": "2016-11-18T09:36:33.987139"
    },
    "collapsed": false
   },
   "outputs": [
    {
     "name": "stdout",
     "output_type": "stream",
     "text": [
      "T.Brady 18\n"
     ]
    }
   ],
   "source": [
    "nehome = nflgame.games(2010, away=\"NE\")\n",
    "players = nflgame.combine(nehome)\n",
    "brady = players.name(\"T.Brady\")\n",
    "print brady, brady.passing_tds"
   ]
  },
  {
   "cell_type": "code",
   "execution_count": 53,
   "metadata": {
    "ExecuteTime": {
     "end_time": "2016-11-18T10:18:23.146484",
     "start_time": "2016-11-18T10:17:53.442666"
    },
    "collapsed": false
   },
   "outputs": [
    {
     "name": "stdout",
     "output_type": "stream",
     "text": [
      "J.Jones 1105 61 5\n",
      "A.Green 964 66 4\n",
      "A.Cooper 843 58 2\n",
      "A.Brown 831 69 7\n",
      "M.Evans 811 59 8\n",
      "T.Hilton 791 52 4\n",
      "O.Beckham 773 54 6\n",
      "G.Olsen 745 54 3\n",
      "B.Cooks 736 51 6\n",
      "Ty.Williams 720 43 4\n",
      "S.Diggs 710 61 2\n",
      "K.Britt 693 44 3\n",
      "L.Fitzgerald 691 69 5\n",
      "K.Benjamin 683 46 4\n",
      "M.Thomas 681 56 5\n"
     ]
    }
   ],
   "source": [
    "season2016 = nflgame.games(2016)\n",
    "players = nflgame.combine(season2016)\n",
    "for p in players.receiving().sort(\"receiving_yds\").limit(15):\n",
    "    print p, p.receiving_yds, p.receiving_rec, p.receiving_tds"
   ]
  },
  {
   "cell_type": "code",
   "execution_count": 55,
   "metadata": {
    "ExecuteTime": {
     "end_time": "2016-11-18T12:58:15.771419",
     "start_time": "2016-11-18T12:58:15.061745"
    },
    "collapsed": false
   },
   "outputs": [
    {
     "name": "stdout",
     "output_type": "stream",
     "text": [
      "(u'Drew Brees', u'NO')\n",
      "(u'Antonio Brown', u'PIT')\n",
      "(u'Allen Robinson', u'JAC')\n",
      "(u'Adrian Peterson', u'MIN')\n",
      "(u'Doug Martin', u'TB')\n",
      "(u'Gary Barnidge', u'CLE')\n",
      "(u'Keenan Allen', u'SD')\n"
     ]
    }
   ],
   "source": [
    "\n",
    "team = ['Drew Brees', \n",
    "        'Antonio Brown', \n",
    "        'Allen Robinson', \n",
    "        'Adrian Peterson',\n",
    "        'Doug Martin',\n",
    "         'Gary Barnidge',\n",
    "         'Keenan Allen']\n",
    "\n",
    "def make_team(team):\n",
    "    tm = []\n",
    "    for p in team:\n",
    "        for plr in nflgame.find(p):\n",
    "            if plr.position not in set(['QB','WR','TE','RB']) or plr.status == '':\n",
    "                continue\n",
    "            tm.append(plr)\n",
    "    return tm\n",
    "\n",
    "def validate_team(team):\n",
    "    for t in team:\n",
    "        print(t.full_name, t.team)\n",
    "\n",
    "tm = make_team(team)\n",
    "validate_team(tm)"
   ]
  },
  {
   "cell_type": "code",
   "execution_count": 57,
   "metadata": {
    "ExecuteTime": {
     "end_time": "2016-11-18T12:59:06.022900",
     "start_time": "2016-11-18T12:59:05.778210"
    },
    "collapsed": true
   },
   "outputs": [],
   "source": [
    "scoring = {\n",
    "    'passing_yds' : lambda x : x*.04 +\n",
    "                        (3. if x >= 300 else 0),\n",
    "    'passing_tds' : lambda x : x*4., \n",
    "    'passing_ints' : lambda x : -1.*x,\n",
    "    'rushing_yds' : lambda x : x*.1 + (3 if x >= 100 else 0),\n",
    "    'rushing_tds' : lambda x : x*6.,\n",
    "    'kickret_tds' : lambda x : x*6.,\n",
    "    'receiving_tds' : lambda x : x*6.,\n",
    "    'receiving_yds' : lambda x : x*.1,\n",
    "    'receiving_rec' : lambda x : x,\n",
    "    'fumbles_lost' : lambda x : -1*x,\n",
    "    'passing_twoptm'  : lambda x : 2*x,\n",
    "    'rushing_twoptm' : lambda x : 2*x,\n",
    "    'receiving_twoptm' : lambda x : 2*x\n",
    "}\n",
    "\n",
    "def score_player(player):\n",
    "    score = 0\n",
    "    for stat in player._stats:\n",
    "        if stat in scoring:\n",
    "            score += scoring[stat](getattr(player,stat))    \n",
    "    return score"
   ]
  },
  {
   "cell_type": "code",
   "execution_count": 77,
   "metadata": {
    "ExecuteTime": {
     "end_time": "2016-11-18T13:14:08.702093",
     "start_time": "2016-11-18T13:14:08.677821"
    },
    "collapsed": false
   },
   "outputs": [],
   "source": [
    "import numpy as np\n",
    "def get_score_for_player(player):\n",
    "    \n",
    "    # Sample the year and week\n",
    "    year = np.random.choice([2013,2014, 2015],\n",
    "                            p=[.2,.3,.5])\n",
    "    week = np.random.randint(1,18)\n",
    "    \n",
    "    # Find the player and score them for the given week/year   \n",
    "    for p in get_games(year,week):\n",
    "        if p.player is None:\n",
    "            continue\n",
    "        if player == p.player:\n",
    "            return score_player(p)\n",
    "        \n",
    "    return get_score_for_player(player) # Retry due to bye weeks / failure for any other reason\n"
   ]
  },
  {
   "cell_type": "code",
   "execution_count": 78,
   "metadata": {
    "ExecuteTime": {
     "end_time": "2016-11-18T13:14:13.918827",
     "start_time": "2016-11-18T13:14:13.908692"
    },
    "collapsed": false
   },
   "outputs": [],
   "source": [
    "import functools32\n",
    "from functools32 import lru_cache\n",
    "@lru_cache(200) # Define a cache with 200 empty slots\n",
    "def get_games(year,week):\n",
    "    g = nflgame.games(year,week=week)\n",
    "    return nflgame.combine_game_stats(g)"
   ]
  },
  {
   "cell_type": "code",
   "execution_count": 79,
   "metadata": {
    "ExecuteTime": {
     "end_time": "2016-11-18T13:15:03.694285",
     "start_time": "2016-11-18T13:14:15.018373"
    },
    "collapsed": false
   },
   "outputs": [
    {
     "data": {
      "text/html": [
       "<div>\n",
       "<table border=\"1\" class=\"dataframe\">\n",
       "  <thead>\n",
       "    <tr style=\"text-align: right;\">\n",
       "      <th></th>\n",
       "      <th>Drew Brees</th>\n",
       "      <th>Antonio Brown</th>\n",
       "      <th>Allen Robinson</th>\n",
       "      <th>Adrian Peterson</th>\n",
       "      <th>Doug Martin</th>\n",
       "      <th>Gary Barnidge</th>\n",
       "      <th>Keenan Allen</th>\n",
       "    </tr>\n",
       "  </thead>\n",
       "  <tbody>\n",
       "    <tr>\n",
       "      <th>0</th>\n",
       "      <td>14.36</td>\n",
       "      <td>31.0</td>\n",
       "      <td>14.8</td>\n",
       "      <td>22.5</td>\n",
       "      <td>14.3</td>\n",
       "      <td>7.4</td>\n",
       "      <td>31.6</td>\n",
       "    </tr>\n",
       "    <tr>\n",
       "      <th>1</th>\n",
       "      <td>13.10</td>\n",
       "      <td>19.0</td>\n",
       "      <td>13.0</td>\n",
       "      <td>13.7</td>\n",
       "      <td>5.8</td>\n",
       "      <td>2.7</td>\n",
       "      <td>17.9</td>\n",
       "    </tr>\n",
       "    <tr>\n",
       "      <th>2</th>\n",
       "      <td>29.74</td>\n",
       "      <td>21.8</td>\n",
       "      <td>10.1</td>\n",
       "      <td>13.7</td>\n",
       "      <td>10.8</td>\n",
       "      <td>11.9</td>\n",
       "      <td>21.4</td>\n",
       "    </tr>\n",
       "    <tr>\n",
       "      <th>3</th>\n",
       "      <td>35.46</td>\n",
       "      <td>20.4</td>\n",
       "      <td>14.7</td>\n",
       "      <td>26.1</td>\n",
       "      <td>4.6</td>\n",
       "      <td>27.9</td>\n",
       "      <td>17.2</td>\n",
       "    </tr>\n",
       "    <tr>\n",
       "      <th>4</th>\n",
       "      <td>18.10</td>\n",
       "      <td>5.4</td>\n",
       "      <td>27.1</td>\n",
       "      <td>32.6</td>\n",
       "      <td>10.7</td>\n",
       "      <td>18.3</td>\n",
       "      <td>7.5</td>\n",
       "    </tr>\n",
       "  </tbody>\n",
       "</table>\n",
       "</div>"
      ],
      "text/plain": [
       "   Drew Brees  Antonio Brown  Allen Robinson  Adrian Peterson  Doug Martin  \\\n",
       "0       14.36           31.0            14.8             22.5         14.3   \n",
       "1       13.10           19.0            13.0             13.7          5.8   \n",
       "2       29.74           21.8            10.1             13.7         10.8   \n",
       "3       35.46           20.4            14.7             26.1          4.6   \n",
       "4       18.10            5.4            27.1             32.6         10.7   \n",
       "\n",
       "   Gary Barnidge  Keenan Allen  \n",
       "0            7.4          31.6  \n",
       "1            2.7          17.9  \n",
       "2           11.9          21.4  \n",
       "3           27.9          17.2  \n",
       "4           18.3           7.5  "
      ]
     },
     "execution_count": 79,
     "metadata": {},
     "output_type": "execute_result"
    }
   ],
   "source": [
    "import pandas as pd\n",
    "def simulate(team, exps=10):\n",
    "    scores = pd.DataFrame(data=np.zeros((exps,len(team))),\n",
    "                          columns = [p.name for p in team])\n",
    "    for n in range(exps):\n",
    "        for player in team:\n",
    "            scores.loc[n,player.name] += get_score_for_player(player)\n",
    "    return scores\n",
    "\n",
    "\n",
    "outcome = simulate(tm, exps=10)\n",
    "outcome.head()"
   ]
  },
  {
   "cell_type": "code",
   "execution_count": 80,
   "metadata": {
    "ExecuteTime": {
     "end_time": "2016-11-18T13:15:03.708062",
     "start_time": "2016-11-18T13:15:03.696604"
    },
    "collapsed": false
   },
   "outputs": [
    {
     "name": "stdout",
     "output_type": "stream",
     "text": [
      "Team projection: 124.268\n",
      "Standard Deviations: 8.51233443071\n"
     ]
    }
   ],
   "source": [
    "game_points = outcome.sum(axis=1, skipna=True) # Sum the player scores together\n",
    "\n",
    "print('Team projection: %s' % game_points.mean())\n",
    "print('Standard Deviations: %s' % (game_points.std()/np.sqrt(len(outcome.columns))))\n"
   ]
  },
  {
   "cell_type": "code",
   "execution_count": 81,
   "metadata": {
    "ExecuteTime": {
     "end_time": "2016-11-18T13:15:03.722875",
     "start_time": "2016-11-18T13:15:03.711527"
    },
    "collapsed": false
   },
   "outputs": [
    {
     "data": {
      "text/plain": [
       "Drew Brees         24.028\n",
       "Antonio Brown      23.850\n",
       "Allen Robinson     15.490\n",
       "Adrian Peterson    19.390\n",
       "Doug Martin         9.450\n",
       "Gary Barnidge      11.720\n",
       "Keenan Allen       20.340\n",
       "dtype: float64"
      ]
     },
     "execution_count": 81,
     "metadata": {},
     "output_type": "execute_result"
    }
   ],
   "source": [
    "outcome.mean()"
   ]
  },
  {
   "cell_type": "code",
   "execution_count": 82,
   "metadata": {
    "ExecuteTime": {
     "end_time": "2016-11-18T13:15:03.743625",
     "start_time": "2016-11-18T13:15:03.726502"
    },
    "collapsed": false
   },
   "outputs": [
    {
     "data": {
      "text/plain": [
       "Drew Brees         9.098108\n",
       "Antonio Brown      9.400975\n",
       "Allen Robinson     6.446610\n",
       "Adrian Peterson    8.549522\n",
       "Doug Martin        5.145494\n",
       "Gary Barnidge      7.657647\n",
       "Keenan Allen       9.383105\n",
       "dtype: float64"
      ]
     },
     "execution_count": 82,
     "metadata": {},
     "output_type": "execute_result"
    }
   ],
   "source": [
    "outcome.std()"
   ]
  },
  {
   "cell_type": "code",
   "execution_count": 83,
   "metadata": {
    "ExecuteTime": {
     "end_time": "2016-11-18T13:33:35.188057",
     "start_time": "2016-11-18T13:33:32.709541"
    },
    "collapsed": true
   },
   "outputs": [],
   "source": [
    "import matplotlib.pyplot as plt\n",
    "import datetime\n",
    "\n",
    "%matplotlib inline"
   ]
  },
  {
   "cell_type": "code",
   "execution_count": 84,
   "metadata": {
    "ExecuteTime": {
     "end_time": "2016-11-18T13:34:58.955115",
     "start_time": "2016-11-18T13:33:40.658274"
    },
    "collapsed": true
   },
   "outputs": [],
   "source": [
    "games = nflgame.games(2015)\n",
    "players = nflgame.combine_game_stats(games)"
   ]
  },
  {
   "cell_type": "code",
   "execution_count": 85,
   "metadata": {
    "ExecuteTime": {
     "end_time": "2016-11-18T13:34:59.164607",
     "start_time": "2016-11-18T13:34:58.989118"
    },
    "collapsed": true
   },
   "outputs": [],
   "source": [
    "runs = pd.Series([p.rushing_yds for p in players.rushing()])\n"
   ]
  },
  {
   "cell_type": "code",
   "execution_count": 86,
   "metadata": {
    "ExecuteTime": {
     "end_time": "2016-11-18T13:35:04.920578",
     "start_time": "2016-11-18T13:34:59.167862"
    },
    "collapsed": false
   },
   "outputs": [
    {
     "data": {
      "image/png": "[encoded data removed]",
      "text/plain": [
       "<matplotlib.figure.Figure at 0x11accc290>"
      ]
     },
     "metadata": {},
     "output_type": "display_data"
    }
   ],
   "source": [
    "fig = plt.figure(figsize=(12, 8))\n",
    "\n",
    "ax = fig.add_subplot(111)\n",
    "ax.set_title('age vs. rushing yds', fontsize=14, color='black')\n",
    "fig.subplots_adjust(top=0.85)\n",
    "\n",
    "ax.set_ylabel('age (days)')\n",
    "ax.set_xlabel('rushing_yds')\n",
    "\n",
    "plt.style.use('ggplot')\n",
    "\n",
    "\n",
    "for p in players.rushing():\n",
    "    plt.scatter(p.rushing_yds, (datetime.datetime.today() - datetime.datetime.strptime(p.player.birthdate,'%m/%d/%Y')).days)\n",
    "    "
   ]
  },
  {
   "cell_type": "code",
   "execution_count": 87,
   "metadata": {
    "ExecuteTime": {
     "end_time": "2016-11-18T13:35:05.938690",
     "start_time": "2016-11-18T13:35:04.923989"
    },
    "collapsed": false
   },
   "outputs": [
    {
     "data": {
      "text/plain": [
       "(array([ 208.,   42.,   16.,   13.,   12.,   10.,    5.,    5.,    0.,    2.]),\n",
       " array([  -13. ,   136.8,   286.6,   436.4,   586.2,   736. ,   885.8,\n",
       "         1035.6,  1185.4,  1335.2,  1485. ]),\n",
       " <a list of 10 Patch objects>)"
      ]
     },
     "execution_count": 87,
     "metadata": {},
     "output_type": "execute_result"
    },
    {
     "data": {
      "image/png": "[encoded data removed]",
      "text/plain": [
       "<matplotlib.figure.Figure at 0x109b0cad0>"
      ]
     },
     "metadata": {},
     "output_type": "display_data"
    }
   ],
   "source": [
    "fig = plt.figure(figsize=(12, 8))\n",
    "ax = fig.add_subplot(111)\n",
    "ax.set_title('rushing yards 2015 season', fontsize=14, color='black')\n",
    "\n",
    "ax.set_ylabel('frequency')\n",
    "ax.set_xlabel('bins')\n",
    "\n",
    "plt.style.use('ggplot')\n",
    "plt.hist(runs, color='purple')"
   ]
  },
  {
   "cell_type": "code",
   "execution_count": 88,
   "metadata": {
    "ExecuteTime": {
     "end_time": "2016-11-18T13:35:08.955692",
     "start_time": "2016-11-18T13:35:05.941963"
    },
    "collapsed": false
   },
   "outputs": [
    {
     "data": {
      "image/png": "[encoded data removed]",
      "text/plain": [
       "<matplotlib.figure.Figure at 0x10a00f6d0>"
      ]
     },
     "metadata": {},
     "output_type": "display_data"
    }
   ],
   "source": [
    "fig = plt.figure(figsize=(12, 8))\n",
    "\n",
    "ax = fig.add_subplot(111)\n",
    "ax.set_title('age vs. rushing touchdowns', fontsize=14, color='black')\n",
    "fig.subplots_adjust(top=0.85)\n",
    "\n",
    "plt.style.use('ggplot')\n",
    "\n",
    "ax.set_ylabel('age (days)')\n",
    "ax.set_xlabel('rushing_tds')\n",
    "\n",
    "for p in players.rushing():\n",
    "    plt.scatter(p.rushing_tds, (datetime.datetime.today() - datetime.datetime.strptime(p.player.birthdate,'%m/%d/%Y')).days, c='red')"
   ]
  },
  {
   "cell_type": "code",
   "execution_count": 94,
   "metadata": {
    "ExecuteTime": {
     "end_time": "2016-11-18T13:39:28.247619",
     "start_time": "2016-11-18T13:39:25.074951"
    },
    "collapsed": false
   },
   "outputs": [
    {
     "data": {
      "image/png": "[encoded data removed]",
      "text/plain": [
       "<matplotlib.figure.Figure at 0x109b16490>"
      ]
     },
     "metadata": {},
     "output_type": "display_data"
    }
   ],
   "source": [
    "fig = plt.figure(figsize=(12, 8))\n",
    "\n",
    "ax = fig.add_subplot(111)\n",
    "ax.set_title('height and weight of 2015 NFL RBs and FBs', fontsize=14, color='black')\n",
    "\n",
    "fig.subplots_adjust(top=0.85)\n",
    "\n",
    "ax.set_ylabel('height')\n",
    "ax.set_xlabel('weight')\n",
    "\n",
    "plt.style.use('ggplot')\n",
    "\n",
    "for p in players.rushing():\n",
    "    if p.player.position in ['RB', 'FB']:\n",
    "        plt.scatter(p.player.weight, p.player.height, c='green')\n",
    "\n",
    "        if p.player.name == 'Doug Martin':\n",
    "            plt.annotate(\n",
    "                p.player.name + ', ' + p.player.team, color='black',\n",
    "                xy = (p.player.weight, p.player.height), xytext = (p.player.weight, p.player.height-1.5), alpha = 0.9,\n",
    "                xycoords='data',\n",
    "                textcoords='data',\n",
    "                arrowprops=dict(arrowstyle=\"-|>\", color='black',\n",
    "                                connectionstyle=\"arc3\"))"
   ]
  },
  {
   "cell_type": "code",
   "execution_count": null,
   "metadata": {
    "collapsed": true
   },
   "outputs": [],
   "source": []
  }
 ],
 "metadata": {
  "anaconda-cloud": {},
  "kernelspec": {
   "display_name": "Python [Root]",
   "language": "python",
   "name": "Python [Root]"
  },
  "language_info": {
   "codemirror_mode": {
    "name": "ipython",
    "version": 2
   },
   "file_extension": ".py",
   "mimetype": "text/x-python",
   "name": "python",
   "nbconvert_exporter": "python",
   "pygments_lexer": "ipython2",
   "version": "2.7.12"
  },
  "toc": {
   "nav_menu": {
    "height": "12px",
    "width": "252px"
   },
   "navigate_menu": true,
   "number_sections": true,
   "sideBar": true,
   "threshold": 4,
   "toc_cell": true,
   "toc_section_display": "block",
   "toc_window_display": false
  }
 },
 "nbformat": 4,
 "nbformat_minor": 0
}
