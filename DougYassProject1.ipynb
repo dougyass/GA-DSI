{
 "cells": [
  {
   "cell_type": "markdown",
   "metadata": {},
   "source": [
    "# Project 1\n",
    "\n",
    "## Step 1: Open the `sat_scores.csv` file. Investigate the data, and answer the questions below.\n"
   ]
  },
  {
   "cell_type": "markdown",
   "metadata": {},
   "source": [
    "##### 1. What does the data describe?"
   ]
  },
  {
   "cell_type": "markdown",
   "metadata": {
    "collapsed": true
   },
   "source": [
    "The SAT scores by State, Participation Rate, Verbal, and Math"
   ]
  },
  {
   "cell_type": "markdown",
   "metadata": {},
   "source": []
  },
  {
   "cell_type": "markdown",
   "metadata": {},
   "source": [
    "##### 2. Does the data look complete? Are there any obvious issues with the observations?"
   ]
  },
  {
   "cell_type": "markdown",
   "metadata": {},
   "source": [
    "It looks complete to me."
   ]
  },
  {
   "cell_type": "markdown",
   "metadata": {},
   "source": [
    "##### 3. Create a data dictionary for the dataset."
   ]
  },
  {
   "cell_type": "markdown",
   "metadata": {
    "collapsed": true
   },
   "source": [
    "{State : Rate, Verbal, Math}"
   ]
  },
  {
   "cell_type": "markdown",
   "metadata": {},
   "source": [
    "## Step 2: Load the data."
   ]
  },
  {
   "cell_type": "markdown",
   "metadata": {},
   "source": [
    "##### 4. Load the data into a list of lists"
   ]
  },
  {
   "cell_type": "code",
   "execution_count": 5,
   "metadata": {
    "collapsed": false
   },
   "outputs": [],
   "source": [
    "import csv\n",
    "with open('/Users/pivit/DSI-NYC-2/projects/projects-weekly/project-01/assets/sat_scores.csv', 'rU') as f:\n",
    "    reader = csv.reader(f)\n",
    "    \n",
    "\n",
    "\n"
   ]
  },
  {
   "cell_type": "markdown",
   "metadata": {},
   "source": [
    "##### 5. Print the data"
   ]
  },
  {
   "cell_type": "code",
   "execution_count": 6,
   "metadata": {
    "collapsed": false,
    "scrolled": false
   },
   "outputs": [
    {
     "name": "stdout",
     "output_type": "stream",
     "text": [
      "['State', 'Rate', 'Verbal', 'Math']\n",
      "['CT', '82', '509', '510']\n",
      "['NJ', '81', '499', '513']\n",
      "['MA', '79', '511', '515']\n",
      "['NY', '77', '495', '505']\n",
      "['NH', '72', '520', '516']\n",
      "['RI', '71', '501', '499']\n",
      "['PA', '71', '500', '499']\n",
      "['VT', '69', '511', '506']\n",
      "['ME', '69', '506', '500']\n",
      "['VA', '68', '510', '501']\n",
      "['DE', '67', '501', '499']\n",
      "['MD', '65', '508', '510']\n",
      "['NC', '65', '493', '499']\n",
      "['GA', '63', '491', '489']\n",
      "['IN', '60', '499', '501']\n",
      "['SC', '57', '486', '488']\n",
      "['DC', '56', '482', '474']\n",
      "['OR', '55', '526', '526']\n",
      "['FL', '54', '498', '499']\n",
      "['WA', '53', '527', '527']\n",
      "['TX', '53', '493', '499']\n",
      "['HI', '52', '485', '515']\n",
      "['AK', '51', '514', '510']\n",
      "['CA', '51', '498', '517']\n",
      "['AZ', '34', '523', '525']\n",
      "['NV', '33', '509', '515']\n",
      "['CO', '31', '539', '542']\n",
      "['OH', '26', '534', '439']\n",
      "['MT', '23', '539', '539']\n",
      "['WV', '18', '527', '512']\n",
      "['ID', '17', '543', '542']\n",
      "['TN', '13', '562', '553']\n",
      "['NM', '13', '551', '542']\n",
      "['IL', '12', '576', '589']\n",
      "['KY', '12', '550', '550']\n",
      "['WY', '11', '547', '545']\n",
      "['MI', '11', '561', '572']\n",
      "['MN', '9', '580', '589']\n",
      "['KS', '9', '577', '580']\n",
      "['AL', '9', '559', '554']\n",
      "['NE', '8', '562', '568']\n",
      "['OK', '8', '567', '561']\n",
      "['MO', '8', '577', '577']\n",
      "['LA', '7', '564', '562']\n",
      "['WI', '6', '584', '596']\n",
      "['AR', '6', '562', '550']\n",
      "['UT', '5', '575', '570']\n",
      "['IA', '5', '593', '603']\n",
      "['SD', '4', '577', '582']\n",
      "['ND', '4', '592', '599']\n",
      "['MS', '4', '566', '551']\n",
      "['All', '45', '506', '514']\n"
     ]
    }
   ],
   "source": [
    "import csv\n",
    "with open('/Users/pivit/DSI-NYC-2/projects/projects-weekly/project-01/assets/sat_scores.csv', 'rU') as f:\n",
    "    reader = csv.reader(f)\n",
    "    for row in reader:\n",
    "        print row"
   ]
  },
  {
   "cell_type": "code",
   "execution_count": null,
   "metadata": {
    "collapsed": false
   },
   "outputs": [],
   "source": []
  },
  {
   "cell_type": "code",
   "execution_count": null,
   "metadata": {
    "collapsed": false
   },
   "outputs": [],
   "source": []
  },
  {
   "cell_type": "markdown",
   "metadata": {
    "collapsed": true
   },
   "source": [
    "##### 6. Extract a list of the labels from the data, and remove them from the data."
   ]
  },
  {
   "cell_type": "code",
   "execution_count": 7,
   "metadata": {
    "collapsed": false
   },
   "outputs": [
    {
     "name": "stdout",
     "output_type": "stream",
     "text": [
      "[['CT', '82', '509', '510'], ['NJ', '81', '499', '513'], ['MA', '79', '511', '515'], ['NY', '77', '495', '505'], ['NH', '72', '520', '516'], ['RI', '71', '501', '499'], ['PA', '71', '500', '499'], ['VT', '69', '511', '506'], ['ME', '69', '506', '500'], ['VA', '68', '510', '501'], ['DE', '67', '501', '499'], ['MD', '65', '508', '510'], ['NC', '65', '493', '499'], ['GA', '63', '491', '489'], ['IN', '60', '499', '501'], ['SC', '57', '486', '488'], ['DC', '56', '482', '474'], ['OR', '55', '526', '526'], ['FL', '54', '498', '499'], ['WA', '53', '527', '527'], ['TX', '53', '493', '499'], ['HI', '52', '485', '515'], ['AK', '51', '514', '510'], ['CA', '51', '498', '517'], ['AZ', '34', '523', '525'], ['NV', '33', '509', '515'], ['CO', '31', '539', '542'], ['OH', '26', '534', '439'], ['MT', '23', '539', '539'], ['WV', '18', '527', '512'], ['ID', '17', '543', '542'], ['TN', '13', '562', '553'], ['NM', '13', '551', '542'], ['IL', '12', '576', '589'], ['KY', '12', '550', '550'], ['WY', '11', '547', '545'], ['MI', '11', '561', '572'], ['MN', '9', '580', '589'], ['KS', '9', '577', '580'], ['AL', '9', '559', '554'], ['NE', '8', '562', '568'], ['OK', '8', '567', '561'], ['MO', '8', '577', '577'], ['LA', '7', '564', '562'], ['WI', '6', '584', '596'], ['AR', '6', '562', '550'], ['UT', '5', '575', '570'], ['IA', '5', '593', '603'], ['SD', '4', '577', '582'], ['ND', '4', '592', '599'], ['MS', '4', '566', '551'], ['All', '45', '506', '514']]\n"
     ]
    }
   ],
   "source": [
    "import csv\n",
    "\n",
    "rows = []\n",
    "with open('/Users/pivit/DSI-NYC-2/projects/projects-weekly/project-01/assets/sat_scores.csv', 'rU') as f:\n",
    "    reader = csv.reader(f)\n",
    "    for row in reader:\n",
    "        rows.append(row)\n",
    "\n",
    "header = rows[0]\n",
    "data = rows[1:]\n",
    "\n",
    "print data"
   ]
  },
  {
   "cell_type": "code",
   "execution_count": null,
   "metadata": {
    "collapsed": false
   },
   "outputs": [],
   "source": []
  },
  {
   "cell_type": "markdown",
   "metadata": {},
   "source": [
    "##### 7. Create a list of State names extracted from the data. (Hint: use the list of labels to index on the State column)"
   ]
  },
  {
   "cell_type": "code",
   "execution_count": 8,
   "metadata": {
    "collapsed": false
   },
   "outputs": [
    {
     "name": "stdout",
     "output_type": "stream",
     "text": [
      "State\n",
      "CT\n",
      "NJ\n",
      "MA\n",
      "NY\n",
      "NH\n",
      "RI\n",
      "PA\n",
      "VT\n",
      "ME\n",
      "VA\n",
      "DE\n",
      "MD\n",
      "NC\n",
      "GA\n",
      "IN\n",
      "SC\n",
      "DC\n",
      "OR\n",
      "FL\n",
      "WA\n",
      "TX\n",
      "HI\n",
      "AK\n",
      "CA\n",
      "AZ\n",
      "NV\n",
      "CO\n",
      "OH\n",
      "MT\n",
      "WV\n",
      "ID\n",
      "TN\n",
      "NM\n",
      "IL\n",
      "KY\n",
      "WY\n",
      "MI\n",
      "MN\n",
      "KS\n",
      "AL\n",
      "NE\n",
      "OK\n",
      "MO\n",
      "LA\n",
      "WI\n",
      "AR\n",
      "UT\n",
      "IA\n",
      "SD\n",
      "ND\n",
      "MS\n",
      "All\n"
     ]
    }
   ],
   "source": [
    "import csv\n",
    "with open('/Users/pivit/DSI-NYC-2/projects/projects-weekly/project-01/assets/sat_scores.csv', 'rU') as f:\n",
    "    reader = csv.reader(f)\n",
    "    for row in reader:\n",
    "        print row[0]"
   ]
  },
  {
   "cell_type": "code",
   "execution_count": null,
   "metadata": {
    "collapsed": false
   },
   "outputs": [],
   "source": []
  },
  {
   "cell_type": "markdown",
   "metadata": {},
   "source": [
    "##### 8. Print the types of each column"
   ]
  },
  {
   "cell_type": "code",
   "execution_count": 9,
   "metadata": {
    "collapsed": false
   },
   "outputs": [
    {
     "name": "stdout",
     "output_type": "stream",
     "text": [
      "<type 'str'> <type 'str'> <type 'str'> <type 'str'>\n",
      "<type 'str'> <type 'str'> <type 'str'> <type 'str'>\n",
      "<type 'str'> <type 'str'> <type 'str'> <type 'str'>\n",
      "<type 'str'> <type 'str'> <type 'str'> <type 'str'>\n",
      "<type 'str'> <type 'str'> <type 'str'> <type 'str'>\n",
      "<type 'str'> <type 'str'> <type 'str'> <type 'str'>\n",
      "<type 'str'> <type 'str'> <type 'str'> <type 'str'>\n",
      "<type 'str'> <type 'str'> <type 'str'> <type 'str'>\n",
      "<type 'str'> <type 'str'> <type 'str'> <type 'str'>\n",
      "<type 'str'> <type 'str'> <type 'str'> <type 'str'>\n",
      "<type 'str'> <type 'str'> <type 'str'> <type 'str'>\n",
      "<type 'str'> <type 'str'> <type 'str'> <type 'str'>\n",
      "<type 'str'> <type 'str'> <type 'str'> <type 'str'>\n",
      "<type 'str'> <type 'str'> <type 'str'> <type 'str'>\n",
      "<type 'str'> <type 'str'> <type 'str'> <type 'str'>\n",
      "<type 'str'> <type 'str'> <type 'str'> <type 'str'>\n",
      "<type 'str'> <type 'str'> <type 'str'> <type 'str'>\n",
      "<type 'str'> <type 'str'> <type 'str'> <type 'str'>\n",
      "<type 'str'> <type 'str'> <type 'str'> <type 'str'>\n",
      "<type 'str'> <type 'str'> <type 'str'> <type 'str'>\n",
      "<type 'str'> <type 'str'> <type 'str'> <type 'str'>\n",
      "<type 'str'> <type 'str'> <type 'str'> <type 'str'>\n",
      "<type 'str'> <type 'str'> <type 'str'> <type 'str'>\n",
      "<type 'str'> <type 'str'> <type 'str'> <type 'str'>\n",
      "<type 'str'> <type 'str'> <type 'str'> <type 'str'>\n",
      "<type 'str'> <type 'str'> <type 'str'> <type 'str'>\n",
      "<type 'str'> <type 'str'> <type 'str'> <type 'str'>\n",
      "<type 'str'> <type 'str'> <type 'str'> <type 'str'>\n",
      "<type 'str'> <type 'str'> <type 'str'> <type 'str'>\n",
      "<type 'str'> <type 'str'> <type 'str'> <type 'str'>\n",
      "<type 'str'> <type 'str'> <type 'str'> <type 'str'>\n",
      "<type 'str'> <type 'str'> <type 'str'> <type 'str'>\n",
      "<type 'str'> <type 'str'> <type 'str'> <type 'str'>\n",
      "<type 'str'> <type 'str'> <type 'str'> <type 'str'>\n",
      "<type 'str'> <type 'str'> <type 'str'> <type 'str'>\n",
      "<type 'str'> <type 'str'> <type 'str'> <type 'str'>\n",
      "<type 'str'> <type 'str'> <type 'str'> <type 'str'>\n",
      "<type 'str'> <type 'str'> <type 'str'> <type 'str'>\n",
      "<type 'str'> <type 'str'> <type 'str'> <type 'str'>\n",
      "<type 'str'> <type 'str'> <type 'str'> <type 'str'>\n",
      "<type 'str'> <type 'str'> <type 'str'> <type 'str'>\n",
      "<type 'str'> <type 'str'> <type 'str'> <type 'str'>\n",
      "<type 'str'> <type 'str'> <type 'str'> <type 'str'>\n",
      "<type 'str'> <type 'str'> <type 'str'> <type 'str'>\n",
      "<type 'str'> <type 'str'> <type 'str'> <type 'str'>\n",
      "<type 'str'> <type 'str'> <type 'str'> <type 'str'>\n",
      "<type 'str'> <type 'str'> <type 'str'> <type 'str'>\n",
      "<type 'str'> <type 'str'> <type 'str'> <type 'str'>\n",
      "<type 'str'> <type 'str'> <type 'str'> <type 'str'>\n",
      "<type 'str'> <type 'str'> <type 'str'> <type 'str'>\n",
      "<type 'str'> <type 'str'> <type 'str'> <type 'str'>\n",
      "<type 'str'> <type 'str'> <type 'str'> <type 'str'>\n"
     ]
    }
   ],
   "source": [
    "import csv\n",
    "with open('/Users/pivit/DSI-NYC-2/projects/projects-weekly/project-01/assets/sat_scores.csv', 'rU') as f:\n",
    "    reader = csv.reader(f)\n",
    "    row1 = next(reader)\n",
    "    \n",
    "    for row in reader:\n",
    "        print type(row[0]), type(row[1]), type(row[2]), type(row[3])\n",
    "        "
   ]
  },
  {
   "cell_type": "code",
   "execution_count": null,
   "metadata": {
    "collapsed": false
   },
   "outputs": [],
   "source": []
  },
  {
   "cell_type": "markdown",
   "metadata": {},
   "source": [
    "##### 9. Do any types need to be reassigned? If so, go ahead and do it."
   ]
  },
  {
   "cell_type": "code",
   "execution_count": 10,
   "metadata": {
    "collapsed": false,
    "scrolled": true
   },
   "outputs": [
    {
     "name": "stdout",
     "output_type": "stream",
     "text": [
      "['State', 'Rate', 'Verbal', 'Math']\n",
      "CT 82 509 510\n",
      "NJ 81 499 513\n",
      "MA 79 511 515\n",
      "NY 77 495 505\n",
      "NH 72 520 516\n",
      "RI 71 501 499\n",
      "PA 71 500 499\n",
      "VT 69 511 506\n",
      "ME 69 506 500\n",
      "VA 68 510 501\n",
      "DE 67 501 499\n",
      "MD 65 508 510\n",
      "NC 65 493 499\n",
      "GA 63 491 489\n",
      "IN 60 499 501\n",
      "SC 57 486 488\n",
      "DC 56 482 474\n",
      "OR 55 526 526\n",
      "FL 54 498 499\n",
      "WA 53 527 527\n",
      "TX 53 493 499\n",
      "HI 52 485 515\n",
      "AK 51 514 510\n",
      "CA 51 498 517\n",
      "AZ 34 523 525\n",
      "NV 33 509 515\n",
      "CO 31 539 542\n",
      "OH 26 534 439\n",
      "MT 23 539 539\n",
      "WV 18 527 512\n",
      "ID 17 543 542\n",
      "TN 13 562 553\n",
      "NM 13 551 542\n",
      "IL 12 576 589\n",
      "KY 12 550 550\n",
      "WY 11 547 545\n",
      "MI 11 561 572\n",
      "MN 9 580 589\n",
      "KS 9 577 580\n",
      "AL 9 559 554\n",
      "NE 8 562 568\n",
      "OK 8 567 561\n",
      "MO 8 577 577\n",
      "LA 7 564 562\n",
      "WI 6 584 596\n",
      "AR 6 562 550\n",
      "UT 5 575 570\n",
      "IA 5 593 603\n",
      "SD 4 577 582\n",
      "ND 4 592 599\n",
      "MS 4 566 551\n",
      "All 45 506 514\n"
     ]
    }
   ],
   "source": [
    "import csv\n",
    "with open('/Users/pivit/DSI-NYC-2/projects/projects-weekly/project-01/assets/sat_scores.csv', 'rU') as f:\n",
    "    reader = csv.reader(f)\n",
    "    for row in reader:\n",
    "        if row[0] == 'State':\n",
    "            print row\n",
    "        else:\n",
    "            print row[0], int(row[1]), int(row[2]), int(row[3])"
   ]
  },
  {
   "cell_type": "code",
   "execution_count": null,
   "metadata": {
    "collapsed": false
   },
   "outputs": [],
   "source": []
  },
  {
   "cell_type": "code",
   "execution_count": null,
   "metadata": {
    "collapsed": false
   },
   "outputs": [],
   "source": []
  },
  {
   "cell_type": "markdown",
   "metadata": {},
   "source": [
    "##### 10. Create a dictionary for each column mapping the State to its respective value for that column. "
   ]
  },
  {
   "cell_type": "code",
   "execution_count": 11,
   "metadata": {
    "collapsed": false
   },
   "outputs": [
    {
     "data": {
      "text/plain": [
       "{'AK': ['51', '514', '510'],\n",
       " 'AL': ['9', '559', '554'],\n",
       " 'AR': ['6', '562', '550'],\n",
       " 'AZ': ['34', '523', '525'],\n",
       " 'All': ['45', '506', '514'],\n",
       " 'CA': ['51', '498', '517'],\n",
       " 'CO': ['31', '539', '542'],\n",
       " 'CT': ['82', '509', '510'],\n",
       " 'DC': ['56', '482', '474'],\n",
       " 'DE': ['67', '501', '499'],\n",
       " 'FL': ['54', '498', '499'],\n",
       " 'GA': ['63', '491', '489'],\n",
       " 'HI': ['52', '485', '515'],\n",
       " 'IA': ['5', '593', '603'],\n",
       " 'ID': ['17', '543', '542'],\n",
       " 'IL': ['12', '576', '589'],\n",
       " 'IN': ['60', '499', '501'],\n",
       " 'KS': ['9', '577', '580'],\n",
       " 'KY': ['12', '550', '550'],\n",
       " 'LA': ['7', '564', '562'],\n",
       " 'MA': ['79', '511', '515'],\n",
       " 'MD': ['65', '508', '510'],\n",
       " 'ME': ['69', '506', '500'],\n",
       " 'MI': ['11', '561', '572'],\n",
       " 'MN': ['9', '580', '589'],\n",
       " 'MO': ['8', '577', '577'],\n",
       " 'MS': ['4', '566', '551'],\n",
       " 'MT': ['23', '539', '539'],\n",
       " 'NC': ['65', '493', '499'],\n",
       " 'ND': ['4', '592', '599'],\n",
       " 'NE': ['8', '562', '568'],\n",
       " 'NH': ['72', '520', '516'],\n",
       " 'NJ': ['81', '499', '513'],\n",
       " 'NM': ['13', '551', '542'],\n",
       " 'NV': ['33', '509', '515'],\n",
       " 'NY': ['77', '495', '505'],\n",
       " 'OH': ['26', '534', '439'],\n",
       " 'OK': ['8', '567', '561'],\n",
       " 'OR': ['55', '526', '526'],\n",
       " 'PA': ['71', '500', '499'],\n",
       " 'RI': ['71', '501', '499'],\n",
       " 'SC': ['57', '486', '488'],\n",
       " 'SD': ['4', '577', '582'],\n",
       " 'State': ['Rate', 'Verbal', 'Math'],\n",
       " 'TN': ['13', '562', '553'],\n",
       " 'TX': ['53', '493', '499'],\n",
       " 'UT': ['5', '575', '570'],\n",
       " 'VA': ['68', '510', '501'],\n",
       " 'VT': ['69', '511', '506'],\n",
       " 'WA': ['53', '527', '527'],\n",
       " 'WI': ['6', '584', '596'],\n",
       " 'WV': ['18', '527', '512'],\n",
       " 'WY': ['11', '547', '545']}"
      ]
     },
     "execution_count": 11,
     "metadata": {},
     "output_type": "execute_result"
    }
   ],
   "source": [
    "import csv\n",
    "\n",
    "rows = []\n",
    "with open('/Users/pivit/DSI-NYC-2/projects/projects-weekly/project-01/assets/sat_scores.csv', 'rU') as f:\n",
    "    reader = csv.reader(f)\n",
    "    for row in reader:\n",
    "        rows.append(row)\n",
    "\n",
    "header = rows[0]\n",
    "data = rows[1:]\n",
    "\n",
    "{x[0]:x[1:] for x in rows}\n"
   ]
  },
  {
   "cell_type": "code",
   "execution_count": null,
   "metadata": {
    "collapsed": false
   },
   "outputs": [],
   "source": []
  },
  {
   "cell_type": "markdown",
   "metadata": {},
   "source": [
    "##### 11. Create a dictionary with the values for each of the numeric columns"
   ]
  },
  {
   "cell_type": "code",
   "execution_count": 14,
   "metadata": {
    "collapsed": false
   },
   "outputs": [
    {
     "data": {
      "text/plain": [
       "{'Rate': ['82',\n",
       "  '81',\n",
       "  '79',\n",
       "  '77',\n",
       "  '72',\n",
       "  '71',\n",
       "  '71',\n",
       "  '69',\n",
       "  '69',\n",
       "  '68',\n",
       "  '67',\n",
       "  '65',\n",
       "  '65',\n",
       "  '63',\n",
       "  '60',\n",
       "  '57',\n",
       "  '56',\n",
       "  '55',\n",
       "  '54',\n",
       "  '53',\n",
       "  '53',\n",
       "  '52',\n",
       "  '51',\n",
       "  '51',\n",
       "  '34',\n",
       "  '33',\n",
       "  '31',\n",
       "  '26',\n",
       "  '23',\n",
       "  '18',\n",
       "  '17',\n",
       "  '13',\n",
       "  '13',\n",
       "  '12',\n",
       "  '12',\n",
       "  '11',\n",
       "  '11',\n",
       "  '9',\n",
       "  '9',\n",
       "  '9',\n",
       "  '8',\n",
       "  '8',\n",
       "  '8',\n",
       "  '7',\n",
       "  '6',\n",
       "  '6',\n",
       "  '5',\n",
       "  '5',\n",
       "  '4',\n",
       "  '4',\n",
       "  '4',\n",
       "  '45']}"
      ]
     },
     "execution_count": 14,
     "metadata": {},
     "output_type": "execute_result"
    }
   ],
   "source": [
    "import csv\n",
    "\n",
    "rows = []\n",
    "with open('/Users/pivit/DSI-NYC-2/projects/projects-weekly/project-01/assets/sat_scores.csv', 'rU') as f:\n",
    "    reader = csv.reader(f)\n",
    "    \n",
    "    \n",
    "    for row in reader:\n",
    "        rows.append(row)\n",
    "\n",
    "header = rows[0]\n",
    "data = rows[1:]\n",
    "\n",
    "{'Verbal':[int(x[2]) for x in data]}\n",
    "{'State':[x[0] for x in data]}\n",
    "{'Math':[x[3] for x in data]}\n",
    "{'Rate':[x[1] for x in data]}\n",
    "\n",
    "\n"
   ]
  },
  {
   "cell_type": "code",
   "execution_count": null,
   "metadata": {
    "collapsed": false
   },
   "outputs": [],
   "source": []
  },
  {
   "cell_type": "markdown",
   "metadata": {},
   "source": [
    "## Step 3: Describe the data"
   ]
  },
  {
   "cell_type": "markdown",
   "metadata": {},
   "source": [
    "##### 12. Print the min and max of each column"
   ]
  },
  {
   "cell_type": "code",
   "execution_count": 16,
   "metadata": {
    "collapsed": false
   },
   "outputs": [
    {
     "name": "stdout",
     "output_type": "stream",
     "text": [
      "State      AK\n",
      "Rate        4\n",
      "Verbal    482\n",
      "Math      439\n",
      "dtype: object\n",
      "State      WY\n",
      "Rate       82\n",
      "Verbal    593\n",
      "Math      603\n",
      "dtype: object\n"
     ]
    }
   ],
   "source": [
    "import pandas as pd\n",
    "import numpy as np\n",
    "import matplotlib.pyplot as plt\n",
    "%matplotlib inline\n",
    "\n",
    "df = pd.read_csv('/Users/pivit/DSI-NYC-2/projects/projects-weekly/project-01/assets/sat_scores.csv')\n",
    "print df.min()\n",
    "print df.max()"
   ]
  },
  {
   "cell_type": "markdown",
   "metadata": {},
   "source": [
    "##### 13. Write a function using only list comprehensions, no loops, to compute Standard Deviation. Print the Standard Deviation of each numeric column."
   ]
  },
  {
   "cell_type": "code",
   "execution_count": 18,
   "metadata": {
    "collapsed": false
   },
   "outputs": [
    {
     "name": "stdout",
     "output_type": "stream",
     "text": [
      "32.9089653438\n"
     ]
    }
   ],
   "source": [
    "#Computing Standard Deviation of Verbal Scores\n",
    "list3 = [int(x[2]) for x in data]\n",
    "\n",
    "length = len(list3)\n",
    "\n",
    "sumof = sum(list3)\n",
    "\n",
    "mean = sumof / length\n",
    "\n",
    "\n",
    "list4 =[(x-mean) ** 2 for x in list3]\n",
    "total = sum(list4)\n",
    "final_var = total / length\n",
    "final_dev = final_var ** 0.5\n",
    "\n",
    "print final_dev\n",
    "# to print the standard deviation of a different column you'd need to change int(x[2]) in list3"
   ]
  },
  {
   "cell_type": "code",
   "execution_count": null,
   "metadata": {
    "collapsed": false,
    "scrolled": true
   },
   "outputs": [],
   "source": [
    "\n",
    "\n",
    "\n",
    "\n",
    "    \n",
    "\n",
    "\n",
    "    \n"
   ]
  },
  {
   "cell_type": "code",
   "execution_count": null,
   "metadata": {
    "collapsed": false
   },
   "outputs": [],
   "source": [
    "\n",
    "\n",
    "\n"
   ]
  },
  {
   "cell_type": "markdown",
   "metadata": {},
   "source": [
    "## Step 4: Visualize the data"
   ]
  },
  {
   "cell_type": "markdown",
   "metadata": {
    "collapsed": true
   },
   "source": [
    "##### 14. Using MatPlotLib and PyPlot, plot the distribution of the Rate using histograms."
   ]
  },
  {
   "cell_type": "code",
   "execution_count": 19,
   "metadata": {
    "collapsed": false
   },
   "outputs": [
    {
     "data": {
      "text/plain": [
       "<matplotlib.axes._subplots.AxesSubplot at 0x11252d250>"
      ]
     },
     "execution_count": 19,
     "metadata": {},
     "output_type": "execute_result"
    },
    {
     "data": {
      "image/png": "[encoded data removed]",
      "text/plain": [
       "<matplotlib.figure.Figure at 0x11250ed50>"
      ]
     },
     "metadata": {},
     "output_type": "display_data"
    }
   ],
   "source": [
    "df['Rate'].hist()"
   ]
  },
  {
   "cell_type": "markdown",
   "metadata": {},
   "source": [
    "##### 15. Plot the Math distribution"
   ]
  },
  {
   "cell_type": "code",
   "execution_count": 20,
   "metadata": {
    "collapsed": false
   },
   "outputs": [
    {
     "data": {
      "text/plain": [
       "<matplotlib.axes._subplots.AxesSubplot at 0x11726add0>"
      ]
     },
     "execution_count": 20,
     "metadata": {},
     "output_type": "execute_result"
    },
    {
     "data": {
      "image/png": "[encoded data removed]",
      "text/plain": [
       "<matplotlib.figure.Figure at 0x117293310>"
      ]
     },
     "metadata": {},
     "output_type": "display_data"
    }
   ],
   "source": [
    "df['Math'].hist()"
   ]
  },
  {
   "cell_type": "markdown",
   "metadata": {},
   "source": [
    "##### 16. Plot the Verbal distribution"
   ]
  },
  {
   "cell_type": "code",
   "execution_count": 21,
   "metadata": {
    "collapsed": false
   },
   "outputs": [
    {
     "data": {
      "text/plain": [
       "<matplotlib.axes._subplots.AxesSubplot at 0x1178d12d0>"
      ]
     },
     "execution_count": 21,
     "metadata": {},
     "output_type": "execute_result"
    },
    {
     "data": {
      "image/png": "[encoded data removed]",
      "text/plain": [
       "<matplotlib.figure.Figure at 0x1178e6110>"
      ]
     },
     "metadata": {},
     "output_type": "display_data"
    }
   ],
   "source": [
    "df['Verbal'].hist()"
   ]
  },
  {
   "cell_type": "markdown",
   "metadata": {},
   "source": [
    "##### 17. What is the typical assumption for data distribution?"
   ]
  },
  {
   "cell_type": "markdown",
   "metadata": {
    "collapsed": false
   },
   "source": [
    "The typical assumption is that data will be normally distributed."
   ]
  },
  {
   "cell_type": "markdown",
   "metadata": {},
   "source": [
    "##### 18. Does that distribution hold true for our data?"
   ]
  },
  {
   "cell_type": "markdown",
   "metadata": {
    "collapsed": false
   },
   "source": [
    "It does not. If you look at the histograms for verbal, math, and rate, they are not normally distributed."
   ]
  },
  {
   "cell_type": "markdown",
   "metadata": {},
   "source": [
    "##### 19. Plot some scatterplots. **BONUS**: Use a PyPlot `figure` to present multiple plots at once."
   ]
  },
  {
   "cell_type": "code",
   "execution_count": 9,
   "metadata": {
    "collapsed": false
   },
   "outputs": [
    {
     "data": {
      "text/plain": [
       "[<matplotlib.lines.Line2D at 0x118770d10>]"
      ]
     },
     "execution_count": 9,
     "metadata": {},
     "output_type": "execute_result"
    },
    {
     "data": {
      "image/png": "[encoded data removed]",
      "text/plain": [
       "<matplotlib.figure.Figure at 0x11894b410>"
      ]
     },
     "metadata": {},
     "output_type": "display_data"
    }
   ],
   "source": [
    "\n",
    "#df['Math'].plot()\n",
    "\n",
    "plt.plot(df['Math'], df['Verbal'])\n"
   ]
  },
  {
   "cell_type": "markdown",
   "metadata": {},
   "source": [
    "##### 20. Are there any interesting relationships to note?"
   ]
  },
  {
   "cell_type": "markdown",
   "metadata": {
    "collapsed": false
   },
   "source": [
    "It's a relatively linear relationship with the exception of Ohio which is an outlier. Ohio had the worst math scores by far (439) and were in the middle of the pack for verbal (534)."
   ]
  },
  {
   "cell_type": "markdown",
   "metadata": {},
   "source": [
    "##### 21. Create box plots for each variable. "
   ]
  },
  {
   "cell_type": "code",
   "execution_count": 145,
   "metadata": {
    "collapsed": false
   },
   "outputs": [
    {
     "data": {
      "text/plain": [
       "{'boxes': [<matplotlib.lines.Line2D at 0x119f0a750>],\n",
       " 'caps': [<matplotlib.lines.Line2D at 0x119f525d0>,\n",
       "  <matplotlib.lines.Line2D at 0x119f52c10>],\n",
       " 'fliers': [<matplotlib.lines.Line2D at 0x119f5e8d0>],\n",
       " 'means': [],\n",
       " 'medians': [<matplotlib.lines.Line2D at 0x119f5e290>],\n",
       " 'whiskers': [<matplotlib.lines.Line2D at 0x119f0a890>,\n",
       "  <matplotlib.lines.Line2D at 0x119f0af50>]}"
      ]
     },
     "execution_count": 145,
     "metadata": {},
     "output_type": "execute_result"
    },
    {
     "data": {
      "image/png": "[encoded data removed]",
      "text/plain": [
       "<matplotlib.figure.Figure at 0x119a388d0>"
      ]
     },
     "metadata": {},
     "output_type": "display_data"
    }
   ],
   "source": [
    "#plt.boxplot(df['Math'])\n",
    "#plt.boxplot(df['Verbal'])\n",
    "plt.boxplot(df['Rate'])"
   ]
  },
  {
   "cell_type": "markdown",
   "metadata": {},
   "source": [
    "##### BONUS: Using Tableau, create a heat map for each variable using a map of the US. "
   ]
  },
  {
   "cell_type": "markdown",
   "metadata": {
    "collapsed": true
   },
   "source": []
  },
  {
   "cell_type": "markdown",
   "metadata": {},
   "source": [
    "![Verbal Scores by State](verbal.png)"
   ]
  },
  {
   "cell_type": "markdown",
   "metadata": {},
   "source": [
    "![Math Scores by State](math.png)"
   ]
  },
  {
   "cell_type": "code",
   "execution_count": null,
   "metadata": {
    "collapsed": true
   },
   "outputs": [],
   "source": []
  }
 ],
 "metadata": {
  "anaconda-cloud": {},
  "kernelspec": {
   "display_name": "Python [Root]",
   "language": "python",
   "name": "Python [Root]"
  },
  "language_info": {
   "codemirror_mode": {
    "name": "ipython",
    "version": 2
   },
   "file_extension": ".py",
   "mimetype": "text/x-python",
   "name": "python",
   "nbconvert_exporter": "python",
   "pygments_lexer": "ipython2",
   "version": "2.7.12"
  }
 },
 "nbformat": 4,
 "nbformat_minor": 0
}
