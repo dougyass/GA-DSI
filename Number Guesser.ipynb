{
 "cells": [
  {
   "cell_type": "code",
   "execution_count": 5,
   "metadata": {
    "collapsed": false
   },
   "outputs": [
    {
     "name": "stdout",
     "output_type": "stream",
     "text": [
      "Guess a number 44\n",
      "Too low.\n",
      "Total guesses left:  4\n",
      "Guess a number 56\n",
      "Got it!\n"
     ]
    }
   ],
   "source": [
    "def number_guesser(random_number):\n",
    "    \n",
    "    guess_count = 5\n",
    "    while (guess_count != 0):\n",
    "        user_number = int(raw_input(\"Guess a number \"))\n",
    "        if user_number > random_number:\n",
    "            print \"Too high.\"\n",
    "            guess_count = guess_count - 1\n",
    "            print \"Total guesses left: \" , guess_count\n",
    "        elif user_number < random_number:\n",
    "            print \"Too low.\"\n",
    "            guess_count = guess_count -1\n",
    "            print \"Total guesses left: \" , guess_count\n",
    "           \n",
    "        else:\n",
    "            \n",
    "            print \"Got it!\"\n",
    "            guess_count = 0\n",
    "            \n",
    "number_guesser(56)"
   ]
  },
  {
   "cell_type": "code",
   "execution_count": null,
   "metadata": {
    "collapsed": true
   },
   "outputs": [],
   "source": []
  }
 ],
 "metadata": {
  "kernelspec": {
   "display_name": "Python [Root]",
   "language": "python",
   "name": "Python [Root]"
  },
  "language_info": {
   "codemirror_mode": {
    "name": "ipython",
    "version": 2
   },
   "file_extension": ".py",
   "mimetype": "text/x-python",
   "name": "python",
   "nbconvert_exporter": "python",
   "pygments_lexer": "ipython2",
   "version": "2.7.12"
  }
 },
 "nbformat": 4,
 "nbformat_minor": 0
}
