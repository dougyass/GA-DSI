{
 "cells": [
  {
   "cell_type": "code",
   "execution_count": 362,
   "metadata": {
    "collapsed": true
   },
   "outputs": [],
   "source": [
    "import csv\n",
    "import pandas as pd\n",
    "import numpy as np\n",
    "import requests\n",
    "from IPython.core.display import HTML\n",
    "from selenium import webdriver\n",
    "from bs4 import BeautifulSoup\n",
    "import timeit\n",
    "import urllib2\n",
    "import seaborn as sb\n",
    "import matplotlib.pyplot as plt\n",
    "import json\n",
    "%matplotlib inline\n"
   ]
  },
  {
   "cell_type": "code",
   "execution_count": 173,
   "metadata": {
    "collapsed": true
   },
   "outputs": [],
   "source": [
    "###Scraping Data (Takes a couple minutes)\n",
    "salary = []\n",
    "company = []\n",
    "location = []\n",
    "jobs = []\n",
    "jobdescription = []\n",
    "for i in range(31):\n",
    "    url = \"http://www.careerbuilder.com/jobs-data-science?page_number=1&pay=20\"\n",
    "    index = 59\n",
    "    char = i\n",
    "    charplus = i + 1\n",
    "    charplusstring = str(charplus)\n",
    "    url2 = url[:index] + charplusstring + url[index + 1:]\n",
    "    rm = requests.get(url2)\n",
    "    soupm = BeautifulSoup(rm.content, \"lxml\")\n",
    "    \n",
    "    ###Appends job titles\n",
    "    for d in soupm.findAll(class_='job-title'):\n",
    "        jobs.append(d.text)\n",
    "        \n",
    "    ###Appends job descriptions\n",
    "    for d in soupm.findAll(class_='job-description show-for-medium-up'):\n",
    "        jobdescription.append(d.text)\n",
    "    \n",
    "    ###Appends salary, company, location.\n",
    "    z = 0\n",
    "    for d in soupm.findAll(class_='job-text'):\n",
    "        if z % 3 == 0:\n",
    "            salary.append(d.text)\n",
    "        elif z % 3 == 1:\n",
    "            company.append(d.text)\n",
    "        else:\n",
    "            location.append(d.text)\n",
    "        \n",
    "        z += 1\n",
    "        "
   ]
  },
  {
   "cell_type": "code",
   "execution_count": 9,
   "metadata": {
    "collapsed": false
   },
   "outputs": [],
   "source": [
    "###Returning the lists to check\n",
    "#salary\n",
    "#company\n",
    "#location\n",
    "#jobs\n",
    "#jobdescription"
   ]
  },
  {
   "cell_type": "code",
   "execution_count": 174,
   "metadata": {
    "collapsed": true
   },
   "outputs": [],
   "source": [
    "###Zipping them all together\n",
    "info = zip(salary, company, location, jobs, jobdescription)"
   ]
  },
  {
   "cell_type": "code",
   "execution_count": 175,
   "metadata": {
    "collapsed": false
   },
   "outputs": [],
   "source": [
    "###Putting in DataFrame\n",
    "df = pd.DataFrame(info)"
   ]
  },
  {
   "cell_type": "code",
   "execution_count": 176,
   "metadata": {
    "collapsed": false
   },
   "outputs": [],
   "source": [
    "###Naming Columns\n",
    "df.columns = ('salary', 'company', 'location', 'title', 'description')"
   ]
  },
  {
   "cell_type": "code",
   "execution_count": 177,
   "metadata": {
    "collapsed": false
   },
   "outputs": [],
   "source": [
    "###Breaking location into State/City\n",
    "df['state'] = [(x[-3:-1]) for x in df['location']]"
   ]
  },
  {
   "cell_type": "code",
   "execution_count": 178,
   "metadata": {
    "collapsed": false
   },
   "outputs": [],
   "source": [
    "###Breaking location into City\n",
    "df['delete'] = df['location'].str.replace('\\n', '-------------------------')"
   ]
  },
  {
   "cell_type": "code",
   "execution_count": 179,
   "metadata": {
    "collapsed": false
   },
   "outputs": [],
   "source": [
    "df['delete2'] = [(x[-80:-29]) for x in df['delete']]"
   ]
  },
  {
   "cell_type": "code",
   "execution_count": 180,
   "metadata": {
    "collapsed": true
   },
   "outputs": [],
   "source": [
    "df['delete3'] = df['delete2'].str.replace('-', '')"
   ]
  },
  {
   "cell_type": "code",
   "execution_count": 181,
   "metadata": {
    "collapsed": false
   },
   "outputs": [],
   "source": [
    "df['city'] = df['delete3']"
   ]
  },
  {
   "cell_type": "code",
   "execution_count": 182,
   "metadata": {
    "collapsed": false
   },
   "outputs": [],
   "source": [
    "del df['delete']\n",
    "del df['delete2']\n",
    "del df['delete3']\n",
    "del df['location']"
   ]
  },
  {
   "cell_type": "code",
   "execution_count": 183,
   "metadata": {
    "collapsed": false
   },
   "outputs": [],
   "source": [
    "###Removing \\n from company\n",
    "df['company'] = df['company'].str.replace('\\n', '')"
   ]
  },
  {
   "cell_type": "code",
   "execution_count": 184,
   "metadata": {
    "collapsed": true
   },
   "outputs": [],
   "source": [
    "###Removing \\n from title\n",
    "df['title'] = df['title'].str.replace('\\n', '')"
   ]
  },
  {
   "cell_type": "code",
   "execution_count": 185,
   "metadata": {
    "collapsed": true
   },
   "outputs": [],
   "source": [
    "###Removing \\n from description\n",
    "df['description'] = df['description'].str.replace('\\n', '')"
   ]
  },
  {
   "cell_type": "code",
   "execution_count": 186,
   "metadata": {
    "collapsed": false
   },
   "outputs": [],
   "source": [
    "###Creating a column for low end of salary\n",
    "df['low'] = [(x[18:22]) for x in df['salary']]"
   ]
  },
  {
   "cell_type": "code",
   "execution_count": 187,
   "metadata": {
    "collapsed": false
   },
   "outputs": [],
   "source": [
    "###Removing '$'\n",
    "df['low'] = df['low'].str.replace('$', '')"
   ]
  },
  {
   "cell_type": "code",
   "execution_count": 188,
   "metadata": {
    "collapsed": false
   },
   "outputs": [],
   "source": [
    "###Removing 'k'\n",
    "df['low'] = df['low'].str.replace('k', '')"
   ]
  },
  {
   "cell_type": "code",
   "execution_count": 189,
   "metadata": {
    "collapsed": false
   },
   "outputs": [],
   "source": [
    "###Removing '-'\n",
    "df['low'] = df['low'].str.replace('-', '')"
   ]
  },
  {
   "cell_type": "code",
   "execution_count": 190,
   "metadata": {
    "collapsed": false
   },
   "outputs": [],
   "source": [
    "###Removing ','\n",
    "df['low'] = df['low'].str.replace(',', '')"
   ]
  },
  {
   "cell_type": "code",
   "execution_count": 191,
   "metadata": {
    "collapsed": false
   },
   "outputs": [],
   "source": [
    "###Creating a column for high end of salary\n",
    "df['high'] = [(x[-11:-6]) for x in df['salary']]"
   ]
  },
  {
   "cell_type": "code",
   "execution_count": 192,
   "metadata": {
    "collapsed": false
   },
   "outputs": [],
   "source": [
    "###Removing '$'\n",
    "df['high'] = df['high'].str.replace('$', '')"
   ]
  },
  {
   "cell_type": "code",
   "execution_count": 193,
   "metadata": {
    "collapsed": true
   },
   "outputs": [],
   "source": [
    "###Removing 'k'\n",
    "df['high'] = df['high'].str.replace('k', '')"
   ]
  },
  {
   "cell_type": "code",
   "execution_count": 194,
   "metadata": {
    "collapsed": true
   },
   "outputs": [],
   "source": [
    "###Removing '-'\n",
    "df['high'] = df['high'].str.replace('-', '')"
   ]
  },
  {
   "cell_type": "code",
   "execution_count": 195,
   "metadata": {
    "collapsed": true
   },
   "outputs": [],
   "source": [
    "###Removing ','\n",
    "df['high'] = df['high'].str.replace(',', '')"
   ]
  },
  {
   "cell_type": "code",
   "execution_count": 196,
   "metadata": {
    "collapsed": false
   },
   "outputs": [],
   "source": [
    "###Fixing '\\nFull'\n",
    "df['high'] = df['high'].str.replace('\\nFull', '')"
   ]
  },
  {
   "cell_type": "code",
   "execution_count": null,
   "metadata": {
    "collapsed": false
   },
   "outputs": [],
   "source": []
  },
  {
   "cell_type": "code",
   "execution_count": 72,
   "metadata": {
    "collapsed": false
   },
   "outputs": [
    {
     "data": {
      "text/plain": [
       "salary         object\n",
       "company        object\n",
       "title          object\n",
       "description    object\n",
       "state          object\n",
       "city           object\n",
       "low            object\n",
       "high           object\n",
       "dtype: object"
      ]
     },
     "execution_count": 72,
     "metadata": {},
     "output_type": "execute_result"
    }
   ],
   "source": [
    "df.dtypes"
   ]
  },
  {
   "cell_type": "code",
   "execution_count": 198,
   "metadata": {
    "collapsed": false
   },
   "outputs": [],
   "source": [
    "###START OF CODE TO FIX NANS AND CONVERT TO INTEGERS\n",
    "dftest = df.copy()"
   ]
  },
  {
   "cell_type": "code",
   "execution_count": 199,
   "metadata": {
    "collapsed": false
   },
   "outputs": [],
   "source": [
    "###Turning emptys into nans and dropping\n",
    "dftest['high'].replace('', np.nan, inplace=True)\n",
    "dftest['low'].replace('', np.nan, inplace=True)\n",
    "dftest.dropna(subset=['high'], inplace=True)\n",
    "dftest.dropna(subset=['low'], inplace=True)"
   ]
  },
  {
   "cell_type": "code",
   "execution_count": 201,
   "metadata": {
    "collapsed": true
   },
   "outputs": [],
   "source": [
    "###Turning remaining emptys into 0\n",
    "dftest['high']=dftest['high'].replace('', '0')\n",
    "dftest['low']=dftest['low'].replace('', '0', inplace=True)"
   ]
  },
  {
   "cell_type": "code",
   "execution_count": null,
   "metadata": {
    "collapsed": false
   },
   "outputs": [],
   "source": []
  },
  {
   "cell_type": "code",
   "execution_count": 503,
   "metadata": {
    "collapsed": false
   },
   "outputs": [],
   "source": [
    "###Overriding error to return 0s and ints\n",
    "testing = df['high']"
   ]
  },
  {
   "cell_type": "code",
   "execution_count": 211,
   "metadata": {
    "collapsed": false
   },
   "outputs": [],
   "source": [
    "def replace_nulls(x):\n",
    "    try:\n",
    "        return int(x)\n",
    "    except:\n",
    "        '0'"
   ]
  },
  {
   "cell_type": "code",
   "execution_count": 212,
   "metadata": {
    "collapsed": false
   },
   "outputs": [],
   "source": [
    "testing = testing.apply(replace_nulls)"
   ]
  },
  {
   "cell_type": "code",
   "execution_count": null,
   "metadata": {
    "collapsed": false
   },
   "outputs": [],
   "source": []
  },
  {
   "cell_type": "code",
   "execution_count": 208,
   "metadata": {
    "collapsed": false
   },
   "outputs": [],
   "source": [
    "#testing.dropna(inplace=True)"
   ]
  },
  {
   "cell_type": "code",
   "execution_count": null,
   "metadata": {
    "collapsed": false
   },
   "outputs": [],
   "source": []
  },
  {
   "cell_type": "code",
   "execution_count": 214,
   "metadata": {
    "collapsed": false
   },
   "outputs": [],
   "source": [
    "lowtest = df['low']"
   ]
  },
  {
   "cell_type": "code",
   "execution_count": 215,
   "metadata": {
    "collapsed": true
   },
   "outputs": [],
   "source": [
    "lowtest = lowtest.apply(replace_nulls)"
   ]
  },
  {
   "cell_type": "code",
   "execution_count": null,
   "metadata": {
    "collapsed": false
   },
   "outputs": [],
   "source": []
  },
  {
   "cell_type": "code",
   "execution_count": 134,
   "metadata": {
    "collapsed": false
   },
   "outputs": [],
   "source": [
    "# lowtest.dropna(inplace=True)"
   ]
  },
  {
   "cell_type": "code",
   "execution_count": 152,
   "metadata": {
    "collapsed": false
   },
   "outputs": [],
   "source": [
    "# lowtest"
   ]
  },
  {
   "cell_type": "code",
   "execution_count": 217,
   "metadata": {
    "collapsed": true
   },
   "outputs": [],
   "source": [
    "###putting together for a dataframe\n",
    "salarycolumns = zip(lowtest, testing)"
   ]
  },
  {
   "cell_type": "code",
   "execution_count": 218,
   "metadata": {
    "collapsed": false
   },
   "outputs": [],
   "source": [
    "salarycolumnsframe = pd.DataFrame(salarycolumns)"
   ]
  },
  {
   "cell_type": "code",
   "execution_count": 219,
   "metadata": {
    "collapsed": true
   },
   "outputs": [],
   "source": [
    "df2 = pd.concat([df, salarycolumnsframe], axis=1)"
   ]
  },
  {
   "cell_type": "code",
   "execution_count": null,
   "metadata": {
    "collapsed": false
   },
   "outputs": [],
   "source": []
  },
  {
   "cell_type": "code",
   "execution_count": 224,
   "metadata": {
    "collapsed": false
   },
   "outputs": [],
   "source": [
    "#Renaming Columns\n",
    "df2.columns = ('salary', 'company', 'title', 'description', 'state', 'city', 'low', 'high', 'lowsalary', 'highsalary')"
   ]
  },
  {
   "cell_type": "code",
   "execution_count": null,
   "metadata": {
    "collapsed": false
   },
   "outputs": [],
   "source": []
  },
  {
   "cell_type": "code",
   "execution_count": 226,
   "metadata": {
    "collapsed": false
   },
   "outputs": [],
   "source": [
    "###Dropping Columns\n",
    "del df2['salary']\n",
    "del df2['low']\n",
    "del df2['high']"
   ]
  },
  {
   "cell_type": "code",
   "execution_count": null,
   "metadata": {
    "collapsed": false
   },
   "outputs": [],
   "source": []
  },
  {
   "cell_type": "code",
   "execution_count": 234,
   "metadata": {
    "collapsed": false
   },
   "outputs": [],
   "source": [
    "#Getting Rid of Error Salaries\n",
    "def drop_outliers(x):\n",
    "    if x > 250:\n",
    "        return np.nan\n",
    "    else:\n",
    "        return x"
   ]
  },
  {
   "cell_type": "code",
   "execution_count": 235,
   "metadata": {
    "collapsed": false
   },
   "outputs": [],
   "source": [
    "fixer10 = df2['highsalary']"
   ]
  },
  {
   "cell_type": "code",
   "execution_count": 237,
   "metadata": {
    "collapsed": false
   },
   "outputs": [],
   "source": [
    "fixer10 = fixer10.apply(drop_outliers)"
   ]
  },
  {
   "cell_type": "code",
   "execution_count": 239,
   "metadata": {
    "collapsed": false
   },
   "outputs": [],
   "source": [
    "#Getting Rid of Error Salaries in the 'Low' Column\n",
    "def low_outliers(x):\n",
    "    if x > 5:\n",
    "        return x\n",
    "    else:\n",
    "        return np.nan"
   ]
  },
  {
   "cell_type": "code",
   "execution_count": 240,
   "metadata": {
    "collapsed": true
   },
   "outputs": [],
   "source": [
    "lowerfixer = df2['lowsalary']"
   ]
  },
  {
   "cell_type": "code",
   "execution_count": 248,
   "metadata": {
    "collapsed": false
   },
   "outputs": [],
   "source": [
    "lowhighfix = zip(lowerfixer, fixer10)"
   ]
  },
  {
   "cell_type": "code",
   "execution_count": 249,
   "metadata": {
    "collapsed": true
   },
   "outputs": [],
   "source": [
    "lowhigh = pd.DataFrame(lowhighfix)"
   ]
  },
  {
   "cell_type": "code",
   "execution_count": 251,
   "metadata": {
    "collapsed": false
   },
   "outputs": [],
   "source": [
    "df2 = pd.concat([df2, lowhigh], axis=1)"
   ]
  },
  {
   "cell_type": "code",
   "execution_count": 259,
   "metadata": {
    "collapsed": false
   },
   "outputs": [],
   "source": [
    "df2['low_salary'] = df2[0]\n",
    "df2['high_salary'] = df2[1]\n",
    "#df2.head()"
   ]
  },
  {
   "cell_type": "code",
   "execution_count": 260,
   "metadata": {
    "collapsed": true
   },
   "outputs": [],
   "source": [
    "##Dropping Columns\n",
    "del df2[0]\n",
    "del df2[1]\n",
    "del df2['lowsalary']\n",
    "del df2['highsalary']"
   ]
  },
  {
   "cell_type": "code",
   "execution_count": 266,
   "metadata": {
    "collapsed": false
   },
   "outputs": [
    {
     "data": {
      "text/plain": [
       "95.04615780155692"
      ]
     },
     "execution_count": 266,
     "metadata": {},
     "output_type": "execute_result"
    }
   ],
   "source": [
    "#Average Salary\n",
    "((df2['low_salary'].mean()) + (df2['high_salary'].mean())) / 2"
   ]
  },
  {
   "cell_type": "code",
   "execution_count": 295,
   "metadata": {
    "collapsed": false
   },
   "outputs": [],
   "source": [
    "###Replacing Nans with Average\n",
    "def averages(x):\n",
    "    try:\n",
    "        return int(x)\n",
    "    except:\n",
    "        return 95.0"
   ]
  },
  {
   "cell_type": "code",
   "execution_count": 296,
   "metadata": {
    "collapsed": true
   },
   "outputs": [],
   "source": [
    "tester94 = df2['low_salary']"
   ]
  },
  {
   "cell_type": "code",
   "execution_count": 297,
   "metadata": {
    "collapsed": true
   },
   "outputs": [],
   "source": [
    "tester94 = tester94.apply(averages)"
   ]
  },
  {
   "cell_type": "code",
   "execution_count": 300,
   "metadata": {
    "collapsed": false
   },
   "outputs": [],
   "source": [
    "low_with_average = tester94"
   ]
  },
  {
   "cell_type": "code",
   "execution_count": 302,
   "metadata": {
    "collapsed": false
   },
   "outputs": [],
   "source": [
    "###Return the mean for 0.0 cells\n",
    "def zerofixer(x):\n",
    "    try:\n",
    "        return (x / 0) + x\n",
    "    except:\n",
    "        return 95.0"
   ]
  },
  {
   "cell_type": "code",
   "execution_count": 304,
   "metadata": {
    "collapsed": false
   },
   "outputs": [],
   "source": [
    "low_with_average = low_with_average.apply(zerofixer)"
   ]
  },
  {
   "cell_type": "code",
   "execution_count": 308,
   "metadata": {
    "collapsed": false
   },
   "outputs": [],
   "source": [
    "low_testing = tester94"
   ]
  },
  {
   "cell_type": "code",
   "execution_count": 311,
   "metadata": {
    "collapsed": false
   },
   "outputs": [],
   "source": [
    "toaddagain = pd.DataFrame(low_testing)"
   ]
  },
  {
   "cell_type": "code",
   "execution_count": 313,
   "metadata": {
    "collapsed": false
   },
   "outputs": [],
   "source": [
    "df3 = pd.concat([df2, toaddagain], axis=1)"
   ]
  },
  {
   "cell_type": "code",
   "execution_count": 315,
   "metadata": {
    "collapsed": false
   },
   "outputs": [],
   "source": [
    "df4 = df3.copy()"
   ]
  },
  {
   "cell_type": "code",
   "execution_count": 317,
   "metadata": {
    "collapsed": false
   },
   "outputs": [],
   "source": [
    "df5 = df2.copy()"
   ]
  },
  {
   "cell_type": "code",
   "execution_count": 319,
   "metadata": {
    "collapsed": false
   },
   "outputs": [],
   "source": [
    "###Applying the original 'averages' function directly to the dataframe\n",
    "df5['low_salary'] = df5['low_salary'].apply(averages)"
   ]
  },
  {
   "cell_type": "code",
   "execution_count": 321,
   "metadata": {
    "collapsed": false
   },
   "outputs": [],
   "source": [
    "df5['high_salary'] = df5['high_salary'].apply(averages)"
   ]
  },
  {
   "cell_type": "code",
   "execution_count": 323,
   "metadata": {
    "collapsed": false
   },
   "outputs": [],
   "source": [
    "df6 = df5.copy()"
   ]
  },
  {
   "cell_type": "code",
   "execution_count": null,
   "metadata": {
    "collapsed": false
   },
   "outputs": [],
   "source": []
  },
  {
   "cell_type": "code",
   "execution_count": 350,
   "metadata": {
    "collapsed": false
   },
   "outputs": [],
   "source": [
    "###Easier method. Returning the mean if salary is less than $5,000.\n",
    "def zeros_to_average(x):\n",
    "    if x < 5:\n",
    "        return 95.0\n",
    "    else:\n",
    "        return x"
   ]
  },
  {
   "cell_type": "code",
   "execution_count": 356,
   "metadata": {
    "collapsed": false
   },
   "outputs": [],
   "source": [
    "df5['low_salary'] = df5['low_salary'].apply(zeros_to_average)\n",
    "df5['average_salary'] = (df5['low_salary'] + df5['high_salary']) / 2"
   ]
  },
  {
   "cell_type": "code",
   "execution_count": 358,
   "metadata": {
    "collapsed": false
   },
   "outputs": [],
   "source": [
    "dfreg = df5.copy()"
   ]
  },
  {
   "cell_type": "code",
   "execution_count": 360,
   "metadata": {
    "collapsed": false
   },
   "outputs": [],
   "source": [
    "del dfreg['low_salary']\n",
    "del dfreg['high_salary']"
   ]
  },
  {
   "cell_type": "code",
   "execution_count": 504,
   "metadata": {
    "collapsed": false
   },
   "outputs": [
    {
     "data": {
      "text/html": [
       "<div>\n",
       "<table border=\"1\" class=\"dataframe\">\n",
       "  <thead>\n",
       "    <tr style=\"text-align: right;\">\n",
       "      <th></th>\n",
       "      <th>company</th>\n",
       "      <th>title</th>\n",
       "      <th>description</th>\n",
       "      <th>state</th>\n",
       "      <th>city</th>\n",
       "      <th>average_salary</th>\n",
       "      <th>high_vs_low</th>\n",
       "    </tr>\n",
       "  </thead>\n",
       "  <tbody>\n",
       "    <tr>\n",
       "      <th>0</th>\n",
       "      <td>Sancus Associates</td>\n",
       "      <td>Associate Data Science</td>\n",
       "      <td>Associate Data Scientist AdTech $125,000-150,0...</td>\n",
       "      <td>DC</td>\n",
       "      <td>District of Columbia</td>\n",
       "      <td>137.5</td>\n",
       "      <td></td>\n",
       "    </tr>\n",
       "    <tr>\n",
       "      <th>1</th>\n",
       "      <td>Analytic Recruiting</td>\n",
       "      <td>Associate, data Science and market Intelligence</td>\n",
       "      <td>Associate, data Science and market Intelligenc...</td>\n",
       "      <td>NY</td>\n",
       "      <td>New York</td>\n",
       "      <td>100.0</td>\n",
       "      <td></td>\n",
       "    </tr>\n",
       "    <tr>\n",
       "      <th>2</th>\n",
       "      <td>Tech Mahindra</td>\n",
       "      <td>BI Data Engineer</td>\n",
       "      <td>Position Title: BI Data Engineer Location: New...</td>\n",
       "      <td>OH</td>\n",
       "      <td>New Albany</td>\n",
       "      <td>95.0</td>\n",
       "      <td></td>\n",
       "    </tr>\n",
       "    <tr>\n",
       "      <th>3</th>\n",
       "      <td>Challenge Charter School</td>\n",
       "      <td>6th grade Science &amp; Language Arts Teacher - Mi...</td>\n",
       "      <td>Arizona’s 1st Official Core Knowledge® School;...</td>\n",
       "      <td>AZ</td>\n",
       "      <td>Glendale</td>\n",
       "      <td>41.0</td>\n",
       "      <td></td>\n",
       "    </tr>\n",
       "    <tr>\n",
       "      <th>4</th>\n",
       "      <td>CyberCoders</td>\n",
       "      <td>Senior Data Scientist - be the first Data Scie...</td>\n",
       "      <td>This position is open as of 10/18/2016. Senior...</td>\n",
       "      <td>CA</td>\n",
       "      <td>Marina del Rey</td>\n",
       "      <td>175.0</td>\n",
       "      <td></td>\n",
       "    </tr>\n",
       "    <tr>\n",
       "      <th>5</th>\n",
       "      <td>Medix</td>\n",
       "      <td>Research Scientist</td>\n",
       "      <td>Research Scientist This Research Scientist wil...</td>\n",
       "      <td>TX</td>\n",
       "      <td>Dallas</td>\n",
       "      <td>60.0</td>\n",
       "      <td></td>\n",
       "    </tr>\n",
       "    <tr>\n",
       "      <th>6</th>\n",
       "      <td>BIG WEDNESDAY DIGITAL</td>\n",
       "      <td>Junior Data Scientist - global eCommerce - Ban...</td>\n",
       "      <td>Junior Data Scientist - global eCommerce leade...</td>\n",
       "      <td>MD</td>\n",
       "      <td>Baltimore</td>\n",
       "      <td>97.5</td>\n",
       "      <td></td>\n",
       "    </tr>\n",
       "    <tr>\n",
       "      <th>7</th>\n",
       "      <td>Burnett Specialists</td>\n",
       "      <td>Data Scientist</td>\n",
       "      <td>Job Reference #: 41-1014TBD-16CT Data Scientis...</td>\n",
       "      <td>TX</td>\n",
       "      <td>Houston</td>\n",
       "      <td>100.0</td>\n",
       "      <td></td>\n",
       "    </tr>\n",
       "    <tr>\n",
       "      <th>8</th>\n",
       "      <td>BIG WEDNESDAY DIGITAL</td>\n",
       "      <td>Senior/Lead/NLP- Data Scientist - Bangkok role...</td>\n",
       "      <td>Senior/Lead/NLP- Data Scientist - Bangkok base...</td>\n",
       "      <td>WA</td>\n",
       "      <td>Seattle</td>\n",
       "      <td>97.5</td>\n",
       "      <td></td>\n",
       "    </tr>\n",
       "    <tr>\n",
       "      <th>9</th>\n",
       "      <td>Kelly Scientific Resources</td>\n",
       "      <td>Sr. Manager, Medical Data Methodology</td>\n",
       "      <td>Kelly Clinical and a highly reputable pharmace...</td>\n",
       "      <td>MA</td>\n",
       "      <td>Cambridge</td>\n",
       "      <td>110.0</td>\n",
       "      <td></td>\n",
       "    </tr>\n",
       "    <tr>\n",
       "      <th>10</th>\n",
       "      <td>BIG WEDNESDAY DIGITAL</td>\n",
       "      <td>Data Scientist / Machine Learning Expert - Ban...</td>\n",
       "      <td>Data Scientist / Machine Learning Expert Pleas...</td>\n",
       "      <td>MA</td>\n",
       "      <td>Boston</td>\n",
       "      <td>97.5</td>\n",
       "      <td></td>\n",
       "    </tr>\n",
       "    <tr>\n",
       "      <th>11</th>\n",
       "      <td>endevis</td>\n",
       "      <td>Data Integration Developer</td>\n",
       "      <td>Endevis talent acquisition firm is working wit...</td>\n",
       "      <td>OH</td>\n",
       "      <td>Toledo</td>\n",
       "      <td>90.0</td>\n",
       "      <td></td>\n",
       "    </tr>\n",
       "    <tr>\n",
       "      <th>12</th>\n",
       "      <td>CyberCoders</td>\n",
       "      <td>Data Product Manager</td>\n",
       "      <td>This position is open as of 10/18/2016. Data P...</td>\n",
       "      <td>CA</td>\n",
       "      <td>San Francisco</td>\n",
       "      <td>125.0</td>\n",
       "      <td></td>\n",
       "    </tr>\n",
       "    <tr>\n",
       "      <th>13</th>\n",
       "      <td>Protege Hunters</td>\n",
       "      <td>Sales Engineer - Data Loss Protection Platform</td>\n",
       "      <td>TECHNICAL SALES ENGINEER - DATA SECURITY / DAT...</td>\n",
       "      <td>NY</td>\n",
       "      <td>New York</td>\n",
       "      <td>135.0</td>\n",
       "      <td></td>\n",
       "    </tr>\n",
       "    <tr>\n",
       "      <th>14</th>\n",
       "      <td>BIG WEDNESDAY DIGITAL</td>\n",
       "      <td>Lead Data Scientist / Data Scientist Manager -...</td>\n",
       "      <td>Lead Data Scientist (Bangkok) - FULL RELOCATIO...</td>\n",
       "      <td>CA</td>\n",
       "      <td>Palo Alto</td>\n",
       "      <td>97.5</td>\n",
       "      <td></td>\n",
       "    </tr>\n",
       "    <tr>\n",
       "      <th>15</th>\n",
       "      <td>Emerald Resource Group</td>\n",
       "      <td>Data Architect</td>\n",
       "      <td>Data Architect - Healthcare Direct Hire/FTE Co...</td>\n",
       "      <td>OH</td>\n",
       "      <td>Columbus</td>\n",
       "      <td>102.5</td>\n",
       "      <td></td>\n",
       "    </tr>\n",
       "    <tr>\n",
       "      <th>16</th>\n",
       "      <td>Confidential</td>\n",
       "      <td>Lead Big Data Engineer</td>\n",
       "      <td>Please send resume in Word format if you are i...</td>\n",
       "      <td>NY</td>\n",
       "      <td>Harrison</td>\n",
       "      <td>125.0</td>\n",
       "      <td></td>\n",
       "    </tr>\n",
       "    <tr>\n",
       "      <th>17</th>\n",
       "      <td>Hellickson Associates</td>\n",
       "      <td>Data Center Engineer -Cisco</td>\n",
       "      <td>My client an IT services provide has an immedi...</td>\n",
       "      <td>WA</td>\n",
       "      <td>Spokane</td>\n",
       "      <td>80.0</td>\n",
       "      <td></td>\n",
       "    </tr>\n",
       "    <tr>\n",
       "      <th>18</th>\n",
       "      <td>Network Technologies International, Inc.</td>\n",
       "      <td>GIS Analyst I</td>\n",
       "      <td>Geographic Information Systems Analyst We are ...</td>\n",
       "      <td>AZ</td>\n",
       "      <td>Scottsdale</td>\n",
       "      <td>45.0</td>\n",
       "      <td></td>\n",
       "    </tr>\n",
       "    <tr>\n",
       "      <th>19</th>\n",
       "      <td>Cottonwood Financial</td>\n",
       "      <td>RISK ANALYST / STATISTICIAN</td>\n",
       "      <td>Reporting to the head of Risk and working clos...</td>\n",
       "      <td>TX</td>\n",
       "      <td>Irving</td>\n",
       "      <td>75.5</td>\n",
       "      <td></td>\n",
       "    </tr>\n",
       "    <tr>\n",
       "      <th>20</th>\n",
       "      <td>Personnel Services Inc</td>\n",
       "      <td>Manager Field Agronomy</td>\n",
       "      <td>Manager Field Agronomy LOCATION: Kansas City, ...</td>\n",
       "      <td>MO</td>\n",
       "      <td>Kansas City</td>\n",
       "      <td>107.5</td>\n",
       "      <td></td>\n",
       "    </tr>\n",
       "    <tr>\n",
       "      <th>21</th>\n",
       "      <td>Concurrent Technologies Corporation</td>\n",
       "      <td>SENIOR PRINCIPAL DATA SCIENTIST</td>\n",
       "      <td>AtConcurrent Technologies Corporation (CTC), w...</td>\n",
       "      <td>PA</td>\n",
       "      <td>Johnstown</td>\n",
       "      <td>95.0</td>\n",
       "      <td></td>\n",
       "    </tr>\n",
       "    <tr>\n",
       "      <th>22</th>\n",
       "      <td>CyberCoders</td>\n",
       "      <td>Big Data Engineer</td>\n",
       "      <td>This position is open as of 10/18/2016. Big Da...</td>\n",
       "      <td>MA</td>\n",
       "      <td>Somerville</td>\n",
       "      <td>115.0</td>\n",
       "      <td></td>\n",
       "    </tr>\n",
       "    <tr>\n",
       "      <th>23</th>\n",
       "      <td>CyberCoders</td>\n",
       "      <td>Chief Data Scientist</td>\n",
       "      <td>This position is open as of 10/18/2016. Chief ...</td>\n",
       "      <td>UT</td>\n",
       "      <td>Salt Lake City</td>\n",
       "      <td>140.0</td>\n",
       "      <td></td>\n",
       "    </tr>\n",
       "    <tr>\n",
       "      <th>24</th>\n",
       "      <td>Aerotek</td>\n",
       "      <td>Data Scientist</td>\n",
       "      <td>Now hiring Data Scientists on DARPA's Net Defe...</td>\n",
       "      <td>VA</td>\n",
       "      <td>Arlington</td>\n",
       "      <td>80.0</td>\n",
       "      <td></td>\n",
       "    </tr>\n",
       "    <tr>\n",
       "      <th>25</th>\n",
       "      <td>Analytic Recruiting</td>\n",
       "      <td>Marketing Sciences Manager</td>\n",
       "      <td>Marketing Sciences Manager Major Responsibilit...</td>\n",
       "      <td>CA</td>\n",
       "      <td>San Francisco</td>\n",
       "      <td>125.0</td>\n",
       "      <td></td>\n",
       "    </tr>\n",
       "    <tr>\n",
       "      <th>26</th>\n",
       "      <td>City and County of San Francisco</td>\n",
       "      <td>Data Clean Up and Conversion Lead</td>\n",
       "      <td>Data Clean Up and Conversion Lead $39.25 - $49...</td>\n",
       "      <td>CA</td>\n",
       "      <td>San Francisco</td>\n",
       "      <td>88.0</td>\n",
       "      <td></td>\n",
       "    </tr>\n",
       "    <tr>\n",
       "      <th>27</th>\n",
       "      <td>City and County of San Francisco</td>\n",
       "      <td>Data Conversion Strategy Supervisor</td>\n",
       "      <td>Data Conversion Strategy Supervisor $45.43 - $...</td>\n",
       "      <td>CA</td>\n",
       "      <td>San Francisco</td>\n",
       "      <td>94.5</td>\n",
       "      <td></td>\n",
       "    </tr>\n",
       "    <tr>\n",
       "      <th>28</th>\n",
       "      <td>CyberCoders</td>\n",
       "      <td>Data Visualization Engineer</td>\n",
       "      <td>This position is open as of 10/18/2016. Data V...</td>\n",
       "      <td>CA</td>\n",
       "      <td>Livermore</td>\n",
       "      <td>95.0</td>\n",
       "      <td></td>\n",
       "    </tr>\n",
       "    <tr>\n",
       "      <th>29</th>\n",
       "      <td>CyberCoders</td>\n",
       "      <td>Lead Data Scientist</td>\n",
       "      <td>This position is open as of 10/18/2016. Lead D...</td>\n",
       "      <td>CA</td>\n",
       "      <td>Los Angeles</td>\n",
       "      <td>137.5</td>\n",
       "      <td></td>\n",
       "    </tr>\n",
       "    <tr>\n",
       "      <th>...</th>\n",
       "      <td>...</td>\n",
       "      <td>...</td>\n",
       "      <td>...</td>\n",
       "      <td>...</td>\n",
       "      <td>...</td>\n",
       "      <td>...</td>\n",
       "      <td>...</td>\n",
       "    </tr>\n",
       "    <tr>\n",
       "      <th>704</th>\n",
       "      <td>Chelan County Public Utility District</td>\n",
       "      <td>Director - Natural Resources</td>\n",
       "      <td>Located at theconfluence of the Columbia and W...</td>\n",
       "      <td>WA</td>\n",
       "      <td>Wenatchee</td>\n",
       "      <td>103.0</td>\n",
       "      <td></td>\n",
       "    </tr>\n",
       "    <tr>\n",
       "      <th>705</th>\n",
       "      <td>CyberCoders</td>\n",
       "      <td>Documentation Manager</td>\n",
       "      <td>This position is open as of 10/18/2016. Docume...</td>\n",
       "      <td>CA</td>\n",
       "      <td>Redwood City</td>\n",
       "      <td>145.0</td>\n",
       "      <td></td>\n",
       "    </tr>\n",
       "    <tr>\n",
       "      <th>706</th>\n",
       "      <td>CyberCoders</td>\n",
       "      <td>Technical Writer</td>\n",
       "      <td>This position is open as of 10/18/2016. Techni...</td>\n",
       "      <td>CA</td>\n",
       "      <td>Redwood City</td>\n",
       "      <td>110.0</td>\n",
       "      <td></td>\n",
       "    </tr>\n",
       "    <tr>\n",
       "      <th>707</th>\n",
       "      <td>Cogensia</td>\n",
       "      <td>Senior Analyst, Strategic &amp; Analytic Solutions...</td>\n",
       "      <td>Cogensia is intelligence that compels; we are ...</td>\n",
       "      <td>IL</td>\n",
       "      <td>Schaumburg</td>\n",
       "      <td>72.5</td>\n",
       "      <td></td>\n",
       "    </tr>\n",
       "    <tr>\n",
       "      <th>708</th>\n",
       "      <td>Smiths Medical</td>\n",
       "      <td>Field Support Specialist</td>\n",
       "      <td>AtSmiths Medical, we are passionate about impr...</td>\n",
       "      <td>NY</td>\n",
       "      <td>New York</td>\n",
       "      <td>90.0</td>\n",
       "      <td></td>\n",
       "    </tr>\n",
       "    <tr>\n",
       "      <th>709</th>\n",
       "      <td>The Dubin Group</td>\n",
       "      <td>Project Assistant</td>\n",
       "      <td>Overview: Job ID 8929 Our client, a Clinical T...</td>\n",
       "      <td>PA</td>\n",
       "      <td>Wayne</td>\n",
       "      <td>36.0</td>\n",
       "      <td></td>\n",
       "    </tr>\n",
       "    <tr>\n",
       "      <th>710</th>\n",
       "      <td>Total Wine &amp; More</td>\n",
       "      <td>IT Security Engineer</td>\n",
       "      <td>Why Apply? Is it important for you be excited ...</td>\n",
       "      <td>DC</td>\n",
       "      <td>Washington</td>\n",
       "      <td>120.0</td>\n",
       "      <td></td>\n",
       "    </tr>\n",
       "    <tr>\n",
       "      <th>711</th>\n",
       "      <td>Sartori Company</td>\n",
       "      <td>Consumer Insights Manager</td>\n",
       "      <td>world award-winning cheeseto the finest retail...</td>\n",
       "      <td>WI</td>\n",
       "      <td>Plymouth</td>\n",
       "      <td>95.0</td>\n",
       "      <td></td>\n",
       "    </tr>\n",
       "    <tr>\n",
       "      <th>712</th>\n",
       "      <td>pathwayRP</td>\n",
       "      <td>Clinical Research Business Dev Manager</td>\n",
       "      <td>Our client is seeking a Business Development M...</td>\n",
       "      <td>PA</td>\n",
       "      <td>Philadelphia</td>\n",
       "      <td>127.5</td>\n",
       "      <td></td>\n",
       "    </tr>\n",
       "    <tr>\n",
       "      <th>713</th>\n",
       "      <td>CSU</td>\n",
       "      <td>Research Associate 1</td>\n",
       "      <td>Description of Work Unit: Human Development an...</td>\n",
       "      <td>CO</td>\n",
       "      <td>Fort Collins</td>\n",
       "      <td>50.0</td>\n",
       "      <td></td>\n",
       "    </tr>\n",
       "    <tr>\n",
       "      <th>714</th>\n",
       "      <td>Ultimate</td>\n",
       "      <td>Human Resource Coordinator</td>\n",
       "      <td>A client in the Maryland Heights area is seeki...</td>\n",
       "      <td>MO</td>\n",
       "      <td>Saint Louis</td>\n",
       "      <td>95.0</td>\n",
       "      <td></td>\n",
       "    </tr>\n",
       "    <tr>\n",
       "      <th>715</th>\n",
       "      <td>Community Support Advocates</td>\n",
       "      <td>Case Manager</td>\n",
       "      <td>Provides care coordination for members; coordi...</td>\n",
       "      <td>IA</td>\n",
       "      <td>Des Moines</td>\n",
       "      <td>35.0</td>\n",
       "      <td></td>\n",
       "    </tr>\n",
       "    <tr>\n",
       "      <th>716</th>\n",
       "      <td>Aerotek</td>\n",
       "      <td>Lab Associate - Project Management</td>\n",
       "      <td>Aerotek Scientific is looking for Lab Techs in...</td>\n",
       "      <td>CA</td>\n",
       "      <td>Valencia</td>\n",
       "      <td>19.0</td>\n",
       "      <td></td>\n",
       "    </tr>\n",
       "    <tr>\n",
       "      <th>717</th>\n",
       "      <td>The Institute for Transfusion Medicine</td>\n",
       "      <td>IT Help Desk Analyst</td>\n",
       "      <td>The IT Help Desk Analyst Delivers 1st level He...</td>\n",
       "      <td>PA</td>\n",
       "      <td>Pittsburgh</td>\n",
       "      <td>38.5</td>\n",
       "      <td></td>\n",
       "    </tr>\n",
       "    <tr>\n",
       "      <th>718</th>\n",
       "      <td>Robert Half Technology</td>\n",
       "      <td>Sr. Great Plains Developer send: Nader.Ali@rht...</td>\n",
       "      <td>Ref ID: 00350-9500206009 Classification: Softw...</td>\n",
       "      <td>CA</td>\n",
       "      <td>La Habra</td>\n",
       "      <td>140.0</td>\n",
       "      <td></td>\n",
       "    </tr>\n",
       "    <tr>\n",
       "      <th>719</th>\n",
       "      <td>Pride Industries</td>\n",
       "      <td>Case Manager</td>\n",
       "      <td>PRIDE Industries is a fast-paced company with ...</td>\n",
       "      <td>CA</td>\n",
       "      <td>Roseville</td>\n",
       "      <td>95.0</td>\n",
       "      <td></td>\n",
       "    </tr>\n",
       "    <tr>\n",
       "      <th>720</th>\n",
       "      <td>CyberCoders</td>\n",
       "      <td>Bioinformatics Scientist - \"Top 10 Pharma/Biot...</td>\n",
       "      <td>This position is open as of 10/18/2016. Bioinf...</td>\n",
       "      <td>CA</td>\n",
       "      <td>Menlo Park</td>\n",
       "      <td>92.5</td>\n",
       "      <td></td>\n",
       "    </tr>\n",
       "    <tr>\n",
       "      <th>721</th>\n",
       "      <td>Ajilon Professional Staffing</td>\n",
       "      <td>Marketing Specialist</td>\n",
       "      <td>Marketing Specialist Mount Olive, NJ $60-80k O...</td>\n",
       "      <td>NJ</td>\n",
       "      <td>Mount Olive Township</td>\n",
       "      <td>75.0</td>\n",
       "      <td></td>\n",
       "    </tr>\n",
       "    <tr>\n",
       "      <th>722</th>\n",
       "      <td>Confidential</td>\n",
       "      <td>Storage Engineer - Senior OR Lead Storage Engi...</td>\n",
       "      <td>Role &amp; Responsibilities - Responsible for effe...</td>\n",
       "      <td>MA</td>\n",
       "      <td>Burlington</td>\n",
       "      <td>125.0</td>\n",
       "      <td></td>\n",
       "    </tr>\n",
       "    <tr>\n",
       "      <th>723</th>\n",
       "      <td>Apple &amp; Associates</td>\n",
       "      <td>Clinical Support Specialist</td>\n",
       "      <td>Our client is a leading manufacturer of Medica...</td>\n",
       "      <td>GA</td>\n",
       "      <td>Atlanta</td>\n",
       "      <td>98.5</td>\n",
       "      <td></td>\n",
       "    </tr>\n",
       "    <tr>\n",
       "      <th>724</th>\n",
       "      <td>The Ascent Services Group</td>\n",
       "      <td>Associate Director of Strategic IT and Telecom...</td>\n",
       "      <td>Job Title: Associate Director of Strategic IT ...</td>\n",
       "      <td>MA</td>\n",
       "      <td>Billerica</td>\n",
       "      <td>155.0</td>\n",
       "      <td></td>\n",
       "    </tr>\n",
       "    <tr>\n",
       "      <th>725</th>\n",
       "      <td>Randstad USA</td>\n",
       "      <td>Payroll Specialist - Raleigh</td>\n",
       "      <td>SEEKING PAYROLL SPECIALIST IN RALEIGH! PLEASE ...</td>\n",
       "      <td>NC</td>\n",
       "      <td>Raleigh</td>\n",
       "      <td>42.5</td>\n",
       "      <td></td>\n",
       "    </tr>\n",
       "    <tr>\n",
       "      <th>726</th>\n",
       "      <td>Affirma Consulting</td>\n",
       "      <td>Microsoft Dynamics CRM Developer</td>\n",
       "      <td>At Affirma Consulting the CRM Practice is resp...</td>\n",
       "      <td>WA</td>\n",
       "      <td>Bellevue</td>\n",
       "      <td>80.0</td>\n",
       "      <td></td>\n",
       "    </tr>\n",
       "    <tr>\n",
       "      <th>727</th>\n",
       "      <td>BrainWorks</td>\n",
       "      <td>Recruiting Account Executive</td>\n",
       "      <td>Recruiting Account Executive: LEARN TO BE A RE...</td>\n",
       "      <td>NJ</td>\n",
       "      <td>New Providence</td>\n",
       "      <td>50.0</td>\n",
       "      <td></td>\n",
       "    </tr>\n",
       "    <tr>\n",
       "      <th>728</th>\n",
       "      <td>Chickasaw Nation Industries</td>\n",
       "      <td>Policy Analyst (FDA OIP &amp; OPHT)</td>\n",
       "      <td>In support of the U.S. Department of Health an...</td>\n",
       "      <td>MD</td>\n",
       "      <td>Silver Spring</td>\n",
       "      <td>49.5</td>\n",
       "      <td></td>\n",
       "    </tr>\n",
       "    <tr>\n",
       "      <th>729</th>\n",
       "      <td>Genpact Pharmalink</td>\n",
       "      <td>Associate Program Director, Commercial RA</td>\n",
       "      <td>Associate Program Director, PRC (E4) is an exp...</td>\n",
       "      <td>CA</td>\n",
       "      <td>San Francisco</td>\n",
       "      <td>95.0</td>\n",
       "      <td></td>\n",
       "    </tr>\n",
       "    <tr>\n",
       "      <th>730</th>\n",
       "      <td>Confidential</td>\n",
       "      <td>Web and Database Manager</td>\n",
       "      <td>Pomeroy is seeking a Web and Database Manager ...</td>\n",
       "      <td>KS</td>\n",
       "      <td>Mission</td>\n",
       "      <td>100.0</td>\n",
       "      <td></td>\n",
       "    </tr>\n",
       "    <tr>\n",
       "      <th>731</th>\n",
       "      <td>Meridian Group</td>\n",
       "      <td>Business Analyst / Reporting Analyst</td>\n",
       "      <td>Leading Education solutions provider seeking t...</td>\n",
       "      <td>IN</td>\n",
       "      <td>Indianapolis</td>\n",
       "      <td>70.0</td>\n",
       "      <td></td>\n",
       "    </tr>\n",
       "    <tr>\n",
       "      <th>732</th>\n",
       "      <td>Vaco Technology</td>\n",
       "      <td>Director of Solution Architecture - Banking</td>\n",
       "      <td>IT management professionals, take your career ...</td>\n",
       "      <td>NC</td>\n",
       "      <td>Charlotte</td>\n",
       "      <td>155.0</td>\n",
       "      <td></td>\n",
       "    </tr>\n",
       "    <tr>\n",
       "      <th>733</th>\n",
       "      <td>CyberCoders</td>\n",
       "      <td>Director of Customer Analytics</td>\n",
       "      <td>This position is open as of 10/18/2016. Direct...</td>\n",
       "      <td>CA</td>\n",
       "      <td>El Segundo</td>\n",
       "      <td>150.0</td>\n",
       "      <td></td>\n",
       "    </tr>\n",
       "  </tbody>\n",
       "</table>\n",
       "<p>734 rows × 7 columns</p>\n",
       "</div>"
      ],
      "text/plain": [
       "                                      company  \\\n",
       "0                           Sancus Associates   \n",
       "1                         Analytic Recruiting   \n",
       "2                               Tech Mahindra   \n",
       "3                    Challenge Charter School   \n",
       "4                                 CyberCoders   \n",
       "5                                       Medix   \n",
       "6                       BIG WEDNESDAY DIGITAL   \n",
       "7                         Burnett Specialists   \n",
       "8                       BIG WEDNESDAY DIGITAL   \n",
       "9                  Kelly Scientific Resources   \n",
       "10                      BIG WEDNESDAY DIGITAL   \n",
       "11                                    endevis   \n",
       "12                                CyberCoders   \n",
       "13                            Protege Hunters   \n",
       "14                      BIG WEDNESDAY DIGITAL   \n",
       "15                     Emerald Resource Group   \n",
       "16                               Confidential   \n",
       "17                      Hellickson Associates   \n",
       "18   Network Technologies International, Inc.   \n",
       "19                       Cottonwood Financial   \n",
       "20                     Personnel Services Inc   \n",
       "21        Concurrent Technologies Corporation   \n",
       "22                                CyberCoders   \n",
       "23                                CyberCoders   \n",
       "24                                    Aerotek   \n",
       "25                        Analytic Recruiting   \n",
       "26           City and County of San Francisco   \n",
       "27           City and County of San Francisco   \n",
       "28                                CyberCoders   \n",
       "29                                CyberCoders   \n",
       "..                                        ...   \n",
       "704     Chelan County Public Utility District   \n",
       "705                               CyberCoders   \n",
       "706                               CyberCoders   \n",
       "707                                  Cogensia   \n",
       "708                            Smiths Medical   \n",
       "709                           The Dubin Group   \n",
       "710                         Total Wine & More   \n",
       "711                           Sartori Company   \n",
       "712                                 pathwayRP   \n",
       "713                                       CSU   \n",
       "714                                  Ultimate   \n",
       "715               Community Support Advocates   \n",
       "716                                   Aerotek   \n",
       "717    The Institute for Transfusion Medicine   \n",
       "718                    Robert Half Technology   \n",
       "719                          Pride Industries   \n",
       "720                               CyberCoders   \n",
       "721              Ajilon Professional Staffing   \n",
       "722                              Confidential   \n",
       "723                        Apple & Associates   \n",
       "724                 The Ascent Services Group   \n",
       "725                              Randstad USA   \n",
       "726                        Affirma Consulting   \n",
       "727                                BrainWorks   \n",
       "728               Chickasaw Nation Industries   \n",
       "729                        Genpact Pharmalink   \n",
       "730                              Confidential   \n",
       "731                            Meridian Group   \n",
       "732                           Vaco Technology   \n",
       "733                               CyberCoders   \n",
       "\n",
       "                                                 title  \\\n",
       "0                               Associate Data Science   \n",
       "1      Associate, data Science and market Intelligence   \n",
       "2                                     BI Data Engineer   \n",
       "3    6th grade Science & Language Arts Teacher - Mi...   \n",
       "4    Senior Data Scientist - be the first Data Scie...   \n",
       "5                                   Research Scientist   \n",
       "6    Junior Data Scientist - global eCommerce - Ban...   \n",
       "7                                       Data Scientist   \n",
       "8    Senior/Lead/NLP- Data Scientist - Bangkok role...   \n",
       "9                Sr. Manager, Medical Data Methodology   \n",
       "10   Data Scientist / Machine Learning Expert - Ban...   \n",
       "11                          Data Integration Developer   \n",
       "12                                Data Product Manager   \n",
       "13      Sales Engineer - Data Loss Protection Platform   \n",
       "14   Lead Data Scientist / Data Scientist Manager -...   \n",
       "15                                      Data Architect   \n",
       "16                              Lead Big Data Engineer   \n",
       "17                         Data Center Engineer -Cisco   \n",
       "18                                       GIS Analyst I   \n",
       "19                         RISK ANALYST / STATISTICIAN   \n",
       "20                              Manager Field Agronomy   \n",
       "21                     SENIOR PRINCIPAL DATA SCIENTIST   \n",
       "22                                   Big Data Engineer   \n",
       "23                                Chief Data Scientist   \n",
       "24                                      Data Scientist   \n",
       "25                          Marketing Sciences Manager   \n",
       "26                   Data Clean Up and Conversion Lead   \n",
       "27                 Data Conversion Strategy Supervisor   \n",
       "28                         Data Visualization Engineer   \n",
       "29                                 Lead Data Scientist   \n",
       "..                                                 ...   \n",
       "704                       Director - Natural Resources   \n",
       "705                              Documentation Manager   \n",
       "706                                   Technical Writer   \n",
       "707  Senior Analyst, Strategic & Analytic Solutions...   \n",
       "708                           Field Support Specialist   \n",
       "709                                  Project Assistant   \n",
       "710                               IT Security Engineer   \n",
       "711                          Consumer Insights Manager   \n",
       "712             Clinical Research Business Dev Manager   \n",
       "713                               Research Associate 1   \n",
       "714                         Human Resource Coordinator   \n",
       "715                                       Case Manager   \n",
       "716                 Lab Associate - Project Management   \n",
       "717                               IT Help Desk Analyst   \n",
       "718  Sr. Great Plains Developer send: Nader.Ali@rht...   \n",
       "719                                       Case Manager   \n",
       "720  Bioinformatics Scientist - \"Top 10 Pharma/Biot...   \n",
       "721                               Marketing Specialist   \n",
       "722  Storage Engineer - Senior OR Lead Storage Engi...   \n",
       "723                        Clinical Support Specialist   \n",
       "724  Associate Director of Strategic IT and Telecom...   \n",
       "725                       Payroll Specialist - Raleigh   \n",
       "726                   Microsoft Dynamics CRM Developer   \n",
       "727                       Recruiting Account Executive   \n",
       "728                    Policy Analyst (FDA OIP & OPHT)   \n",
       "729          Associate Program Director, Commercial RA   \n",
       "730                           Web and Database Manager   \n",
       "731               Business Analyst / Reporting Analyst   \n",
       "732        Director of Solution Architecture - Banking   \n",
       "733                     Director of Customer Analytics   \n",
       "\n",
       "                                           description state  \\\n",
       "0    Associate Data Scientist AdTech $125,000-150,0...    DC   \n",
       "1    Associate, data Science and market Intelligenc...    NY   \n",
       "2    Position Title: BI Data Engineer Location: New...    OH   \n",
       "3    Arizona’s 1st Official Core Knowledge® School;...    AZ   \n",
       "4    This position is open as of 10/18/2016. Senior...    CA   \n",
       "5    Research Scientist This Research Scientist wil...    TX   \n",
       "6    Junior Data Scientist - global eCommerce leade...    MD   \n",
       "7    Job Reference #: 41-1014TBD-16CT Data Scientis...    TX   \n",
       "8    Senior/Lead/NLP- Data Scientist - Bangkok base...    WA   \n",
       "9    Kelly Clinical and a highly reputable pharmace...    MA   \n",
       "10   Data Scientist / Machine Learning Expert Pleas...    MA   \n",
       "11   Endevis talent acquisition firm is working wit...    OH   \n",
       "12   This position is open as of 10/18/2016. Data P...    CA   \n",
       "13   TECHNICAL SALES ENGINEER - DATA SECURITY / DAT...    NY   \n",
       "14   Lead Data Scientist (Bangkok) - FULL RELOCATIO...    CA   \n",
       "15   Data Architect - Healthcare Direct Hire/FTE Co...    OH   \n",
       "16   Please send resume in Word format if you are i...    NY   \n",
       "17   My client an IT services provide has an immedi...    WA   \n",
       "18   Geographic Information Systems Analyst We are ...    AZ   \n",
       "19   Reporting to the head of Risk and working clos...    TX   \n",
       "20   Manager Field Agronomy LOCATION: Kansas City, ...    MO   \n",
       "21   AtConcurrent Technologies Corporation (CTC), w...    PA   \n",
       "22   This position is open as of 10/18/2016. Big Da...    MA   \n",
       "23   This position is open as of 10/18/2016. Chief ...    UT   \n",
       "24   Now hiring Data Scientists on DARPA's Net Defe...    VA   \n",
       "25   Marketing Sciences Manager Major Responsibilit...    CA   \n",
       "26   Data Clean Up and Conversion Lead $39.25 - $49...    CA   \n",
       "27   Data Conversion Strategy Supervisor $45.43 - $...    CA   \n",
       "28   This position is open as of 10/18/2016. Data V...    CA   \n",
       "29   This position is open as of 10/18/2016. Lead D...    CA   \n",
       "..                                                 ...   ...   \n",
       "704  Located at theconfluence of the Columbia and W...    WA   \n",
       "705  This position is open as of 10/18/2016. Docume...    CA   \n",
       "706  This position is open as of 10/18/2016. Techni...    CA   \n",
       "707  Cogensia is intelligence that compels; we are ...    IL   \n",
       "708  AtSmiths Medical, we are passionate about impr...    NY   \n",
       "709  Overview: Job ID 8929 Our client, a Clinical T...    PA   \n",
       "710  Why Apply? Is it important for you be excited ...    DC   \n",
       "711  world award-winning cheeseto the finest retail...    WI   \n",
       "712  Our client is seeking a Business Development M...    PA   \n",
       "713  Description of Work Unit: Human Development an...    CO   \n",
       "714  A client in the Maryland Heights area is seeki...    MO   \n",
       "715  Provides care coordination for members; coordi...    IA   \n",
       "716  Aerotek Scientific is looking for Lab Techs in...    CA   \n",
       "717  The IT Help Desk Analyst Delivers 1st level He...    PA   \n",
       "718  Ref ID: 00350-9500206009 Classification: Softw...    CA   \n",
       "719  PRIDE Industries is a fast-paced company with ...    CA   \n",
       "720  This position is open as of 10/18/2016. Bioinf...    CA   \n",
       "721  Marketing Specialist Mount Olive, NJ $60-80k O...    NJ   \n",
       "722  Role & Responsibilities - Responsible for effe...    MA   \n",
       "723  Our client is a leading manufacturer of Medica...    GA   \n",
       "724  Job Title: Associate Director of Strategic IT ...    MA   \n",
       "725  SEEKING PAYROLL SPECIALIST IN RALEIGH! PLEASE ...    NC   \n",
       "726  At Affirma Consulting the CRM Practice is resp...    WA   \n",
       "727  Recruiting Account Executive: LEARN TO BE A RE...    NJ   \n",
       "728  In support of the U.S. Department of Health an...    MD   \n",
       "729  Associate Program Director, PRC (E4) is an exp...    CA   \n",
       "730  Pomeroy is seeking a Web and Database Manager ...    KS   \n",
       "731  Leading Education solutions provider seeking t...    IN   \n",
       "732  IT management professionals, take your career ...    NC   \n",
       "733  This position is open as of 10/18/2016. Direct...    CA   \n",
       "\n",
       "                     city  average_salary high_vs_low  \n",
       "0    District of Columbia           137.5              \n",
       "1                New York           100.0              \n",
       "2              New Albany            95.0              \n",
       "3                Glendale            41.0              \n",
       "4          Marina del Rey           175.0              \n",
       "5                  Dallas            60.0              \n",
       "6               Baltimore            97.5              \n",
       "7                 Houston           100.0              \n",
       "8                 Seattle            97.5              \n",
       "9               Cambridge           110.0              \n",
       "10                 Boston            97.5              \n",
       "11                 Toledo            90.0              \n",
       "12          San Francisco           125.0              \n",
       "13               New York           135.0              \n",
       "14              Palo Alto            97.5              \n",
       "15               Columbus           102.5              \n",
       "16               Harrison           125.0              \n",
       "17                Spokane            80.0              \n",
       "18             Scottsdale            45.0              \n",
       "19                 Irving            75.5              \n",
       "20            Kansas City           107.5              \n",
       "21              Johnstown            95.0              \n",
       "22             Somerville           115.0              \n",
       "23         Salt Lake City           140.0              \n",
       "24              Arlington            80.0              \n",
       "25          San Francisco           125.0              \n",
       "26          San Francisco            88.0              \n",
       "27          San Francisco            94.5              \n",
       "28              Livermore            95.0              \n",
       "29            Los Angeles           137.5              \n",
       "..                    ...             ...         ...  \n",
       "704             Wenatchee           103.0              \n",
       "705          Redwood City           145.0              \n",
       "706          Redwood City           110.0              \n",
       "707            Schaumburg            72.5              \n",
       "708              New York            90.0              \n",
       "709                 Wayne            36.0              \n",
       "710            Washington           120.0              \n",
       "711              Plymouth            95.0              \n",
       "712          Philadelphia           127.5              \n",
       "713          Fort Collins            50.0              \n",
       "714           Saint Louis            95.0              \n",
       "715            Des Moines            35.0              \n",
       "716              Valencia            19.0              \n",
       "717            Pittsburgh            38.5              \n",
       "718              La Habra           140.0              \n",
       "719             Roseville            95.0              \n",
       "720            Menlo Park            92.5              \n",
       "721  Mount Olive Township            75.0              \n",
       "722            Burlington           125.0              \n",
       "723               Atlanta            98.5              \n",
       "724             Billerica           155.0              \n",
       "725               Raleigh            42.5              \n",
       "726              Bellevue            80.0              \n",
       "727        New Providence            50.0              \n",
       "728         Silver Spring            49.5              \n",
       "729         San Francisco            95.0              \n",
       "730               Mission           100.0              \n",
       "731          Indianapolis            70.0              \n",
       "732             Charlotte           155.0              \n",
       "733            El Segundo           150.0              \n",
       "\n",
       "[734 rows x 7 columns]"
      ]
     },
     "execution_count": 504,
     "metadata": {},
     "output_type": "execute_result"
    }
   ],
   "source": [
    "dfreg"
   ]
  },
  {
   "cell_type": "code",
   "execution_count": 363,
   "metadata": {
    "collapsed": true
   },
   "outputs": [],
   "source": [
    "dfreg['high_vs_low'] ="
   ]
  },
  {
   "cell_type": "code",
   "execution_count": 365,
   "metadata": {
    "collapsed": false
   },
   "outputs": [],
   "source": [
    "##Bucketing Income\n",
    "def bucket(x):\n",
    "    if x['average_salary'] > 95:\n",
    "        return 1\n",
    "    else:\n",
    "        return 0"
   ]
  },
  {
   "cell_type": "code",
   "execution_count": 366,
   "metadata": {
    "collapsed": true
   },
   "outputs": [],
   "source": [
    "dfreg2 = dfreg.copy()"
   ]
  },
  {
   "cell_type": "code",
   "execution_count": 367,
   "metadata": {
    "collapsed": true
   },
   "outputs": [],
   "source": [
    "dfreg2['high_vs_low'] = dfreg2.apply(bucket, axis =1)"
   ]
  },
  {
   "cell_type": "code",
   "execution_count": 387,
   "metadata": {
    "collapsed": false
   },
   "outputs": [],
   "source": [
    "##Now have complete dataset\n",
    "dfreg2['label'] = dfreg2['high_vs_low']"
   ]
  },
  {
   "cell_type": "code",
   "execution_count": 389,
   "metadata": {
    "collapsed": false
   },
   "outputs": [],
   "source": [
    "del dfreg2['high_vs_low']"
   ]
  },
  {
   "cell_type": "code",
   "execution_count": 392,
   "metadata": {
    "collapsed": true
   },
   "outputs": [],
   "source": [
    "data = dfreg2"
   ]
  },
  {
   "cell_type": "markdown",
   "metadata": {},
   "source": [
    "<h1> 'Data' is our final dataset </h1>\n",
    "<br>\n",
    "<p>\n",
    "After scraping 30 pages of search results for \"Data Science\" on careerbuilder.com, cleaning the data, and creating a binary column for 'high' vs 'low' salary we finally have our final dataframe. We determined salaries above the mean of $95,000 would be considered 'high' and anything else would be 'low'.\n",
    "</p>"
   ]
  },
  {
   "cell_type": "code",
   "execution_count": 505,
   "metadata": {
    "collapsed": false
   },
   "outputs": [
    {
     "data": {
      "text/html": [
       "<div>\n",
       "<table border=\"1\" class=\"dataframe\">\n",
       "  <thead>\n",
       "    <tr style=\"text-align: right;\">\n",
       "      <th></th>\n",
       "      <th>company</th>\n",
       "      <th>title</th>\n",
       "      <th>description</th>\n",
       "      <th>state</th>\n",
       "      <th>city</th>\n",
       "      <th>average_salary</th>\n",
       "      <th>label</th>\n",
       "    </tr>\n",
       "  </thead>\n",
       "  <tbody>\n",
       "    <tr>\n",
       "      <th>0</th>\n",
       "      <td>Sancus Associates</td>\n",
       "      <td>Associate Data Science</td>\n",
       "      <td>Associate Data Scientist AdTech $125,000-150,0...</td>\n",
       "      <td>DC</td>\n",
       "      <td>District of Columbia</td>\n",
       "      <td>137.5</td>\n",
       "      <td>1</td>\n",
       "    </tr>\n",
       "    <tr>\n",
       "      <th>1</th>\n",
       "      <td>Analytic Recruiting</td>\n",
       "      <td>Associate, data Science and market Intelligence</td>\n",
       "      <td>Associate, data Science and market Intelligenc...</td>\n",
       "      <td>NY</td>\n",
       "      <td>New York</td>\n",
       "      <td>100.0</td>\n",
       "      <td>1</td>\n",
       "    </tr>\n",
       "    <tr>\n",
       "      <th>2</th>\n",
       "      <td>Tech Mahindra</td>\n",
       "      <td>BI Data Engineer</td>\n",
       "      <td>Position Title: BI Data Engineer Location: New...</td>\n",
       "      <td>OH</td>\n",
       "      <td>New Albany</td>\n",
       "      <td>95.0</td>\n",
       "      <td>0</td>\n",
       "    </tr>\n",
       "    <tr>\n",
       "      <th>3</th>\n",
       "      <td>Challenge Charter School</td>\n",
       "      <td>6th grade Science &amp; Language Arts Teacher - Mi...</td>\n",
       "      <td>Arizona’s 1st Official Core Knowledge® School;...</td>\n",
       "      <td>AZ</td>\n",
       "      <td>Glendale</td>\n",
       "      <td>41.0</td>\n",
       "      <td>0</td>\n",
       "    </tr>\n",
       "    <tr>\n",
       "      <th>4</th>\n",
       "      <td>CyberCoders</td>\n",
       "      <td>Senior Data Scientist - be the first Data Scie...</td>\n",
       "      <td>This position is open as of 10/18/2016. Senior...</td>\n",
       "      <td>CA</td>\n",
       "      <td>Marina del Rey</td>\n",
       "      <td>175.0</td>\n",
       "      <td>1</td>\n",
       "    </tr>\n",
       "  </tbody>\n",
       "</table>\n",
       "</div>"
      ],
      "text/plain": [
       "                    company  \\\n",
       "0         Sancus Associates   \n",
       "1       Analytic Recruiting   \n",
       "2             Tech Mahindra   \n",
       "3  Challenge Charter School   \n",
       "4               CyberCoders   \n",
       "\n",
       "                                               title  \\\n",
       "0                             Associate Data Science   \n",
       "1    Associate, data Science and market Intelligence   \n",
       "2                                   BI Data Engineer   \n",
       "3  6th grade Science & Language Arts Teacher - Mi...   \n",
       "4  Senior Data Scientist - be the first Data Scie...   \n",
       "\n",
       "                                         description state  \\\n",
       "0  Associate Data Scientist AdTech $125,000-150,0...    DC   \n",
       "1  Associate, data Science and market Intelligenc...    NY   \n",
       "2  Position Title: BI Data Engineer Location: New...    OH   \n",
       "3  Arizona’s 1st Official Core Knowledge® School;...    AZ   \n",
       "4  This position is open as of 10/18/2016. Senior...    CA   \n",
       "\n",
       "                   city  average_salary  label  \n",
       "0  District of Columbia           137.5      1  \n",
       "1              New York           100.0      1  \n",
       "2            New Albany            95.0      0  \n",
       "3              Glendale            41.0      0  \n",
       "4        Marina del Rey           175.0      1  "
      ]
     },
     "execution_count": 505,
     "metadata": {},
     "output_type": "execute_result"
    }
   ],
   "source": [
    "data.head()"
   ]
  },
  {
   "cell_type": "code",
   "execution_count": 498,
   "metadata": {
    "collapsed": false
   },
   "outputs": [
    {
     "data": {
      "text/html": [
       "<div>\n",
       "<table border=\"1\" class=\"dataframe\">\n",
       "  <thead>\n",
       "    <tr style=\"text-align: right;\">\n",
       "      <th></th>\n",
       "      <th>administrator</th>\n",
       "      <th>analyst</th>\n",
       "      <th>application</th>\n",
       "      <th>applications</th>\n",
       "      <th>architect</th>\n",
       "      <th>associate</th>\n",
       "      <th>bangkok</th>\n",
       "      <th>bi</th>\n",
       "      <th>business</th>\n",
       "      <th>clinical</th>\n",
       "      <th>...</th>\n",
       "      <th>senior</th>\n",
       "      <th>software</th>\n",
       "      <th>specialist</th>\n",
       "      <th>sql</th>\n",
       "      <th>sr</th>\n",
       "      <th>supervisor</th>\n",
       "      <th>support</th>\n",
       "      <th>systems</th>\n",
       "      <th>technical</th>\n",
       "      <th>web</th>\n",
       "    </tr>\n",
       "  </thead>\n",
       "  <tbody>\n",
       "    <tr>\n",
       "      <th>0</th>\n",
       "      <td>0</td>\n",
       "      <td>0</td>\n",
       "      <td>0</td>\n",
       "      <td>0</td>\n",
       "      <td>0</td>\n",
       "      <td>1</td>\n",
       "      <td>0</td>\n",
       "      <td>0</td>\n",
       "      <td>0</td>\n",
       "      <td>0</td>\n",
       "      <td>...</td>\n",
       "      <td>0</td>\n",
       "      <td>0</td>\n",
       "      <td>0</td>\n",
       "      <td>0</td>\n",
       "      <td>0</td>\n",
       "      <td>0</td>\n",
       "      <td>0</td>\n",
       "      <td>0</td>\n",
       "      <td>0</td>\n",
       "      <td>0</td>\n",
       "    </tr>\n",
       "    <tr>\n",
       "      <th>1</th>\n",
       "      <td>0</td>\n",
       "      <td>0</td>\n",
       "      <td>0</td>\n",
       "      <td>0</td>\n",
       "      <td>0</td>\n",
       "      <td>1</td>\n",
       "      <td>0</td>\n",
       "      <td>0</td>\n",
       "      <td>0</td>\n",
       "      <td>0</td>\n",
       "      <td>...</td>\n",
       "      <td>0</td>\n",
       "      <td>0</td>\n",
       "      <td>0</td>\n",
       "      <td>0</td>\n",
       "      <td>0</td>\n",
       "      <td>0</td>\n",
       "      <td>0</td>\n",
       "      <td>0</td>\n",
       "      <td>0</td>\n",
       "      <td>0</td>\n",
       "    </tr>\n",
       "    <tr>\n",
       "      <th>2</th>\n",
       "      <td>0</td>\n",
       "      <td>0</td>\n",
       "      <td>0</td>\n",
       "      <td>0</td>\n",
       "      <td>0</td>\n",
       "      <td>0</td>\n",
       "      <td>0</td>\n",
       "      <td>1</td>\n",
       "      <td>0</td>\n",
       "      <td>0</td>\n",
       "      <td>...</td>\n",
       "      <td>0</td>\n",
       "      <td>0</td>\n",
       "      <td>0</td>\n",
       "      <td>0</td>\n",
       "      <td>0</td>\n",
       "      <td>0</td>\n",
       "      <td>0</td>\n",
       "      <td>0</td>\n",
       "      <td>0</td>\n",
       "      <td>0</td>\n",
       "    </tr>\n",
       "    <tr>\n",
       "      <th>3</th>\n",
       "      <td>0</td>\n",
       "      <td>0</td>\n",
       "      <td>0</td>\n",
       "      <td>0</td>\n",
       "      <td>0</td>\n",
       "      <td>0</td>\n",
       "      <td>0</td>\n",
       "      <td>0</td>\n",
       "      <td>0</td>\n",
       "      <td>0</td>\n",
       "      <td>...</td>\n",
       "      <td>0</td>\n",
       "      <td>0</td>\n",
       "      <td>0</td>\n",
       "      <td>0</td>\n",
       "      <td>0</td>\n",
       "      <td>0</td>\n",
       "      <td>0</td>\n",
       "      <td>0</td>\n",
       "      <td>0</td>\n",
       "      <td>0</td>\n",
       "    </tr>\n",
       "    <tr>\n",
       "      <th>4</th>\n",
       "      <td>0</td>\n",
       "      <td>0</td>\n",
       "      <td>0</td>\n",
       "      <td>0</td>\n",
       "      <td>0</td>\n",
       "      <td>0</td>\n",
       "      <td>0</td>\n",
       "      <td>0</td>\n",
       "      <td>0</td>\n",
       "      <td>0</td>\n",
       "      <td>...</td>\n",
       "      <td>1</td>\n",
       "      <td>0</td>\n",
       "      <td>0</td>\n",
       "      <td>0</td>\n",
       "      <td>0</td>\n",
       "      <td>0</td>\n",
       "      <td>0</td>\n",
       "      <td>0</td>\n",
       "      <td>0</td>\n",
       "      <td>0</td>\n",
       "    </tr>\n",
       "  </tbody>\n",
       "</table>\n",
       "<p>5 rows × 50 columns</p>\n",
       "</div>"
      ],
      "text/plain": [
       "   administrator  analyst  application  applications  architect  associate  \\\n",
       "0              0        0            0             0          0          1   \n",
       "1              0        0            0             0          0          1   \n",
       "2              0        0            0             0          0          0   \n",
       "3              0        0            0             0          0          0   \n",
       "4              0        0            0             0          0          0   \n",
       "\n",
       "   bangkok  bi  business  clinical ...   senior  software  specialist  sql  \\\n",
       "0        0   0         0         0 ...        0         0           0    0   \n",
       "1        0   0         0         0 ...        0         0           0    0   \n",
       "2        0   1         0         0 ...        0         0           0    0   \n",
       "3        0   0         0         0 ...        0         0           0    0   \n",
       "4        0   0         0         0 ...        1         0           0    0   \n",
       "\n",
       "   sr  supervisor  support  systems  technical  web  \n",
       "0   0           0        0        0          0    0  \n",
       "1   0           0        0        0          0    0  \n",
       "2   0           0        0        0          0    0  \n",
       "3   0           0        0        0          0    0  \n",
       "4   0           0        0        0          0    0  \n",
       "\n",
       "[5 rows x 50 columns]"
      ]
     },
     "execution_count": 498,
     "metadata": {},
     "output_type": "execute_result"
    }
   ],
   "source": [
    "###Testing to see which words in 'Job Titles' correspond to higher salaries\n",
    "\n",
    "from sklearn.feature_extraction.text import CountVectorizer\n",
    "v = CountVectorizer(\n",
    "    binary=True,  \n",
    "    stop_words='english', \n",
    "    max_features=50, \n",
    "\n",
    "\n",
    "X = v.fit_transform(data.title).todense()\n",
    "X = pd.DataFrame(X, columns=v.get_feature_names())\n",
    "X.head()"
   ]
  },
  {
   "cell_type": "code",
   "execution_count": 499,
   "metadata": {
    "collapsed": true
   },
   "outputs": [],
   "source": [
    "y = data.label"
   ]
  },
  {
   "cell_type": "code",
   "execution_count": 500,
   "metadata": {
    "collapsed": true
   },
   "outputs": [],
   "source": [
    "#Function to help examine the coefficients\n",
    "def examine_coefficients(model, df9):\n",
    "    df9 = pd.DataFrame(\n",
    "        { 'Coefficient' : model.coef_[0] , 'Feature' : df9.columns}\n",
    "    ).sort_values(by='Coefficient')\n",
    "    return df9[df9.Coefficient !=0 ]"
   ]
  },
  {
   "cell_type": "code",
   "execution_count": 501,
   "metadata": {
    "collapsed": false
   },
   "outputs": [],
   "source": [
    "###Creates DataFrame of Coefficients for Job Title\n",
    "from sklearn.linear_model import LogisticRegression\n",
    "model = LogisticRegression(penalty = 'l1', C = 1.0) # Model with high, little regularization\n",
    "\n",
    "model.fit(X, y)\n",
    "datatitle = examine_coefficients(model, X)"
   ]
  },
  {
   "cell_type": "code",
   "execution_count": 422,
   "metadata": {
    "collapsed": false
   },
   "outputs": [
    {
     "name": "stdout",
     "output_type": "stream",
     "text": [
      "mean accuracy: 0.682586149214, all: [ 0.67346939  0.67346939  0.70081967]\n",
      "mean precision: 0.688739061899, all: [ 0.68817204  0.69662921  0.68141593]\n",
      "mean recall: 0.590363590135, all: [ 0.55652174  0.53913043  0.6754386 ]\n",
      "mean roc_auc: 0.74445422363, all: [ 0.7451505   0.72458194  0.76363023]\n"
     ]
    }
   ],
   "source": [
    "###Testing to see how well the model performed\n",
    "from sklearn.cross_validation import cross_val_score\n",
    "\n",
    "for metric in ['accuracy', 'precision', 'recall', 'roc_auc']:\n",
    "    scores = cross_val_score(model, X, y, scoring=metric)\n",
    "    print(\"mean {}: {}, all: {}\".format(metric, scores.mean(), scores))\n",
    "    \n",
    "# mean roc_auc: 0.829"
   ]
  },
  {
   "cell_type": "markdown",
   "metadata": {},
   "source": [
    "<h1> Testing the Model </h1>\n",
    "<br>\n",
    "<p>\n",
    "Our model testing words in 'job title' to predict salary had an roc_auc score of 0.74, accuracy of .68, precision of .68, and recall of .59.\n",
    "</p>\n",
    "<p> The words in the job title that were the strongest indicators of low salary were 'level', 'coordinator', 'electrical', 'analyst', 'quality', 'supervisor', 'associate', and 'support'.\n",
    "</p>\n",
    "<p>\n",
    "The words in the job title that were the strongest indicators of high salaries were 'architect', 'infrastructure', 'director', 'manager', 'sr', 'senior', 'lead', and 'development'\n",
    "</p>\n",
    "<p>\n",
    "The words in job description that were the strongest indicators of high salaries were 'manager', 'responsible', 'experience', 'senior', 'business',  and 'growing'.\n",
    "</p>\n",
    "<p>\n",
    "The words in job description that were the strongest indicators of low salaries were 'analyst', 'position', 'job', 'support', 'opportunity', 'hire', 'new', 'systems', and 'time'.\n",
    "</p>"
   ]
  },
  {
   "cell_type": "code",
   "execution_count": 502,
   "metadata": {
    "collapsed": false
   },
   "outputs": [
    {
     "data": {
      "text/html": [
       "<div>\n",
       "<table border=\"1\" class=\"dataframe\">\n",
       "  <thead>\n",
       "    <tr style=\"text-align: right;\">\n",
       "      <th></th>\n",
       "      <th>Coefficient</th>\n",
       "      <th>Feature</th>\n",
       "    </tr>\n",
       "  </thead>\n",
       "  <tbody>\n",
       "    <tr>\n",
       "      <th>26</th>\n",
       "      <td>-2.011881</td>\n",
       "      <td>level</td>\n",
       "    </tr>\n",
       "    <tr>\n",
       "      <th>10</th>\n",
       "      <td>-1.251830</td>\n",
       "      <td>coordinator</td>\n",
       "    </tr>\n",
       "    <tr>\n",
       "      <th>18</th>\n",
       "      <td>-0.736807</td>\n",
       "      <td>electrical</td>\n",
       "    </tr>\n",
       "    <tr>\n",
       "      <th>1</th>\n",
       "      <td>-0.703504</td>\n",
       "      <td>analyst</td>\n",
       "    </tr>\n",
       "    <tr>\n",
       "      <th>36</th>\n",
       "      <td>-0.382542</td>\n",
       "      <td>quality</td>\n",
       "    </tr>\n",
       "    <tr>\n",
       "      <th>45</th>\n",
       "      <td>-0.297347</td>\n",
       "      <td>supervisor</td>\n",
       "    </tr>\n",
       "    <tr>\n",
       "      <th>5</th>\n",
       "      <td>-0.194904</td>\n",
       "      <td>associate</td>\n",
       "    </tr>\n",
       "    <tr>\n",
       "      <th>46</th>\n",
       "      <td>-0.138953</td>\n",
       "      <td>support</td>\n",
       "    </tr>\n",
       "    <tr>\n",
       "      <th>28</th>\n",
       "      <td>-0.087896</td>\n",
       "      <td>marketing</td>\n",
       "    </tr>\n",
       "    <tr>\n",
       "      <th>42</th>\n",
       "      <td>-0.087054</td>\n",
       "      <td>specialist</td>\n",
       "    </tr>\n",
       "    <tr>\n",
       "      <th>29</th>\n",
       "      <td>-0.021966</td>\n",
       "      <td>net</td>\n",
       "    </tr>\n",
       "    <tr>\n",
       "      <th>3</th>\n",
       "      <td>-0.015607</td>\n",
       "      <td>applications</td>\n",
       "    </tr>\n",
       "    <tr>\n",
       "      <th>7</th>\n",
       "      <td>0.112668</td>\n",
       "      <td>bi</td>\n",
       "    </tr>\n",
       "    <tr>\n",
       "      <th>23</th>\n",
       "      <td>0.221924</td>\n",
       "      <td>intelligence</td>\n",
       "    </tr>\n",
       "    <tr>\n",
       "      <th>47</th>\n",
       "      <td>0.266807</td>\n",
       "      <td>systems</td>\n",
       "    </tr>\n",
       "    <tr>\n",
       "      <th>13</th>\n",
       "      <td>0.305861</td>\n",
       "      <td>dba</td>\n",
       "    </tr>\n",
       "    <tr>\n",
       "      <th>41</th>\n",
       "      <td>0.347876</td>\n",
       "      <td>software</td>\n",
       "    </tr>\n",
       "    <tr>\n",
       "      <th>38</th>\n",
       "      <td>0.431673</td>\n",
       "      <td>scientist</td>\n",
       "    </tr>\n",
       "    <tr>\n",
       "      <th>14</th>\n",
       "      <td>0.618441</td>\n",
       "      <td>developer</td>\n",
       "    </tr>\n",
       "    <tr>\n",
       "      <th>12</th>\n",
       "      <td>0.639102</td>\n",
       "      <td>database</td>\n",
       "    </tr>\n",
       "    <tr>\n",
       "      <th>6</th>\n",
       "      <td>0.676509</td>\n",
       "      <td>bangkok</td>\n",
       "    </tr>\n",
       "    <tr>\n",
       "      <th>19</th>\n",
       "      <td>0.678105</td>\n",
       "      <td>engineer</td>\n",
       "    </tr>\n",
       "    <tr>\n",
       "      <th>11</th>\n",
       "      <td>0.705242</td>\n",
       "      <td>data</td>\n",
       "    </tr>\n",
       "    <tr>\n",
       "      <th>24</th>\n",
       "      <td>0.874934</td>\n",
       "      <td>java</td>\n",
       "    </tr>\n",
       "    <tr>\n",
       "      <th>39</th>\n",
       "      <td>0.887329</td>\n",
       "      <td>security</td>\n",
       "    </tr>\n",
       "    <tr>\n",
       "      <th>15</th>\n",
       "      <td>0.926414</td>\n",
       "      <td>development</td>\n",
       "    </tr>\n",
       "    <tr>\n",
       "      <th>25</th>\n",
       "      <td>1.058536</td>\n",
       "      <td>lead</td>\n",
       "    </tr>\n",
       "    <tr>\n",
       "      <th>40</th>\n",
       "      <td>1.095130</td>\n",
       "      <td>senior</td>\n",
       "    </tr>\n",
       "    <tr>\n",
       "      <th>44</th>\n",
       "      <td>1.254407</td>\n",
       "      <td>sr</td>\n",
       "    </tr>\n",
       "    <tr>\n",
       "      <th>27</th>\n",
       "      <td>1.444830</td>\n",
       "      <td>manager</td>\n",
       "    </tr>\n",
       "    <tr>\n",
       "      <th>16</th>\n",
       "      <td>1.594802</td>\n",
       "      <td>director</td>\n",
       "    </tr>\n",
       "    <tr>\n",
       "      <th>22</th>\n",
       "      <td>1.809758</td>\n",
       "      <td>infrastructure</td>\n",
       "    </tr>\n",
       "    <tr>\n",
       "      <th>4</th>\n",
       "      <td>2.284008</td>\n",
       "      <td>architect</td>\n",
       "    </tr>\n",
       "  </tbody>\n",
       "</table>\n",
       "</div>"
      ],
      "text/plain": [
       "    Coefficient         Feature\n",
       "26    -2.011881           level\n",
       "10    -1.251830     coordinator\n",
       "18    -0.736807      electrical\n",
       "1     -0.703504         analyst\n",
       "36    -0.382542         quality\n",
       "45    -0.297347      supervisor\n",
       "5     -0.194904       associate\n",
       "46    -0.138953         support\n",
       "28    -0.087896       marketing\n",
       "42    -0.087054      specialist\n",
       "29    -0.021966             net\n",
       "3     -0.015607    applications\n",
       "7      0.112668              bi\n",
       "23     0.221924    intelligence\n",
       "47     0.266807         systems\n",
       "13     0.305861             dba\n",
       "41     0.347876        software\n",
       "38     0.431673       scientist\n",
       "14     0.618441       developer\n",
       "12     0.639102        database\n",
       "6      0.676509         bangkok\n",
       "19     0.678105        engineer\n",
       "11     0.705242            data\n",
       "24     0.874934            java\n",
       "39     0.887329        security\n",
       "15     0.926414     development\n",
       "25     1.058536            lead\n",
       "40     1.095130          senior\n",
       "44     1.254407              sr\n",
       "27     1.444830         manager\n",
       "16     1.594802        director\n",
       "22     1.809758  infrastructure\n",
       "4      2.284008       architect"
      ]
     },
     "execution_count": 502,
     "metadata": {},
     "output_type": "execute_result"
    }
   ],
   "source": [
    "datatitle"
   ]
  },
  {
   "cell_type": "code",
   "execution_count": 496,
   "metadata": {
    "collapsed": false
   },
   "outputs": [
    {
     "data": {
      "text/html": [
       "<div>\n",
       "<table border=\"1\" class=\"dataframe\">\n",
       "  <thead>\n",
       "    <tr style=\"text-align: right;\">\n",
       "      <th></th>\n",
       "      <th>Coefficient</th>\n",
       "      <th>Feature</th>\n",
       "    </tr>\n",
       "  </thead>\n",
       "  <tbody>\n",
       "    <tr>\n",
       "      <th>5</th>\n",
       "      <td>-0.993698</td>\n",
       "      <td>analyst</td>\n",
       "    </tr>\n",
       "    <tr>\n",
       "      <th>32</th>\n",
       "      <td>-0.459877</td>\n",
       "      <td>position</td>\n",
       "    </tr>\n",
       "    <tr>\n",
       "      <th>23</th>\n",
       "      <td>-0.309967</td>\n",
       "      <td>job</td>\n",
       "    </tr>\n",
       "    <tr>\n",
       "      <th>43</th>\n",
       "      <td>-0.226324</td>\n",
       "      <td>support</td>\n",
       "    </tr>\n",
       "    <tr>\n",
       "      <th>31</th>\n",
       "      <td>-0.222420</td>\n",
       "      <td>opportunity</td>\n",
       "    </tr>\n",
       "    <tr>\n",
       "      <th>21</th>\n",
       "      <td>-0.215108</td>\n",
       "      <td>hire</td>\n",
       "    </tr>\n",
       "    <tr>\n",
       "      <th>29</th>\n",
       "      <td>-0.213686</td>\n",
       "      <td>new</td>\n",
       "    </tr>\n",
       "    <tr>\n",
       "      <th>44</th>\n",
       "      <td>-0.182652</td>\n",
       "      <td>systems</td>\n",
       "    </tr>\n",
       "    <tr>\n",
       "      <th>47</th>\n",
       "      <td>-0.157898</td>\n",
       "      <td>time</td>\n",
       "    </tr>\n",
       "    <tr>\n",
       "      <th>48</th>\n",
       "      <td>-0.139719</td>\n",
       "      <td>work</td>\n",
       "    </tr>\n",
       "    <tr>\n",
       "      <th>27</th>\n",
       "      <td>-0.095659</td>\n",
       "      <td>management</td>\n",
       "    </tr>\n",
       "    <tr>\n",
       "      <th>42</th>\n",
       "      <td>-0.079545</td>\n",
       "      <td>summary</td>\n",
       "    </tr>\n",
       "    <tr>\n",
       "      <th>34</th>\n",
       "      <td>-0.009082</td>\n",
       "      <td>responsibilities</td>\n",
       "    </tr>\n",
       "    <tr>\n",
       "      <th>25</th>\n",
       "      <td>0.020689</td>\n",
       "      <td>located</td>\n",
       "    </tr>\n",
       "    <tr>\n",
       "      <th>22</th>\n",
       "      <td>0.021886</td>\n",
       "      <td>industry</td>\n",
       "    </tr>\n",
       "    <tr>\n",
       "      <th>17</th>\n",
       "      <td>0.028494</td>\n",
       "      <td>direct</td>\n",
       "    </tr>\n",
       "    <tr>\n",
       "      <th>46</th>\n",
       "      <td>0.045666</td>\n",
       "      <td>technology</td>\n",
       "    </tr>\n",
       "    <tr>\n",
       "      <th>36</th>\n",
       "      <td>0.049914</td>\n",
       "      <td>role</td>\n",
       "    </tr>\n",
       "    <tr>\n",
       "      <th>37</th>\n",
       "      <td>0.051575</td>\n",
       "      <td>seeking</td>\n",
       "    </tr>\n",
       "    <tr>\n",
       "      <th>40</th>\n",
       "      <td>0.060109</td>\n",
       "      <td>software</td>\n",
       "    </tr>\n",
       "    <tr>\n",
       "      <th>15</th>\n",
       "      <td>0.081960</td>\n",
       "      <td>developer</td>\n",
       "    </tr>\n",
       "    <tr>\n",
       "      <th>49</th>\n",
       "      <td>0.091397</td>\n",
       "      <td>year</td>\n",
       "    </tr>\n",
       "    <tr>\n",
       "      <th>6</th>\n",
       "      <td>0.138693</td>\n",
       "      <td>applications</td>\n",
       "    </tr>\n",
       "    <tr>\n",
       "      <th>4</th>\n",
       "      <td>0.142599</td>\n",
       "      <td>2016</td>\n",
       "    </tr>\n",
       "    <tr>\n",
       "      <th>33</th>\n",
       "      <td>0.160974</td>\n",
       "      <td>read</td>\n",
       "    </tr>\n",
       "    <tr>\n",
       "      <th>18</th>\n",
       "      <td>0.174489</td>\n",
       "      <td>engineer</td>\n",
       "    </tr>\n",
       "    <tr>\n",
       "      <th>45</th>\n",
       "      <td>0.243991</td>\n",
       "      <td>team</td>\n",
       "    </tr>\n",
       "    <tr>\n",
       "      <th>1</th>\n",
       "      <td>0.246981</td>\n",
       "      <td>000</td>\n",
       "    </tr>\n",
       "    <tr>\n",
       "      <th>13</th>\n",
       "      <td>0.302326</td>\n",
       "      <td>data</td>\n",
       "    </tr>\n",
       "    <tr>\n",
       "      <th>41</th>\n",
       "      <td>0.317595</td>\n",
       "      <td>solutions</td>\n",
       "    </tr>\n",
       "    <tr>\n",
       "      <th>11</th>\n",
       "      <td>0.320304</td>\n",
       "      <td>company</td>\n",
       "    </tr>\n",
       "    <tr>\n",
       "      <th>30</th>\n",
       "      <td>0.364178</td>\n",
       "      <td>open</td>\n",
       "    </tr>\n",
       "    <tr>\n",
       "      <th>20</th>\n",
       "      <td>0.417701</td>\n",
       "      <td>growing</td>\n",
       "    </tr>\n",
       "    <tr>\n",
       "      <th>8</th>\n",
       "      <td>0.468108</td>\n",
       "      <td>business</td>\n",
       "    </tr>\n",
       "    <tr>\n",
       "      <th>38</th>\n",
       "      <td>0.506402</td>\n",
       "      <td>senior</td>\n",
       "    </tr>\n",
       "    <tr>\n",
       "      <th>19</th>\n",
       "      <td>0.634303</td>\n",
       "      <td>experience</td>\n",
       "    </tr>\n",
       "    <tr>\n",
       "      <th>35</th>\n",
       "      <td>0.639264</td>\n",
       "      <td>responsible</td>\n",
       "    </tr>\n",
       "    <tr>\n",
       "      <th>2</th>\n",
       "      <td>0.641971</td>\n",
       "      <td>10</td>\n",
       "    </tr>\n",
       "    <tr>\n",
       "      <th>28</th>\n",
       "      <td>0.791020</td>\n",
       "      <td>manager</td>\n",
       "    </tr>\n",
       "  </tbody>\n",
       "</table>\n",
       "</div>"
      ],
      "text/plain": [
       "    Coefficient           Feature\n",
       "5     -0.993698           analyst\n",
       "32    -0.459877          position\n",
       "23    -0.309967               job\n",
       "43    -0.226324           support\n",
       "31    -0.222420       opportunity\n",
       "21    -0.215108              hire\n",
       "29    -0.213686               new\n",
       "44    -0.182652           systems\n",
       "47    -0.157898              time\n",
       "48    -0.139719              work\n",
       "27    -0.095659        management\n",
       "42    -0.079545           summary\n",
       "34    -0.009082  responsibilities\n",
       "25     0.020689           located\n",
       "22     0.021886          industry\n",
       "17     0.028494            direct\n",
       "46     0.045666        technology\n",
       "36     0.049914              role\n",
       "37     0.051575           seeking\n",
       "40     0.060109          software\n",
       "15     0.081960         developer\n",
       "49     0.091397              year\n",
       "6      0.138693      applications\n",
       "4      0.142599              2016\n",
       "33     0.160974              read\n",
       "18     0.174489          engineer\n",
       "45     0.243991              team\n",
       "1      0.246981               000\n",
       "13     0.302326              data\n",
       "41     0.317595         solutions\n",
       "11     0.320304           company\n",
       "30     0.364178              open\n",
       "20     0.417701           growing\n",
       "8      0.468108          business\n",
       "38     0.506402            senior\n",
       "19     0.634303        experience\n",
       "35     0.639264       responsible\n",
       "2      0.641971                10\n",
       "28     0.791020           manager"
      ]
     },
     "execution_count": 496,
     "metadata": {},
     "output_type": "execute_result"
    }
   ],
   "source": [
    "datadescription"
   ]
  },
  {
   "cell_type": "code",
   "execution_count": 435,
   "metadata": {
    "collapsed": false
   },
   "outputs": [
    {
     "data": {
      "text/html": [
       "<div>\n",
       "<table border=\"1\" class=\"dataframe\">\n",
       "  <thead>\n",
       "    <tr style=\"text-align: right;\">\n",
       "      <th></th>\n",
       "      <th>00</th>\n",
       "      <th>000</th>\n",
       "      <th>10</th>\n",
       "      <th>18</th>\n",
       "      <th>2016</th>\n",
       "      <th>analyst</th>\n",
       "      <th>applications</th>\n",
       "      <th>based</th>\n",
       "      <th>business</th>\n",
       "      <th>classification</th>\n",
       "      <th>...</th>\n",
       "      <th>software</th>\n",
       "      <th>solutions</th>\n",
       "      <th>summary</th>\n",
       "      <th>support</th>\n",
       "      <th>systems</th>\n",
       "      <th>team</th>\n",
       "      <th>technology</th>\n",
       "      <th>time</th>\n",
       "      <th>work</th>\n",
       "      <th>year</th>\n",
       "    </tr>\n",
       "  </thead>\n",
       "  <tbody>\n",
       "    <tr>\n",
       "      <th>0</th>\n",
       "      <td>0</td>\n",
       "      <td>1</td>\n",
       "      <td>0</td>\n",
       "      <td>0</td>\n",
       "      <td>0</td>\n",
       "      <td>0</td>\n",
       "      <td>0</td>\n",
       "      <td>0</td>\n",
       "      <td>0</td>\n",
       "      <td>0</td>\n",
       "      <td>...</td>\n",
       "      <td>0</td>\n",
       "      <td>0</td>\n",
       "      <td>0</td>\n",
       "      <td>0</td>\n",
       "      <td>0</td>\n",
       "      <td>1</td>\n",
       "      <td>0</td>\n",
       "      <td>0</td>\n",
       "      <td>0</td>\n",
       "      <td>0</td>\n",
       "    </tr>\n",
       "    <tr>\n",
       "      <th>1</th>\n",
       "      <td>0</td>\n",
       "      <td>0</td>\n",
       "      <td>0</td>\n",
       "      <td>0</td>\n",
       "      <td>0</td>\n",
       "      <td>0</td>\n",
       "      <td>0</td>\n",
       "      <td>1</td>\n",
       "      <td>0</td>\n",
       "      <td>0</td>\n",
       "      <td>...</td>\n",
       "      <td>0</td>\n",
       "      <td>0</td>\n",
       "      <td>0</td>\n",
       "      <td>0</td>\n",
       "      <td>0</td>\n",
       "      <td>0</td>\n",
       "      <td>0</td>\n",
       "      <td>0</td>\n",
       "      <td>0</td>\n",
       "      <td>0</td>\n",
       "    </tr>\n",
       "    <tr>\n",
       "      <th>2</th>\n",
       "      <td>0</td>\n",
       "      <td>0</td>\n",
       "      <td>0</td>\n",
       "      <td>0</td>\n",
       "      <td>0</td>\n",
       "      <td>0</td>\n",
       "      <td>0</td>\n",
       "      <td>0</td>\n",
       "      <td>0</td>\n",
       "      <td>0</td>\n",
       "      <td>...</td>\n",
       "      <td>0</td>\n",
       "      <td>0</td>\n",
       "      <td>0</td>\n",
       "      <td>0</td>\n",
       "      <td>0</td>\n",
       "      <td>1</td>\n",
       "      <td>0</td>\n",
       "      <td>1</td>\n",
       "      <td>0</td>\n",
       "      <td>0</td>\n",
       "    </tr>\n",
       "    <tr>\n",
       "      <th>3</th>\n",
       "      <td>0</td>\n",
       "      <td>0</td>\n",
       "      <td>0</td>\n",
       "      <td>0</td>\n",
       "      <td>1</td>\n",
       "      <td>0</td>\n",
       "      <td>0</td>\n",
       "      <td>0</td>\n",
       "      <td>0</td>\n",
       "      <td>0</td>\n",
       "      <td>...</td>\n",
       "      <td>0</td>\n",
       "      <td>0</td>\n",
       "      <td>0</td>\n",
       "      <td>0</td>\n",
       "      <td>0</td>\n",
       "      <td>1</td>\n",
       "      <td>0</td>\n",
       "      <td>0</td>\n",
       "      <td>0</td>\n",
       "      <td>0</td>\n",
       "    </tr>\n",
       "    <tr>\n",
       "      <th>4</th>\n",
       "      <td>0</td>\n",
       "      <td>0</td>\n",
       "      <td>1</td>\n",
       "      <td>1</td>\n",
       "      <td>1</td>\n",
       "      <td>0</td>\n",
       "      <td>0</td>\n",
       "      <td>0</td>\n",
       "      <td>0</td>\n",
       "      <td>0</td>\n",
       "      <td>...</td>\n",
       "      <td>0</td>\n",
       "      <td>0</td>\n",
       "      <td>0</td>\n",
       "      <td>0</td>\n",
       "      <td>0</td>\n",
       "      <td>1</td>\n",
       "      <td>0</td>\n",
       "      <td>0</td>\n",
       "      <td>0</td>\n",
       "      <td>0</td>\n",
       "    </tr>\n",
       "  </tbody>\n",
       "</table>\n",
       "<p>5 rows × 50 columns</p>\n",
       "</div>"
      ],
      "text/plain": [
       "   00  000  10  18  2016  analyst  applications  based  business  \\\n",
       "0   0    1   0   0     0        0             0      0         0   \n",
       "1   0    0   0   0     0        0             0      1         0   \n",
       "2   0    0   0   0     0        0             0      0         0   \n",
       "3   0    0   0   0     1        0             0      0         0   \n",
       "4   0    0   1   1     1        0             0      0         0   \n",
       "\n",
       "   classification  ...   software  solutions  summary  support  systems  team  \\\n",
       "0               0  ...          0          0        0        0        0     1   \n",
       "1               0  ...          0          0        0        0        0     0   \n",
       "2               0  ...          0          0        0        0        0     1   \n",
       "3               0  ...          0          0        0        0        0     1   \n",
       "4               0  ...          0          0        0        0        0     1   \n",
       "\n",
       "   technology  time  work  year  \n",
       "0           0     0     0     0  \n",
       "1           0     0     0     0  \n",
       "2           0     1     0     0  \n",
       "3           0     0     0     0  \n",
       "4           0     0     0     0  \n",
       "\n",
       "[5 rows x 50 columns]"
      ]
     },
     "execution_count": 435,
     "metadata": {},
     "output_type": "execute_result"
    }
   ],
   "source": [
    "###Model based on Description\n",
    "v = CountVectorizer(\n",
    "    binary=True,  # Create binary features\n",
    "    stop_words='english', # Ignore common words such as 'the', 'and'\n",
    "    max_features=50, # Only use the top 50 most common words\n",
    ")\n",
    "\n",
    "\n",
    "# This builds a matrix with a row per website (or data point) and column per word (using all words in the dataset)\n",
    "X = v.fit_transform(data.description).todense()\n",
    "X = pd.DataFrame(X, columns=v.get_feature_names())\n",
    "X.head()"
   ]
  },
  {
   "cell_type": "code",
   "execution_count": 436,
   "metadata": {
    "collapsed": true
   },
   "outputs": [],
   "source": [
    "def examine_coefficients2(model, df10):\n",
    "    df10 = pd.DataFrame(\n",
    "        { 'Coefficient' : model.coef_[0] , 'Feature' : df10.columns}\n",
    "    ).sort_values(by='Coefficient')\n",
    "    return df10[df10.Coefficient !=0 ]"
   ]
  },
  {
   "cell_type": "code",
   "execution_count": 439,
   "metadata": {
    "collapsed": false
   },
   "outputs": [],
   "source": [
    "model = LogisticRegression(penalty = 'l1', C = 1.0) # Model with high, little regularization\n",
    "\n",
    "model.fit(X, y)\n",
    "datadescription = examine_coefficients(model, X)"
   ]
  },
  {
   "cell_type": "code",
   "execution_count": 495,
   "metadata": {
    "collapsed": false
   },
   "outputs": [],
   "source": [
    "#data"
   ]
  },
  {
   "cell_type": "code",
   "execution_count": 448,
   "metadata": {
    "collapsed": true
   },
   "outputs": [],
   "source": [
    "import pandas as pd\n",
    "import matplotlib.pyplot as plt\n",
    "%matplotlib inline\n",
    "import numpy as np\n",
    "\n",
    "from sklearn.linear_model import LogisticRegression\n",
    "from sklearn.cross_validation import train_test_split\n",
    "\n",
    "from sklearn.metrics import classification_report\n",
    "from sklearn.metrics import roc_auc_score\n",
    "from sklearn.metrics import roc_curve\n",
    "from sklearn.metrics import auc\n",
    "from sklearn.metrics import confusion_matrix\n",
    "\n",
    "import numpy as np\n",
    "import pandas as pd\n",
    "import patsy\n",
    "\n",
    "from sklearn.metrics import classification_report, confusion_matrix, accuracy_score\n",
    "from sklearn.cross_validation import train_test_split, cross_val_score\n",
    "from sklearn.linear_model import LogisticRegression, LogisticRegressionCV\n",
    "from sklearn.grid_search import GridSearchCV"
   ]
  },
  {
   "cell_type": "code",
   "execution_count": 479,
   "metadata": {
    "collapsed": false
   },
   "outputs": [],
   "source": [
    "###We also created a model based on City/State/Title/Description\n",
    "X = patsy.dmatrix('~C(city) + C(state) +C(company) + C(title) +C(description)' , data)\n",
    "y = data['label'].values"
   ]
  },
  {
   "cell_type": "code",
   "execution_count": 480,
   "metadata": {
    "collapsed": false
   },
   "outputs": [],
   "source": [
    "pdf = pd.DataFrame(X, columns=X.design_info.column_names)\n",
    "pdf['Target'] = y\n",
    "#pdf"
   ]
  },
  {
   "cell_type": "code",
   "execution_count": 481,
   "metadata": {
    "collapsed": true
   },
   "outputs": [],
   "source": [
    "X_train, X_test, y_train, y_test = train_test_split(X, y, test_size=0.33, random_state=77)"
   ]
  },
  {
   "cell_type": "code",
   "execution_count": 482,
   "metadata": {
    "collapsed": true
   },
   "outputs": [],
   "source": [
    "lr = LogisticRegression(solver='liblinear')"
   ]
  },
  {
   "cell_type": "code",
   "execution_count": 483,
   "metadata": {
    "collapsed": true
   },
   "outputs": [],
   "source": [
    "lr_model = lr.fit(X_train, y_train)"
   ]
  },
  {
   "cell_type": "code",
   "execution_count": 484,
   "metadata": {
    "collapsed": true
   },
   "outputs": [],
   "source": [
    "lr_ypred = lr_model.predict(X_test)"
   ]
  },
  {
   "cell_type": "code",
   "execution_count": 485,
   "metadata": {
    "collapsed": false
   },
   "outputs": [
    {
     "data": {
      "text/html": [
       "<div>\n",
       "<table border=\"1\" class=\"dataframe\">\n",
       "  <thead>\n",
       "    <tr style=\"text-align: right;\">\n",
       "      <th></th>\n",
       "      <th>0</th>\n",
       "      <th>1</th>\n",
       "    </tr>\n",
       "  </thead>\n",
       "  <tbody>\n",
       "    <tr>\n",
       "      <th>0</th>\n",
       "      <td>100</td>\n",
       "      <td>40</td>\n",
       "    </tr>\n",
       "    <tr>\n",
       "      <th>1</th>\n",
       "      <td>39</td>\n",
       "      <td>64</td>\n",
       "    </tr>\n",
       "  </tbody>\n",
       "</table>\n",
       "</div>"
      ],
      "text/plain": [
       "     0   1\n",
       "0  100  40\n",
       "1   39  64"
      ]
     },
     "execution_count": 485,
     "metadata": {},
     "output_type": "execute_result"
    }
   ],
   "source": [
    "# actual = index; predicted = columns\n",
    "lr_cm = confusion_matrix(y_test, lr_ypred, labels=lr.classes_)\n",
    "lr_cm = pd.DataFrame(lr_cm, columns=lr.classes_, index=lr.classes_)\n",
    "lr_cm"
   ]
  },
  {
   "cell_type": "code",
   "execution_count": 486,
   "metadata": {
    "collapsed": false
   },
   "outputs": [
    {
     "name": "stdout",
     "output_type": "stream",
     "text": [
      "             precision    recall  f1-score   support\n",
      "\n",
      "          0       0.72      0.71      0.72       140\n",
      "          1       0.62      0.62      0.62       103\n",
      "\n",
      "avg / total       0.68      0.67      0.68       243\n",
      "\n"
     ]
    }
   ],
   "source": [
    "print classification_report(y_test, lr_ypred, labels=lr.classes_)"
   ]
  },
  {
   "cell_type": "code",
   "execution_count": 523,
   "metadata": {
    "collapsed": true
   },
   "outputs": [],
   "source": [
    "lr_l1 = LogisticRegression(C=500, penalty='l1', solver='liblinear')\n",
    "lr_l1_model = lr_l1.fit(X_train, y_train)"
   ]
  },
  {
   "cell_type": "code",
   "execution_count": 524,
   "metadata": {
    "collapsed": true
   },
   "outputs": [],
   "source": [
    "lr_l1_model = lr_l1.fit(X_train, y_train)"
   ]
  },
  {
   "cell_type": "code",
   "execution_count": 525,
   "metadata": {
    "collapsed": true
   },
   "outputs": [],
   "source": [
    "lr_l1_ypred = lr_l1_model.predict(X_test)"
   ]
  },
  {
   "cell_type": "code",
   "execution_count": 526,
   "metadata": {
    "collapsed": false
   },
   "outputs": [
    {
     "data": {
      "text/html": [
       "<div>\n",
       "<table border=\"1\" class=\"dataframe\">\n",
       "  <thead>\n",
       "    <tr style=\"text-align: right;\">\n",
       "      <th></th>\n",
       "      <th>0</th>\n",
       "      <th>1</th>\n",
       "    </tr>\n",
       "  </thead>\n",
       "  <tbody>\n",
       "    <tr>\n",
       "      <th>0</th>\n",
       "      <td>112</td>\n",
       "      <td>28</td>\n",
       "    </tr>\n",
       "    <tr>\n",
       "      <th>1</th>\n",
       "      <td>49</td>\n",
       "      <td>54</td>\n",
       "    </tr>\n",
       "  </tbody>\n",
       "</table>\n",
       "</div>"
      ],
      "text/plain": [
       "     0   1\n",
       "0  112  28\n",
       "1   49  54"
      ]
     },
     "execution_count": 526,
     "metadata": {},
     "output_type": "execute_result"
    }
   ],
   "source": [
    "lr_l1_cm = confusion_matrix(y_test, lr_l1_ypred, labels=lr_l1.classes_)\n",
    "lr_l1_cm = pd.DataFrame(lr_l1_cm, columns=lr_l1.classes_, index=lr_l1.classes_)\n",
    "lr_l1_cm"
   ]
  },
  {
   "cell_type": "code",
   "execution_count": 527,
   "metadata": {
    "collapsed": false
   },
   "outputs": [
    {
     "name": "stdout",
     "output_type": "stream",
     "text": [
      "             precision    recall  f1-score   support\n",
      "\n",
      "          0       0.70      0.80      0.74       140\n",
      "          1       0.66      0.52      0.58       103\n",
      "\n",
      "avg / total       0.68      0.68      0.68       243\n",
      "\n"
     ]
    }
   ],
   "source": [
    "print classification_report(y_test, lr_l1_ypred, labels=lr_l1.classes_)"
   ]
  },
  {
   "cell_type": "markdown",
   "metadata": {},
   "source": [
    "<p>\n",
    "Our model testing based on city, state, title, description, and company had an f1-score of .68 when we did a regular logistic regression and had an f1-score of .68 when we used an L1 with a C of 500.\n",
    "</p>"
   ]
  },
  {
   "cell_type": "code",
   "execution_count": null,
   "metadata": {
    "collapsed": false
   },
   "outputs": [],
   "source": []
  },
  {
   "cell_type": "code",
   "execution_count": null,
   "metadata": {
    "collapsed": true
   },
   "outputs": [],
   "source": []
  }
 ],
 "metadata": {
  "anaconda-cloud": {},
  "kernelspec": {
   "display_name": "Python [Root]",
   "language": "python",
   "name": "Python [Root]"
  },
  "language_info": {
   "codemirror_mode": {
    "name": "ipython",
    "version": 2
   },
   "file_extension": ".py",
   "mimetype": "text/x-python",
   "name": "python",
   "nbconvert_exporter": "python",
   "pygments_lexer": "ipython2",
   "version": "2.7.12"
  }
 },
 "nbformat": 4,
 "nbformat_minor": 0
}
